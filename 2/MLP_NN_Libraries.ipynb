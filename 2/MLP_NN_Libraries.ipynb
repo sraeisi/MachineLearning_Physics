{
  "nbformat": 4,
  "nbformat_minor": 0,
  "metadata": {
    "accelerator": "GPU",
    "celltoolbar": "Initialization Cell",
    "colab": {
      "name": "MLP_NN_Libraries.ipynb",
      "provenance": [],
      "collapsed_sections": [
        "DHsgox0o117V",
        "i57n75TH8hps",
        "up0G4Hqm1z7S",
        "4pBsRp0S1z7a",
        "sTy_cs4Q1z7o",
        "5ns2Pq871z73",
        "AvJuZGcu1z7_",
        "HV2AO9Yx1z8Z",
        "Pw3EoyFJ8hsR"
      ],
      "include_colab_link": true
    },
    "kernelspec": {
      "display_name": "Python 3",
      "language": "python",
      "name": "python3"
    },
    "language_info": {
      "codemirror_mode": {
        "name": "ipython",
        "version": 3
      },
      "file_extension": ".py",
      "mimetype": "text/x-python",
      "name": "python",
      "nbconvert_exporter": "python",
      "pygments_lexer": "ipython3",
      "version": "3.6.10"
    },
    "latex_envs": {
      "LaTeX_envs_menu_present": true,
      "autoclose": false,
      "autocomplete": true,
      "bibliofile": "biblio.bib",
      "cite_by": "apalike",
      "current_citInitial": 1,
      "eqLabelWithNumbers": true,
      "eqNumInitial": 1,
      "hotkeys": {
        "equation": "Ctrl-E",
        "itemize": "Ctrl-I"
      },
      "labels_anchors": false,
      "latex_user_defs": false,
      "report_style_numbering": false,
      "user_envs_cfg": false
    },
    "toc": {
      "base_numbering": 1,
      "nav_menu": {},
      "number_sections": true,
      "sideBar": true,
      "skip_h1_title": false,
      "title_cell": "Table of Contents",
      "title_sidebar": "Contents",
      "toc_cell": false,
      "toc_position": {},
      "toc_section_display": true,
      "toc_window_display": false
    },
    "varInspector": {
      "cols": {
        "lenName": 16,
        "lenType": 16,
        "lenVar": 40
      },
      "kernels_config": {
        "python": {
          "delete_cmd_postfix": "",
          "delete_cmd_prefix": "del ",
          "library": "var_list.py",
          "varRefreshCmd": "print(var_dic_list())"
        },
        "r": {
          "delete_cmd_postfix": ") ",
          "delete_cmd_prefix": "rm(",
          "library": "var_list.r",
          "varRefreshCmd": "cat(var_dic_list()) "
        }
      },
      "types_to_exclude": [
        "module",
        "function",
        "builtin_function_or_method",
        "instance",
        "_Feature"
      ],
      "window_display": false
    }
  },
  "cells": [
    {
      "cell_type": "markdown",
      "metadata": {
        "id": "view-in-github",
        "colab_type": "text"
      },
      "source": [
        "<a href=\"https://colab.research.google.com/github/sraeisi/MachineLearning_Physics/blob/master/2/MLP_NN_Libraries.ipynb\" target=\"_parent\"><img src=\"https://colab.research.google.com/assets/colab-badge.svg\" alt=\"Open In Colab\"/></a>"
      ]
    },
    {
      "cell_type": "markdown",
      "metadata": {
        "id": "DHsgox0o117V"
      },
      "source": [
        "# Pre"
      ]
    },
    {
      "cell_type": "code",
      "metadata": {
        "ExecuteTime": {
          "end_time": "2020-04-26T10:02:49.473349Z",
          "start_time": "2020-04-26T10:02:49.469347Z"
        },
        "id": "0e_arpYe1z6X",
        "init_cell": true
      },
      "source": [
        "import numpy as np\n",
        "import pandas as pd\n",
        "import matplotlib.pyplot as plt\n",
        "plt.style.use('seaborn-v0_8-talk')\n",
        "\n",
        "import datetime\n",
        "\n",
        "import io, requests, zipfile\n",
        "\n",
        "\n",
        "\n",
        "'''Set the defaults for your plots.'''\n",
        "# plt.rcParams.update({'font.size': 20, 'figsize':(8,6)})\n",
        "SMALL_SIZE = 12\n",
        "MEDIUM_SIZE = 15\n",
        "BIGGER_SIZE = 18\n",
        "\n",
        "plt.rc('font', size=BIGGER_SIZE)          # controls default text sizes\n",
        "plt.rc('axes', titlesize=MEDIUM_SIZE)     # fontsize of the axes title\n",
        "plt.rc('axes', labelsize=BIGGER_SIZE)    # fontsize of the x and y labels\n",
        "plt.rc('xtick', labelsize=SMALL_SIZE)    # fontsize of the tick labels\n",
        "plt.rc('ytick', labelsize=SMALL_SIZE)    # fontsize of the tick labels\n",
        "plt.rc('legend', fontsize=MEDIUM_SIZE)    # legend fontsize\n",
        "plt.rc('figure', titlesize=BIGGER_SIZE)  # fontsize of the figure title\n",
        "\n",
        "plt.rc('axes', linewidth = 5 )\n",
        "plt.rc('lines', linewidth = 5 )\n",
        "\n",
        "plt.rc('lines', markersize = 5 )\n",
        "\n",
        "plt.rc('figure', figsize=(8,4) )         # Image size\n",
        "\n",
        "from zipfile import ZipFile\n",
        "\n",
        "\n",
        "from collections import Counter\n",
        "\n",
        "import warnings\n",
        "warnings.filterwarnings('ignore')\n",
        "\n",
        "from sklearn.utils import shuffle\n",
        "\n"
      ],
      "execution_count": 1,
      "outputs": []
    },
    {
      "cell_type": "code",
      "metadata": {
        "ExecuteTime": {
          "end_time": "2020-04-26T10:02:49.492349Z",
          "start_time": "2020-04-26T10:02:49.475349Z"
        },
        "init_cell": true,
        "id": "UzYne0CK8hpo"
      },
      "source": [
        "def grid(x1, x2, off_set = .1, n_points = 100):\n",
        "    ## d s show the range in the two varible.\n",
        "    d1 = x1.max() - x1.min()\n",
        "    d2 = x2.max() - x2.min()\n",
        "\n",
        "    x1_min, x1_max = x1.min() - off_set * d1 , x1.max() + off_set * d1\n",
        "    x2_min, x2_max = x2.min() - off_set * d2 , x2.max() + off_set * d2\n",
        "\n",
        "    ## This function from numpy gives a list of coordinates that are the points on the grid.\n",
        "    x, y = np.meshgrid(np.arange(x1_min, x1_max , d1/n_points), np.arange(x2_min, x2_max , d2/n_points) )\n",
        "\n",
        "    return x , y"
      ],
      "execution_count": 2,
      "outputs": []
    },
    {
      "cell_type": "markdown",
      "metadata": {
        "id": "mfNj91Ci6eI9"
      },
      "source": [
        "### Data"
      ]
    },
    {
      "cell_type": "code",
      "metadata": {
        "id": "jOjbPWEhUSf6"
      },
      "source": [
        "import requests, io\n",
        "url = 'https://raw.githubusercontent.com/sraeisi/Machine_Learning_Physics_Winter20/master/Lec1/particle_mini.npz'\n",
        "s=requests.get(url, stream=True).content\n",
        "data=np.load(io.BytesIO(s) )\n",
        "\n",
        "# data = np.load( 'particle_mini.npz' )\n",
        "X, Y = data['X'], data['Y']\n",
        "# The labels are 1 or 2. So we need to turn them into 0 and  1.\n",
        "Y = (Y>1.5).astype(int)\n",
        "\n",
        "from sklearn.model_selection import train_test_split\n",
        "X_train, X_test, Y_train, Y_test  = train_test_split(X, Y, random_state= 0)\n",
        "\n",
        "# data = pd.read_csv('particle-identification-from-detector-responses.zip', compression='zip')\n",
        "# data.head()"
      ],
      "execution_count": 3,
      "outputs": []
    },
    {
      "cell_type": "markdown",
      "metadata": {
        "id": "sXyJ6nLB8hpr"
      },
      "source": [
        "# Tensorflow\n",
        "\n",
        "There are many different frameworks and APIs for deep learning and neural networks.\n",
        "\n",
        "Here you learn more about them and how they compare to each other:  \n",
        "https://wiki.pathmind.com/comparison-frameworks-dl4j-tensorflow-pytorch\n",
        "\n",
        "Here we focus on Tensorflow (Keras) and Pytorch as the two main tools that we'll be using."
      ]
    },
    {
      "cell_type": "markdown",
      "metadata": {
        "id": "i57n75TH8hps"
      },
      "source": [
        "## Old version and the computation graph"
      ]
    },
    {
      "cell_type": "code",
      "metadata": {
        "id": "a_Fcdf7X8hps"
      },
      "source": [
        "%tensorflow_version 1.x\n",
        "import tensorflow as tf\n",
        "print(tf.__version__)\n",
        "\n",
        "%load_ext tensorboard\n"
      ],
      "execution_count": null,
      "outputs": []
    },
    {
      "cell_type": "code",
      "metadata": {
        "id": "e-ix6fzV8hpv",
        "colab": {
          "base_uri": "https://localhost:8080/"
        },
        "outputId": "e0283540-0000-4241-ec92-60dcaa221c9f"
      },
      "source": [
        "###1. Simple Algebra\n",
        "\n",
        "a = tf.Variable(1, name='a')\n",
        "b = tf.Variable(2, name='b')\n",
        "\n",
        "f = a + b\n",
        "\n",
        "print(f)"
      ],
      "execution_count": null,
      "outputs": [
        {
          "output_type": "stream",
          "name": "stdout",
          "text": [
            "Tensor(\"add_1:0\", shape=(), dtype=int32)\n"
          ]
        }
      ]
    },
    {
      "cell_type": "code",
      "metadata": {
        "colab": {
          "base_uri": "https://localhost:8080/"
        },
        "id": "rVyePJAubvaS",
        "outputId": "d48cfc0f-0ed2-4bc4-8bde-f1268cd5ab09"
      },
      "source": [
        "a"
      ],
      "execution_count": null,
      "outputs": [
        {
          "output_type": "execute_result",
          "data": {
            "text/plain": [
              "<tf.Variable 'a:0' shape=() dtype=int32_ref>"
            ]
          },
          "metadata": {},
          "execution_count": 11
        }
      ]
    },
    {
      "cell_type": "code",
      "metadata": {
        "id": "e9D0lP-Q8hpx",
        "colab": {
          "base_uri": "https://localhost:8080/"
        },
        "outputId": "6e2a971b-5e01-4aab-d1be-61c60965f353"
      },
      "source": [
        "init = tf.global_variables_initializer()\n",
        "\n",
        "with tf.Session() as s:\n",
        "    init.run()\n",
        "    print(b.eval())\n",
        "\n",
        "\n",
        "    print(f.eval() )\n"
      ],
      "execution_count": null,
      "outputs": [
        {
          "output_type": "stream",
          "name": "stdout",
          "text": [
            "2\n",
            "3\n"
          ]
        }
      ]
    },
    {
      "cell_type": "code",
      "metadata": {
        "id": "bIGHFLRGH4ZQ"
      },
      "source": [
        "# del( f, init)"
      ],
      "execution_count": null,
      "outputs": []
    },
    {
      "cell_type": "code",
      "metadata": {
        "id": "CiZJdZjA8hp1",
        "colab": {
          "base_uri": "https://localhost:8080/"
        },
        "outputId": "0773d337-f045-4e08-d2e5-b02412ac9535"
      },
      "source": [
        "init = tf.global_variables_initializer()\n",
        "\n",
        "# Clear any logs from previous runs\n",
        "!rm -rf ./logs/\n",
        "\n",
        "log_file = \"logs/fit/\" + datetime.datetime.now().strftime(\"%Y%m%d-%H%M%S\")\n",
        "# log_Name = 'Simple_Addition'\n",
        "\n",
        "with tf.Session() as s:\n",
        "    file_writer = tf.summary.FileWriter(log_file, s.graph)\n",
        "    init.run()\n",
        "    print(f.eval() )"
      ],
      "execution_count": null,
      "outputs": [
        {
          "output_type": "stream",
          "name": "stdout",
          "text": [
            "3\n"
          ]
        }
      ]
    },
    {
      "cell_type": "code",
      "metadata": {
        "id": "yDMdzMGr9IFp"
      },
      "source": [
        "%tensorboard --logdir logs/fit\n"
      ],
      "execution_count": null,
      "outputs": []
    },
    {
      "cell_type": "code",
      "metadata": {
        "id": "7jgzL4qF8hp4",
        "colab": {
          "base_uri": "https://localhost:8080/"
        },
        "outputId": "a305cbd7-997f-4ea0-cfc7-054307663569"
      },
      "source": [
        "###2. Simple Optimization Problem\n",
        "\n",
        "w = tf.Variable([0], dtype=tf.float32)\n",
        "f = w**2 -10 * w + 25\n",
        "\n",
        "optimize = tf.train.GradientDescentOptimizer(0.01).minimize(f)\n",
        "\n",
        "init = tf.global_variables_initializer()\n",
        "\n",
        "## Add Tensor board\n",
        "# Clear any logs from previous runs\n",
        "!rm -rf ./logs/\n",
        "\n",
        "log_file = \"logs/fit/\" + datetime.datetime.now().strftime(\"%Y%m%d-%H%M%S\")\n",
        "# log_Name = 'Simple_Addition'\n",
        "\n",
        "\n",
        "with tf.Session() as s:\n",
        "    file_writer = tf.summary.FileWriter(log_file, s.graph)\n",
        "    init.run()\n",
        "    print(w.eval() )\n",
        "\n",
        "    for i in range(1000):\n",
        "        s.run(optimize)\n",
        "\n",
        "    print(w.eval())"
      ],
      "execution_count": null,
      "outputs": [
        {
          "output_type": "stream",
          "name": "stdout",
          "text": [
            "WARNING:tensorflow:From /tensorflow-1.15.2/python3.7/tensorflow_core/python/ops/math_grad.py:1375: where (from tensorflow.python.ops.array_ops) is deprecated and will be removed in a future version.\n",
            "Instructions for updating:\n",
            "Use tf.where in 2.0, which has the same broadcast rule as np.where\n",
            "[0.]\n",
            "[4.999988]\n"
          ]
        }
      ]
    },
    {
      "cell_type": "code",
      "metadata": {
        "id": "KLaeE0uWAkOI"
      },
      "source": [
        "%tensorboard --logdir logs/fit"
      ],
      "execution_count": null,
      "outputs": []
    },
    {
      "cell_type": "code",
      "metadata": {
        "id": "TGr2A5MC8hp7",
        "colab": {
          "base_uri": "https://localhost:8080/"
        },
        "outputId": "c2d83b9d-e530-43ff-f737-8d5acfc52733"
      },
      "source": [
        "###3. Optimization with Variable inputs\n",
        "\n",
        "X = tf.placeholder(tf.float32, [3,1])\n",
        "w = tf.Variable([0], dtype=tf.float32)\n",
        "f = X[0][0] * w**2 -X[1][0] * w + X[2][0]\n",
        "\n",
        "coefs = np.array( [[1] , [-12], [36] ] )\n",
        "\n",
        "optimize = tf.train.GradientDescentOptimizer(0.01).minimize(f)\n",
        "\n",
        "init = tf.global_variables_initializer()\n",
        "\n",
        "## Add Tensor board\n",
        "# Clear any logs from previous runs\n",
        "!rm -rf ./logs/\n",
        "\n",
        "log_file = \"logs/fit/\" + datetime.datetime.now().strftime(\"%Y%m%d-%H%M%S\")\n",
        "# log_Name = 'Simple_Addition'\n",
        "\n",
        "\n",
        "with tf.Session() as s:\n",
        "  file_writer = tf.summary.FileWriter(log_file, s.graph)\n",
        "  init.run()\n",
        "  print(w.eval() )\n",
        "\n",
        "  for i in range(1000):\n",
        "      s.run(optimize, feed_dict = {X:coefs})\n",
        "\n",
        "  print(w.eval())\n",
        "\n"
      ],
      "execution_count": null,
      "outputs": [
        {
          "output_type": "stream",
          "name": "stdout",
          "text": [
            "[0.]\n",
            "[-5.999988]\n"
          ]
        }
      ]
    },
    {
      "cell_type": "code",
      "metadata": {
        "id": "tTIwtpr8KzgO"
      },
      "source": [
        "!kill 869"
      ],
      "execution_count": null,
      "outputs": []
    },
    {
      "cell_type": "code",
      "metadata": {
        "id": "hKKksCXi8hp9"
      },
      "source": [
        "%tensorboard --logdir logs/fit"
      ],
      "execution_count": null,
      "outputs": []
    },
    {
      "cell_type": "markdown",
      "metadata": {
        "id": "BfLrohni8hqA"
      },
      "source": [
        "## Keras"
      ]
    },
    {
      "cell_type": "markdown",
      "metadata": {
        "id": "DZJfPwxW9Fqn"
      },
      "source": [
        "Need to restart runtime and start with the latest version of TF."
      ]
    },
    {
      "cell_type": "code",
      "metadata": {
        "id": "W_N3YEeG1uW9"
      },
      "source": [
        "from tensorflow import keras as ks"
      ],
      "execution_count": 4,
      "outputs": []
    },
    {
      "cell_type": "code",
      "metadata": {
        "colab": {
          "base_uri": "https://localhost:8080/"
        },
        "id": "wuT8k9gO2ipO",
        "outputId": "55597d06-fd7d-40d1-afef-b367d068eb2e"
      },
      "source": [
        "print(X_train.shape)\n",
        "print( Counter(Y_train) )"
      ],
      "execution_count": 5,
      "outputs": [
        {
          "output_type": "stream",
          "name": "stdout",
          "text": [
            "(7142, 2)\n",
            "Counter({np.int64(0): 4251, np.int64(1): 2891})\n"
          ]
        }
      ]
    },
    {
      "cell_type": "code",
      "metadata": {
        "id": "SFKvm5zRz7y4",
        "colab": {
          "base_uri": "https://localhost:8080/",
          "height": 229
        },
        "outputId": "85674f8b-c738-4235-d9ce-0e3f0395a1ac"
      },
      "source": [
        "from tensorflow import keras as ks\n",
        "\n",
        "model = ks.Sequential()\n",
        "model.add(ks.layers.Dense(10, activation=ks.activations.relu, input_dim = 2)  )\n",
        "model.add(ks.layers.Dense(10, activation=ks.activations.relu)  )\n",
        "model.add(ks.layers.Dense(1, activation=ks.activations.sigmoid)  )\n",
        "model.summary()"
      ],
      "execution_count": 6,
      "outputs": [
        {
          "output_type": "display_data",
          "data": {
            "text/plain": [
              "\u001b[1mModel: \"sequential\"\u001b[0m\n"
            ],
            "text/html": [
              "<pre style=\"white-space:pre;overflow-x:auto;line-height:normal;font-family:Menlo,'DejaVu Sans Mono',consolas,'Courier New',monospace\"><span style=\"font-weight: bold\">Model: \"sequential\"</span>\n",
              "</pre>\n"
            ]
          },
          "metadata": {}
        },
        {
          "output_type": "display_data",
          "data": {
            "text/plain": [
              "┏━━━━━━━━━━━━━━━━━━━━━━━━━━━━━━━━━┳━━━━━━━━━━━━━━━━━━━━━━━━┳━━━━━━━━━━━━━━━┓\n",
              "┃\u001b[1m \u001b[0m\u001b[1mLayer (type)                   \u001b[0m\u001b[1m \u001b[0m┃\u001b[1m \u001b[0m\u001b[1mOutput Shape          \u001b[0m\u001b[1m \u001b[0m┃\u001b[1m \u001b[0m\u001b[1m      Param #\u001b[0m\u001b[1m \u001b[0m┃\n",
              "┡━━━━━━━━━━━━━━━━━━━━━━━━━━━━━━━━━╇━━━━━━━━━━━━━━━━━━━━━━━━╇━━━━━━━━━━━━━━━┩\n",
              "│ dense (\u001b[38;5;33mDense\u001b[0m)                   │ (\u001b[38;5;45mNone\u001b[0m, \u001b[38;5;34m10\u001b[0m)             │            \u001b[38;5;34m30\u001b[0m │\n",
              "├─────────────────────────────────┼────────────────────────┼───────────────┤\n",
              "│ dense_1 (\u001b[38;5;33mDense\u001b[0m)                 │ (\u001b[38;5;45mNone\u001b[0m, \u001b[38;5;34m10\u001b[0m)             │           \u001b[38;5;34m110\u001b[0m │\n",
              "├─────────────────────────────────┼────────────────────────┼───────────────┤\n",
              "│ dense_2 (\u001b[38;5;33mDense\u001b[0m)                 │ (\u001b[38;5;45mNone\u001b[0m, \u001b[38;5;34m1\u001b[0m)              │            \u001b[38;5;34m11\u001b[0m │\n",
              "└─────────────────────────────────┴────────────────────────┴───────────────┘\n"
            ],
            "text/html": [
              "<pre style=\"white-space:pre;overflow-x:auto;line-height:normal;font-family:Menlo,'DejaVu Sans Mono',consolas,'Courier New',monospace\">┏━━━━━━━━━━━━━━━━━━━━━━━━━━━━━━━━━┳━━━━━━━━━━━━━━━━━━━━━━━━┳━━━━━━━━━━━━━━━┓\n",
              "┃<span style=\"font-weight: bold\"> Layer (type)                    </span>┃<span style=\"font-weight: bold\"> Output Shape           </span>┃<span style=\"font-weight: bold\">       Param # </span>┃\n",
              "┡━━━━━━━━━━━━━━━━━━━━━━━━━━━━━━━━━╇━━━━━━━━━━━━━━━━━━━━━━━━╇━━━━━━━━━━━━━━━┩\n",
              "│ dense (<span style=\"color: #0087ff; text-decoration-color: #0087ff\">Dense</span>)                   │ (<span style=\"color: #00d7ff; text-decoration-color: #00d7ff\">None</span>, <span style=\"color: #00af00; text-decoration-color: #00af00\">10</span>)             │            <span style=\"color: #00af00; text-decoration-color: #00af00\">30</span> │\n",
              "├─────────────────────────────────┼────────────────────────┼───────────────┤\n",
              "│ dense_1 (<span style=\"color: #0087ff; text-decoration-color: #0087ff\">Dense</span>)                 │ (<span style=\"color: #00d7ff; text-decoration-color: #00d7ff\">None</span>, <span style=\"color: #00af00; text-decoration-color: #00af00\">10</span>)             │           <span style=\"color: #00af00; text-decoration-color: #00af00\">110</span> │\n",
              "├─────────────────────────────────┼────────────────────────┼───────────────┤\n",
              "│ dense_2 (<span style=\"color: #0087ff; text-decoration-color: #0087ff\">Dense</span>)                 │ (<span style=\"color: #00d7ff; text-decoration-color: #00d7ff\">None</span>, <span style=\"color: #00af00; text-decoration-color: #00af00\">1</span>)              │            <span style=\"color: #00af00; text-decoration-color: #00af00\">11</span> │\n",
              "└─────────────────────────────────┴────────────────────────┴───────────────┘\n",
              "</pre>\n"
            ]
          },
          "metadata": {}
        },
        {
          "output_type": "display_data",
          "data": {
            "text/plain": [
              "\u001b[1m Total params: \u001b[0m\u001b[38;5;34m151\u001b[0m (604.00 B)\n"
            ],
            "text/html": [
              "<pre style=\"white-space:pre;overflow-x:auto;line-height:normal;font-family:Menlo,'DejaVu Sans Mono',consolas,'Courier New',monospace\"><span style=\"font-weight: bold\"> Total params: </span><span style=\"color: #00af00; text-decoration-color: #00af00\">151</span> (604.00 B)\n",
              "</pre>\n"
            ]
          },
          "metadata": {}
        },
        {
          "output_type": "display_data",
          "data": {
            "text/plain": [
              "\u001b[1m Trainable params: \u001b[0m\u001b[38;5;34m151\u001b[0m (604.00 B)\n"
            ],
            "text/html": [
              "<pre style=\"white-space:pre;overflow-x:auto;line-height:normal;font-family:Menlo,'DejaVu Sans Mono',consolas,'Courier New',monospace\"><span style=\"font-weight: bold\"> Trainable params: </span><span style=\"color: #00af00; text-decoration-color: #00af00\">151</span> (604.00 B)\n",
              "</pre>\n"
            ]
          },
          "metadata": {}
        },
        {
          "output_type": "display_data",
          "data": {
            "text/plain": [
              "\u001b[1m Non-trainable params: \u001b[0m\u001b[38;5;34m0\u001b[0m (0.00 B)\n"
            ],
            "text/html": [
              "<pre style=\"white-space:pre;overflow-x:auto;line-height:normal;font-family:Menlo,'DejaVu Sans Mono',consolas,'Courier New',monospace\"><span style=\"font-weight: bold\"> Non-trainable params: </span><span style=\"color: #00af00; text-decoration-color: #00af00\">0</span> (0.00 B)\n",
              "</pre>\n"
            ]
          },
          "metadata": {}
        }
      ]
    },
    {
      "cell_type": "code",
      "metadata": {
        "id": "67dHIZyd8hqG"
      },
      "source": [
        "model.compile( loss=ks.losses.binary_crossentropy  ,\n",
        "              optimizer = ks.optimizers.SGD() ,\n",
        "              metrics = [ks.metrics.binary_accuracy] )"
      ],
      "execution_count": 8,
      "outputs": []
    },
    {
      "cell_type": "code",
      "metadata": {
        "colab": {
          "base_uri": "https://localhost:8080/"
        },
        "id": "bcgTpiqayqN2",
        "outputId": "130eea6f-79b9-494c-c780-5f74de5ebfc3"
      },
      "source": [
        "# print(Counter(Y))\n",
        "model.predict(X_test[:3])"
      ],
      "execution_count": 10,
      "outputs": [
        {
          "output_type": "stream",
          "name": "stdout",
          "text": [
            "\u001b[1m1/1\u001b[0m \u001b[32m━━━━━━━━━━━━━━━━━━━━\u001b[0m\u001b[37m\u001b[0m \u001b[1m0s\u001b[0m 28ms/step\n"
          ]
        },
        {
          "output_type": "execute_result",
          "data": {
            "text/plain": [
              "array([[0.40509716],\n",
              "       [0.36453652],\n",
              "       [0.4343371 ]], dtype=float32)"
            ]
          },
          "metadata": {},
          "execution_count": 10
        }
      ]
    },
    {
      "cell_type": "code",
      "metadata": {
        "id": "7AfdgqVf8hqJ",
        "outputId": "3a650620-ff0f-4545-dc71-d9ad52e71f72",
        "colab": {
          "base_uri": "https://localhost:8080/"
        }
      },
      "source": [
        "## Let's try this for the particle identification\n",
        "history = model.fit(X_train, Y_train,\n",
        "                    epochs=50\n",
        "                    )\n"
      ],
      "execution_count": 11,
      "outputs": [
        {
          "output_type": "stream",
          "name": "stdout",
          "text": [
            "Epoch 1/50\n",
            "\u001b[1m224/224\u001b[0m \u001b[32m━━━━━━━━━━━━━━━━━━━━\u001b[0m\u001b[37m\u001b[0m \u001b[1m2s\u001b[0m 4ms/step - binary_accuracy: 0.6002 - loss: 0.6734\n",
            "Epoch 2/50\n",
            "\u001b[1m224/224\u001b[0m \u001b[32m━━━━━━━━━━━━━━━━━━━━\u001b[0m\u001b[37m\u001b[0m \u001b[1m2s\u001b[0m 2ms/step - binary_accuracy: 0.6001 - loss: 0.6159\n",
            "Epoch 3/50\n",
            "\u001b[1m224/224\u001b[0m \u001b[32m━━━━━━━━━━━━━━━━━━━━\u001b[0m\u001b[37m\u001b[0m \u001b[1m0s\u001b[0m 2ms/step - binary_accuracy: 0.6040 - loss: 0.5730\n",
            "Epoch 4/50\n",
            "\u001b[1m224/224\u001b[0m \u001b[32m━━━━━━━━━━━━━━━━━━━━\u001b[0m\u001b[37m\u001b[0m \u001b[1m1s\u001b[0m 2ms/step - binary_accuracy: 0.6670 - loss: 0.5351\n",
            "Epoch 5/50\n",
            "\u001b[1m224/224\u001b[0m \u001b[32m━━━━━━━━━━━━━━━━━━━━\u001b[0m\u001b[37m\u001b[0m \u001b[1m1s\u001b[0m 2ms/step - binary_accuracy: 0.7030 - loss: 0.5013\n",
            "Epoch 6/50\n",
            "\u001b[1m224/224\u001b[0m \u001b[32m━━━━━━━━━━━━━━━━━━━━\u001b[0m\u001b[37m\u001b[0m \u001b[1m1s\u001b[0m 3ms/step - binary_accuracy: 0.7355 - loss: 0.4751\n",
            "Epoch 7/50\n",
            "\u001b[1m224/224\u001b[0m \u001b[32m━━━━━━━━━━━━━━━━━━━━\u001b[0m\u001b[37m\u001b[0m \u001b[1m1s\u001b[0m 3ms/step - binary_accuracy: 0.7811 - loss: 0.4502\n",
            "Epoch 8/50\n",
            "\u001b[1m224/224\u001b[0m \u001b[32m━━━━━━━━━━━━━━━━━━━━\u001b[0m\u001b[37m\u001b[0m \u001b[1m1s\u001b[0m 2ms/step - binary_accuracy: 0.8196 - loss: 0.4282\n",
            "Epoch 9/50\n",
            "\u001b[1m224/224\u001b[0m \u001b[32m━━━━━━━━━━━━━━━━━━━━\u001b[0m\u001b[37m\u001b[0m \u001b[1m1s\u001b[0m 2ms/step - binary_accuracy: 0.8500 - loss: 0.4023\n",
            "Epoch 10/50\n",
            "\u001b[1m224/224\u001b[0m \u001b[32m━━━━━━━━━━━━━━━━━━━━\u001b[0m\u001b[37m\u001b[0m \u001b[1m0s\u001b[0m 2ms/step - binary_accuracy: 0.8655 - loss: 0.3825\n",
            "Epoch 11/50\n",
            "\u001b[1m224/224\u001b[0m \u001b[32m━━━━━━━━━━━━━━━━━━━━\u001b[0m\u001b[37m\u001b[0m \u001b[1m1s\u001b[0m 2ms/step - binary_accuracy: 0.8793 - loss: 0.3551\n",
            "Epoch 12/50\n",
            "\u001b[1m224/224\u001b[0m \u001b[32m━━━━━━━━━━━━━━━━━━━━\u001b[0m\u001b[37m\u001b[0m \u001b[1m1s\u001b[0m 2ms/step - binary_accuracy: 0.9059 - loss: 0.3278\n",
            "Epoch 13/50\n",
            "\u001b[1m224/224\u001b[0m \u001b[32m━━━━━━━━━━━━━━━━━━━━\u001b[0m\u001b[37m\u001b[0m \u001b[1m1s\u001b[0m 2ms/step - binary_accuracy: 0.9257 - loss: 0.2942\n",
            "Epoch 14/50\n",
            "\u001b[1m224/224\u001b[0m \u001b[32m━━━━━━━━━━━━━━━━━━━━\u001b[0m\u001b[37m\u001b[0m \u001b[1m1s\u001b[0m 2ms/step - binary_accuracy: 0.9437 - loss: 0.2669\n",
            "Epoch 15/50\n",
            "\u001b[1m224/224\u001b[0m \u001b[32m━━━━━━━━━━━━━━━━━━━━\u001b[0m\u001b[37m\u001b[0m \u001b[1m1s\u001b[0m 2ms/step - binary_accuracy: 0.9582 - loss: 0.2416\n",
            "Epoch 16/50\n",
            "\u001b[1m224/224\u001b[0m \u001b[32m━━━━━━━━━━━━━━━━━━━━\u001b[0m\u001b[37m\u001b[0m \u001b[1m0s\u001b[0m 2ms/step - binary_accuracy: 0.9635 - loss: 0.2176\n",
            "Epoch 17/50\n",
            "\u001b[1m224/224\u001b[0m \u001b[32m━━━━━━━━━━━━━━━━━━━━\u001b[0m\u001b[37m\u001b[0m \u001b[1m0s\u001b[0m 2ms/step - binary_accuracy: 0.9717 - loss: 0.2017\n",
            "Epoch 18/50\n",
            "\u001b[1m224/224\u001b[0m \u001b[32m━━━━━━━━━━━━━━━━━━━━\u001b[0m\u001b[37m\u001b[0m \u001b[1m0s\u001b[0m 2ms/step - binary_accuracy: 0.9771 - loss: 0.1825\n",
            "Epoch 19/50\n",
            "\u001b[1m224/224\u001b[0m \u001b[32m━━━━━━━━━━━━━━━━━━━━\u001b[0m\u001b[37m\u001b[0m \u001b[1m1s\u001b[0m 2ms/step - binary_accuracy: 0.9744 - loss: 0.1705\n",
            "Epoch 20/50\n",
            "\u001b[1m224/224\u001b[0m \u001b[32m━━━━━━━━━━━━━━━━━━━━\u001b[0m\u001b[37m\u001b[0m \u001b[1m1s\u001b[0m 2ms/step - binary_accuracy: 0.9733 - loss: 0.1585\n",
            "Epoch 21/50\n",
            "\u001b[1m224/224\u001b[0m \u001b[32m━━━━━━━━━━━━━━━━━━━━\u001b[0m\u001b[37m\u001b[0m \u001b[1m1s\u001b[0m 2ms/step - binary_accuracy: 0.9771 - loss: 0.1464\n",
            "Epoch 22/50\n",
            "\u001b[1m224/224\u001b[0m \u001b[32m━━━━━━━━━━━━━━━━━━━━\u001b[0m\u001b[37m\u001b[0m \u001b[1m1s\u001b[0m 2ms/step - binary_accuracy: 0.9754 - loss: 0.1379\n",
            "Epoch 23/50\n",
            "\u001b[1m224/224\u001b[0m \u001b[32m━━━━━━━━━━━━━━━━━━━━\u001b[0m\u001b[37m\u001b[0m \u001b[1m0s\u001b[0m 2ms/step - binary_accuracy: 0.9811 - loss: 0.1286\n",
            "Epoch 24/50\n",
            "\u001b[1m224/224\u001b[0m \u001b[32m━━━━━━━━━━━━━━━━━━━━\u001b[0m\u001b[37m\u001b[0m \u001b[1m1s\u001b[0m 2ms/step - binary_accuracy: 0.9810 - loss: 0.1247\n",
            "Epoch 25/50\n",
            "\u001b[1m224/224\u001b[0m \u001b[32m━━━━━━━━━━━━━━━━━━━━\u001b[0m\u001b[37m\u001b[0m \u001b[1m1s\u001b[0m 3ms/step - binary_accuracy: 0.9803 - loss: 0.1194\n",
            "Epoch 26/50\n",
            "\u001b[1m224/224\u001b[0m \u001b[32m━━━━━━━━━━━━━━━━━━━━\u001b[0m\u001b[37m\u001b[0m \u001b[1m2s\u001b[0m 4ms/step - binary_accuracy: 0.9827 - loss: 0.1090\n",
            "Epoch 27/50\n",
            "\u001b[1m224/224\u001b[0m \u001b[32m━━━━━━━━━━━━━━━━━━━━\u001b[0m\u001b[37m\u001b[0m \u001b[1m1s\u001b[0m 3ms/step - binary_accuracy: 0.9793 - loss: 0.1140\n",
            "Epoch 28/50\n",
            "\u001b[1m224/224\u001b[0m \u001b[32m━━━━━━━━━━━━━━━━━━━━\u001b[0m\u001b[37m\u001b[0m \u001b[1m0s\u001b[0m 2ms/step - binary_accuracy: 0.9811 - loss: 0.1008\n",
            "Epoch 29/50\n",
            "\u001b[1m224/224\u001b[0m \u001b[32m━━━━━━━━━━━━━━━━━━━━\u001b[0m\u001b[37m\u001b[0m \u001b[1m0s\u001b[0m 2ms/step - binary_accuracy: 0.9811 - loss: 0.0993\n",
            "Epoch 30/50\n",
            "\u001b[1m224/224\u001b[0m \u001b[32m━━━━━━━━━━━━━━━━━━━━\u001b[0m\u001b[37m\u001b[0m \u001b[1m0s\u001b[0m 2ms/step - binary_accuracy: 0.9802 - loss: 0.0982\n",
            "Epoch 31/50\n",
            "\u001b[1m224/224\u001b[0m \u001b[32m━━━━━━━━━━━━━━━━━━━━\u001b[0m\u001b[37m\u001b[0m \u001b[1m0s\u001b[0m 2ms/step - binary_accuracy: 0.9804 - loss: 0.0971\n",
            "Epoch 32/50\n",
            "\u001b[1m224/224\u001b[0m \u001b[32m━━━━━━━━━━━━━━━━━━━━\u001b[0m\u001b[37m\u001b[0m \u001b[1m1s\u001b[0m 2ms/step - binary_accuracy: 0.9823 - loss: 0.0946\n",
            "Epoch 33/50\n",
            "\u001b[1m224/224\u001b[0m \u001b[32m━━━━━━━━━━━━━━━━━━━━\u001b[0m\u001b[37m\u001b[0m \u001b[1m0s\u001b[0m 2ms/step - binary_accuracy: 0.9808 - loss: 0.0930\n",
            "Epoch 34/50\n",
            "\u001b[1m224/224\u001b[0m \u001b[32m━━━━━━━━━━━━━━━━━━━━\u001b[0m\u001b[37m\u001b[0m \u001b[1m0s\u001b[0m 2ms/step - binary_accuracy: 0.9818 - loss: 0.0880\n",
            "Epoch 35/50\n",
            "\u001b[1m224/224\u001b[0m \u001b[32m━━━━━━━━━━━━━━━━━━━━\u001b[0m\u001b[37m\u001b[0m \u001b[1m0s\u001b[0m 2ms/step - binary_accuracy: 0.9840 - loss: 0.0813\n",
            "Epoch 36/50\n",
            "\u001b[1m224/224\u001b[0m \u001b[32m━━━━━━━━━━━━━━━━━━━━\u001b[0m\u001b[37m\u001b[0m \u001b[1m0s\u001b[0m 2ms/step - binary_accuracy: 0.9800 - loss: 0.0894\n",
            "Epoch 37/50\n",
            "\u001b[1m224/224\u001b[0m \u001b[32m━━━━━━━━━━━━━━━━━━━━\u001b[0m\u001b[37m\u001b[0m \u001b[1m1s\u001b[0m 2ms/step - binary_accuracy: 0.9815 - loss: 0.0830\n",
            "Epoch 38/50\n",
            "\u001b[1m224/224\u001b[0m \u001b[32m━━━━━━━━━━━━━━━━━━━━\u001b[0m\u001b[37m\u001b[0m \u001b[1m0s\u001b[0m 2ms/step - binary_accuracy: 0.9808 - loss: 0.0861\n",
            "Epoch 39/50\n",
            "\u001b[1m224/224\u001b[0m \u001b[32m━━━━━━━━━━━━━━━━━━━━\u001b[0m\u001b[37m\u001b[0m \u001b[1m1s\u001b[0m 2ms/step - binary_accuracy: 0.9826 - loss: 0.0797\n",
            "Epoch 40/50\n",
            "\u001b[1m224/224\u001b[0m \u001b[32m━━━━━━━━━━━━━━━━━━━━\u001b[0m\u001b[37m\u001b[0m \u001b[1m0s\u001b[0m 2ms/step - binary_accuracy: 0.9833 - loss: 0.0807\n",
            "Epoch 41/50\n",
            "\u001b[1m224/224\u001b[0m \u001b[32m━━━━━━━━━━━━━━━━━━━━\u001b[0m\u001b[37m\u001b[0m \u001b[1m0s\u001b[0m 2ms/step - binary_accuracy: 0.9800 - loss: 0.0805\n",
            "Epoch 42/50\n",
            "\u001b[1m224/224\u001b[0m \u001b[32m━━━━━━━━━━━━━━━━━━━━\u001b[0m\u001b[37m\u001b[0m \u001b[1m0s\u001b[0m 2ms/step - binary_accuracy: 0.9811 - loss: 0.0787\n",
            "Epoch 43/50\n",
            "\u001b[1m224/224\u001b[0m \u001b[32m━━━━━━━━━━━━━━━━━━━━\u001b[0m\u001b[37m\u001b[0m \u001b[1m0s\u001b[0m 2ms/step - binary_accuracy: 0.9808 - loss: 0.0788\n",
            "Epoch 44/50\n",
            "\u001b[1m224/224\u001b[0m \u001b[32m━━━━━━━━━━━━━━━━━━━━\u001b[0m\u001b[37m\u001b[0m \u001b[1m1s\u001b[0m 2ms/step - binary_accuracy: 0.9844 - loss: 0.0697\n",
            "Epoch 45/50\n",
            "\u001b[1m224/224\u001b[0m \u001b[32m━━━━━━━━━━━━━━━━━━━━\u001b[0m\u001b[37m\u001b[0m \u001b[1m1s\u001b[0m 3ms/step - binary_accuracy: 0.9835 - loss: 0.0721\n",
            "Epoch 46/50\n",
            "\u001b[1m224/224\u001b[0m \u001b[32m━━━━━━━━━━━━━━━━━━━━\u001b[0m\u001b[37m\u001b[0m \u001b[1m1s\u001b[0m 3ms/step - binary_accuracy: 0.9835 - loss: 0.0751\n",
            "Epoch 47/50\n",
            "\u001b[1m224/224\u001b[0m \u001b[32m━━━━━━━━━━━━━━━━━━━━\u001b[0m\u001b[37m\u001b[0m \u001b[1m1s\u001b[0m 3ms/step - binary_accuracy: 0.9859 - loss: 0.0641\n",
            "Epoch 48/50\n",
            "\u001b[1m224/224\u001b[0m \u001b[32m━━━━━━━━━━━━━━━━━━━━\u001b[0m\u001b[37m\u001b[0m \u001b[1m1s\u001b[0m 2ms/step - binary_accuracy: 0.9820 - loss: 0.0725\n",
            "Epoch 49/50\n",
            "\u001b[1m224/224\u001b[0m \u001b[32m━━━━━━━━━━━━━━━━━━━━\u001b[0m\u001b[37m\u001b[0m \u001b[1m0s\u001b[0m 2ms/step - binary_accuracy: 0.9855 - loss: 0.0669\n",
            "Epoch 50/50\n",
            "\u001b[1m224/224\u001b[0m \u001b[32m━━━━━━━━━━━━━━━━━━━━\u001b[0m\u001b[37m\u001b[0m \u001b[1m1s\u001b[0m 2ms/step - binary_accuracy: 0.9877 - loss: 0.0624\n"
          ]
        }
      ]
    },
    {
      "cell_type": "code",
      "metadata": {
        "colab": {
          "base_uri": "https://localhost:8080/",
          "height": 483
        },
        "id": "L2lAP4mJ-JY4",
        "outputId": "8c889c4a-6df8-4da3-957c-a3f62ab25481"
      },
      "source": [
        "# Plot training & validation accuracy values\n",
        "fig = plt.figure(figsize=(10,5))\n",
        "\n",
        "# Plot training & validation loss values\n",
        "ax = fig.add_subplot(1,1,1, title = 'Model loss', ylabel= 'Loss')\n",
        "plt.plot(history.history['loss'])\n",
        "# plt.plot(history.history['val_loss'])\n",
        "plt.legend(['Train', 'Test'], loc='upper left')\n",
        "\n",
        "plt.tight_layout()\n",
        "plt.show()"
      ],
      "execution_count": 12,
      "outputs": [
        {
          "output_type": "display_data",
          "data": {
            "text/plain": [
              "<Figure size 1000x500 with 1 Axes>"
            ],
            "image/png": "[encoded data removed]"
          },
          "metadata": {}
        }
      ]
    },
    {
      "cell_type": "code",
      "metadata": {
        "id": "xzgfOmqX8hqL",
        "colab": {
          "base_uri": "https://localhost:8080/",
          "height": 375
        },
        "outputId": "859e851d-31dd-46ba-9eb1-bd854d844fb3"
      },
      "source": [
        "#predictions of the model for test set\n",
        "y_predict = (model.predict(X_test)>.5).astype(int)\n",
        "\n",
        "x1_list, x2_list = grid(X[:,0], X[:,1], n_points=70)\n",
        "X_grid = np.vstack([x1_list.reshape(-1),x2_list.reshape(-1)]).T\n",
        "Y_grid = model.predict( X_grid ).reshape(x1_list.shape )\n",
        "\n",
        "fig = plt.figure(figsize=(15,5))\n",
        "ax = fig.add_subplot(121 , xlabel = 'X1', ylabel='X2', title = 'Result of the Classification')\n",
        "\n",
        "ax.contourf(x1_list, x2_list, Y_grid, alpha=.4, cmap=plt.cm.coolwarm)\n",
        "ax.scatter(*X.T, c=Y)\n",
        "\n",
        "#Model accuracy\n",
        "loss, accuracy = model.evaluate(X_test, Y_test, verbose=0)\n",
        "ax.text(3, 1.4, f'Accuracy: {np.round(accuracy, 3)}' , fontsize=20)\n",
        "\n",
        "\n",
        "ax = fig.add_subplot(122 , xlabel = 'X1', ylabel='X2', title = 'Predicitions of the NN')\n",
        "plt.scatter(*X_test.T, c = y_predict.reshape(-1))\n",
        "\n",
        "\n",
        "plt.tight_layout()\n",
        "plt.show()"
      ],
      "execution_count": 15,
      "outputs": [
        {
          "output_type": "stream",
          "name": "stdout",
          "text": [
            "\u001b[1m75/75\u001b[0m \u001b[32m━━━━━━━━━━━━━━━━━━━━\u001b[0m\u001b[37m\u001b[0m \u001b[1m0s\u001b[0m 1ms/step\n",
            "\u001b[1m224/224\u001b[0m \u001b[32m━━━━━━━━━━━━━━━━━━━━\u001b[0m\u001b[37m\u001b[0m \u001b[1m0s\u001b[0m 1ms/step\n"
          ]
        },
        {
          "output_type": "display_data",
          "data": {
            "text/plain": [
              "<Figure size 1500x500 with 2 Axes>"
            ],
            "image/png": "[encoded data removed]"
          },
          "metadata": {}
        }
      ]
    },
    {
      "cell_type": "markdown",
      "metadata": {
        "id": "18y41-saEmPr"
      },
      "source": [
        "### More structured"
      ]
    },
    {
      "cell_type": "code",
      "metadata": {
        "id": "7qhQ32B557Z9"
      },
      "source": [
        "n_epoch=20\n",
        "btch_size = 100\n",
        "lr = .1"
      ],
      "execution_count": null,
      "outputs": []
    },
    {
      "cell_type": "code",
      "metadata": {
        "id": "4AX4mq3_4baU"
      },
      "source": [
        "from tensorflow import keras as ks\n",
        "\n",
        "model = ks.Sequential()\n",
        "model.add(ks.layers.Dense(10, activation=ks.activations.relu, input_dim = 2)  )\n",
        "model.add(ks.layers.Dense(10, activation=ks.activations.relu)  )\n",
        "model.add(ks.layers.Dense(1, activation=ks.activations.sigmoid)  )\n",
        "\n",
        "\n",
        "model.compile(\n",
        "    optimizer=ks.optimizers.SGD(learning_rate=lr ),\n",
        "    loss = ks.losses.mse,\n",
        "    metrics = 'acc'\n",
        ")"
      ],
      "execution_count": null,
      "outputs": []
    },
    {
      "cell_type": "code",
      "metadata": {
        "id": "7XI8-JcI8hqQ",
        "colab": {
          "base_uri": "https://localhost:8080/"
        },
        "outputId": "b4aab7dd-ee66-4651-dcf4-74ef8afcdff8"
      },
      "source": [
        "# Tensorboard\n",
        "# https://www.tensorflow.org/tensorboard/get_started\n",
        "# Load the TensorBoard notebook extension\n",
        "%load_ext tensorboard\n",
        "\n",
        "# Clear any logs from previous runs\n",
        "!rm -rf ./logs/\n",
        "\n",
        "log_dir = \"logs/fit/\" + datetime.datetime.now().strftime(\"%Y%m%d-%H%M%S\")\n",
        "tensorboard_callback = ks.callbacks.TensorBoard(log_dir=log_dir, histogram_freq=1)\n",
        "\n",
        "history = model.fit( x=X_train,\n",
        "          y=Y_train,\n",
        "          epochs=n_epoch,\n",
        "          batch_size = btch_size,\n",
        "          validation_data=(X_test, Y_test),\n",
        "          callbacks=[tensorboard_callback])\n"
      ],
      "execution_count": null,
      "outputs": [
        {
          "output_type": "stream",
          "name": "stdout",
          "text": [
            "Epoch 1/20\n",
            "72/72 [==============================] - 1s 8ms/step - loss: 0.2393 - acc: 0.5868 - val_loss: 0.2308 - val_acc: 0.5948\n",
            "Epoch 2/20\n",
            "72/72 [==============================] - 0s 6ms/step - loss: 0.2220 - acc: 0.6110 - val_loss: 0.2181 - val_acc: 0.5851\n",
            "Epoch 3/20\n",
            "72/72 [==============================] - 0s 5ms/step - loss: 0.2092 - acc: 0.6426 - val_loss: 0.2038 - val_acc: 0.6789\n",
            "Epoch 4/20\n",
            "72/72 [==============================] - 0s 5ms/step - loss: 0.1971 - acc: 0.6831 - val_loss: 0.1973 - val_acc: 0.5877\n",
            "Epoch 5/20\n",
            "72/72 [==============================] - 0s 5ms/step - loss: 0.1861 - acc: 0.6933 - val_loss: 0.1835 - val_acc: 0.6595\n",
            "Epoch 6/20\n",
            "72/72 [==============================] - 0s 5ms/step - loss: 0.1730 - acc: 0.7389 - val_loss: 0.1762 - val_acc: 0.6003\n",
            "Epoch 7/20\n",
            "72/72 [==============================] - 0s 5ms/step - loss: 0.1605 - acc: 0.8066 - val_loss: 0.1545 - val_acc: 0.8462\n",
            "Epoch 8/20\n",
            "72/72 [==============================] - 0s 5ms/step - loss: 0.1461 - acc: 0.8476 - val_loss: 0.1588 - val_acc: 0.7909\n",
            "Epoch 9/20\n",
            "72/72 [==============================] - 0s 5ms/step - loss: 0.1315 - acc: 0.8589 - val_loss: 0.1542 - val_acc: 0.7892\n",
            "Epoch 10/20\n",
            "72/72 [==============================] - 0s 5ms/step - loss: 0.1158 - acc: 0.8745 - val_loss: 0.1262 - val_acc: 0.8407\n",
            "Epoch 11/20\n",
            "72/72 [==============================] - 0s 5ms/step - loss: 0.0979 - acc: 0.9075 - val_loss: 0.1607 - val_acc: 0.7866\n",
            "Epoch 12/20\n",
            "72/72 [==============================] - 0s 5ms/step - loss: 0.0809 - acc: 0.9393 - val_loss: 0.0950 - val_acc: 0.8441\n",
            "Epoch 13/20\n",
            "72/72 [==============================] - 0s 5ms/step - loss: 0.0673 - acc: 0.9566 - val_loss: 0.0744 - val_acc: 0.8969\n",
            "Epoch 14/20\n",
            "72/72 [==============================] - 0s 5ms/step - loss: 0.0598 - acc: 0.9530 - val_loss: 0.0637 - val_acc: 0.9552\n",
            "Epoch 15/20\n",
            "72/72 [==============================] - 0s 5ms/step - loss: 0.0519 - acc: 0.9617 - val_loss: 0.0731 - val_acc: 0.8804\n",
            "Epoch 16/20\n",
            "72/72 [==============================] - 0s 5ms/step - loss: 0.0484 - acc: 0.9603 - val_loss: 0.1422 - val_acc: 0.8166\n",
            "Epoch 17/20\n",
            "72/72 [==============================] - 0s 5ms/step - loss: 0.0479 - acc: 0.9566 - val_loss: 0.0399 - val_acc: 0.9725\n",
            "Epoch 18/20\n",
            "72/72 [==============================] - 0s 5ms/step - loss: 0.0428 - acc: 0.9618 - val_loss: 0.0375 - val_acc: 0.9704\n",
            "Epoch 19/20\n",
            "72/72 [==============================] - 0s 5ms/step - loss: 0.0425 - acc: 0.9617 - val_loss: 0.2403 - val_acc: 0.7098\n",
            "Epoch 20/20\n",
            "72/72 [==============================] - 0s 5ms/step - loss: 0.0464 - acc: 0.9470 - val_loss: 0.0398 - val_acc: 0.9789\n"
          ]
        }
      ]
    },
    {
      "cell_type": "markdown",
      "metadata": {
        "id": "9vgQj9l88hqP"
      },
      "source": [
        "### Visualization"
      ]
    },
    {
      "cell_type": "code",
      "metadata": {
        "colab": {
          "base_uri": "https://localhost:8080/"
        },
        "id": "QX22Upsn5SQL",
        "outputId": "1d5ee557-72d8-4560-8c4f-2a702a6968be"
      },
      "source": [
        "print(type(history.history))\n",
        "print(history.history.keys())"
      ],
      "execution_count": null,
      "outputs": [
        {
          "output_type": "stream",
          "text": [
            "<class 'dict'>\n",
            "dict_keys(['loss', 'acc', 'val_loss', 'val_acc'])\n"
          ],
          "name": "stdout"
        }
      ]
    },
    {
      "cell_type": "code",
      "metadata": {
        "colab": {
          "base_uri": "https://localhost:8080/",
          "height": 369
        },
        "id": "fkFb4UwC5IW5",
        "outputId": "20c15c56-70f4-440f-d960-13afa07ac7ce"
      },
      "source": [
        "# Plot training & validation accuracy values\n",
        "fig = plt.figure(figsize=(14,5))\n",
        "ax = fig.add_subplot(1,2,1, title = 'Model accuracy', ylabel= 'Accuracy')\n",
        "plt.plot(history.history['acc'])\n",
        "plt.plot(history.history['val_acc'])\n",
        "plt.legend(['Train', 'Test'], loc='upper left')\n",
        "\n",
        "# Plot training & validation loss values\n",
        "ax = fig.add_subplot(1,2,2, title = 'Model loss', ylabel= 'Loss')\n",
        "plt.plot(history.history['loss'])\n",
        "plt.plot(history.history['val_loss'])\n",
        "plt.legend(['Train', 'Test'], loc='upper left')\n",
        "\n",
        "plt.tight_layout()\n",
        "plt.show()"
      ],
      "execution_count": null,
      "outputs": [
        {
          "output_type": "display_data",
          "data": {
            "image/png": "[encoded data removed]",
            "text/plain": [
              "<Figure size 1008x360 with 2 Axes>"
            ]
          },
          "metadata": {
            "needs_background": "light"
          }
        }
      ]
    },
    {
      "cell_type": "code",
      "metadata": {
        "id": "BTOr2Mip5nZR"
      },
      "source": [
        "%tensorboard --logdir logs/fit"
      ],
      "execution_count": null,
      "outputs": []
    },
    {
      "cell_type": "markdown",
      "metadata": {
        "id": "hVYW5F7oErmw"
      },
      "source": [
        "### Saving and loading models\n",
        "\n",
        "For more info see\n",
        "\n",
        "https://www.tensorflow.org/guide/keras/save_and_serialize"
      ]
    },
    {
      "cell_type": "code",
      "metadata": {
        "colab": {
          "base_uri": "https://localhost:8080/"
        },
        "id": "s76khAA6EvlA",
        "outputId": "77601387-caab-4486-83e3-ee034cc08c26"
      },
      "source": [
        "path = 'keras_test_model'\n",
        "model.save(path)\n"
      ],
      "execution_count": null,
      "outputs": [
        {
          "output_type": "stream",
          "name": "stdout",
          "text": [
            "INFO:tensorflow:Assets written to: keras_test_model/assets\n"
          ]
        }
      ]
    },
    {
      "cell_type": "code",
      "metadata": {
        "colab": {
          "base_uri": "https://localhost:8080/"
        },
        "id": "bZsZ1kGhGBgg",
        "outputId": "60c11997-0113-4d6f-c409-b1d6affee818"
      },
      "source": [
        "new_model = ks.models.load_model(path)\n",
        "new_model.predict(X_test[:3])"
      ],
      "execution_count": null,
      "outputs": [
        {
          "output_type": "execute_result",
          "data": {
            "text/plain": [
              "array([[0.02619186],\n",
              "       [0.04496951],\n",
              "       [0.72316116]], dtype=float32)"
            ]
          },
          "metadata": {},
          "execution_count": 37
        }
      ]
    },
    {
      "cell_type": "markdown",
      "metadata": {
        "id": "_myzYSTV1z7S"
      },
      "source": [
        "# Pytorch"
      ]
    },
    {
      "cell_type": "code",
      "metadata": {
        "ExecuteTime": {
          "end_time": "2020-04-26T10:02:49.506457Z",
          "start_time": "2020-04-26T10:02:49.494349Z"
        },
        "init_cell": true,
        "id": "_rmOlVVc8hqW"
      },
      "source": [
        "import torch"
      ],
      "execution_count": null,
      "outputs": []
    },
    {
      "cell_type": "markdown",
      "metadata": {
        "id": "Rf2HrDXA1z7R"
      },
      "source": [
        "This is prepared mainly based on the tutorial from the official website and some other sources:\n",
        "\n",
        "https://pytorch.org/tutorials/beginner/deep_learning_60min_blitz.html"
      ]
    },
    {
      "cell_type": "markdown",
      "metadata": {
        "ExecuteTime": {
          "end_time": "2020-04-26T08:17:41.229158Z",
          "start_time": "2020-04-26T08:17:41.222586Z"
        },
        "heading_collapsed": true,
        "id": "Y62PJjYC8hqb"
      },
      "source": [
        "## Basics"
      ]
    },
    {
      "cell_type": "markdown",
      "metadata": {
        "heading_collapsed": true,
        "hidden": true,
        "id": "up0G4Hqm1z7S"
      },
      "source": [
        "### Pytorch as alternative to numpy"
      ]
    },
    {
      "cell_type": "code",
      "metadata": {
        "hidden": true,
        "id": "qNJk5g46MOaR",
        "colab": {
          "base_uri": "https://localhost:8080/"
        },
        "outputId": "66d5dd05-71bf-4055-c9c9-870df9708e81"
      },
      "source": [
        "np.zeros((2,3))"
      ],
      "execution_count": null,
      "outputs": [
        {
          "output_type": "execute_result",
          "data": {
            "text/plain": [
              "array([[0., 0., 0.],\n",
              "       [0., 0., 0.]])"
            ]
          },
          "metadata": {},
          "execution_count": 6
        }
      ]
    },
    {
      "cell_type": "code",
      "metadata": {
        "ExecuteTime": {
          "end_time": "2020-03-27T11:27:30.937142Z",
          "start_time": "2020-03-27T11:27:30.903632Z"
        },
        "hidden": true,
        "id": "nyW7HeLK1z7T",
        "colab": {
          "base_uri": "https://localhost:8080/"
        },
        "outputId": "f43eab77-a396-42ec-bfd7-124a487a91a2"
      },
      "source": [
        "### A bunch of zeros\n",
        "a = torch.zeros( (2,3))\n",
        "a"
      ],
      "execution_count": null,
      "outputs": [
        {
          "output_type": "execute_result",
          "data": {
            "text/plain": [
              "tensor([[0., 0., 0.],\n",
              "        [0., 0., 0.]])"
            ]
          },
          "metadata": {},
          "execution_count": 7
        }
      ]
    },
    {
      "cell_type": "code",
      "metadata": {
        "hidden": true,
        "id": "iwdD07Pt1z7Y",
        "colab": {
          "base_uri": "https://localhost:8080/"
        },
        "outputId": "1ac46fa5-9a6b-4dd5-98de-a5dac1e3f060"
      },
      "source": [
        "a = torch.rand( 2,3 )\n",
        "a"
      ],
      "execution_count": null,
      "outputs": [
        {
          "output_type": "execute_result",
          "data": {
            "text/plain": [
              "tensor([[0.6599, 0.8209, 0.5537],\n",
              "        [0.8174, 0.5653, 0.4357]])"
            ]
          },
          "metadata": {},
          "execution_count": 8
        }
      ]
    },
    {
      "cell_type": "markdown",
      "metadata": {
        "heading_collapsed": true,
        "hidden": true,
        "id": "4pBsRp0S1z7a"
      },
      "source": [
        "### Converting numpy array to tensor and reverse"
      ]
    },
    {
      "cell_type": "code",
      "metadata": {
        "ExecuteTime": {
          "end_time": "2020-03-27T12:08:43.905962Z",
          "start_time": "2020-03-27T12:08:43.891787Z"
        },
        "hidden": true,
        "id": "-gUQfePv1z7b",
        "colab": {
          "base_uri": "https://localhost:8080/"
        },
        "outputId": "b7d9920a-c389-485e-e387-5091fd3dac99"
      },
      "source": [
        "# We can convert our np arrays to tensors\n",
        "a = np.random.uniform(0,3, size = (2,3))\n",
        "a = torch.tensor(a)\n",
        "# a = torch.from_numpy(a)\n",
        "a"
      ],
      "execution_count": null,
      "outputs": [
        {
          "output_type": "execute_result",
          "data": {
            "text/plain": [
              "tensor([[1.4781, 1.5647, 0.3826],\n",
              "        [1.5764, 0.8200, 0.9347]], dtype=torch.float64)"
            ]
          },
          "metadata": {},
          "execution_count": 9
        }
      ]
    },
    {
      "cell_type": "code",
      "metadata": {
        "ExecuteTime": {
          "end_time": "2020-03-27T12:17:31.129948Z",
          "start_time": "2020-03-27T12:17:31.113807Z"
        },
        "hidden": true,
        "id": "m7NStrrJ1z7e",
        "colab": {
          "base_uri": "https://localhost:8080/"
        },
        "outputId": "c46c18d1-7025-4e19-e6a7-6047f188b33f"
      },
      "source": [
        "a.numpy()"
      ],
      "execution_count": null,
      "outputs": [
        {
          "output_type": "execute_result",
          "data": {
            "text/plain": [
              "array([[1.4781427 , 1.56474374, 0.38255677],\n",
              "       [1.5763821 , 0.82000244, 0.93472738]])"
            ]
          },
          "metadata": {},
          "execution_count": 10
        }
      ]
    },
    {
      "cell_type": "code",
      "metadata": {
        "ExecuteTime": {
          "end_time": "2020-03-27T12:17:35.794914Z",
          "start_time": "2020-03-27T12:17:35.780994Z"
        },
        "hidden": true,
        "id": "5xE1iD5H1z7i",
        "colab": {
          "base_uri": "https://localhost:8080/"
        },
        "outputId": "a4f40656-0f61-4f7c-ca52-887f2aabc38a"
      },
      "source": [
        "a"
      ],
      "execution_count": null,
      "outputs": [
        {
          "output_type": "execute_result",
          "data": {
            "text/plain": [
              "tensor([[3.4781, 3.5647, 2.3826],\n",
              "        [3.5764, 2.8200, 2.9347]], dtype=torch.float64)"
            ]
          },
          "metadata": {},
          "execution_count": 18
        }
      ]
    },
    {
      "cell_type": "code",
      "metadata": {
        "ExecuteTime": {
          "end_time": "2020-03-27T12:21:49.418221Z",
          "start_time": "2020-03-27T12:21:49.392384Z"
        },
        "hidden": true,
        "id": "KBItngSY1z7l",
        "colab": {
          "base_uri": "https://localhost:8080/"
        },
        "outputId": "e4be7268-587c-49fc-a218-0a0c7f7449fb"
      },
      "source": [
        "print(a)\n",
        "\n",
        "a_np = a.numpy()\n",
        "print(a_np)\n",
        "\n",
        "\n",
        "# The value of the numpy version is linked to the original tensor.\n",
        "a+=1\n",
        "print('\\n The value of a is updated. \\n')\n",
        "print(a)\n",
        "\n",
        "print(a_np)\n",
        "\n"
      ],
      "execution_count": null,
      "outputs": [
        {
          "output_type": "stream",
          "name": "stdout",
          "text": [
            "tensor([[2.4781, 2.5647, 1.3826],\n",
            "        [2.5764, 1.8200, 1.9347]], dtype=torch.float64)\n",
            "[[2.4781427  2.56474374 1.38255677]\n",
            " [2.5763821  1.82000244 1.93472738]]\n",
            "\n",
            " The value of a is updated. \n",
            "\n",
            "tensor([[3.4781, 3.5647, 2.3826],\n",
            "        [3.5764, 2.8200, 2.9347]], dtype=torch.float64)\n",
            "[[3.4781427  3.56474374 2.38255677]\n",
            " [3.5763821  2.82000244 2.93472738]]\n"
          ]
        }
      ]
    },
    {
      "cell_type": "markdown",
      "metadata": {
        "heading_collapsed": true,
        "hidden": true,
        "id": "sTy_cs4Q1z7o"
      },
      "source": [
        "### Tensor operations"
      ]
    },
    {
      "cell_type": "code",
      "metadata": {
        "ExecuteTime": {
          "end_time": "2020-03-27T12:19:02.975705Z",
          "start_time": "2020-03-27T12:19:02.958196Z"
        },
        "hidden": true,
        "id": "xv3BqMk31z7p",
        "colab": {
          "base_uri": "https://localhost:8080/"
        },
        "outputId": "900ccee0-cb4a-491a-9067-c16af63166c3"
      },
      "source": [
        "print(a)\n",
        "\n",
        "## Similar to numpy, values are broadcasted.\n",
        "print(a+1)"
      ],
      "execution_count": null,
      "outputs": [
        {
          "output_type": "stream",
          "name": "stdout",
          "text": [
            "tensor([[2.4781, 2.5647, 1.3826],\n",
            "        [2.5764, 1.8200, 1.9347]], dtype=torch.float64)\n",
            "tensor([[3.4781, 3.5647, 2.3826],\n",
            "        [3.5764, 2.8200, 2.9347]], dtype=torch.float64)\n"
          ]
        }
      ]
    },
    {
      "cell_type": "code",
      "metadata": {
        "ExecuteTime": {
          "end_time": "2020-03-27T12:05:06.818639Z",
          "start_time": "2020-03-27T12:05:06.803436Z"
        },
        "hidden": true,
        "id": "wE1BBkmN1z7r",
        "colab": {
          "base_uri": "https://localhost:8080/"
        },
        "outputId": "d0cf435a-999e-4ce3-c705-23066926fbbe"
      },
      "source": [
        "b = torch.tensor(np.random.uniform( 0,3, (2,3) )  )\n",
        "\n",
        "#Transposition\n",
        "b.t()"
      ],
      "execution_count": null,
      "outputs": [
        {
          "output_type": "execute_result",
          "data": {
            "text/plain": [
              "tensor([[0.6095, 0.2151],\n",
              "        [2.4961, 1.0023],\n",
              "        [2.5445, 0.7602]], dtype=torch.float64)"
            ]
          },
          "metadata": {},
          "execution_count": 15
        }
      ]
    },
    {
      "cell_type": "code",
      "metadata": {
        "ExecuteTime": {
          "end_time": "2020-03-27T12:06:49.163858Z",
          "start_time": "2020-03-27T12:06:49.152715Z"
        },
        "hidden": true,
        "id": "NBlyn3571z7u",
        "colab": {
          "base_uri": "https://localhost:8080/"
        },
        "outputId": "1c4613e2-fda9-41e7-8747-64dbb1b0b46b"
      },
      "source": [
        "#Shape\n",
        "print(f\"The shape of b is {b.size()}.\"  )\n",
        "\n",
        "#Reshape\n",
        "print(f\"We can flatten b to {b.view(-1)}.\"  )"
      ],
      "execution_count": null,
      "outputs": [
        {
          "output_type": "stream",
          "name": "stdout",
          "text": [
            "The shape of b is torch.Size([2, 3]).\n",
            "We can flatten b to tensor([0.6095, 2.4961, 2.5445, 0.2151, 1.0023, 0.7602], dtype=torch.float64).\n"
          ]
        }
      ]
    },
    {
      "cell_type": "code",
      "source": [
        "# a * a\n",
        "print(a)\n",
        "a * a"
      ],
      "metadata": {
        "id": "lSmlDF0kI0Ww",
        "outputId": "a22cfdc4-c5ce-4d63-ab9b-fa038c239dc4",
        "colab": {
          "base_uri": "https://localhost:8080/"
        }
      },
      "execution_count": null,
      "outputs": [
        {
          "output_type": "stream",
          "name": "stdout",
          "text": [
            "tensor([[3.4781, 3.5647, 2.3826],\n",
            "        [3.5764, 2.8200, 2.9347]], dtype=torch.float64)\n"
          ]
        },
        {
          "output_type": "execute_result",
          "data": {
            "text/plain": [
              "tensor([[12.0975, 12.7074,  5.6766],\n",
              "        [12.7905,  7.9524,  8.6126]], dtype=torch.float64)"
            ]
          },
          "metadata": {},
          "execution_count": 21
        }
      ]
    },
    {
      "cell_type": "code",
      "metadata": {
        "ExecuteTime": {
          "end_time": "2020-03-27T12:14:24.340356Z",
          "start_time": "2020-03-27T12:14:24.329970Z"
        },
        "hidden": true,
        "id": "I8el3Koh1z7x",
        "colab": {
          "base_uri": "https://localhost:8080/"
        },
        "outputId": "1db44a99-921b-42ec-e65a-d536c803204c"
      },
      "source": [
        "# Matrix Multipication\n",
        "print(f\"The matrix multipication of a.b is \\n{torch.mm(a , b.t())  }.\"  )\n"
      ],
      "execution_count": null,
      "outputs": [
        {
          "output_type": "stream",
          "name": "stdout",
          "text": [
            "The matrix multipication of a.b is \n",
            "tensor([[18.8383, 28.7706],\n",
            "        [12.6959, 22.0806]], dtype=torch.float64).\n"
          ]
        }
      ]
    },
    {
      "cell_type": "code",
      "metadata": {
        "ExecuteTime": {
          "end_time": "2020-03-27T12:15:09.150939Z",
          "start_time": "2020-03-27T12:15:09.124561Z"
        },
        "hidden": true,
        "id": "NWYXCeXh1z71",
        "colab": {
          "base_uri": "https://localhost:8080/"
        },
        "outputId": "3d47bb1d-6776-4184-b03f-5b72f92a959d"
      },
      "source": [
        "# Or we can do\n",
        "a.mm(b.t())"
      ],
      "execution_count": null,
      "outputs": [
        {
          "output_type": "execute_result",
          "data": {
            "text/plain": [
              "tensor([[18.8383, 28.7706],\n",
              "        [12.6959, 22.0806]], dtype=torch.float64)"
            ]
          },
          "metadata": {},
          "execution_count": 30
        }
      ]
    },
    {
      "cell_type": "markdown",
      "metadata": {
        "heading_collapsed": true,
        "hidden": true,
        "id": "5ns2Pq871z73"
      },
      "source": [
        "### Empty tensors"
      ]
    },
    {
      "cell_type": "code",
      "metadata": {
        "ExecuteTime": {
          "end_time": "2020-03-27T12:12:39.386468Z",
          "start_time": "2020-03-27T12:12:39.370821Z"
        },
        "hidden": true,
        "id": "f0pg2Uui1z74",
        "colab": {
          "base_uri": "https://localhost:8080/"
        },
        "outputId": "4a8ade83-5a27-47e1-fce3-b2a897e02c4e"
      },
      "source": [
        "x = torch.empty((2,2),dtype=torch.float64)\n",
        "\n",
        "x"
      ],
      "execution_count": null,
      "outputs": [
        {
          "output_type": "execute_result",
          "data": {
            "text/plain": [
              "tensor([[4.9150e-310, 4.9150e-310],\n",
              "        [3.9525e-322, 3.9525e-322]], dtype=torch.float64)"
            ]
          },
          "metadata": {},
          "execution_count": 22
        }
      ]
    },
    {
      "cell_type": "code",
      "metadata": {
        "ExecuteTime": {
          "end_time": "2020-03-27T12:13:57.387850Z",
          "start_time": "2020-03-27T12:13:57.376574Z"
        },
        "hidden": true,
        "id": "XgnC39dv1z76",
        "colab": {
          "base_uri": "https://localhost:8080/"
        },
        "outputId": "5eb64f0a-20d5-41f4-f878-339acb3833c2"
      },
      "source": [
        "torch.mm(a , b.t(), out = x)\n",
        "\n",
        "print(f\"x is now updated to\\n{x}.\")"
      ],
      "execution_count": null,
      "outputs": [
        {
          "output_type": "stream",
          "name": "stdout",
          "text": [
            "x is now updated to\n",
            "tensor([[18.8383, 28.7706],\n",
            "        [12.6959, 22.0806]], dtype=torch.float64).\n"
          ]
        }
      ]
    },
    {
      "cell_type": "markdown",
      "metadata": {
        "heading_collapsed": true,
        "hidden": true,
        "id": "AvJuZGcu1z7_"
      },
      "source": [
        "### GPU\n",
        "\n",
        "One cool feature of pytorch is that it presents a cool alternative to numpy but with the advantage that the operations can be run on GPU. Note that that numpy arrays and operations are not GPU enabled (at least not out of the box)."
      ]
    },
    {
      "cell_type": "code",
      "metadata": {
        "ExecuteTime": {
          "end_time": "2020-03-27T12:47:09.377042Z",
          "start_time": "2020-03-27T12:47:08.028134Z"
        },
        "hidden": true,
        "id": "9aUzArhD1z7_",
        "colab": {
          "base_uri": "https://localhost:8080/"
        },
        "outputId": "60cecaea-00a3-4f69-b4f5-6a7e960494a3"
      },
      "source": [
        "device = torch.device(\"cuda:0\" if torch.cuda.is_available() else \"cpu\")\n",
        "print(device)"
      ],
      "execution_count": null,
      "outputs": [
        {
          "output_type": "stream",
          "name": "stdout",
          "text": [
            "cuda:0\n"
          ]
        }
      ]
    },
    {
      "cell_type": "code",
      "source": [
        "a = np.random.uniform(0,3, size = (2,3))\n",
        "a"
      ],
      "metadata": {
        "id": "FDZFSC3Uo2u6",
        "outputId": "42b52eb5-869b-4ae3-8d13-4bbc24815147",
        "colab": {
          "base_uri": "https://localhost:8080/"
        }
      },
      "execution_count": null,
      "outputs": [
        {
          "output_type": "execute_result",
          "data": {
            "text/plain": [
              "array([[0.22409973, 1.21358549, 1.85905011],\n",
              "       [0.05260108, 1.60067078, 2.0733722 ]])"
            ]
          },
          "metadata": {},
          "execution_count": 38
        }
      ]
    },
    {
      "cell_type": "code",
      "metadata": {
        "ExecuteTime": {
          "end_time": "2020-03-27T12:33:45.142021Z",
          "start_time": "2020-03-27T12:33:45.122144Z"
        },
        "hidden": true,
        "id": "Sv_75HOx1z8C",
        "colab": {
          "base_uri": "https://localhost:8080/"
        },
        "outputId": "d1aaa379-1b4f-4f55-a12a-8f0559470167"
      },
      "source": [
        "a = torch.tensor(a, device=device, dtype = torch.int)\n",
        "# a = torch.from_numpy(a).to(device)\n",
        "a"
      ],
      "execution_count": null,
      "outputs": [
        {
          "output_type": "execute_result",
          "data": {
            "text/plain": [
              "tensor([[0, 1, 1],\n",
              "        [0, 1, 2]], device='cuda:0', dtype=torch.int32)"
            ]
          },
          "metadata": {},
          "execution_count": 39
        }
      ]
    },
    {
      "cell_type": "markdown",
      "metadata": {
        "heading_collapsed": true,
        "hidden": true,
        "id": "-CLURPvt1z8E"
      },
      "source": [
        "#### Speedup over GPU."
      ]
    },
    {
      "cell_type": "code",
      "metadata": {
        "ExecuteTime": {
          "end_time": "2020-03-27T12:47:18.569000Z",
          "start_time": "2020-03-27T12:47:13.507010Z"
        },
        "hidden": true,
        "id": "QdijhTx11z8F",
        "colab": {
          "base_uri": "https://localhost:8080/"
        },
        "outputId": "7180bb9c-ba78-4de7-e45c-05b4ab9bd29a"
      },
      "source": [
        "%%time\n",
        "d_mat = 10**4\n",
        "a = np.random.rand(d_mat, d_mat)\n",
        "b = np.random.rand(d_mat, d_mat)\n"
      ],
      "execution_count": null,
      "outputs": [
        {
          "output_type": "stream",
          "name": "stdout",
          "text": [
            "CPU times: user 1.51 s, sys: 278 ms, total: 1.78 s\n",
            "Wall time: 1.77 s\n"
          ]
        }
      ]
    },
    {
      "cell_type": "code",
      "metadata": {
        "ExecuteTime": {
          "end_time": "2020-03-27T12:47:19.836108Z",
          "start_time": "2020-03-27T12:47:18.869375Z"
        },
        "hidden": true,
        "id": "hP-SpjQa1z8H",
        "colab": {
          "base_uri": "https://localhost:8080/"
        },
        "outputId": "3c03969d-3c63-4e34-cfde-a221d9f5d7e9"
      },
      "source": [
        "%%time\n",
        "for i in range(10):\n",
        "  c = a+b"
      ],
      "execution_count": null,
      "outputs": [
        {
          "output_type": "stream",
          "name": "stdout",
          "text": [
            "CPU times: user 1.64 s, sys: 1.45 s, total: 3.09 s\n",
            "Wall time: 3.04 s\n"
          ]
        }
      ]
    },
    {
      "cell_type": "code",
      "metadata": {
        "ExecuteTime": {
          "end_time": "2020-03-27T12:48:12.494518Z",
          "start_time": "2020-03-27T12:48:11.955368Z"
        },
        "hidden": true,
        "id": "6e0SVKbO1z8J"
      },
      "source": [
        "a_t = torch.tensor(a)\n",
        "b_t = torch.tensor(b)"
      ],
      "execution_count": null,
      "outputs": []
    },
    {
      "cell_type": "code",
      "metadata": {
        "ExecuteTime": {
          "end_time": "2020-03-27T12:48:13.108729Z",
          "start_time": "2020-03-27T12:48:12.740109Z"
        },
        "hidden": true,
        "id": "6qrBrteO1z8L",
        "colab": {
          "base_uri": "https://localhost:8080/"
        },
        "outputId": "1d56e4d6-a3eb-4e7a-c1f4-f6d1639ffc88"
      },
      "source": [
        "%%time\n",
        "for i in range(100):\n",
        "  c_t = a_t+b_t"
      ],
      "execution_count": null,
      "outputs": [
        {
          "output_type": "stream",
          "name": "stdout",
          "text": [
            "CPU times: user 15.7 s, sys: 48.3 s, total: 1min 3s\n",
            "Wall time: 56.5 s\n"
          ]
        }
      ]
    },
    {
      "cell_type": "code",
      "metadata": {
        "ExecuteTime": {
          "end_time": "2020-03-27T12:47:37.279737Z",
          "start_time": "2020-03-27T12:47:26.638381Z"
        },
        "hidden": true,
        "id": "85zrjxbK1z8O"
      },
      "source": [
        "a_t = torch.tensor(a, device=device)\n",
        "b_t = torch.tensor(b, device=device)"
      ],
      "execution_count": null,
      "outputs": []
    },
    {
      "cell_type": "code",
      "metadata": {
        "ExecuteTime": {
          "end_time": "2020-03-27T12:47:38.237113Z",
          "start_time": "2020-03-27T12:47:38.183692Z"
        },
        "hidden": true,
        "id": "uW8zLJkX1z8Q",
        "colab": {
          "base_uri": "https://localhost:8080/"
        },
        "outputId": "fb30a298-412e-4f26-e859-a9bc1dd936ba"
      },
      "source": [
        "%%time\n",
        "for i in range(100):\n",
        "  c_t = a_t+b_t"
      ],
      "execution_count": null,
      "outputs": [
        {
          "output_type": "stream",
          "name": "stdout",
          "text": [
            "CPU times: user 2.12 ms, sys: 2.08 ms, total: 4.2 ms\n",
            "Wall time: 4.22 ms\n"
          ]
        }
      ]
    },
    {
      "cell_type": "markdown",
      "metadata": {
        "heading_collapsed": true,
        "hidden": true,
        "id": "TOCTbJ6u1z8S"
      },
      "source": [
        "#### But be careful, it is not always wise to use GPU."
      ]
    },
    {
      "cell_type": "code",
      "metadata": {
        "ExecuteTime": {
          "end_time": "2020-03-27T12:36:05.901022Z",
          "start_time": "2020-03-27T12:36:00.284021Z"
        },
        "hidden": true,
        "id": "Z5rdtrh31z8T",
        "colab": {
          "base_uri": "https://localhost:8080/"
        },
        "outputId": "1d8e108e-fd5b-4d11-ac14-1fce8112e54e"
      },
      "source": [
        "%%time\n",
        "## Let's compare the speed.\n",
        "n_run = 10**6\n",
        "a = np.ones((3,3))\n",
        "\n",
        "for i in range(n_run):\n",
        "    np.matmul(a,a)\n",
        "\n"
      ],
      "execution_count": null,
      "outputs": [
        {
          "output_type": "stream",
          "name": "stdout",
          "text": [
            "CPU times: user 1.48 s, sys: 0 ns, total: 1.48 s\n",
            "Wall time: 1.48 s\n"
          ]
        }
      ]
    },
    {
      "cell_type": "code",
      "metadata": {
        "ExecuteTime": {
          "end_time": "2020-03-27T12:36:00.249262Z",
          "start_time": "2020-03-27T12:35:55.126009Z"
        },
        "hidden": true,
        "id": "yZWKxwLc1z8V",
        "colab": {
          "base_uri": "https://localhost:8080/"
        },
        "outputId": "b5db23f4-ddda-4408-b54d-e9fb37fd7895"
      },
      "source": [
        "%%time\n",
        "## Let's compare the speed.\n",
        "n_run = 10**6\n",
        "a = torch.ones((3,3))\n",
        "\n",
        "\n",
        "for i in range(n_run):\n",
        "    np.dot(a,a)\n",
        "\n"
      ],
      "execution_count": null,
      "outputs": [
        {
          "output_type": "stream",
          "name": "stdout",
          "text": [
            "CPU times: user 19.1 s, sys: 809 ms, total: 20 s\n",
            "Wall time: 19.6 s\n"
          ]
        }
      ]
    },
    {
      "cell_type": "code",
      "metadata": {
        "ExecuteTime": {
          "end_time": "2020-03-27T12:36:29.337407Z",
          "start_time": "2020-03-27T12:36:18.331727Z"
        },
        "hidden": true,
        "id": "YtsBeyGr1z8X",
        "colab": {
          "base_uri": "https://localhost:8080/"
        },
        "outputId": "75394e5c-af85-4aed-a65e-841c1e983a60"
      },
      "source": [
        "%%time\n",
        "## Let's compare the speed.\n",
        "n_run = 10**6\n",
        "a = torch.ones((3,3), device=device)\n",
        "\n",
        "for i in range(n_run):\n",
        "    torch.mm(a,a)\n",
        "\n"
      ],
      "execution_count": null,
      "outputs": [
        {
          "output_type": "stream",
          "name": "stdout",
          "text": [
            "CPU times: user 12 s, sys: 3.12 ms, total: 12 s\n",
            "Wall time: 12 s\n"
          ]
        }
      ]
    },
    {
      "cell_type": "markdown",
      "metadata": {
        "heading_collapsed": true,
        "id": "HV2AO9Yx1z8Z"
      },
      "source": [
        "## Autograd"
      ]
    },
    {
      "cell_type": "code",
      "metadata": {
        "id": "SeK_CJDo2427"
      },
      "source": [
        "import torch"
      ],
      "execution_count": null,
      "outputs": []
    },
    {
      "cell_type": "code",
      "metadata": {
        "ExecuteTime": {
          "end_time": "2020-04-26T08:37:38.867218Z",
          "start_time": "2020-04-26T08:37:38.855540Z"
        },
        "hidden": true,
        "id": "qS7R1i8q1z8a",
        "colab": {
          "base_uri": "https://localhost:8080/"
        },
        "outputId": "c1282297-e06d-4e4e-aacb-3a06ec8357b7"
      },
      "source": [
        "'''\n",
        "We can specify the parameters that we want to track for optimization.\n",
        "For this we set the requires_grad to True.\n",
        "This means that for all the following computations, for any function\n",
        "of the variable, the respective derivatives will be kept.\n",
        "'''\n",
        "a = torch.rand(1,3, requires_grad=True)\n",
        "b = torch.rand(3,1, requires_grad = True)\n",
        "print(a)\n",
        "print(b)"
      ],
      "execution_count": null,
      "outputs": [
        {
          "output_type": "stream",
          "name": "stdout",
          "text": [
            "tensor([[0.5544, 0.9981, 0.5986]], requires_grad=True)\n",
            "tensor([[0.3605],\n",
            "        [0.1754],\n",
            "        [0.7492]], requires_grad=True)\n"
          ]
        }
      ]
    },
    {
      "cell_type": "code",
      "metadata": {
        "ExecuteTime": {
          "end_time": "2020-04-26T08:37:46.286177Z",
          "start_time": "2020-04-26T08:37:46.274178Z"
        },
        "hidden": true,
        "id": "YNrCVIUT8g5_",
        "colab": {
          "base_uri": "https://localhost:8080/"
        },
        "outputId": "827c7942-c888-42d5-b6a0-5f4e9e7f2478"
      },
      "source": [
        "'''\n",
        "Take this function for example.\n",
        "If you look at it, you'll see that it has an extra element, the grad_fn.\n",
        "This is in fact dy(a)/da.\n",
        "'''\n",
        "y = (a + 2).mean()\n",
        "# y = torch.mm(a,b)\n",
        "print( f'The gradient function is {y.grad_fn}.\\n' )\n",
        "y"
      ],
      "execution_count": null,
      "outputs": [
        {
          "output_type": "stream",
          "name": "stdout",
          "text": [
            "The gradient function is <MeanBackward0 object at 0x7daf59a2d480>.\n",
            "\n"
          ]
        },
        {
          "output_type": "execute_result",
          "data": {
            "text/plain": [
              "tensor(2.2901, grad_fn=<MeanBackward0>)"
            ]
          },
          "metadata": {},
          "execution_count": 53
        }
      ]
    },
    {
      "cell_type": "code",
      "metadata": {
        "ExecuteTime": {
          "end_time": "2020-04-26T08:37:49.348842Z",
          "start_time": "2020-04-26T08:37:49.336311Z"
        },
        "hidden": true,
        "id": "YARE75D88kik",
        "colab": {
          "base_uri": "https://localhost:8080/"
        },
        "outputId": "12405fde-1910-4cb2-e48d-7f9abe498cf1"
      },
      "source": [
        "'''\n",
        "Now if we want to calculate the derivatives with respect to the variable,\n",
        "we can simply call the backward() method on the output/final variable.\n",
        "'''\n",
        "y.backward()\n",
        "print(a.grad)\n",
        "print(b.grad)"
      ],
      "execution_count": null,
      "outputs": [
        {
          "output_type": "stream",
          "name": "stdout",
          "text": [
            "tensor([[0.3333, 0.3333, 0.3333]])\n",
            "None\n"
          ]
        }
      ]
    },
    {
      "cell_type": "code",
      "metadata": {
        "ExecuteTime": {
          "end_time": "2020-04-26T08:33:34.126451Z",
          "start_time": "2020-04-26T08:33:34.104977Z"
        },
        "hidden": true,
        "id": "nUAYm-kv8trN",
        "colab": {
          "base_uri": "https://localhost:8080/"
        },
        "outputId": "51d9fb7d-d98f-43be-bf9c-4b7ac0627f90"
      },
      "source": [
        "'''\n",
        "You need to be careful when you calculate the gradients with this.\n",
        "It accumulates the gradients,\n",
        "'''\n",
        "for i in range(3):\n",
        "    y.backward()\n",
        "    print(a.grad, '\\n')"
      ],
      "execution_count": null,
      "outputs": [
        {
          "output_type": "stream",
          "name": "stdout",
          "text": [
            "tensor([[0.6667, 0.6667, 0.6667]]) \n",
            "\n",
            "tensor([[1., 1., 1.]]) \n",
            "\n",
            "tensor([[1.3333, 1.3333, 1.3333]]) \n",
            "\n"
          ]
        }
      ]
    },
    {
      "cell_type": "code",
      "metadata": {
        "ExecuteTime": {
          "end_time": "2020-04-26T08:36:47.990810Z",
          "start_time": "2020-04-26T08:36:47.976741Z"
        },
        "hidden": true,
        "id": "jkenmZZ68hrx",
        "colab": {
          "base_uri": "https://localhost:8080/"
        },
        "outputId": "ce515ab0-badf-46e9-ccd1-cbc948ca41b8"
      },
      "source": [
        "'''\n",
        "So we would need to reset the grad of the variable, i.e.\n",
        "'''\n",
        "a.grad.zero_()\n",
        "\n",
        "print(a.grad, '\\n')\n",
        "\n",
        "y.backward()\n",
        "print(a.grad)\n",
        "\n"
      ],
      "execution_count": null,
      "outputs": [
        {
          "output_type": "stream",
          "name": "stdout",
          "text": [
            "tensor([[0., 0., 0.]]) \n",
            "\n",
            "tensor([[0.3333, 0.3333, 0.3333]])\n"
          ]
        }
      ]
    },
    {
      "cell_type": "code",
      "metadata": {
        "colab": {
          "base_uri": "https://localhost:8080/"
        },
        "id": "p2sFRY3T5N_T",
        "outputId": "b3d5dd75-4498-4b46-d87d-6eac2f46431c"
      },
      "source": [
        "### Multidimensional output\n",
        "z = 2 * a\n",
        "print(z)\n",
        "a.grad.zero_()\n",
        "\n",
        "z.backward(torch.tensor([[0,1,1]]))\n",
        "\n",
        "a.grad"
      ],
      "execution_count": null,
      "outputs": [
        {
          "output_type": "stream",
          "name": "stdout",
          "text": [
            "tensor([[0.1062, 1.1797, 0.4544]], grad_fn=<MulBackward0>)\n"
          ]
        },
        {
          "output_type": "execute_result",
          "data": {
            "text/plain": [
              "tensor([[0., 2., 2.]])"
            ]
          },
          "metadata": {},
          "execution_count": 57
        }
      ]
    },
    {
      "cell_type": "markdown",
      "metadata": {
        "hidden": true,
        "id": "JmggY9G-8hry"
      },
      "source": [
        "#### Simple Optimization Example"
      ]
    },
    {
      "cell_type": "code",
      "metadata": {
        "ExecuteTime": {
          "end_time": "2020-04-26T08:52:10.713472Z",
          "start_time": "2020-04-26T08:52:10.580439Z"
        },
        "hidden": true,
        "id": "A5knHx1U8hry",
        "colab": {
          "base_uri": "https://localhost:8080/",
          "height": 397
        },
        "outputId": "a8971fa5-7b94-418b-904f-f42de2cd071f"
      },
      "source": [
        "x_list = np.arange(-1,1.1,.1)\n",
        "y_list = x_list**2\n",
        "\n",
        "plt.plot(x_list, y_list)"
      ],
      "execution_count": null,
      "outputs": [
        {
          "output_type": "execute_result",
          "data": {
            "text/plain": [
              "[<matplotlib.lines.Line2D at 0x7daf46bb9780>]"
            ]
          },
          "metadata": {},
          "execution_count": 61
        },
        {
          "output_type": "display_data",
          "data": {
            "text/plain": [
              "<Figure size 800x400 with 1 Axes>"
            ],
            "image/png": "[encoded data removed]"
          },
          "metadata": {}
        }
      ]
    },
    {
      "cell_type": "code",
      "metadata": {
        "id": "3uyHfXoEiOwW",
        "colab": {
          "base_uri": "https://localhost:8080/"
        },
        "outputId": "297b86a8-0c83-4f00-feee-6df321c194e9"
      },
      "source": [
        "import torch\n",
        "import numpy as np\n",
        "# y.backward()\n",
        "# x.grad + x\n",
        "\n",
        "\n",
        "n_itr = 10\n",
        "lr = .1\n",
        "\n",
        "x = torch.tensor(.5, requires_grad=True)\n",
        "x_hist = [x.detach().numpy().copy() ]\n",
        "\n",
        "for i in range(n_itr):\n",
        "  y = x**2\n",
        "  print(f'for iteration {i}, we get:')\n",
        "  y.backward()\n",
        "  print(f' The derivative is: {x.grad}')\n",
        "  print(f' and x is {x}. \\n')\n",
        "  with torch.no_grad():\n",
        "    x -= lr * x.grad\n",
        "  # x.requires_grad_ = True\n",
        "  # print(x.grad)\n",
        "  x.grad.zero_()\n",
        "  x_hist +=[x.detach().numpy().copy() ]\n",
        "\n",
        "\n",
        "x_hist = np.array(x_hist)"
      ],
      "execution_count": null,
      "outputs": [
        {
          "output_type": "stream",
          "name": "stdout",
          "text": [
            "for iteration 0, we get:\n",
            " The derivative is: 1.0\n",
            " and x is 0.5. \n",
            "\n",
            "for iteration 1, we get:\n",
            " The derivative is: 0.800000011920929\n",
            " and x is 0.4000000059604645. \n",
            "\n",
            "for iteration 2, we get:\n",
            " The derivative is: 0.6399999856948853\n",
            " and x is 0.3199999928474426. \n",
            "\n",
            "for iteration 3, we get:\n",
            " The derivative is: 0.5119999647140503\n",
            " and x is 0.25599998235702515. \n",
            "\n",
            "for iteration 4, we get:\n",
            " The derivative is: 0.4095999598503113\n",
            " and x is 0.20479997992515564. \n",
            "\n",
            "for iteration 5, we get:\n",
            " The derivative is: 0.32767996191978455\n",
            " and x is 0.16383998095989227. \n",
            "\n",
            "for iteration 6, we get:\n",
            " The derivative is: 0.26214396953582764\n",
            " and x is 0.13107198476791382. \n",
            "\n",
            "for iteration 7, we get:\n",
            " The derivative is: 0.20971517264842987\n",
            " and x is 0.10485758632421494. \n",
            "\n",
            "for iteration 8, we get:\n",
            " The derivative is: 0.16777214407920837\n",
            " and x is 0.08388607203960419. \n",
            "\n",
            "for iteration 9, we get:\n",
            " The derivative is: 0.13421770930290222\n",
            " and x is 0.06710885465145111. \n",
            "\n"
          ]
        }
      ]
    },
    {
      "cell_type": "code",
      "metadata": {
        "ExecuteTime": {
          "end_time": "2020-04-26T09:17:00.995552Z",
          "start_time": "2020-04-26T09:17:00.984553Z"
        },
        "hidden": true,
        "id": "pfye3Eck8hr4"
      },
      "source": [
        "x = torch.tensor(.5, requires_grad=True)\n",
        "y = x**2\n",
        "\n",
        "x_opt = x.detach().numpy()\n",
        "x_hist = [x_opt.copy() ]\n",
        "n_itr = 10\n",
        "lr = .1\n",
        "\n",
        "\n",
        "for i in range(n_itr):\n",
        "\n",
        "    x = torch.tensor(x_opt , requires_grad=True)\n",
        "#     print(x)\n",
        "    y = x**2\n",
        "\n",
        "    y.backward()\n",
        "#     print(x.grad)\n",
        "    # x_opt = x_opt - lr*dy/dx\n",
        "    x_opt -= lr * x.grad.numpy()\n",
        "    x_hist +=[x_opt.copy()]\n",
        "\n",
        "\n",
        "x_hist = np.array(x_hist)"
      ],
      "execution_count": null,
      "outputs": []
    },
    {
      "cell_type": "code",
      "metadata": {
        "ExecuteTime": {
          "end_time": "2020-04-26T09:35:08.234473Z",
          "start_time": "2020-04-26T09:35:08.019416Z"
        },
        "hidden": true,
        "id": "JbaEEMVo8hr9",
        "colab": {
          "base_uri": "https://localhost:8080/",
          "height": 546
        },
        "outputId": "7379aa0b-05c9-444b-9333-0585a3ac303d"
      },
      "source": [
        "x_hist\n",
        "y_hist = x_hist**2\n",
        "\n",
        "fig = plt.figure(figsize=(15,5))\n",
        "ax = fig.add_subplot(111 , xlabel = 'X1', ylabel='X2', title = 'Result of the Classification')\n",
        "ax.plot(x_list, y_list)\n",
        "ax.scatter(x_hist, y_hist, s=20, c = 'r' )\n",
        "\n",
        "for i in range(len(x_hist)):\n",
        "    ax.annotate(i+1, (x_hist[i], y_hist[i]), fontsize = 12)\n",
        "\n",
        "\n",
        "print(f'The value of the x after {n_itr} iterations is {x}.\\n')"
      ],
      "execution_count": null,
      "outputs": [
        {
          "output_type": "stream",
          "name": "stdout",
          "text": [
            "The value of the x after 10 iterations is 0.06710885465145111.\n",
            "\n"
          ]
        },
        {
          "output_type": "display_data",
          "data": {
            "text/plain": [
              "<Figure size 1500x500 with 1 Axes>"
            ],
            "image/png": "[encoded data removed]"
          },
          "metadata": {}
        }
      ]
    },
    {
      "cell_type": "markdown",
      "metadata": {
        "hidden": true,
        "id": "9x-m2XnH8hr_"
      },
      "source": [
        "***Question***\n",
        "\n",
        "Implement a simple Logistic Regression with pytorch.\n"
      ]
    },
    {
      "cell_type": "markdown",
      "metadata": {
        "heading_collapsed": true,
        "id": "9sd39TDC8hsA"
      },
      "source": [
        "## Simple NN with Pytorch\n",
        "\n",
        "We'll come back to this with more details. This is just to give an idea of how this works in practice for a NN."
      ]
    },
    {
      "cell_type": "code",
      "metadata": {
        "id": "8CPxuz6h_dev"
      },
      "source": [
        "x_tr = torch.from_numpy(X_train).float()\n",
        "x_ts = torch.from_numpy(X_test).float()\n",
        "\n",
        "y_tr = torch.from_numpy(Y_train.reshape(-1,1)).float()\n",
        "y_ts = torch.from_numpy(Y_test.reshape(-1,1)).float()"
      ],
      "execution_count": null,
      "outputs": []
    },
    {
      "cell_type": "code",
      "metadata": {
        "hidden": true,
        "id": "JCCBibP-8hsD"
      },
      "source": [
        "# https://pytorch.org/tutorials/beginner/blitz/neural_networks_tutorial.html#sphx-glr-beginner-blitz-neural-networks-tutorial-py\n",
        "# https://pytorch.org/tutorials/beginner/basics/buildmodel_tutorial.html\n",
        "\n",
        "import torch.nn as nn\n",
        "import torch.nn.functional as F\n",
        "import torch.optim as optim"
      ],
      "execution_count": null,
      "outputs": []
    },
    {
      "cell_type": "code",
      "metadata": {
        "id": "SpXBilWDKhWb"
      },
      "source": [
        "n_epoch=20\n",
        "btch_size = 100\n",
        "lr = .05"
      ],
      "execution_count": null,
      "outputs": []
    },
    {
      "cell_type": "code",
      "metadata": {
        "hidden": true,
        "id": "9VeSvX3N8hsF"
      },
      "source": [
        "class Net(nn.Module):\n",
        "\n",
        "    def __init__(self):\n",
        "        super().__init__()\n",
        "        self.fc1 = nn.Linear(2,10)\n",
        "        self.fc2 = nn.Linear(10,4)\n",
        "        self.out = nn.Linear(4, 1)\n",
        "\n",
        "\n",
        "    def forward(self,x):\n",
        "            #The first layer\n",
        "            x = self.fc1(x)\n",
        "            #Activation function is Relu. Feel free to experiment with this\n",
        "            x = F.relu(x)\n",
        "\n",
        "            #The second layer\n",
        "            x = self.fc2(x)\n",
        "            x = F.relu(x)\n",
        "\n",
        "            #This produces output\n",
        "            x = self.out(x)\n",
        "            x = F.sigmoid(x)\n",
        "\n",
        "            return x\n",
        "\n",
        "\n",
        "net = Net()\n"
      ],
      "execution_count": null,
      "outputs": []
    },
    {
      "cell_type": "code",
      "metadata": {
        "colab": {
          "base_uri": "https://localhost:8080/"
        },
        "id": "4ofmyd8PK3SH",
        "outputId": "581303b7-b0fe-4e11-db6b-d0957a81765f"
      },
      "source": [
        "net(x_ts[:3])"
      ],
      "execution_count": null,
      "outputs": [
        {
          "output_type": "execute_result",
          "data": {
            "text/plain": [
              "tensor([[0.4253],\n",
              "        [0.4253],\n",
              "        [0.4277]], grad_fn=<SigmoidBackward0>)"
            ]
          },
          "metadata": {},
          "execution_count": 10
        }
      ]
    },
    {
      "cell_type": "code",
      "metadata": {
        "colab": {
          "base_uri": "https://localhost:8080/"
        },
        "id": "SDLbbwDqKqMF",
        "outputId": "d130eee4-e198-480e-e801-f3877bac40fc"
      },
      "source": [
        "for name, param in net.named_parameters():\n",
        "    print(f\"Layer: {name} | Size: {param.size()} | Values : {param[:2]} \\n\")"
      ],
      "execution_count": null,
      "outputs": [
        {
          "output_type": "stream",
          "name": "stdout",
          "text": [
            "Layer: fc1.weight | Size: torch.Size([10, 2]) | Values : tensor([[-0.7057, -0.2549],\n",
            "        [ 0.6685,  0.1600]], grad_fn=<SliceBackward0>) \n",
            "\n",
            "Layer: fc1.bias | Size: torch.Size([10]) | Values : tensor([0.2624, 0.5769], grad_fn=<SliceBackward0>) \n",
            "\n",
            "Layer: fc2.weight | Size: torch.Size([4, 10]) | Values : tensor([[ 0.1915,  0.0676,  0.0951, -0.1305, -0.1631, -0.2188,  0.2727,  0.1421,\n",
            "          0.0932, -0.2049],\n",
            "        [ 0.0780, -0.1618,  0.0318, -0.1982, -0.0467, -0.1174,  0.2036, -0.0227,\n",
            "          0.2183,  0.2499]], grad_fn=<SliceBackward0>) \n",
            "\n",
            "Layer: fc2.bias | Size: torch.Size([4]) | Values : tensor([0.2287, 0.0394], grad_fn=<SliceBackward0>) \n",
            "\n",
            "Layer: out.weight | Size: torch.Size([1, 4]) | Values : tensor([[-0.3676, -0.2308,  0.4143, -0.3101]], grad_fn=<SliceBackward0>) \n",
            "\n",
            "Layer: out.bias | Size: torch.Size([1]) | Values : tensor([-0.0822], grad_fn=<SliceBackward0>) \n",
            "\n"
          ]
        }
      ]
    },
    {
      "cell_type": "markdown",
      "metadata": {
        "id": "td6mYc54Lcia"
      },
      "source": [
        "### Loss"
      ]
    },
    {
      "cell_type": "code",
      "metadata": {
        "id": "Vl3VfLOqLjfg"
      },
      "source": [
        "## Define a loss function: WE are using binary cross-entropy\n",
        "criterion = nn.BCELoss()"
      ],
      "execution_count": null,
      "outputs": []
    },
    {
      "cell_type": "markdown",
      "metadata": {
        "id": "0AncpbvZLfEZ"
      },
      "source": [
        "### Optimizer"
      ]
    },
    {
      "cell_type": "code",
      "metadata": {
        "id": "4CsIDhpMKpn0"
      },
      "source": [
        "# optim.SGD(model.parameters(), lr=lr)\n",
        "## Here I am using adam for optimizer\n",
        "optimizer = optim.Adam(net.parameters(), lr= lr , betas=(0.9, 0.999))"
      ],
      "execution_count": null,
      "outputs": []
    },
    {
      "cell_type": "code",
      "metadata": {
        "hidden": true,
        "id": "5FXcQ0hW8hsH"
      },
      "source": [
        "x_tr = torch.from_numpy(X_train).float()\n",
        "x_ts = torch.from_numpy(X_test).float()\n",
        "\n",
        "y_tr = torch.from_numpy(Y_train.reshape(-1,1)).float()\n",
        "y_ts = torch.from_numpy(Y_test.reshape(-1,1)).float()"
      ],
      "execution_count": null,
      "outputs": []
    },
    {
      "cell_type": "code",
      "metadata": {
        "colab": {
          "base_uri": "https://localhost:8080/"
        },
        "id": "VJKUeWpZES8z",
        "outputId": "d24e2ebe-c65f-441e-9bff-8cb184b516a1"
      },
      "source": [
        "y_tr.size()"
      ],
      "execution_count": null,
      "outputs": [
        {
          "output_type": "execute_result",
          "data": {
            "text/plain": [
              "torch.Size([7142, 1])"
            ]
          },
          "metadata": {},
          "execution_count": 15
        }
      ]
    },
    {
      "cell_type": "code",
      "metadata": {
        "hidden": true,
        "id": "KI1jhWpp8hsL",
        "colab": {
          "base_uri": "https://localhost:8080/",
          "height": 400
        },
        "outputId": "0323ca7f-9b04-4f81-bbb1-ca35668c3052"
      },
      "source": [
        "#We also need to keep track of the loss.\n",
        "losses = []\n",
        "\n",
        "for i in range(200):\n",
        "\n",
        "    #Precit the output for Given input\n",
        "    y_pred = net.forward(x_tr)\n",
        "\n",
        "    #Compute Cross entropy loss\n",
        "    loss = criterion( y_pred , y_tr)\n",
        "    losses += [loss.detach().numpy().copy()]\n",
        "\n",
        "\n",
        "    #Clear the previous gradients\n",
        "    optimizer.zero_grad()\n",
        "\n",
        "    #Compute gradients\n",
        "    loss.backward()\n",
        "\n",
        "    #Update the weights\n",
        "    optimizer.step()\n",
        "\n",
        "\n",
        "\n",
        "plt.plot(losses)"
      ],
      "execution_count": null,
      "outputs": [
        {
          "output_type": "execute_result",
          "data": {
            "text/plain": [
              "[<matplotlib.lines.Line2D at 0x7ef111b123e0>]"
            ]
          },
          "metadata": {},
          "execution_count": 16
        },
        {
          "output_type": "display_data",
          "data": {
            "text/plain": [
              "<Figure size 800x400 with 1 Axes>"
            ],
            "image/png": "[encoded data removed]"
          },
          "metadata": {}
        }
      ]
    },
    {
      "cell_type": "code",
      "metadata": {
        "hidden": true,
        "id": "iyZQzMPO8hsO",
        "colab": {
          "base_uri": "https://localhost:8080/",
          "height": 483
        },
        "outputId": "fac8ad4f-b5de-42e5-eeaf-1e81696894bf"
      },
      "source": [
        "#predictions of the model for test set\n",
        "y_predict = (net.forward(x_ts)>.5).numpy().astype(int)\n",
        "\n",
        "x1_list, x2_list = grid(X[:,0], X[:,1], n_points=70)\n",
        "X_grid = np.vstack([x1_list.reshape(-1),x2_list.reshape(-1)]).T\n",
        "Y_grid = net.forward( torch.from_numpy(X_grid).float() )\n",
        "Y_grid = Y_grid.detach().numpy().reshape(x1_list.shape )\n",
        "\n",
        "fig = plt.figure(figsize=(15,5))\n",
        "ax = fig.add_subplot(121 , xlabel = 'X1', ylabel='X2', title = 'Result of the Classification')\n",
        "\n",
        "ax.contourf(x1_list, x2_list, Y_grid, alpha=.4, cmap=plt.cm.coolwarm)\n",
        "ax.scatter(*X.T, c=Y)\n",
        "# ax.text(3, 1.4, f'Accuracy: {np.round( model.score(X_test.T, Y_test) , 3)}' , fontsize=20)\n",
        "\n",
        "ax = fig.add_subplot(122 , xlabel = 'X1', ylabel='X2', title = 'Predicitions of the NN')\n",
        "plt.scatter(*X_test.T, c = y_predict.reshape(-1))\n",
        "\n",
        "\n",
        "plt.tight_layout()\n",
        "plt.show()"
      ],
      "execution_count": null,
      "outputs": [
        {
          "output_type": "display_data",
          "data": {
            "text/plain": [
              "<Figure size 1500x500 with 2 Axes>"
            ],
            "image/png": "[encoded data removed]"
          },
          "metadata": {}
        }
      ]
    },
    {
      "cell_type": "markdown",
      "metadata": {
        "id": "8i5W417bNK-B"
      },
      "source": [
        "## Cleaned up"
      ]
    },
    {
      "cell_type": "code",
      "metadata": {
        "id": "K6XL0cscNN9G"
      },
      "source": [
        "import torch\n",
        "from torch import nn\n",
        "# from torch.utils.data import DataLoader\n"
      ],
      "execution_count": null,
      "outputs": []
    },
    {
      "cell_type": "markdown",
      "metadata": {
        "id": "Bg0eBkSPPEd8"
      },
      "source": [
        "### Data"
      ]
    },
    {
      "cell_type": "code",
      "metadata": {
        "id": "HsEHfRvUPV3h"
      },
      "source": [
        "x_tr = torch.from_numpy(X_train).float()\n",
        "x_ts = torch.from_numpy(X_test).float()\n",
        "\n",
        "y_tr = torch.from_numpy(Y_train.reshape(-1,1)).float()\n",
        "y_ts = torch.from_numpy(Y_test.reshape(-1,1)).float()"
      ],
      "execution_count": null,
      "outputs": []
    },
    {
      "cell_type": "code",
      "metadata": {
        "id": "YBBeD60TNW2T"
      },
      "source": [
        "## Training data\n",
        "training_dataset = torch.utils.data.TensorDataset(x_tr, y_tr)\n",
        "train_loader = torch.utils.data.DataLoader(training_dataset, batch_size=btch_size, shuffle=True)\n",
        "\n",
        "## Test data\n",
        "test_dataset = torch.utils.data.TensorDataset(x_ts, y_ts)\n",
        "test_loader = torch.utils.data.DataLoader(test_dataset, batch_size=btch_size, shuffle=True)"
      ],
      "execution_count": null,
      "outputs": []
    },
    {
      "cell_type": "markdown",
      "metadata": {
        "id": "JcUP1dAoRZ_T"
      },
      "source": [
        "### Hyper-parameters"
      ]
    },
    {
      "cell_type": "code",
      "metadata": {
        "id": "9TNt_YQfRdYr"
      },
      "source": [
        "n_epoch=30\n",
        "btch_size = 100\n",
        "lr = .2"
      ],
      "execution_count": null,
      "outputs": []
    },
    {
      "cell_type": "markdown",
      "metadata": {
        "id": "ZFhW0tIJPmiT"
      },
      "source": [
        "### Model definition"
      ]
    },
    {
      "cell_type": "code",
      "metadata": {
        "id": "O0Tmje5PPsyF"
      },
      "source": [
        "### This is slightly simplified compared to the earlier version.\n",
        "\n",
        "class Net(nn.Module):\n",
        "\n",
        "    def __init__(self):\n",
        "        super().__init__()\n",
        "        self.ff = nn.Sequential(\n",
        "            nn.Linear(2,10),\n",
        "            nn.ReLU(),\n",
        "            nn.Linear(10,5),\n",
        "            nn.ReLU(),\n",
        "            nn.Linear(5,1),\n",
        "            nn.Sigmoid()\n",
        "        )\n",
        "\n",
        "    def forward(self,x):\n",
        "            return self.ff(x)\n",
        "\n",
        "\n",
        "model = Net()"
      ],
      "execution_count": null,
      "outputs": []
    },
    {
      "cell_type": "code",
      "metadata": {
        "id": "1jp7ltuARhIP"
      },
      "source": [
        "### Loss\n",
        "criterion = nn.BCELoss()\n",
        "\n",
        "### Optimizer\n",
        "optimizer = torch.optim.SGD(model.parameters(), lr=lr)\n"
      ],
      "execution_count": null,
      "outputs": []
    },
    {
      "cell_type": "markdown",
      "metadata": {
        "id": "1d2gL6rNPqQl"
      },
      "source": [
        "### Training loops"
      ]
    },
    {
      "cell_type": "code",
      "metadata": {
        "id": "R2Vk5fA_R0E3"
      },
      "source": [
        "## https://pytorch.org/tutorials/beginner/basics/optimization_tutorial.html\n",
        "\n",
        "def train_loop(dataloader, model, criterion, optimizer):\n",
        "    size = len(dataloader.dataset)\n",
        "    for batch, (X, y) in enumerate(dataloader):\n",
        "        # print(batch)\n",
        "        # Compute prediction and loss\n",
        "        pred = model(X)\n",
        "        loss = criterion(pred, y)\n",
        "\n",
        "        # Backpropagation\n",
        "        optimizer.zero_grad()\n",
        "        loss.backward()\n",
        "        optimizer.step()\n",
        "\n",
        "        # if batch % 100 == 0:\n",
        "        #     loss, current = loss.item(), batch * len(X)\n",
        "        #     print(f\"loss: {loss:>7f}  [{current:>5d}/{size:>5d}]\")\n",
        "\n",
        "    print(f\"loss: {loss:>4f}\")\n",
        "    return loss.item()\n",
        "\n",
        "\n",
        "def test_loop(dataloader, model, criterion):\n",
        "    size = len(dataloader.dataset)\n",
        "    bat_num = len(dataloader)\n",
        "    test_loss, correct = 0, 0\n",
        "\n",
        "    with torch.no_grad():\n",
        "        for X, y in dataloader:\n",
        "            pred = model(X)\n",
        "            test_loss += criterion(pred, y).item()\n",
        "            correct += ( (pred>.5) == y).type(torch.float).sum().item()\n",
        "\n",
        "    test_loss /= bat_num\n",
        "    correct /= size\n",
        "\n",
        "    print(f\"Test Error: \\n Accuracy: {(100*correct):>0.1f}%, Avg loss: {test_loss:>8f} \\n\")\n",
        "\n",
        "    return [test_loss, correct]"
      ],
      "execution_count": null,
      "outputs": []
    },
    {
      "cell_type": "code",
      "metadata": {
        "colab": {
          "base_uri": "https://localhost:8080/"
        },
        "id": "xes7fZ5xUPdJ",
        "outputId": "5cbcb12c-7272-4e7a-a272-25bc867c05c3"
      },
      "source": [
        "train_loop(train_loader, model, criterion, optimizer)"
      ],
      "execution_count": null,
      "outputs": [
        {
          "output_type": "stream",
          "name": "stdout",
          "text": [
            "loss: 0.500992\n"
          ]
        },
        {
          "output_type": "execute_result",
          "data": {
            "text/plain": [
              "0.5009918212890625"
            ]
          },
          "metadata": {},
          "execution_count": 25
        }
      ]
    },
    {
      "cell_type": "code",
      "source": [
        "test_loop(train_loader, model, criterion)"
      ],
      "metadata": {
        "id": "ek5BFLXV_eK0",
        "outputId": "30326d75-c8c5-4294-f4a2-7a7f4659f1a7",
        "colab": {
          "base_uri": "https://localhost:8080/"
        }
      },
      "execution_count": null,
      "outputs": [
        {
          "output_type": "stream",
          "name": "stdout",
          "text": [
            "Test Error: \n",
            " Accuracy: 98.4%, Avg loss: 0.000672 \n",
            "\n"
          ]
        },
        {
          "output_type": "execute_result",
          "data": {
            "text/plain": [
              "[0.0006715044221710137, 0.9840380845701484]"
            ]
          },
          "metadata": {},
          "execution_count": 30
        }
      ]
    },
    {
      "cell_type": "code",
      "metadata": {
        "id": "odmS9x8rVLay",
        "colab": {
          "base_uri": "https://localhost:8080/"
        },
        "outputId": "260a0aad-c1c8-4196-f3ad-3344f7a91fad"
      },
      "source": [
        "print(net(x_ts[:5]))\n",
        "print(net(x_ts[:5])>.5)\n",
        "print(y_ts[:5])"
      ],
      "execution_count": null,
      "outputs": [
        {
          "output_type": "stream",
          "name": "stdout",
          "text": [
            "tensor([[3.7720e-04],\n",
            "        [2.4426e-03],\n",
            "        [3.8361e-07],\n",
            "        [1.3556e-04],\n",
            "        [4.2151e-07]], grad_fn=<SigmoidBackward0>)\n",
            "tensor([[False],\n",
            "        [False],\n",
            "        [False],\n",
            "        [False],\n",
            "        [False]])\n",
            "tensor([[0.],\n",
            "        [0.],\n",
            "        [0.],\n",
            "        [0.],\n",
            "        [0.]])\n"
          ]
        }
      ]
    },
    {
      "cell_type": "markdown",
      "metadata": {
        "id": "ExRuZUOKSUwK"
      },
      "source": [
        "#### Training"
      ]
    },
    {
      "cell_type": "code",
      "metadata": {
        "colab": {
          "base_uri": "https://localhost:8080/"
        },
        "id": "NJfHJ5SESUV9",
        "outputId": "b81ad68a-3822-4a31-d07a-ae7adc8ea0fa"
      },
      "source": [
        "training_hist = []\n",
        "test_hist = []\n",
        "\n",
        "for t in range(n_epoch):\n",
        "    print(f\"Epoch {t+1}\\n-------------------------------\")\n",
        "    training_hist += [train_loop(train_loader, model, criterion, optimizer)]\n",
        "    test_hist += [test_loop(test_loader, model, criterion)]\n",
        "print(\"Done!\")"
      ],
      "execution_count": null,
      "outputs": [
        {
          "output_type": "stream",
          "name": "stdout",
          "text": [
            "Epoch 1\n",
            "-------------------------------\n",
            "loss: 0.603772\n",
            "Test Error: \n",
            " Accuracy: 57.2%, Avg loss: 0.630277 \n",
            "\n",
            "Epoch 2\n",
            "-------------------------------\n",
            "loss: 0.394880\n",
            "Test Error: \n",
            " Accuracy: 67.1%, Avg loss: 0.473207 \n",
            "\n",
            "Epoch 3\n",
            "-------------------------------\n",
            "loss: 0.336456\n",
            "Test Error: \n",
            " Accuracy: 80.8%, Avg loss: 0.370043 \n",
            "\n",
            "Epoch 4\n",
            "-------------------------------\n",
            "loss: 0.267006\n",
            "Test Error: \n",
            " Accuracy: 89.3%, Avg loss: 0.308901 \n",
            "\n",
            "Epoch 5\n",
            "-------------------------------\n",
            "loss: 0.354433\n",
            "Test Error: \n",
            " Accuracy: 92.9%, Avg loss: 0.251871 \n",
            "\n",
            "Epoch 6\n",
            "-------------------------------\n",
            "loss: 0.251030\n",
            "Test Error: \n",
            " Accuracy: 95.5%, Avg loss: 0.194771 \n",
            "\n",
            "Epoch 7\n",
            "-------------------------------\n",
            "loss: 0.236993\n",
            "Test Error: \n",
            " Accuracy: 92.9%, Avg loss: 0.202348 \n",
            "\n",
            "Epoch 8\n",
            "-------------------------------\n",
            "loss: 0.103907\n",
            "Test Error: \n",
            " Accuracy: 97.2%, Avg loss: 0.134936 \n",
            "\n",
            "Epoch 9\n",
            "-------------------------------\n",
            "loss: 0.131455\n",
            "Test Error: \n",
            " Accuracy: 93.3%, Avg loss: 0.166616 \n",
            "\n",
            "Epoch 10\n",
            "-------------------------------\n",
            "loss: 0.239790\n",
            "Test Error: \n",
            " Accuracy: 96.5%, Avg loss: 0.159451 \n",
            "\n",
            "Epoch 11\n",
            "-------------------------------\n",
            "loss: 0.187784\n",
            "Test Error: \n",
            " Accuracy: 86.7%, Avg loss: 0.232475 \n",
            "\n",
            "Epoch 12\n",
            "-------------------------------\n",
            "loss: 0.128744\n",
            "Test Error: \n",
            " Accuracy: 93.4%, Avg loss: 0.152214 \n",
            "\n",
            "Epoch 13\n",
            "-------------------------------\n",
            "loss: 0.053807\n",
            "Test Error: \n",
            " Accuracy: 93.8%, Avg loss: 0.127782 \n",
            "\n",
            "Epoch 14\n",
            "-------------------------------\n",
            "loss: 0.120271\n",
            "Test Error: \n",
            " Accuracy: 94.8%, Avg loss: 0.129127 \n",
            "\n",
            "Epoch 15\n",
            "-------------------------------\n",
            "loss: 0.155248\n",
            "Test Error: \n",
            " Accuracy: 96.5%, Avg loss: 0.106237 \n",
            "\n",
            "Epoch 16\n",
            "-------------------------------\n",
            "loss: 0.131035\n",
            "Test Error: \n",
            " Accuracy: 95.6%, Avg loss: 0.100966 \n",
            "\n",
            "Epoch 17\n",
            "-------------------------------\n",
            "loss: 0.049468\n",
            "Test Error: \n",
            " Accuracy: 96.6%, Avg loss: 0.097642 \n",
            "\n",
            "Epoch 18\n",
            "-------------------------------\n",
            "loss: 0.137698\n",
            "Test Error: \n",
            " Accuracy: 87.7%, Avg loss: 0.287152 \n",
            "\n",
            "Epoch 19\n",
            "-------------------------------\n",
            "loss: 0.568841\n",
            "Test Error: \n",
            " Accuracy: 70.1%, Avg loss: 0.915379 \n",
            "\n",
            "Epoch 20\n",
            "-------------------------------\n",
            "loss: 0.034355\n",
            "Test Error: \n",
            " Accuracy: 96.9%, Avg loss: 0.086920 \n",
            "\n",
            "Epoch 21\n",
            "-------------------------------\n",
            "loss: 0.073875\n",
            "Test Error: \n",
            " Accuracy: 97.8%, Avg loss: 0.077104 \n",
            "\n",
            "Epoch 22\n",
            "-------------------------------\n",
            "loss: 0.211395\n",
            "Test Error: \n",
            " Accuracy: 98.3%, Avg loss: 0.078479 \n",
            "\n",
            "Epoch 23\n",
            "-------------------------------\n",
            "loss: 0.134402\n",
            "Test Error: \n",
            " Accuracy: 96.9%, Avg loss: 0.091070 \n",
            "\n",
            "Epoch 24\n",
            "-------------------------------\n",
            "loss: 0.036027\n",
            "Test Error: \n",
            " Accuracy: 96.9%, Avg loss: 0.097959 \n",
            "\n",
            "Epoch 25\n",
            "-------------------------------\n",
            "loss: 0.053773\n",
            "Test Error: \n",
            " Accuracy: 92.5%, Avg loss: 0.138986 \n",
            "\n",
            "Epoch 26\n",
            "-------------------------------\n",
            "loss: 0.037693\n",
            "Test Error: \n",
            " Accuracy: 98.3%, Avg loss: 0.070644 \n",
            "\n",
            "Epoch 27\n",
            "-------------------------------\n",
            "loss: 0.051907\n",
            "Test Error: \n",
            " Accuracy: 98.7%, Avg loss: 0.068010 \n",
            "\n",
            "Epoch 28\n",
            "-------------------------------\n",
            "loss: 0.100663\n",
            "Test Error: \n",
            " Accuracy: 98.2%, Avg loss: 0.073132 \n",
            "\n",
            "Epoch 29\n",
            "-------------------------------\n",
            "loss: 0.072597\n",
            "Test Error: \n",
            " Accuracy: 98.9%, Avg loss: 0.058854 \n",
            "\n",
            "Epoch 30\n",
            "-------------------------------\n",
            "loss: 0.086594\n",
            "Test Error: \n",
            " Accuracy: 96.9%, Avg loss: 0.092252 \n",
            "\n",
            "Done!\n"
          ]
        }
      ]
    },
    {
      "cell_type": "code",
      "metadata": {
        "colab": {
          "base_uri": "https://localhost:8080/",
          "height": 483
        },
        "id": "P9JWaf0dS0VN",
        "outputId": "98bb9a64-817d-4fdc-911e-925424085e4f"
      },
      "source": [
        "test_hist = np.array(test_hist)\n",
        "# Plot training & validation accuracy values\n",
        "fig = plt.figure(figsize=(14,5))\n",
        "ax = fig.add_subplot(1,2,1, title = 'Model accuracy', ylabel= 'Accuracy')\n",
        "plt.plot(test_hist[:, 1])\n",
        "\n",
        "# Plot training & validation loss values\n",
        "ax = fig.add_subplot(1,2,2, title = 'Model loss', ylabel= 'Loss')\n",
        "plt.plot(training_hist, label='Train')\n",
        "plt.plot(test_hist[:, 0], label='Test')\n",
        "plt.legend(['Train', 'Test'], loc='upper left')\n",
        "\n",
        "plt.tight_layout()\n",
        "plt.show()"
      ],
      "execution_count": null,
      "outputs": [
        {
          "output_type": "display_data",
          "data": {
            "text/plain": [
              "<Figure size 1400x500 with 2 Axes>"
            ],
            "image/png": "[encoded data removed]"
          },
          "metadata": {}
        }
      ]
    },
    {
      "cell_type": "markdown",
      "metadata": {
        "id": "BNUsUpNUPk29"
      },
      "source": [
        "### Saving the model"
      ]
    },
    {
      "cell_type": "code",
      "metadata": {
        "colab": {
          "base_uri": "https://localhost:8080/"
        },
        "id": "rwUon-BYhz6S",
        "outputId": "b4aba27a-aedf-41e5-b697-b11b383c9cfa"
      },
      "source": [
        "model.state_dict()"
      ],
      "execution_count": null,
      "outputs": [
        {
          "output_type": "execute_result",
          "data": {
            "text/plain": [
              "OrderedDict([('ff.0.weight', tensor([[-1.7718,  2.8725],\n",
              "                      [-0.3211,  5.2300],\n",
              "                      [-0.1238,  1.9523],\n",
              "                      [ 0.0214, -2.5374],\n",
              "                      [ 0.0242,  0.1639],\n",
              "                      [ 0.0889, -0.4075],\n",
              "                      [-0.3797,  0.1199],\n",
              "                      [-2.0353,  3.2918],\n",
              "                      [ 0.8367, -2.0164],\n",
              "                      [ 0.6650, -0.5875]])),\n",
              "             ('ff.0.bias',\n",
              "              tensor([-0.9996, -2.8283, -3.3462,  1.4771, -0.2787, -0.1589, -0.1040, -3.3360,\n",
              "                       1.0581, -0.2340])),\n",
              "             ('ff.2.weight',\n",
              "              tensor([[ 1.2031,  2.6075,  0.0152, -1.2793,  0.1337,  0.0489,  0.0509,  1.3055,\n",
              "                       -1.2230, -0.2791],\n",
              "                      [ 0.1710,  0.0853,  0.4144, -0.1954,  0.1961,  0.2977,  0.1959,  0.0578,\n",
              "                       -0.1882, -0.1833],\n",
              "                      [ 0.3048, -0.1462, -0.1378,  0.1012, -0.2514, -0.1625, -0.2702,  0.0105,\n",
              "                       -0.2521, -0.0277],\n",
              "                      [-0.0581, -0.7421, -1.3229,  0.3463, -0.1660,  0.1617,  0.0400, -0.8157,\n",
              "                       -0.4569, -0.5042],\n",
              "                      [-0.2737, -0.2380, -0.2154, -0.0561,  0.2274, -0.0664, -0.0490,  0.0192,\n",
              "                        0.0758, -0.3036]])),\n",
              "             ('ff.2.bias',\n",
              "              tensor([-1.6242, -0.3383, -0.2831,  2.2788,  0.0513])),\n",
              "             ('ff.4.weight',\n",
              "              tensor([[-3.0943,  0.4585,  0.3928,  1.9978, -0.1801]])),\n",
              "             ('ff.4.bias', tensor([0.2673]))])"
            ]
          },
          "metadata": {},
          "execution_count": 149
        }
      ]
    },
    {
      "cell_type": "code",
      "metadata": {
        "id": "lgVgBwvaDbOr"
      },
      "source": [
        "## Save the model\n",
        "# https://pytorch.org/docs/stable/notes/serialization.html\n",
        "\n",
        "PATH = 'test_model'\n",
        "torch.save(model.state_dict(), PATH)"
      ],
      "execution_count": null,
      "outputs": []
    },
    {
      "cell_type": "code",
      "metadata": {
        "colab": {
          "base_uri": "https://localhost:8080/"
        },
        "id": "n31qmKtXh32I",
        "outputId": "e87b036e-e04b-4f93-9562-c2a1e1a7c8dd"
      },
      "source": [
        "## Load a saved model\n",
        "nn_state_dict = torch.load('test_model')\n",
        "new_model = Net()\n",
        "new_model.load_state_dict(nn_state_dict)\n",
        "new_model(x_ts[:3])"
      ],
      "execution_count": null,
      "outputs": [
        {
          "output_type": "execute_result",
          "data": {
            "text/plain": [
              "tensor([[1.9749e-06],\n",
              "        [4.2271e-04],\n",
              "        [6.3663e-01]], grad_fn=<SigmoidBackward0>)"
            ]
          },
          "metadata": {},
          "execution_count": 151
        }
      ]
    },
    {
      "cell_type": "markdown",
      "metadata": {
        "heading_collapsed": true,
        "id": "Pw3EoyFJ8hsR"
      },
      "source": [
        "## Visualization"
      ]
    },
    {
      "cell_type": "code",
      "metadata": {
        "hidden": true,
        "id": "SdAiG5nC8hsS",
        "colab": {
          "base_uri": "https://localhost:8080/",
          "height": 1000
        },
        "outputId": "d9880521-027a-47f6-c804-115f0383f136"
      },
      "source": [
        "'''\n",
        "Later, we will use tensorboard for more visualization.\n",
        "'''\n",
        "# https://github.com/szagoruyko/pytorchviz\n",
        "!pip install torchviz\n",
        "from torchviz import make_dot\n",
        "\n",
        "\n",
        "y_predict = (net.forward(x_ts) )\n",
        "make_dot( y_predict.mean(),  params=dict(net.named_parameters() )  ,\n",
        "          # show_attrs=True, show_saved=True\n",
        "         )"
      ],
      "execution_count": null,
      "outputs": [
        {
          "output_type": "stream",
          "name": "stdout",
          "text": [
            "Collecting torchviz\n",
            "  Downloading torchviz-0.0.2.tar.gz (4.9 kB)\n",
            "Requirement already satisfied: torch in /usr/local/lib/python3.7/dist-packages (from torchviz) (1.10.0+cu111)\n",
            "Requirement already satisfied: graphviz in /usr/local/lib/python3.7/dist-packages (from torchviz) (0.10.1)\n",
            "Requirement already satisfied: typing-extensions in /usr/local/lib/python3.7/dist-packages (from torch->torchviz) (3.10.0.2)\n",
            "Building wheels for collected packages: torchviz\n",
            "  Building wheel for torchviz (setup.py) ... \u001b[?25l\u001b[?25hdone\n",
            "  Created wheel for torchviz: filename=torchviz-0.0.2-py3-none-any.whl size=4151 sha256=31f3e39220cd96aab2510a94a2b46e889fd931c51bbeeef664f9003301c9537f\n",
            "  Stored in directory: /root/.cache/pip/wheels/04/38/f5/dc4f85c3909051823df49901e72015d2d750bd26b086480ec2\n",
            "Successfully built torchviz\n",
            "Installing collected packages: torchviz\n",
            "Successfully installed torchviz-0.0.2\n"
          ]
        },
        {
          "output_type": "execute_result",
          "data": {
            "text/plain": [
              "<graphviz.dot.Digraph at 0x7f4646d69990>"
            ],
            "image/svg+xml": "<?xml version=\"1.0\" encoding=\"UTF-8\" standalone=\"no\"?>\n<!DOCTYPE svg PUBLIC \"-//W3C//DTD SVG 1.1//EN\"\n \"http://www.w3.org/Graphics/SVG/1.1/DTD/svg11.dtd\">\n<!-- Generated by graphviz version 2.40.1 (20161225.0304)\n -->\n<!-- Title: %3 Pages: 1 -->\n<svg width=\"412pt\" height=\"655pt\"\n viewBox=\"0.00 0.00 412.00 655.00\" xmlns=\"http://www.w3.org/2000/svg\" xmlns:xlink=\"http://www.w3.org/1999/xlink\">\n<g id=\"graph0\" class=\"graph\" transform=\"scale(1 1) rotate(0) translate(4 651)\">\n<title>%3</title>\n<polygon fill=\"#ffffff\" stroke=\"transparent\" points=\"-4,4 -4,-651 408,-651 408,4 -4,4\"/>\n<!-- 139939808483568 -->\n<g id=\"node1\" class=\"node\">\n<title>139939808483568</title>\n<polygon fill=\"#caff70\" stroke=\"#000000\" points=\"221.5,-31 167.5,-31 167.5,0 221.5,0 221.5,-31\"/>\n<text text-anchor=\"middle\" x=\"194.5\" y=\"-7\" font-family=\"monospace\" font-size=\"10.00\" fill=\"#000000\"> ()</text>\n</g>\n<!-- 139939812906768 -->\n<g id=\"node2\" class=\"node\">\n<title>139939812906768</title>\n<polygon fill=\"#d3d3d3\" stroke=\"#000000\" points=\"242,-86 147,-86 147,-67 242,-67 242,-86\"/>\n<text text-anchor=\"middle\" x=\"194.5\" y=\"-74\" font-family=\"monospace\" font-size=\"10.00\" fill=\"#000000\">MeanBackward0</text>\n</g>\n<!-- 139939812906768&#45;&gt;139939808483568 -->\n<g id=\"edge22\" class=\"edge\">\n<title>139939812906768&#45;&gt;139939808483568</title>\n<path fill=\"none\" stroke=\"#000000\" d=\"M194.5,-66.9688C194.5,-60.1289 194.5,-50.5621 194.5,-41.5298\"/>\n<polygon fill=\"#000000\" stroke=\"#000000\" points=\"198.0001,-41.3678 194.5,-31.3678 191.0001,-41.3678 198.0001,-41.3678\"/>\n</g>\n<!-- 139939812907920 -->\n<g id=\"node3\" class=\"node\">\n<title>139939812907920</title>\n<polygon fill=\"#d3d3d3\" stroke=\"#000000\" points=\"251,-141 138,-141 138,-122 251,-122 251,-141\"/>\n<text text-anchor=\"middle\" x=\"194.5\" y=\"-129\" font-family=\"monospace\" font-size=\"10.00\" fill=\"#000000\">SigmoidBackward0</text>\n</g>\n<!-- 139939812907920&#45;&gt;139939812906768 -->\n<g id=\"edge1\" class=\"edge\">\n<title>139939812907920&#45;&gt;139939812906768</title>\n<path fill=\"none\" stroke=\"#000000\" d=\"M194.5,-121.9197C194.5,-114.9083 194.5,-105.1442 194.5,-96.4652\"/>\n<polygon fill=\"#000000\" stroke=\"#000000\" points=\"198.0001,-96.3408 194.5,-86.3408 191.0001,-96.3409 198.0001,-96.3408\"/>\n</g>\n<!-- 139939812905552 -->\n<g id=\"node4\" class=\"node\">\n<title>139939812905552</title>\n<polygon fill=\"#d3d3d3\" stroke=\"#000000\" points=\"245,-196 144,-196 144,-177 245,-177 245,-196\"/>\n<text text-anchor=\"middle\" x=\"194.5\" y=\"-184\" font-family=\"monospace\" font-size=\"10.00\" fill=\"#000000\">AddmmBackward0</text>\n</g>\n<!-- 139939812905552&#45;&gt;139939812907920 -->\n<g id=\"edge2\" class=\"edge\">\n<title>139939812905552&#45;&gt;139939812907920</title>\n<path fill=\"none\" stroke=\"#000000\" d=\"M194.5,-176.9197C194.5,-169.9083 194.5,-160.1442 194.5,-151.4652\"/>\n<polygon fill=\"#000000\" stroke=\"#000000\" points=\"198.0001,-151.3408 194.5,-141.3408 191.0001,-151.3409 198.0001,-151.3408\"/>\n</g>\n<!-- 139939812906256 -->\n<g id=\"node5\" class=\"node\">\n<title>139939812906256</title>\n<polygon fill=\"#d3d3d3\" stroke=\"#000000\" points=\"129,-251 28,-251 28,-232 129,-232 129,-251\"/>\n<text text-anchor=\"middle\" x=\"78.5\" y=\"-239\" font-family=\"monospace\" font-size=\"10.00\" fill=\"#000000\">AccumulateGrad</text>\n</g>\n<!-- 139939812906256&#45;&gt;139939812905552 -->\n<g id=\"edge3\" class=\"edge\">\n<title>139939812906256&#45;&gt;139939812905552</title>\n<path fill=\"none\" stroke=\"#000000\" d=\"M98.7057,-231.9197C116.9737,-223.2581 144.1018,-210.3957 164.8304,-200.5675\"/>\n<polygon fill=\"#000000\" stroke=\"#000000\" points=\"166.6004,-203.6018 174.1367,-196.155 163.6014,-197.2768 166.6004,-203.6018\"/>\n</g>\n<!-- 139939811175408 -->\n<g id=\"node6\" class=\"node\">\n<title>139939811175408</title>\n<polygon fill=\"#add8e6\" stroke=\"#000000\" points=\"111,-317 46,-317 46,-287 111,-287 111,-317\"/>\n<text text-anchor=\"middle\" x=\"78.5\" y=\"-305\" font-family=\"monospace\" font-size=\"10.00\" fill=\"#000000\">out.bias</text>\n<text text-anchor=\"middle\" x=\"78.5\" y=\"-294\" font-family=\"monospace\" font-size=\"10.00\" fill=\"#000000\"> (1)</text>\n</g>\n<!-- 139939811175408&#45;&gt;139939812906256 -->\n<g id=\"edge4\" class=\"edge\">\n<title>139939811175408&#45;&gt;139939812906256</title>\n<path fill=\"none\" stroke=\"#000000\" d=\"M78.5,-286.7333C78.5,-279.0322 78.5,-269.5977 78.5,-261.3414\"/>\n<polygon fill=\"#000000\" stroke=\"#000000\" points=\"82.0001,-261.0864 78.5,-251.0864 75.0001,-261.0864 82.0001,-261.0864\"/>\n</g>\n<!-- 139939812905808 -->\n<g id=\"node7\" class=\"node\">\n<title>139939812905808</title>\n<polygon fill=\"#d3d3d3\" stroke=\"#000000\" points=\"242,-251 147,-251 147,-232 242,-232 242,-251\"/>\n<text text-anchor=\"middle\" x=\"194.5\" y=\"-239\" font-family=\"monospace\" font-size=\"10.00\" fill=\"#000000\">ReluBackward0</text>\n</g>\n<!-- 139939812905808&#45;&gt;139939812905552 -->\n<g id=\"edge5\" class=\"edge\">\n<title>139939812905808&#45;&gt;139939812905552</title>\n<path fill=\"none\" stroke=\"#000000\" d=\"M194.5,-231.9197C194.5,-224.9083 194.5,-215.1442 194.5,-206.4652\"/>\n<polygon fill=\"#000000\" stroke=\"#000000\" points=\"198.0001,-206.3408 194.5,-196.3408 191.0001,-206.3409 198.0001,-206.3408\"/>\n</g>\n<!-- 139939812907472 -->\n<g id=\"node8\" class=\"node\">\n<title>139939812907472</title>\n<polygon fill=\"#d3d3d3\" stroke=\"#000000\" points=\"237,-311.5 136,-311.5 136,-292.5 237,-292.5 237,-311.5\"/>\n<text text-anchor=\"middle\" x=\"186.5\" y=\"-299.5\" font-family=\"monospace\" font-size=\"10.00\" fill=\"#000000\">AddmmBackward0</text>\n</g>\n<!-- 139939812907472&#45;&gt;139939812905808 -->\n<g id=\"edge6\" class=\"edge\">\n<title>139939812907472&#45;&gt;139939812905808</title>\n<path fill=\"none\" stroke=\"#000000\" d=\"M187.7853,-292.2796C188.8752,-284.0376 190.4741,-271.9457 191.8383,-261.629\"/>\n<polygon fill=\"#000000\" stroke=\"#000000\" points=\"195.3501,-261.7698 193.1913,-251.3972 188.4105,-260.8521 195.3501,-261.7698\"/>\n</g>\n<!-- 139939812907152 -->\n<g id=\"node9\" class=\"node\">\n<title>139939812907152</title>\n<polygon fill=\"#d3d3d3\" stroke=\"#000000\" points=\"101,-377.5 0,-377.5 0,-358.5 101,-358.5 101,-377.5\"/>\n<text text-anchor=\"middle\" x=\"50.5\" y=\"-365.5\" font-family=\"monospace\" font-size=\"10.00\" fill=\"#000000\">AccumulateGrad</text>\n</g>\n<!-- 139939812907152&#45;&gt;139939812907472 -->\n<g id=\"edge7\" class=\"edge\">\n<title>139939812907152&#45;&gt;139939812907472</title>\n<path fill=\"none\" stroke=\"#000000\" d=\"M70.2756,-358.403C93.24,-347.2585 131.3225,-328.7773 157.6024,-316.0238\"/>\n<polygon fill=\"#000000\" stroke=\"#000000\" points=\"159.2321,-319.1234 166.7006,-311.6085 156.1759,-312.8258 159.2321,-319.1234\"/>\n</g>\n<!-- 139939811175792 -->\n<g id=\"node10\" class=\"node\">\n<title>139939811175792</title>\n<polygon fill=\"#add8e6\" stroke=\"#000000\" points=\"83,-449 18,-449 18,-419 83,-419 83,-449\"/>\n<text text-anchor=\"middle\" x=\"50.5\" y=\"-437\" font-family=\"monospace\" font-size=\"10.00\" fill=\"#000000\">fc2.bias</text>\n<text text-anchor=\"middle\" x=\"50.5\" y=\"-426\" font-family=\"monospace\" font-size=\"10.00\" fill=\"#000000\"> (4)</text>\n</g>\n<!-- 139939811175792&#45;&gt;139939812907152 -->\n<g id=\"edge8\" class=\"edge\">\n<title>139939811175792&#45;&gt;139939812907152</title>\n<path fill=\"none\" stroke=\"#000000\" d=\"M50.5,-418.6924C50.5,-409.5067 50.5,-397.7245 50.5,-387.8312\"/>\n<polygon fill=\"#000000\" stroke=\"#000000\" points=\"54.0001,-387.703 50.5,-377.7031 47.0001,-387.7031 54.0001,-387.703\"/>\n</g>\n<!-- 139939812905040 -->\n<g id=\"node11\" class=\"node\">\n<title>139939812905040</title>\n<polygon fill=\"#d3d3d3\" stroke=\"#000000\" points=\"214,-377.5 119,-377.5 119,-358.5 214,-358.5 214,-377.5\"/>\n<text text-anchor=\"middle\" x=\"166.5\" y=\"-365.5\" font-family=\"monospace\" font-size=\"10.00\" fill=\"#000000\">ReluBackward0</text>\n</g>\n<!-- 139939812905040&#45;&gt;139939812907472 -->\n<g id=\"edge9\" class=\"edge\">\n<title>139939812905040&#45;&gt;139939812907472</title>\n<path fill=\"none\" stroke=\"#000000\" d=\"M169.4511,-358.2615C172.3757,-348.6102 176.937,-333.558 180.6059,-321.4506\"/>\n<polygon fill=\"#000000\" stroke=\"#000000\" points=\"183.9863,-322.3638 183.5368,-311.7785 177.2871,-320.3337 183.9863,-322.3638\"/>\n</g>\n<!-- 139939812905616 -->\n<g id=\"node12\" class=\"node\">\n<title>139939812905616</title>\n<polygon fill=\"#d3d3d3\" stroke=\"#000000\" points=\"209,-443.5 108,-443.5 108,-424.5 209,-424.5 209,-443.5\"/>\n<text text-anchor=\"middle\" x=\"158.5\" y=\"-431.5\" font-family=\"monospace\" font-size=\"10.00\" fill=\"#000000\">AddmmBackward0</text>\n</g>\n<!-- 139939812905616&#45;&gt;139939812905040 -->\n<g id=\"edge10\" class=\"edge\">\n<title>139939812905616&#45;&gt;139939812905040</title>\n<path fill=\"none\" stroke=\"#000000\" d=\"M159.6804,-424.2615C160.8385,-414.7077 162.638,-399.8615 164.0978,-387.8183\"/>\n<polygon fill=\"#000000\" stroke=\"#000000\" points=\"167.5859,-388.127 165.3147,-377.7785 160.6368,-387.2846 167.5859,-388.127\"/>\n</g>\n<!-- 139939812908624 -->\n<g id=\"node13\" class=\"node\">\n<title>139939812908624</title>\n<polygon fill=\"#d3d3d3\" stroke=\"#000000\" points=\"114,-509.5 13,-509.5 13,-490.5 114,-490.5 114,-509.5\"/>\n<text text-anchor=\"middle\" x=\"63.5\" y=\"-497.5\" font-family=\"monospace\" font-size=\"10.00\" fill=\"#000000\">AccumulateGrad</text>\n</g>\n<!-- 139939812908624&#45;&gt;139939812905616 -->\n<g id=\"edge11\" class=\"edge\">\n<title>139939812908624&#45;&gt;139939812905616</title>\n<path fill=\"none\" stroke=\"#000000\" d=\"M77.5176,-490.2615C93.0418,-479.4762 118.2743,-461.9463 136.4509,-449.3183\"/>\n<polygon fill=\"#000000\" stroke=\"#000000\" points=\"138.5182,-452.1439 144.7338,-443.5639 134.5242,-446.3951 138.5182,-452.1439\"/>\n</g>\n<!-- 139939811175216 -->\n<g id=\"node14\" class=\"node\">\n<title>139939811175216</title>\n<polygon fill=\"#add8e6\" stroke=\"#000000\" points=\"96,-581 31,-581 31,-551 96,-551 96,-581\"/>\n<text text-anchor=\"middle\" x=\"63.5\" y=\"-569\" font-family=\"monospace\" font-size=\"10.00\" fill=\"#000000\">fc1.bias</text>\n<text text-anchor=\"middle\" x=\"63.5\" y=\"-558\" font-family=\"monospace\" font-size=\"10.00\" fill=\"#000000\"> (10)</text>\n</g>\n<!-- 139939811175216&#45;&gt;139939812908624 -->\n<g id=\"edge12\" class=\"edge\">\n<title>139939811175216&#45;&gt;139939812908624</title>\n<path fill=\"none\" stroke=\"#000000\" d=\"M63.5,-550.6924C63.5,-541.5067 63.5,-529.7245 63.5,-519.8312\"/>\n<polygon fill=\"#000000\" stroke=\"#000000\" points=\"67.0001,-519.703 63.5,-509.7031 60.0001,-519.7031 67.0001,-519.703\"/>\n</g>\n<!-- 139939812906192 -->\n<g id=\"node15\" class=\"node\">\n<title>139939812906192</title>\n<polygon fill=\"#d3d3d3\" stroke=\"#000000\" points=\"209,-509.5 132,-509.5 132,-490.5 209,-490.5 209,-509.5\"/>\n<text text-anchor=\"middle\" x=\"170.5\" y=\"-497.5\" font-family=\"monospace\" font-size=\"10.00\" fill=\"#000000\">TBackward0</text>\n</g>\n<!-- 139939812906192&#45;&gt;139939812905616 -->\n<g id=\"edge13\" class=\"edge\">\n<title>139939812906192&#45;&gt;139939812905616</title>\n<path fill=\"none\" stroke=\"#000000\" d=\"M168.7294,-490.2615C166.9923,-480.7077 164.293,-465.8615 162.1033,-453.8183\"/>\n<polygon fill=\"#000000\" stroke=\"#000000\" points=\"165.5104,-452.9911 160.2779,-443.7785 158.6233,-454.2433 165.5104,-452.9911\"/>\n</g>\n<!-- 139939812907728 -->\n<g id=\"node16\" class=\"node\">\n<title>139939812907728</title>\n<polygon fill=\"#d3d3d3\" stroke=\"#000000\" points=\"221,-575.5 120,-575.5 120,-556.5 221,-556.5 221,-575.5\"/>\n<text text-anchor=\"middle\" x=\"170.5\" y=\"-563.5\" font-family=\"monospace\" font-size=\"10.00\" fill=\"#000000\">AccumulateGrad</text>\n</g>\n<!-- 139939812907728&#45;&gt;139939812906192 -->\n<g id=\"edge14\" class=\"edge\">\n<title>139939812907728&#45;&gt;139939812906192</title>\n<path fill=\"none\" stroke=\"#000000\" d=\"M170.5,-556.2615C170.5,-546.7077 170.5,-531.8615 170.5,-519.8183\"/>\n<polygon fill=\"#000000\" stroke=\"#000000\" points=\"174.0001,-519.7784 170.5,-509.7785 167.0001,-519.7785 174.0001,-519.7784\"/>\n</g>\n<!-- 139939811175504 -->\n<g id=\"node17\" class=\"node\">\n<title>139939811175504</title>\n<polygon fill=\"#add8e6\" stroke=\"#000000\" points=\"209,-647 132,-647 132,-617 209,-617 209,-647\"/>\n<text text-anchor=\"middle\" x=\"170.5\" y=\"-635\" font-family=\"monospace\" font-size=\"10.00\" fill=\"#000000\">fc1.weight</text>\n<text text-anchor=\"middle\" x=\"170.5\" y=\"-624\" font-family=\"monospace\" font-size=\"10.00\" fill=\"#000000\"> (10, 2)</text>\n</g>\n<!-- 139939811175504&#45;&gt;139939812907728 -->\n<g id=\"edge15\" class=\"edge\">\n<title>139939811175504&#45;&gt;139939812907728</title>\n<path fill=\"none\" stroke=\"#000000\" d=\"M170.5,-616.6924C170.5,-607.5067 170.5,-595.7245 170.5,-585.8312\"/>\n<polygon fill=\"#000000\" stroke=\"#000000\" points=\"174.0001,-585.703 170.5,-575.7031 167.0001,-585.7031 174.0001,-585.703\"/>\n</g>\n<!-- 139939812905232 -->\n<g id=\"node18\" class=\"node\">\n<title>139939812905232</title>\n<polygon fill=\"#d3d3d3\" stroke=\"#000000\" points=\"309,-377.5 232,-377.5 232,-358.5 309,-358.5 309,-377.5\"/>\n<text text-anchor=\"middle\" x=\"270.5\" y=\"-365.5\" font-family=\"monospace\" font-size=\"10.00\" fill=\"#000000\">TBackward0</text>\n</g>\n<!-- 139939812905232&#45;&gt;139939812907472 -->\n<g id=\"edge16\" class=\"edge\">\n<title>139939812905232&#45;&gt;139939812907472</title>\n<path fill=\"none\" stroke=\"#000000\" d=\"M258.1055,-358.2615C244.6284,-347.6723 222.8765,-330.5815 206.8788,-318.0119\"/>\n<polygon fill=\"#000000\" stroke=\"#000000\" points=\"208.6978,-314.99 198.6722,-311.5639 204.3731,-320.4943 208.6978,-314.99\"/>\n</g>\n<!-- 139939812908240 -->\n<g id=\"node19\" class=\"node\">\n<title>139939812908240</title>\n<polygon fill=\"#d3d3d3\" stroke=\"#000000\" points=\"328,-443.5 227,-443.5 227,-424.5 328,-424.5 328,-443.5\"/>\n<text text-anchor=\"middle\" x=\"277.5\" y=\"-431.5\" font-family=\"monospace\" font-size=\"10.00\" fill=\"#000000\">AccumulateGrad</text>\n</g>\n<!-- 139939812908240&#45;&gt;139939812905232 -->\n<g id=\"edge17\" class=\"edge\">\n<title>139939812908240&#45;&gt;139939812905232</title>\n<path fill=\"none\" stroke=\"#000000\" d=\"M276.4671,-424.2615C275.4538,-414.7077 273.8793,-399.8615 272.6019,-387.8183\"/>\n<polygon fill=\"#000000\" stroke=\"#000000\" points=\"276.0724,-387.3535 271.5371,-377.7785 269.1114,-388.0919 276.0724,-387.3535\"/>\n</g>\n<!-- 139939811175888 -->\n<g id=\"node20\" class=\"node\">\n<title>139939811175888</title>\n<polygon fill=\"#add8e6\" stroke=\"#000000\" points=\"316,-515 239,-515 239,-485 316,-485 316,-515\"/>\n<text text-anchor=\"middle\" x=\"277.5\" y=\"-503\" font-family=\"monospace\" font-size=\"10.00\" fill=\"#000000\">fc2.weight</text>\n<text text-anchor=\"middle\" x=\"277.5\" y=\"-492\" font-family=\"monospace\" font-size=\"10.00\" fill=\"#000000\"> (4, 10)</text>\n</g>\n<!-- 139939811175888&#45;&gt;139939812908240 -->\n<g id=\"edge18\" class=\"edge\">\n<title>139939811175888&#45;&gt;139939812908240</title>\n<path fill=\"none\" stroke=\"#000000\" d=\"M277.5,-484.6924C277.5,-475.5067 277.5,-463.7245 277.5,-453.8312\"/>\n<polygon fill=\"#000000\" stroke=\"#000000\" points=\"281.0001,-453.703 277.5,-443.7031 274.0001,-453.7031 281.0001,-453.703\"/>\n</g>\n<!-- 139939812905424 -->\n<g id=\"node21\" class=\"node\">\n<title>139939812905424</title>\n<polygon fill=\"#d3d3d3\" stroke=\"#000000\" points=\"360,-251 283,-251 283,-232 360,-232 360,-251\"/>\n<text text-anchor=\"middle\" x=\"321.5\" y=\"-239\" font-family=\"monospace\" font-size=\"10.00\" fill=\"#000000\">TBackward0</text>\n</g>\n<!-- 139939812905424&#45;&gt;139939812905552 -->\n<g id=\"edge19\" class=\"edge\">\n<title>139939812905424&#45;&gt;139939812905552</title>\n<path fill=\"none\" stroke=\"#000000\" d=\"M299.3783,-231.9197C279.1064,-223.1406 248.8692,-210.0457 226.0628,-200.1689\"/>\n<polygon fill=\"#000000\" stroke=\"#000000\" points=\"227.3617,-196.9174 216.7943,-196.155 224.5798,-203.3409 227.3617,-196.9174\"/>\n</g>\n<!-- 139939812908048 -->\n<g id=\"node22\" class=\"node\">\n<title>139939812908048</title>\n<polygon fill=\"#d3d3d3\" stroke=\"#000000\" points=\"396,-311.5 295,-311.5 295,-292.5 396,-292.5 396,-311.5\"/>\n<text text-anchor=\"middle\" x=\"345.5\" y=\"-299.5\" font-family=\"monospace\" font-size=\"10.00\" fill=\"#000000\">AccumulateGrad</text>\n</g>\n<!-- 139939812908048&#45;&gt;139939812905424 -->\n<g id=\"edge20\" class=\"edge\">\n<title>139939812908048&#45;&gt;139939812905424</title>\n<path fill=\"none\" stroke=\"#000000\" d=\"M341.644,-292.2796C338.3049,-283.8623 333.3728,-271.4295 329.2248,-260.973\"/>\n<polygon fill=\"#000000\" stroke=\"#000000\" points=\"332.367,-259.402 325.4262,-251.3972 325.8603,-261.9832 332.367,-259.402\"/>\n</g>\n<!-- 139939811175600 -->\n<g id=\"node23\" class=\"node\">\n<title>139939811175600</title>\n<polygon fill=\"#add8e6\" stroke=\"#000000\" points=\"404,-383 327,-383 327,-353 404,-353 404,-383\"/>\n<text text-anchor=\"middle\" x=\"365.5\" y=\"-371\" font-family=\"monospace\" font-size=\"10.00\" fill=\"#000000\">out.weight</text>\n<text text-anchor=\"middle\" x=\"365.5\" y=\"-360\" font-family=\"monospace\" font-size=\"10.00\" fill=\"#000000\"> (1, 4)</text>\n</g>\n<!-- 139939811175600&#45;&gt;139939812908048 -->\n<g id=\"edge21\" class=\"edge\">\n<title>139939811175600&#45;&gt;139939812908048</title>\n<path fill=\"none\" stroke=\"#000000\" d=\"M360.8613,-352.6924C358.0479,-343.408 354.4305,-331.4708 351.4129,-321.5127\"/>\n<polygon fill=\"#000000\" stroke=\"#000000\" points=\"354.6901,-320.2583 348.4403,-311.7031 347.9909,-322.2884 354.6901,-320.2583\"/>\n</g>\n</g>\n</svg>\n"
          },
          "metadata": {},
          "execution_count": 152
        }
      ]
    },
    {
      "cell_type": "markdown",
      "metadata": {
        "heading_collapsed": true,
        "id": "vPUjDX8ABoGc"
      },
      "source": [
        "## Data: Farsi Hand-written digits classification"
      ]
    },
    {
      "cell_type": "code",
      "metadata": {
        "ExecuteTime": {
          "end_time": "2020-05-05T11:49:24.322716Z",
          "start_time": "2020-05-05T11:49:19.069265Z"
        },
        "hidden": true,
        "id": "FE54NJdSXplU",
        "init_cell": true
      },
      "source": [
        "url = 'https://raw.githubusercontent.com/sraeisi/MachineLearning_Physics/master/Data/Farsi_digits_X.npz'\n",
        "s=requests.get(url, stream=True).content\n",
        "X = np.load(io.BytesIO(s) )['arr_0']\n",
        "url = 'https://raw.githubusercontent.com/sraeisi/MachineLearning_Physics/master/Data/Farsi_digits_Y.npz'\n",
        "s=requests.get(url, stream=True).content\n",
        "Y = np.load(io.BytesIO(s) )['arr_0']\n",
        "\n",
        "# X = np.load('X.npz')['arr_0']\n",
        "# Y = np.load('Y.npz')['arr_0']\n",
        "\n",
        "\n",
        "from sklearn.utils import shuffle\n",
        "X, Y = shuffle(X,Y, random_state = 0 )"
      ],
      "execution_count": null,
      "outputs": []
    },
    {
      "cell_type": "code",
      "metadata": {
        "ExecuteTime": {
          "end_time": "2020-05-04T16:42:36.764489Z",
          "start_time": "2020-05-04T16:42:36.756468Z"
        },
        "hidden": true,
        "id": "ldLimT4BXqVg",
        "colab": {
          "base_uri": "https://localhost:8080/"
        },
        "outputId": "3fe14ab4-dccc-43eb-b35d-7498973475b0"
      },
      "source": [
        "print('Each image is of the form: {}'.format(X[0].shape ) )"
      ],
      "execution_count": null,
      "outputs": [
        {
          "output_type": "stream",
          "name": "stdout",
          "text": [
            "Each image is of the form: (32, 32)\n"
          ]
        }
      ]
    },
    {
      "cell_type": "code",
      "metadata": {
        "id": "_C1Tbx0MDMZM",
        "colab": {
          "base_uri": "https://localhost:8080/",
          "height": 293
        },
        "outputId": "362c9d9d-2a18-4b1b-9e3a-6a68a9af3961"
      },
      "source": [
        "plt.imshow(X[270])\n",
        "X.reshape(-1, 32*32).shape\n",
        "Y[270]"
      ],
      "execution_count": null,
      "outputs": [
        {
          "output_type": "execute_result",
          "data": {
            "text/plain": [
              "8"
            ]
          },
          "metadata": {},
          "execution_count": 155
        },
        {
          "output_type": "display_data",
          "data": {
            "image/png": "[encoded data removed]",
            "text/plain": [
              "<Figure size 432x288 with 1 Axes>"
            ]
          },
          "metadata": {
            "needs_background": "light"
          }
        }
      ]
    },
    {
      "cell_type": "code",
      "metadata": {
        "ExecuteTime": {
          "end_time": "2020-05-05T11:49:31.463454Z",
          "start_time": "2020-05-05T11:49:30.652380Z"
        },
        "hidden": true,
        "id": "FyNX5FJRXx9V",
        "init_cell": true
      },
      "source": [
        "from sklearn.model_selection import train_test_split\n",
        "from sklearn.metrics import confusion_matrix\n",
        "\n",
        "X_train, X_test, Y_train, Y_test = train_test_split(X, Y, random_state=0)"
      ],
      "execution_count": null,
      "outputs": []
    },
    {
      "cell_type": "code",
      "metadata": {
        "id": "I2BXL0g-SQIQ"
      },
      "source": [],
      "execution_count": null,
      "outputs": []
    }
  ]
}