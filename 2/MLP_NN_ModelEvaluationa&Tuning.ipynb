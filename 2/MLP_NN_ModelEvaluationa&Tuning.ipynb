{
  "nbformat": 4,
  "nbformat_minor": 0,
  "metadata": {
    "accelerator": "GPU",
    "celltoolbar": "Initialization Cell",
    "colab": {
      "name": "NN_ModelEvaluationa&Tuning.ipynb",
      "provenance": [],
      "collapsed_sections": [
        "yXnhZYfU6NLv",
        "58SHJ2C26NMA"
      ],
      "machine_shape": "hm",
      "include_colab_link": true
    },
    "kernelspec": {
      "display_name": "Python 3",
      "language": "python",
      "name": "python3"
    },
    "language_info": {
      "codemirror_mode": {
        "name": "ipython",
        "version": 3
      },
      "file_extension": ".py",
      "mimetype": "text/x-python",
      "name": "python",
      "nbconvert_exporter": "python",
      "pygments_lexer": "ipython3",
      "version": "3.6.10"
    },
    "latex_envs": {
      "LaTeX_envs_menu_present": true,
      "autoclose": false,
      "autocomplete": true,
      "bibliofile": "biblio.bib",
      "cite_by": "apalike",
      "current_citInitial": 1,
      "eqLabelWithNumbers": true,
      "eqNumInitial": 1,
      "hotkeys": {
        "equation": "Ctrl-E",
        "itemize": "Ctrl-I"
      },
      "labels_anchors": false,
      "latex_user_defs": false,
      "report_style_numbering": false,
      "user_envs_cfg": false
    },
    "toc": {
      "base_numbering": 1,
      "nav_menu": {},
      "number_sections": true,
      "sideBar": true,
      "skip_h1_title": false,
      "title_cell": "Table of Contents",
      "title_sidebar": "Contents",
      "toc_cell": false,
      "toc_position": {},
      "toc_section_display": true,
      "toc_window_display": false
    },
    "varInspector": {
      "cols": {
        "lenName": 16,
        "lenType": 16,
        "lenVar": 40
      },
      "kernels_config": {
        "python": {
          "delete_cmd_postfix": "",
          "delete_cmd_prefix": "del ",
          "library": "var_list.py",
          "varRefreshCmd": "print(var_dic_list())"
        },
        "r": {
          "delete_cmd_postfix": ") ",
          "delete_cmd_prefix": "rm(",
          "library": "var_list.r",
          "varRefreshCmd": "cat(var_dic_list()) "
        }
      },
      "types_to_exclude": [
        "module",
        "function",
        "builtin_function_or_method",
        "instance",
        "_Feature"
      ],
      "window_display": false
    }
  },
  "cells": [
    {
      "cell_type": "markdown",
      "metadata": {
        "id": "view-in-github",
        "colab_type": "text"
      },
      "source": [
        "<a href=\"https://colab.research.google.com/github/sraeisi/MachineLearning_Physics/blob/master/2/MLP_NN_ModelEvaluationa%26Tuning.ipynb\" target=\"_parent\"><img src=\"https://colab.research.google.com/assets/colab-badge.svg\" alt=\"Open In Colab\"/></a>"
      ]
    },
    {
      "cell_type": "code",
      "metadata": {
        "ExecuteTime": {
          "end_time": "2020-05-05T11:47:38.231635Z",
          "start_time": "2020-05-05T11:47:25.164920Z"
        },
        "id": "XyaKzVDuXLmF",
        "init_cell": true
      },
      "source": [
        "import numpy as np\n",
        "import matplotlib.pyplot as plt\n",
        "\n",
        "from matplotlib import style\n",
        "plt.style.use('seaborn-v0_8-talk')\n",
        "\n",
        "import warnings\n",
        "warnings.filterwarnings('ignore')\n",
        "\n",
        "import tensorflow as tf\n",
        "from tensorflow import keras\n",
        "\n",
        "import requests\n",
        "import io\n",
        "\n",
        "from matplotlib import rcParams\n",
        "# rcParams['figure.figsize'] = 15,7\n",
        "plt.rc('figure', figsize=(12,7) )         # Image size\n"
      ],
      "execution_count": 1,
      "outputs": []
    },
    {
      "cell_type": "markdown",
      "metadata": {
        "heading_collapsed": true,
        "id": "yXnhZYfU6NLv"
      },
      "source": [
        "## GPU"
      ]
    },
    {
      "cell_type": "code",
      "metadata": {
        "ExecuteTime": {
          "end_time": "2020-05-05T11:47:40.404656Z",
          "start_time": "2020-05-05T11:47:38.235617Z"
        },
        "hidden": true,
        "id": "8pwuzWub6NLw",
        "init_cell": true,
        "colab": {
          "base_uri": "https://localhost:8080/"
        },
        "outputId": "3466e37c-bf58-447b-f382-f0f25ad8e60c"
      },
      "source": [
        "print(\"Num GPUs Available: \", len(tf.config.experimental.list_physical_devices('GPU')))"
      ],
      "execution_count": 2,
      "outputs": [
        {
          "output_type": "stream",
          "name": "stdout",
          "text": [
            "Num GPUs Available:  1\n"
          ]
        }
      ]
    },
    {
      "cell_type": "code",
      "metadata": {
        "id": "LIbGP_w7hA4X",
        "colab": {
          "base_uri": "https://localhost:8080/"
        },
        "outputId": "9e359b8f-f639-4995-f98e-4768ced43796"
      },
      "source": [
        "!nvidia-smi"
      ],
      "execution_count": 3,
      "outputs": [
        {
          "output_type": "stream",
          "name": "stdout",
          "text": [
            "Tue May 13 07:40:51 2025       \n",
            "+-----------------------------------------------------------------------------------------+\n",
            "| NVIDIA-SMI 550.54.15              Driver Version: 550.54.15      CUDA Version: 12.4     |\n",
            "|-----------------------------------------+------------------------+----------------------+\n",
            "| GPU  Name                 Persistence-M | Bus-Id          Disp.A | Volatile Uncorr. ECC |\n",
            "| Fan  Temp   Perf          Pwr:Usage/Cap |           Memory-Usage | GPU-Util  Compute M. |\n",
            "|                                         |                        |               MIG M. |\n",
            "|=========================================+========================+======================|\n",
            "|   0  Tesla T4                       Off |   00000000:00:04.0 Off |                    0 |\n",
            "| N/A   54C    P8             10W /   70W |       2MiB /  15360MiB |      0%      Default |\n",
            "|                                         |                        |                  N/A |\n",
            "+-----------------------------------------+------------------------+----------------------+\n",
            "                                                                                         \n",
            "+-----------------------------------------------------------------------------------------+\n",
            "| Processes:                                                                              |\n",
            "|  GPU   GI   CI        PID   Type   Process name                              GPU Memory |\n",
            "|        ID   ID                                                               Usage      |\n",
            "|=========================================================================================|\n",
            "|  No running processes found                                                             |\n",
            "+-----------------------------------------------------------------------------------------+\n"
          ]
        }
      ]
    },
    {
      "cell_type": "code",
      "metadata": {
        "id": "B0Z0-iXiIqM3",
        "colab": {
          "base_uri": "https://localhost:8080/"
        },
        "outputId": "eb875fa1-3713-4ca5-cbc1-5b7b27d1e5c9"
      },
      "source": [
        "from tensorflow.python.client import device_lib\n",
        "device_lib.list_local_devices()"
      ],
      "execution_count": 4,
      "outputs": [
        {
          "output_type": "execute_result",
          "data": {
            "text/plain": [
              "[name: \"/device:CPU:0\"\n",
              " device_type: \"CPU\"\n",
              " memory_limit: 268435456\n",
              " locality {\n",
              " }\n",
              " incarnation: 2183514618392956026\n",
              " xla_global_id: -1,\n",
              " name: \"/device:GPU:0\"\n",
              " device_type: \"GPU\"\n",
              " memory_limit: 14619377664\n",
              " locality {\n",
              "   bus_id: 1\n",
              "   links {\n",
              "   }\n",
              " }\n",
              " incarnation: 231824791246144654\n",
              " physical_device_desc: \"device: 0, name: Tesla T4, pci bus id: 0000:00:04.0, compute capability: 7.5\"\n",
              " xla_global_id: 416903419]"
            ]
          },
          "metadata": {},
          "execution_count": 4
        }
      ]
    },
    {
      "cell_type": "code",
      "metadata": {
        "ExecuteTime": {
          "end_time": "2020-05-05T11:47:40.428703Z",
          "start_time": "2020-05-05T11:47:40.410488Z"
        },
        "hidden": true,
        "id": "_YkeLfS56NL0",
        "init_cell": true,
        "colab": {
          "base_uri": "https://localhost:8080/"
        },
        "outputId": "047a7143-29e3-4174-decd-d8fb3aeb8767"
      },
      "source": [
        "gpus = tf.config.experimental.list_physical_devices('GPU')\n",
        "print(gpus)\n",
        "\n",
        "tf.config.experimental.set_memory_growth(gpus[0] , True)\n"
      ],
      "execution_count": 5,
      "outputs": [
        {
          "output_type": "stream",
          "name": "stdout",
          "text": [
            "[PhysicalDevice(name='/physical_device:GPU:0', device_type='GPU')]\n"
          ]
        }
      ]
    },
    {
      "cell_type": "markdown",
      "metadata": {
        "heading_collapsed": true,
        "id": "vPUjDX8ABoGc"
      },
      "source": [
        "## Data: Farsi Hand-written digits classification"
      ]
    },
    {
      "cell_type": "code",
      "metadata": {
        "ExecuteTime": {
          "end_time": "2020-05-05T11:49:24.322716Z",
          "start_time": "2020-05-05T11:49:19.069265Z"
        },
        "hidden": true,
        "id": "FE54NJdSXplU",
        "init_cell": true
      },
      "source": [
        "url = 'https://raw.githubusercontent.com/sraeisi/MachineLearning_Physics/master/Data/Farsi_digits_X.npz'\n",
        "s=requests.get(url, stream=True).content\n",
        "X = np.load(io.BytesIO(s) )['arr_0']\n",
        "url = 'https://raw.githubusercontent.com/sraeisi/MachineLearning_Physics/master/Data/Farsi_digits_Y.npz'\n",
        "s=requests.get(url, stream=True).content\n",
        "Y = np.load(io.BytesIO(s) )['arr_0']\n",
        "\n",
        "# X = np.load('X.npz')['arr_0']\n",
        "# Y = np.load('Y.npz')['arr_0']\n",
        "\n",
        "\n",
        "from sklearn.utils import shuffle\n",
        "X, Y = shuffle(X,Y, random_state = 0 )"
      ],
      "execution_count": 6,
      "outputs": []
    },
    {
      "cell_type": "code",
      "metadata": {
        "ExecuteTime": {
          "end_time": "2020-05-04T16:42:36.764489Z",
          "start_time": "2020-05-04T16:42:36.756468Z"
        },
        "hidden": true,
        "id": "ldLimT4BXqVg",
        "colab": {
          "base_uri": "https://localhost:8080/"
        },
        "outputId": "636c2e88-3046-4eb5-8812-538a2f6888da"
      },
      "source": [
        "print('Each image is of the form: {}'.format(X[0].shape ) )"
      ],
      "execution_count": 7,
      "outputs": [
        {
          "output_type": "stream",
          "name": "stdout",
          "text": [
            "Each image is of the form: (32, 32)\n"
          ]
        }
      ]
    },
    {
      "cell_type": "code",
      "metadata": {
        "ExecuteTime": {
          "end_time": "2020-05-04T11:07:23.903378Z",
          "start_time": "2020-05-04T11:07:23.525789Z"
        },
        "hidden": true,
        "id": "rNwqhBKg6NL7",
        "colab": {
          "base_uri": "https://localhost:8080/",
          "height": 629
        },
        "outputId": "783ecd48-2ec6-4f9e-be06-112c283af487"
      },
      "source": [
        "plt.imshow(X[20])"
      ],
      "execution_count": 8,
      "outputs": [
        {
          "output_type": "execute_result",
          "data": {
            "text/plain": [
              "<matplotlib.image.AxesImage at 0x7b69c1c66410>"
            ]
          },
          "metadata": {},
          "execution_count": 8
        },
        {
          "output_type": "display_data",
          "data": {
            "text/plain": [
              "<Figure size 1200x700 with 1 Axes>"
            ],
            "image/png": "[encoded data removed]"
          },
          "metadata": {}
        }
      ]
    },
    {
      "cell_type": "code",
      "metadata": {
        "ExecuteTime": {
          "end_time": "2020-05-05T11:49:31.463454Z",
          "start_time": "2020-05-05T11:49:30.652380Z"
        },
        "hidden": true,
        "id": "FyNX5FJRXx9V",
        "init_cell": true
      },
      "source": [
        "from sklearn.model_selection import train_test_split\n",
        "from sklearn.metrics import confusion_matrix\n",
        "\n",
        "X_train, X_test, Y_train, Y_test = train_test_split(X, Y, random_state=0)"
      ],
      "execution_count": 9,
      "outputs": []
    },
    {
      "cell_type": "markdown",
      "metadata": {
        "heading_collapsed": true,
        "id": "58SHJ2C26NMA"
      },
      "source": [
        "## Pytorch"
      ]
    },
    {
      "cell_type": "code",
      "metadata": {
        "id": "xPtgAvHgBabb"
      },
      "source": [
        "import torch\n",
        "import torch.nn as nn\n",
        "import torch.nn.functional as F\n",
        "import torch.optim as optim"
      ],
      "execution_count": 10,
      "outputs": []
    },
    {
      "cell_type": "code",
      "metadata": {
        "id": "55UpWkDvDC1u"
      },
      "source": [
        "x_tr = torch.from_numpy(X_train).float()\n",
        "x_ts = torch.from_numpy(X_test).float()\n",
        "\n",
        "y_tr = torch.from_numpy(Y_train)\n",
        "y_ts = torch.from_numpy(Y_test)\n",
        "\n",
        "n_w, n_h = x_tr[0].size()\n",
        "n_out = 10"
      ],
      "execution_count": 11,
      "outputs": []
    },
    {
      "cell_type": "code",
      "metadata": {
        "hidden": true,
        "id": "6lyCNkEz6NMB",
        "colab": {
          "base_uri": "https://localhost:8080/"
        },
        "outputId": "4faa1cea-1dbb-413d-fdad-2a8f822eb9c4"
      },
      "source": [
        "class Net(nn.Module):\n",
        "\n",
        "    def __init__(self):\n",
        "        super(Net, self).__init__()\n",
        "        self.fc1 = nn.Linear(32 * 32, 120)\n",
        "        self.fc2 = nn.Linear(120, 80)\n",
        "        self.fc3 = nn.Linear(80, 10)\n",
        "\n",
        "    def forward(self, x):\n",
        "        x = x.view(-1, self.num_flat_features(x))\n",
        "        x = F.relu(self.fc1(x))\n",
        "        x = F.relu(self.fc2(x))\n",
        "        x = self.fc3(x)\n",
        "\n",
        "        output = F.log_softmax(x, dim=1)\n",
        "\n",
        "        return output\n",
        "\n",
        "    def num_flat_features(self, x):\n",
        "        size = x.size()[1:]  # all dimensions except the batch dimension\n",
        "        num_features = 1\n",
        "        for s in size:\n",
        "            num_features *= s\n",
        "        return num_features\n",
        "\n",
        "\n",
        "net = Net()\n",
        "print(net)"
      ],
      "execution_count": 52,
      "outputs": [
        {
          "output_type": "stream",
          "name": "stdout",
          "text": [
            "Net(\n",
            "  (fc1): Linear(in_features=1024, out_features=120, bias=True)\n",
            "  (fc2): Linear(in_features=120, out_features=80, bias=True)\n",
            "  (fc3): Linear(in_features=80, out_features=10, bias=True)\n",
            ")\n"
          ]
        }
      ]
    },
    {
      "cell_type": "markdown",
      "metadata": {
        "id": "xksND3XNWFRL"
      },
      "source": [
        "## Simple Training"
      ]
    },
    {
      "cell_type": "code",
      "metadata": {
        "id": "fGzgTejli0wG",
        "colab": {
          "base_uri": "https://localhost:8080/"
        },
        "outputId": "66c31be7-39e0-45b7-bc3c-416ccb8621c7"
      },
      "source": [
        "input = torch.randn(1, 1, 32, 32)\n",
        "out = net(input)\n",
        "print(out)"
      ],
      "execution_count": 36,
      "outputs": [
        {
          "output_type": "stream",
          "name": "stdout",
          "text": [
            "tensor([[-0.0195, -0.0705,  0.0047,  0.0545, -0.0424,  0.0214,  0.1520, -0.1133,\n",
            "          0.0536,  0.0646]], grad_fn=<AddmmBackward0>)\n"
          ]
        }
      ]
    },
    {
      "cell_type": "code",
      "metadata": {
        "id": "lUsLFp4iCRO4"
      },
      "source": [
        "net = Net()\n",
        "\n",
        "optimizer = optim.Adam(net.parameters(), lr=.05, betas=(0.9, 0.999))"
      ],
      "execution_count": 53,
      "outputs": []
    },
    {
      "cell_type": "code",
      "source": [
        "# F.nll_loss(net.forward(x_tr[:3]), y_tr[:3])\n",
        "net.forward(x_tr[:3]).argmax(axis=1)"
      ],
      "metadata": {
        "colab": {
          "base_uri": "https://localhost:8080/"
        },
        "id": "7BPL6APMovoU",
        "outputId": "d8d2ffd6-9106-490d-c911-d552946a2f23"
      },
      "execution_count": 56,
      "outputs": [
        {
          "output_type": "execute_result",
          "data": {
            "text/plain": [
              "tensor([3, 2, 3])"
            ]
          },
          "metadata": {},
          "execution_count": 56
        }
      ]
    },
    {
      "cell_type": "code",
      "metadata": {
        "id": "8sMLx3cHDCoQ",
        "colab": {
          "base_uri": "https://localhost:8080/",
          "height": 647
        },
        "outputId": "0bc4a1c4-52a8-4243-ec0f-13d3ff451162"
      },
      "source": [
        "%%time\n",
        "epochs = 30\n",
        "\n",
        "#We also need to keep track of the loss.\n",
        "losses = []\n",
        "\n",
        "for i in range(epochs):\n",
        "    #Clear the previous gradients\n",
        "    optimizer.zero_grad()\n",
        "\n",
        "    #Precit the output for Given input\n",
        "    y_pred = net.forward(x_tr)\n",
        "\n",
        "    loss = F.cross_entropy(y_pred, y_tr)\n",
        "    losses += [loss.detach().numpy().copy()]\n",
        "\n",
        "\n",
        "    loss.backward()\n",
        "    optimizer.step()\n",
        "\n",
        "\n",
        "plt.plot(losses)\n",
        "plt.show()"
      ],
      "execution_count": 57,
      "outputs": [
        {
          "output_type": "display_data",
          "data": {
            "text/plain": [
              "<Figure size 1200x700 with 1 Axes>"
            ],
            "image/png": "[encoded data removed]"
          },
          "metadata": {}
        },
        {
          "output_type": "stream",
          "name": "stdout",
          "text": [
            "CPU times: user 24.8 s, sys: 1.68 s, total: 26.5 s\n",
            "Wall time: 27.7 s\n"
          ]
        }
      ]
    },
    {
      "cell_type": "code",
      "metadata": {
        "colab": {
          "base_uri": "https://localhost:8080/",
          "height": 665
        },
        "id": "PJ6qbcAUtY7_",
        "outputId": "3d8048b8-f52c-46f5-88a3-e74c3e7426e6"
      },
      "source": [
        "ind = np.random.randint(0, len(x_ts))\n",
        "print(ind)\n",
        "plt.imshow(x_ts[ind] )\n",
        "pred = net.forward(x_ts[ind].view(-1,32,32)).argmax()\n",
        "print(f'This sample is a {pred}.\\n')"
      ],
      "execution_count": 60,
      "outputs": [
        {
          "output_type": "stream",
          "name": "stdout",
          "text": [
            "15427\n",
            "This sample is a 1.\n",
            "\n"
          ]
        },
        {
          "output_type": "display_data",
          "data": {
            "text/plain": [
              "<Figure size 1200x700 with 1 Axes>"
            ],
            "image/png": "[encoded data removed]"
          },
          "metadata": {}
        }
      ]
    },
    {
      "cell_type": "code",
      "source": [
        "### Measure the accuracy of the model,\n",
        "### Is it acceptable?"
      ],
      "metadata": {
        "id": "OLA-fngZwzld"
      },
      "execution_count": null,
      "outputs": []
    },
    {
      "cell_type": "markdown",
      "metadata": {
        "id": "x9ZZhWnnTWh_"
      },
      "source": [
        "## Minibatch\n",
        "\n",
        "Let's add mini-batch optimization and keep track of the accuracy."
      ]
    },
    {
      "cell_type": "code",
      "metadata": {
        "id": "Hnv8pYRVBkQf"
      },
      "source": [
        "del net\n",
        "net = Net()\n",
        "optimizer = optim.Adam(net.parameters(), lr=.01)\n",
        "criterion = nn.NLLLoss()"
      ],
      "execution_count": 62,
      "outputs": []
    },
    {
      "cell_type": "code",
      "metadata": {
        "id": "Hx1l3bGcT6Yt"
      },
      "source": [
        "x_tr = torch.from_numpy(X_train).float()\n",
        "x_ts = torch.from_numpy(X_test).float()\n",
        "\n",
        "y_tr = torch.from_numpy(Y_train)\n",
        "y_ts = torch.from_numpy(Y_test)"
      ],
      "execution_count": 63,
      "outputs": []
    },
    {
      "cell_type": "code",
      "metadata": {
        "colab": {
          "base_uri": "https://localhost:8080/"
        },
        "id": "LBRjr8c2DEB4",
        "outputId": "b40eda92-b470-4610-dce4-fd82c62a0cb2"
      },
      "source": [
        "(net.forward(x_ts).argmax(axis=1)==y_ts).sum()/len(y_ts)\n",
        "# net.forward(x_ts).argmax(axis=1)"
      ],
      "execution_count": 61,
      "outputs": [
        {
          "output_type": "execute_result",
          "data": {
            "text/plain": [
              "tensor(0.9375)"
            ]
          },
          "metadata": {},
          "execution_count": 61
        }
      ]
    },
    {
      "cell_type": "code",
      "metadata": {
        "id": "rHtoik_uHf3O"
      },
      "source": [
        "n_epoch=3\n",
        "btch_size = 1000"
      ],
      "execution_count": 64,
      "outputs": []
    },
    {
      "cell_type": "markdown",
      "metadata": {
        "id": "HKgJS6YdMCv-"
      },
      "source": [
        "### Data Loaders"
      ]
    },
    {
      "cell_type": "code",
      "metadata": {
        "id": "Ax2FkoYUHcKh"
      },
      "source": [
        "## Training data\n",
        "training_dataset = torch.utils.data.TensorDataset(x_tr, y_tr)\n",
        "train_loader = torch.utils.data.DataLoader(training_dataset, batch_size=btch_size, shuffle=True)\n",
        "\n",
        "## Test data\n",
        "test_dataset = torch.utils.data.TensorDataset(x_ts, y_ts)\n",
        "test_loader = torch.utils.data.DataLoader(test_dataset, batch_size=btch_size, shuffle=True)"
      ],
      "execution_count": 65,
      "outputs": []
    },
    {
      "cell_type": "code",
      "source": [
        "training_dataset[0][0].size()"
      ],
      "metadata": {
        "id": "h52PzT5EVwlR",
        "outputId": "cdd974d9-9b5b-4909-acc5-1773d9e57553",
        "colab": {
          "base_uri": "https://localhost:8080/"
        }
      },
      "execution_count": 66,
      "outputs": [
        {
          "output_type": "execute_result",
          "data": {
            "text/plain": [
              "torch.Size([32, 32])"
            ]
          },
          "metadata": {},
          "execution_count": 66
        }
      ]
    },
    {
      "cell_type": "code",
      "metadata": {
        "id": "zMHQCrW2Hhei",
        "colab": {
          "base_uri": "https://localhost:8080/",
          "height": 647
        },
        "outputId": "71765e25-69fe-426d-e958-f48c8f21bb0b"
      },
      "source": [
        "for x, y in train_loader:\n",
        "  print(x.size() )\n",
        "  plt.imshow(x[0].numpy())\n",
        "  print(y[0])\n",
        "  break"
      ],
      "execution_count": 69,
      "outputs": [
        {
          "output_type": "stream",
          "name": "stdout",
          "text": [
            "torch.Size([1000, 32, 32])\n",
            "tensor(9)\n"
          ]
        },
        {
          "output_type": "display_data",
          "data": {
            "text/plain": [
              "<Figure size 1200x700 with 1 Axes>"
            ],
            "image/png": "[encoded data removed]"
          },
          "metadata": {}
        }
      ]
    },
    {
      "cell_type": "markdown",
      "metadata": {
        "id": "lr9P7_QSMF2T"
      },
      "source": [
        "### Training"
      ]
    },
    {
      "cell_type": "code",
      "metadata": {
        "colab": {
          "base_uri": "https://localhost:8080/"
        },
        "id": "01JuKMxT5J-m",
        "outputId": "11212dc6-2ddd-41c9-c972-a8615046be0f"
      },
      "source": [
        "%%time\n",
        "# epochs = 3\n",
        "# batch_size = 500\n",
        "n_s = len(x_tr)\n",
        "n_ts = len(x_ts)\n",
        "\n",
        "\n",
        "#We also need to keep track of the loss.\n",
        "sample_rate = 10\n",
        "training_losses = []\n",
        "test_losses = []\n",
        "\n",
        "training_accuracy = []\n",
        "test_accuracy = []\n",
        "for i in range(n_epoch):\n",
        "  print(f'Starting {i} epoch.')\n",
        "  # print(len(training_losses))\n",
        "  ind = 0\n",
        "\n",
        "  for i, (X_batch, Y_batch) in enumerate(train_loader):\n",
        "    X_batch = X_batch.reshape(-1, n_w*n_h)#.to(device)\n",
        "    Y_batch = Y_batch#.to(device)\n",
        "    ind += 1\n",
        "\n",
        "    # Forward pass\n",
        "    # #Precit the output for Given input\n",
        "    outputs = net(X_batch)\n",
        "    loss = criterion(outputs, Y_batch)\n",
        "\n",
        "    # Backward and optimize\n",
        "    #Clear the previous gradients\n",
        "    optimizer.zero_grad()\n",
        "    loss.backward()\n",
        "    optimizer.step()\n",
        "\n",
        "    ## With a freq given by sample_rate, we record the loss and accuracy.\n",
        "    if ind%(int(n_s/btch_size/sample_rate))==0:\n",
        "      y_tr_pred = net.forward(x_tr)\n",
        "      training_losses += [F.nll_loss( y_tr_pred, y_tr).item() ]\n",
        "      training_accuracy += [torch.sum( y_tr ==\n",
        "                                      torch.argmax( y_tr_pred, axis=1 ) ).item()/n_s ]\n",
        "\n",
        "      # print(F.nll_loss( net.forward(x_ts) , y_ts) )\n",
        "      y_ts_pred = net.forward(x_ts)\n",
        "      test_losses += [F.nll_loss( y_ts_pred, y_ts).item() ]\n",
        "      test_accuracy += [torch.sum( y_ts ==\n",
        "                                      torch.argmax( y_ts_pred, axis=1 )).item()/n_ts ]\n",
        "\n",
        "print (f\"The test accuracy is :{test_accuracy[-1]:.2f}\")\n",
        "\n"
      ],
      "execution_count": 70,
      "outputs": [
        {
          "output_type": "stream",
          "name": "stdout",
          "text": [
            "Starting 0 epoch.\n",
            "Starting 1 epoch.\n",
            "Starting 2 epoch.\n",
            "CPU times: user 20.1 s, sys: 992 ms, total: 21.1 s\n",
            "Wall time: 21 s\n"
          ]
        }
      ]
    },
    {
      "cell_type": "code",
      "metadata": {
        "colab": {
          "base_uri": "https://localhost:8080/",
          "height": 607
        },
        "id": "lW21r8BYn9Nd",
        "outputId": "adf68b2b-03a6-4a45-9b10-c01396c829cd"
      },
      "source": [
        "# Plot training & validation accuracy values\n",
        "fig = plt.figure(figsize=(14,6))\n",
        "ax = fig.add_subplot(1,2,1, title = 'Model accuracy', ylabel= 'Accuracy')\n",
        "plt.plot(training_accuracy)\n",
        "plt.plot(test_accuracy)\n",
        "plt.legend(['Train', 'Test'], loc='upper left')\n",
        "\n",
        "# Plot training & validation loss values\n",
        "ax = fig.add_subplot(1,2,2, title = 'Model loss', ylabel= 'Loss', xlabel = 'Step')\n",
        "plt.plot(training_losses)\n",
        "plt.plot(test_losses )\n",
        "plt.legend(['Train', 'Test'], loc=0)\n",
        "\n",
        "plt.tight_layout()\n",
        "plt.show()"
      ],
      "execution_count": 71,
      "outputs": [
        {
          "output_type": "display_data",
          "data": {
            "text/plain": [
              "<Figure size 1400x600 with 2 Axes>"
            ],
            "image/png": "[encoded data removed]"
          },
          "metadata": {}
        }
      ]
    },
    {
      "cell_type": "markdown",
      "metadata": {
        "id": "NvkT2234Mk-6"
      },
      "source": [
        "## GPU"
      ]
    },
    {
      "cell_type": "code",
      "metadata": {
        "id": "9ns23Q3SZo5n"
      },
      "source": [
        "import torch\n",
        "import torch.nn as nn\n",
        "import torch.nn.functional as F\n",
        "import torch.optim as optim\n",
        "\n",
        "n_epoch=3\n",
        "btch_size = 1000\n",
        "\n",
        "x_tr = torch.from_numpy(X_train).float()\n",
        "x_ts = torch.from_numpy(X_test).float()\n",
        "\n",
        "y_tr = torch.from_numpy(Y_train)\n",
        "y_ts = torch.from_numpy(Y_test)\n",
        "\n",
        "## Training data\n",
        "training_dataset = torch.utils.data.TensorDataset(x_tr, y_tr)\n",
        "train_loader = torch.utils.data.DataLoader(training_dataset, batch_size=btch_size, shuffle=True)\n",
        "\n",
        "## Test data\n",
        "test_dataset = torch.utils.data.TensorDataset(x_ts, y_ts)\n",
        "test_loader = torch.utils.data.DataLoader(test_dataset, batch_size=btch_size, shuffle=True)\n",
        "\n",
        "\n"
      ],
      "execution_count": 72,
      "outputs": []
    },
    {
      "cell_type": "code",
      "metadata": {
        "id": "jPNDs5ddeIcZ",
        "outputId": "574fca7a-2331-4c32-ae8f-3a956a8679dd",
        "colab": {
          "base_uri": "https://localhost:8080/"
        }
      },
      "source": [
        "device = torch.device(\"cuda:0\" if torch.cuda.is_available() else \"cpu\")\n",
        "device"
      ],
      "execution_count": 73,
      "outputs": [
        {
          "output_type": "execute_result",
          "data": {
            "text/plain": [
              "device(type='cuda', index=0)"
            ]
          },
          "metadata": {},
          "execution_count": 73
        }
      ]
    },
    {
      "cell_type": "code",
      "metadata": {
        "colab": {
          "base_uri": "https://localhost:8080/"
        },
        "id": "DPOAi8YHfS1s",
        "outputId": "c4620729-33c0-478d-c29f-b543ae16c11f"
      },
      "source": [
        "%%time\n",
        "n_w, n_h = x_tr[0].size()\n",
        "n_s = len(x_tr)\n",
        "n_ts = len(x_ts)\n",
        "\n",
        "\n",
        "#We also need to keep track of the loss.\n",
        "sample_rate = 20\n",
        "training_losses = []\n",
        "test_losses = []\n",
        "\n",
        "training_accuracy = []\n",
        "test_accuracy = []\n",
        "\n",
        "device = torch.device(\"cuda:0\" if torch.cuda.is_available() else \"cpu\")\n",
        "\n",
        "# model = NeuralNet(n_w * n_h, [100,80], 10).to(device)\n",
        "model = Net().to(device)\n",
        "\n",
        "# Loss and optimizer\n",
        "criterion = nn.NLLLoss()\n",
        "optimizer = optim.Adam(model.parameters(), lr=.01)\n",
        "\n",
        "# Train the model\n",
        "total_step = len(train_loader)\n",
        "for epoch in range(n_epoch):\n",
        "    print(f'Starting {epoch} epoch.')\n",
        "\n",
        "    for i, (X_batch, Y_batch) in enumerate(train_loader):\n",
        "        # Move tensors to the configured device\n",
        "        X_batch = X_batch.reshape(-1, n_w*n_h).to(device)\n",
        "        Y_batch = Y_batch.to(device)\n",
        "\n",
        "        # Forward pass\n",
        "        outputs = model(X_batch)\n",
        "        loss = criterion(outputs, Y_batch)\n",
        "\n",
        "        # Backward and optimize\n",
        "        optimizer.zero_grad()\n",
        "        loss.backward()\n",
        "        optimizer.step()\n",
        "\n",
        "        if (i+1) % 100 == 0:\n",
        "            print ('Epoch [{}/{}], Step [{}/{}], Loss: {:.4f}'\n",
        "                   .format(epoch+1, num_epochs, i+1, total_step, loss.item()))\n",
        "\n",
        "\n",
        "        ## Every sample_rate, we record the loss and accuracy.\n",
        "        if i%(int(n_s/btch_size/sample_rate))==0:\n",
        "          y_tr_pred = model.forward(x_tr.to(device)).cpu()\n",
        "          training_losses += [F.nll_loss( y_tr_pred, y_tr).item() ]\n",
        "          training_accuracy += [torch.sum( y_tr ==\n",
        "                                          torch.argmax( y_tr_pred, axis=1 ) ).item()/n_s ]\n",
        "\n",
        "          # print(F.nll_loss( net.forward(x_ts) , y_ts) )\n",
        "          y_ts_pred = model.forward(x_ts.to(device)).cpu()\n",
        "          test_losses += [F.nll_loss( y_ts_pred, y_ts).item() ]\n",
        "          test_accuracy += [torch.sum( y_ts ==\n",
        "                                          torch.argmax( y_ts_pred, axis=1 )).item()/n_ts ]\n",
        "\n",
        "\n",
        "# Test the model\n",
        "# In test phase, we don't need to compute gradients (for memory efficiency)\n",
        "with torch.no_grad():\n",
        "    correct = 0\n",
        "    total = 0\n",
        "    for X_batch, Y_batch in test_loader:\n",
        "        X_batch = X_batch.reshape(-1, n_w*n_h).to(device)\n",
        "        Y_batch = Y_batch.to(device)\n",
        "        outputs = model(X_batch)\n",
        "        _, predicted = torch.max(outputs.data, 1)\n",
        "        total += Y_batch.size(0)\n",
        "        correct += (predicted == Y_batch).sum().item()\n",
        "\n",
        "    print('Accuracy of the network on the 10000 test images: {} %'.format(100 * correct / total))\n"
      ],
      "execution_count": 74,
      "outputs": [
        {
          "output_type": "stream",
          "name": "stdout",
          "text": [
            "Starting 0 epoch.\n",
            "Starting 1 epoch.\n",
            "Starting 2 epoch.\n",
            "Accuracy of the network on the 10000 test images: 98.30780053149914 %\n",
            "CPU times: user 12 s, sys: 82.9 ms, total: 12.1 s\n",
            "Wall time: 12.5 s\n"
          ]
        }
      ]
    },
    {
      "cell_type": "code",
      "metadata": {
        "colab": {
          "base_uri": "https://localhost:8080/",
          "height": 607
        },
        "id": "oaH3bKSmnQXJ",
        "outputId": "db3e6251-f763-46b5-aa11-a13201b9a79b"
      },
      "source": [
        "# Plot training & validation accuracy values\n",
        "fig = plt.figure(figsize=(14,6))\n",
        "ax = fig.add_subplot(1,2,1, title = 'Model accuracy', ylabel= 'Accuracy')\n",
        "plt.plot(training_accuracy)\n",
        "plt.plot(test_accuracy)\n",
        "plt.legend(['Train', 'Test'], loc='upper left')\n",
        "\n",
        "# Plot training & validation loss values\n",
        "ax = fig.add_subplot(1,2,2, title = 'Model loss', ylabel= 'Loss', xlabel = 'Step')\n",
        "plt.plot(training_losses)\n",
        "plt.plot(test_losses )\n",
        "plt.legend(['Train', 'Test'], loc=0)\n",
        "\n",
        "plt.tight_layout()\n",
        "plt.show()"
      ],
      "execution_count": 75,
      "outputs": [
        {
          "output_type": "display_data",
          "data": {
            "text/plain": [
              "<Figure size 1400x600 with 2 Axes>"
            ],
            "image/png": "[encoded data removed]"
          },
          "metadata": {}
        }
      ]
    },
    {
      "cell_type": "markdown",
      "metadata": {
        "heading_collapsed": true,
        "id": "ycapc67R6NMD"
      },
      "source": [
        "## Keras"
      ]
    },
    {
      "cell_type": "code",
      "metadata": {
        "ExecuteTime": {
          "end_time": "2020-05-05T11:49:40.635641Z",
          "start_time": "2020-05-05T11:49:40.628939Z"
        },
        "hidden": true,
        "id": "rlMGKrVx6NME"
      },
      "source": [
        "import tensorflow as tf\n",
        "from tensorflow import keras"
      ],
      "execution_count": null,
      "outputs": []
    },
    {
      "cell_type": "code",
      "metadata": {
        "id": "BTFk7n_qIk45",
        "colab": {
          "base_uri": "https://localhost:8080/"
        },
        "outputId": "cf7a4b95-ebb1-4391-a7a3-2f7766f9f982"
      },
      "source": [
        "set(Y_test)"
      ],
      "execution_count": null,
      "outputs": [
        {
          "output_type": "execute_result",
          "data": {
            "text/plain": [
              "{0, 1, 2, 3, 4, 5, 6, 7, 8, 9}"
            ]
          },
          "metadata": {},
          "execution_count": 64
        }
      ]
    },
    {
      "cell_type": "code",
      "metadata": {
        "id": "_M4RADo6wzc2",
        "outputId": "f611f229-872a-4c04-841c-6492df5442b4",
        "colab": {
          "base_uri": "https://localhost:8080/"
        }
      },
      "source": [
        "X_train.shape"
      ],
      "execution_count": null,
      "outputs": [
        {
          "output_type": "execute_result",
          "data": {
            "text/plain": [
              "(76764, 32, 32)"
            ]
          },
          "metadata": {},
          "execution_count": 65
        }
      ]
    },
    {
      "cell_type": "code",
      "metadata": {
        "ExecuteTime": {
          "end_time": "2020-05-05T11:50:20.064953Z",
          "start_time": "2020-05-05T11:50:13.798942Z"
        },
        "hidden": true,
        "id": "WSXG5PFOXtQC"
      },
      "source": [
        "model = keras.Sequential([\n",
        "    keras.layers.Flatten(input_shape=(32, 32)),\n",
        "    keras.layers.Dense(128, activation= 'relu' ),\n",
        "    keras.layers.Dense(10, activation='softmax'  )\n",
        "])"
      ],
      "execution_count": null,
      "outputs": []
    },
    {
      "cell_type": "code",
      "metadata": {
        "ExecuteTime": {
          "end_time": "2020-05-05T11:50:20.974166Z",
          "start_time": "2020-05-05T11:50:20.881100Z"
        },
        "hidden": true,
        "id": "afDV3ofd6NMK"
      },
      "source": [
        "model.compile(optimizer='adam',\n",
        "              loss='sparse_categorical_crossentropy',\n",
        "              metrics=['accuracy'])"
      ],
      "execution_count": null,
      "outputs": []
    },
    {
      "cell_type": "code",
      "metadata": {
        "id": "ntP2t0rULiJb",
        "colab": {
          "base_uri": "https://localhost:8080/"
        },
        "outputId": "fa236ebf-2c45-466b-8b81-c980d1471ae4"
      },
      "source": [
        "model.summary()"
      ],
      "execution_count": null,
      "outputs": [
        {
          "output_type": "stream",
          "name": "stdout",
          "text": [
            "Model: \"sequential\"\n",
            "_________________________________________________________________\n",
            " Layer (type)                Output Shape              Param #   \n",
            "=================================================================\n",
            " flatten (Flatten)           (None, 1024)              0         \n",
            "                                                                 \n",
            " dense (Dense)               (None, 128)               131200    \n",
            "                                                                 \n",
            " dense_1 (Dense)             (None, 10)                1290      \n",
            "                                                                 \n",
            "=================================================================\n",
            "Total params: 132490 (517.54 KB)\n",
            "Trainable params: 132490 (517.54 KB)\n",
            "Non-trainable params: 0 (0.00 Byte)\n",
            "_________________________________________________________________\n"
          ]
        }
      ]
    },
    {
      "cell_type": "code",
      "metadata": {
        "ExecuteTime": {
          "end_time": "2020-05-05T11:50:31.731610Z",
          "start_time": "2020-05-05T11:50:23.871668Z"
        },
        "hidden": true,
        "id": "RPYBp6g9Xy23",
        "colab": {
          "base_uri": "https://localhost:8080/"
        },
        "outputId": "380ccd4d-3c68-4012-8090-eb9527128baf"
      },
      "source": [
        "history = model.fit(X_train,Y_train, validation_split=0.25, epochs=5, batch_size=1000)"
      ],
      "execution_count": null,
      "outputs": [
        {
          "output_type": "stream",
          "name": "stdout",
          "text": [
            "Epoch 1/5\n",
            "58/58 [==============================] - 2s 12ms/step - loss: 0.5593 - accuracy: 0.8477 - val_loss: 0.2121 - val_accuracy: 0.9380\n",
            "Epoch 2/5\n",
            "58/58 [==============================] - 0s 6ms/step - loss: 0.1780 - accuracy: 0.9505 - val_loss: 0.1634 - val_accuracy: 0.9563\n",
            "Epoch 3/5\n",
            "58/58 [==============================] - 0s 6ms/step - loss: 0.1389 - accuracy: 0.9626 - val_loss: 0.1361 - val_accuracy: 0.9637\n",
            "Epoch 4/5\n",
            "58/58 [==============================] - 0s 6ms/step - loss: 0.1130 - accuracy: 0.9701 - val_loss: 0.1185 - val_accuracy: 0.9674\n",
            "Epoch 5/5\n",
            "58/58 [==============================] - 0s 7ms/step - loss: 0.0942 - accuracy: 0.9750 - val_loss: 0.1058 - val_accuracy: 0.9707\n"
          ]
        }
      ]
    },
    {
      "cell_type": "code",
      "metadata": {
        "ExecuteTime": {
          "end_time": "2020-05-05T11:51:23.772854Z",
          "start_time": "2020-05-05T11:51:20.586855Z"
        },
        "hidden": true,
        "id": "soJviX78X19-",
        "colab": {
          "base_uri": "https://localhost:8080/"
        },
        "outputId": "0bc0a19c-d70b-4c3c-b75d-f7aa47fea07e"
      },
      "source": [
        "Y_predicted = np.argmax( model.predict(X_test) , axis=1 )\n",
        "cm = confusion_matrix(Y_test, Y_predicted)\n",
        "print(cm)"
      ],
      "execution_count": null,
      "outputs": [
        {
          "output_type": "stream",
          "name": "stdout",
          "text": [
            "800/800 [==============================] - 2s 3ms/step\n",
            "[[2517    0    0    3    0   13    0    2    1    0]\n",
            " [   1 2491    8    0    2    0    3    3    0    3]\n",
            " [   2   27 2368   48   15    0   16    7    5   12]\n",
            " [   2    0   74 2425   36    4    3    0    0    0]\n",
            " [   6    9   23   91 2517   17    8    7    4   10]\n",
            " [  12    6    2    2    5 2449    2    4   13    2]\n",
            " [   3   11   19    3    9    4 2507   13    4   35]\n",
            " [   7    5    4    2    5    4    9 2572    0    0]\n",
            " [   5    6    1    2    5    3    5    3 2503   15]\n",
            " [   0   19    3    1    2    0   23    0   18 2478]]\n"
          ]
        }
      ]
    },
    {
      "cell_type": "code",
      "metadata": {
        "ExecuteTime": {
          "end_time": "2020-05-05T11:51:28.386362Z",
          "start_time": "2020-05-05T11:51:27.221461Z"
        },
        "hidden": true,
        "id": "OW8pM1UVYI_H",
        "colab": {
          "base_uri": "https://localhost:8080/",
          "height": 507
        },
        "outputId": "f71da09e-ca7c-4c3c-c17e-7bbb48deb207"
      },
      "source": [
        "# Plot training & validation accuracy values\n",
        "fig = plt.figure(figsize=(10,5))\n",
        "ax = fig.add_subplot(1,2,1, title = 'Model accuracy', ylabel= 'Accuracy')\n",
        "plt.plot(history.history['accuracy'])\n",
        "plt.plot(history.history['val_accuracy'])\n",
        "plt.legend(['Train', 'Test'], loc='upper left')\n",
        "\n",
        "# Plot training & validation loss values\n",
        "ax = fig.add_subplot(1,2,2, title = 'Model loss', ylabel= 'Loss')\n",
        "plt.plot(history.history['loss'])\n",
        "plt.plot(history.history['val_loss'])\n",
        "plt.legend(['Train', 'Test'], loc='upper left')\n",
        "\n",
        "plt.tight_layout()\n",
        "plt.show()"
      ],
      "execution_count": null,
      "outputs": [
        {
          "output_type": "display_data",
          "data": {
            "text/plain": [
              "<Figure size 1000x500 with 2 Axes>"
            ],
            "image/png": "[encoded data removed]"
          },
          "metadata": {}
        }
      ]
    },
    {
      "cell_type": "code",
      "metadata": {
        "id": "JalB-hgLJPyk",
        "colab": {
          "base_uri": "https://localhost:8080/"
        },
        "outputId": "dc9f826b-2bd1-4fc4-e88c-4650caae4a69"
      },
      "source": [
        "Y_oh = keras.utils.to_categorical(Y, num_classes=10, dtype=int)\n",
        "print(Y[4])\n",
        "Y_oh[4]"
      ],
      "execution_count": null,
      "outputs": [
        {
          "output_type": "stream",
          "name": "stdout",
          "text": [
            "3\n"
          ]
        },
        {
          "output_type": "execute_result",
          "data": {
            "text/plain": [
              "array([0, 0, 0, 1, 0, 0, 0, 0, 0, 0])"
            ]
          },
          "metadata": {},
          "execution_count": 78
        }
      ]
    },
    {
      "cell_type": "code",
      "metadata": {
        "ExecuteTime": {
          "end_time": "2020-05-05T11:57:09.626707Z",
          "start_time": "2020-05-05T11:57:07.655730Z"
        },
        "hidden": true,
        "id": "VUBhOlWvX5z7"
      },
      "source": [
        "Y_oh = keras.utils.to_categorical(Y, num_classes=10, dtype=int)\n",
        "\n",
        "X_train, X_test, Y_train, Y_test = train_test_split(X, Y_oh, random_state=0)\n",
        "\n",
        "model = keras.Sequential([\n",
        "    keras.layers.Flatten(input_shape=(32, 32)),\n",
        "    keras.layers.Dense(128, activation= 'relu' ),\n",
        "    keras.layers.Dense(10, activation='softmax'  )\n",
        "])\n",
        "\n",
        "## We need to change the loss function for the one-hot encoding\n",
        "model.compile(optimizer='adam',\n",
        "              loss='categorical_crossentropy',\n",
        "              metrics=['accuracy'])"
      ],
      "execution_count": null,
      "outputs": []
    },
    {
      "cell_type": "code",
      "metadata": {
        "ExecuteTime": {
          "end_time": "2020-05-05T11:58:39.155545Z",
          "start_time": "2020-05-05T11:57:33.871344Z"
        },
        "hidden": true,
        "id": "xiy9_xdXYBIw"
      },
      "source": [
        "history = model.fit(X_train,Y_train,\n",
        "                    validation_split=0.25,\n",
        "                    epochs=50,\n",
        "                    batch_size=500,\n",
        "                    verbose=0)"
      ],
      "execution_count": null,
      "outputs": []
    },
    {
      "cell_type": "code",
      "metadata": {
        "id": "5OLJgWEEy8Ga",
        "outputId": "863631ab-7ee5-4891-fff3-5e72cfe7be08",
        "colab": {
          "base_uri": "https://localhost:8080/"
        }
      },
      "source": [
        "print(Y_test[:3])\n",
        "model.predict(X_test[:3]).argmax(axis=1)"
      ],
      "execution_count": null,
      "outputs": [
        {
          "output_type": "stream",
          "name": "stdout",
          "text": [
            "[[0 1 0 0 0 0 0 0 0 0]\n",
            " [0 0 0 0 0 0 0 0 1 0]\n",
            " [0 0 0 0 0 0 1 0 0 0]]\n",
            "1/1 [==============================] - 0s 46ms/step\n"
          ]
        },
        {
          "output_type": "execute_result",
          "data": {
            "text/plain": [
              "array([1, 8, 6])"
            ]
          },
          "metadata": {},
          "execution_count": 81
        }
      ]
    },
    {
      "cell_type": "code",
      "metadata": {
        "ExecuteTime": {
          "end_time": "2020-05-05T11:58:41.356026Z",
          "start_time": "2020-05-05T11:58:39.244982Z"
        },
        "hidden": true,
        "id": "x4XW7S7CYEOB",
        "colab": {
          "base_uri": "https://localhost:8080/"
        },
        "outputId": "13afc6fb-79c6-472a-b7a6-e71ff5acffa3"
      },
      "source": [
        "Y_predicted = np.argmax( model.predict(X_test) , axis=1 )\n",
        "cm = confusion_matrix(np.argmax( Y_test , axis=1 ), Y_predicted)\n",
        "print(cm)\n"
      ],
      "execution_count": null,
      "outputs": [
        {
          "output_type": "stream",
          "name": "stdout",
          "text": [
            "800/800 [==============================] - 1s 2ms/step\n",
            "[[2520    0    0    0    0   15    0    1    0    0]\n",
            " [   1 2502    3    0    1    0    1    2    0    1]\n",
            " [   2    7 2437   33    9    0    5    4    0    3]\n",
            " [   0    0   53 2467   22    0    1    1    0    0]\n",
            " [   2    7   12   39 2609    8    6    4    2    3]\n",
            " [   6    1    0    3    5 2471    3    2    4    2]\n",
            " [   2    5    6    1    4    2 2569    4    0   15]\n",
            " [   2    3    4    2    3    5    3 2586    0    0]\n",
            " [   1    5    0    0    2    4    3    1 2520   12]\n",
            " [   0    8    1    0    1    0   13    0    7 2514]]\n"
          ]
        }
      ]
    },
    {
      "cell_type": "code",
      "metadata": {
        "id": "pspUb-KUKB82",
        "colab": {
          "base_uri": "https://localhost:8080/"
        },
        "outputId": "12082b8e-7c3f-4d72-d3e5-2ca26b526d34"
      },
      "source": [
        "model.predict(X_test[:1]).argmax(axis=1)"
      ],
      "execution_count": null,
      "outputs": [
        {
          "output_type": "stream",
          "name": "stdout",
          "text": [
            "1/1 [==============================] - 0s 42ms/step\n"
          ]
        },
        {
          "output_type": "execute_result",
          "data": {
            "text/plain": [
              "array([1])"
            ]
          },
          "metadata": {},
          "execution_count": 83
        }
      ]
    },
    {
      "cell_type": "code",
      "metadata": {
        "ExecuteTime": {
          "end_time": "2020-05-05T11:58:55.861383Z",
          "start_time": "2020-05-05T11:58:55.069281Z"
        },
        "hidden": true,
        "id": "v5n5eQS4YHO4",
        "colab": {
          "base_uri": "https://localhost:8080/",
          "height": 507
        },
        "outputId": "1949bd50-2f25-4470-a23d-72bc031497dd"
      },
      "source": [
        "# Plot training & validation accuracy values\n",
        "fig = plt.figure(figsize=(14,5))\n",
        "ax = fig.add_subplot(1,2,1, title = 'Model accuracy', ylabel= 'Accuracy')\n",
        "plt.plot(history.history['accuracy'])\n",
        "plt.plot(history.history['val_accuracy'])\n",
        "plt.legend(['Train', 'Test'], loc='upper left')\n",
        "\n",
        "# Plot training & validation loss values\n",
        "ax = fig.add_subplot(1,2,2, title = 'Model loss', ylabel= 'Loss')\n",
        "plt.plot(history.history['loss'])\n",
        "plt.plot(history.history['val_loss'])\n",
        "plt.legend(['Train', 'Test'], loc='upper left')\n",
        "\n",
        "plt.tight_layout()\n",
        "plt.show()"
      ],
      "execution_count": null,
      "outputs": [
        {
          "output_type": "display_data",
          "data": {
            "text/plain": [
              "<Figure size 1400x500 with 2 Axes>"
            ],
            "image/png": "[encoded data removed]"
          },
          "metadata": {}
        }
      ]
    },
    {
      "cell_type": "markdown",
      "metadata": {
        "heading_collapsed": true,
        "id": "-IMHpC3kWsOZ"
      },
      "source": [
        "## Handling Overfitting\n"
      ]
    },
    {
      "cell_type": "code",
      "metadata": {
        "id": "aUVj73LoKOC_"
      },
      "source": [
        "Y_oh = keras.utils.to_categorical(Y, num_classes=10, dtype=int)\n",
        "\n",
        "X_train, X_test, Y_train, Y_test = train_test_split(X, Y_oh, random_state=0)"
      ],
      "execution_count": null,
      "outputs": []
    },
    {
      "cell_type": "code",
      "metadata": {
        "ExecuteTime": {
          "end_time": "2020-05-05T12:16:43.297591Z",
          "start_time": "2020-05-05T12:16:41.864076Z"
        },
        "hidden": true,
        "id": "lsx6oQU4U7-M",
        "colab": {
          "base_uri": "https://localhost:8080/"
        },
        "outputId": "7b8c6221-a3cf-4a57-bf53-be93a5e32f75"
      },
      "source": [
        "model_ovfit1 = keras.Sequential([\n",
        "    keras.layers.Flatten(input_shape=(32, 32)),\n",
        "    keras.layers.Dense(128,activation=tf.nn.relu,\n",
        "                       kernel_regularizer=keras.regularizers.l2(.1)\n",
        "    ),\n",
        "    keras.layers.Dense(128,activation=tf.nn.relu, kernel_regularizer=keras.regularizers.l2(.1)),\n",
        "    keras.layers.Dense(128,activation=tf.nn.relu, kernel_regularizer=keras.regularizers.l2(.1)),\n",
        "    keras.layers.Dense(10, activation=tf.nn.softmax)\n",
        "])\n",
        "\n",
        "model_ovfit1.compile(optimizer='adam',\n",
        "              loss='categorical_crossentropy',\n",
        "              metrics=['accuracy'])\n",
        "\n",
        "model_ovfit1.build([None, 2])\n",
        "model_ovfit1.summary()"
      ],
      "execution_count": null,
      "outputs": [
        {
          "output_type": "stream",
          "name": "stdout",
          "text": [
            "Model: \"sequential_2\"\n",
            "_________________________________________________________________\n",
            " Layer (type)                Output Shape              Param #   \n",
            "=================================================================\n",
            " flatten_2 (Flatten)         (None, 1024)              0         \n",
            "                                                                 \n",
            " dense_4 (Dense)             (None, 128)               131200    \n",
            "                                                                 \n",
            " dense_5 (Dense)             (None, 128)               16512     \n",
            "                                                                 \n",
            " dense_6 (Dense)             (None, 128)               16512     \n",
            "                                                                 \n",
            " dense_7 (Dense)             (None, 10)                1290      \n",
            "                                                                 \n",
            "=================================================================\n",
            "Total params: 165514 (646.54 KB)\n",
            "Trainable params: 165514 (646.54 KB)\n",
            "Non-trainable params: 0 (0.00 Byte)\n",
            "_________________________________________________________________\n"
          ]
        }
      ]
    },
    {
      "cell_type": "code",
      "metadata": {
        "ExecuteTime": {
          "end_time": "2020-05-05T12:18:08.469336Z",
          "start_time": "2020-05-05T12:17:15.899506Z"
        },
        "hidden": true,
        "id": "G2mbLBkwVUgd",
        "colab": {
          "base_uri": "https://localhost:8080/",
          "height": 507
        },
        "outputId": "a69b98df-2793-42e6-e3ee-9a1c49ad9a70"
      },
      "source": [
        "n_s = 10000\n",
        "history_ovfit1 =  model_ovfit1.fit(X_train[:n_s],Y_train[:n_s],\n",
        "#                           validation_split=0.05,\n",
        "                          validation_data = (X_test, Y_test),\n",
        "                          epochs=20 ,\n",
        "                          batch_size=256,\n",
        "                          verbose=0)\n",
        "\n",
        "# Plot training & validation accuracy values\n",
        "fig = plt.figure(figsize=(10,5))\n",
        "ax = fig.add_subplot(1,2,1, title = 'Model accuracy', ylabel= 'Accuracy')\n",
        "plt.plot(history_ovfit1.history['accuracy'])\n",
        "plt.plot(history_ovfit1.history['val_accuracy'])\n",
        "plt.legend(['Train', 'Test'], loc='upper left')\n",
        "\n",
        "# Plot training & validation loss values\n",
        "ax = fig.add_subplot(1,2,2, title = 'Model loss', ylabel= 'Loss')\n",
        "plt.plot(history_ovfit1.history['loss'])\n",
        "plt.plot(history_ovfit1.history['val_loss'])\n",
        "plt.legend(['Train', 'Test'], loc='upper left')\n",
        "\n",
        "plt.tight_layout()\n",
        "plt.show()"
      ],
      "execution_count": null,
      "outputs": [
        {
          "output_type": "display_data",
          "data": {
            "text/plain": [
              "<Figure size 1000x500 with 2 Axes>"
            ],
            "image/png": "[encoded data removed]"
          },
          "metadata": {}
        }
      ]
    },
    {
      "cell_type": "code",
      "metadata": {
        "colab": {
          "base_uri": "https://localhost:8080/"
        },
        "id": "rgCvdQ2iwdEl",
        "outputId": "d7593c8c-3df4-44e3-b75a-12a2edd30dbe"
      },
      "source": [
        "print(np.argmax(Y_test[:3],axis=1))\n",
        "model_ovfit1.predict(X_test[:3]).argmax(axis=1)\n",
        "set(model_ovfit1.predict(X_test).argmax(axis=1))"
      ],
      "execution_count": null,
      "outputs": [
        {
          "output_type": "stream",
          "text": [
            "[1 8 6]\n"
          ],
          "name": "stdout"
        },
        {
          "output_type": "execute_result",
          "data": {
            "text/plain": [
              "{9}"
            ]
          },
          "metadata": {
            "tags": []
          },
          "execution_count": 65
        }
      ]
    },
    {
      "cell_type": "code",
      "metadata": {
        "ExecuteTime": {
          "end_time": "2020-05-05T12:14:01.706395Z",
          "start_time": "2020-05-05T12:13:38.997520Z"
        },
        "hidden": true,
        "id": "ytDhXBtkVo-1",
        "colab": {
          "base_uri": "https://localhost:8080/",
          "height": 1000
        },
        "outputId": "ab4c896f-edf2-49c8-db7e-9717f3db8a89"
      },
      "source": [
        "model_ovfit2 = keras.Sequential([\n",
        "    keras.layers.Flatten(input_shape=(32, 32)),\n",
        "    keras.layers.Dense(128,activation=tf.nn.relu ),\n",
        "    keras.layers.Dropout(0.5),\n",
        "    keras.layers.Dense(128,activation=tf.nn.relu ),\n",
        "    keras.layers.Dropout(0.5),\n",
        "    keras.layers.Dense(128,activation=tf.nn.relu ),\n",
        "    keras.layers.Dropout(0.5),\n",
        "    keras.layers.Dense(10, activation=tf.nn.softmax)\n",
        "])\n",
        "\n",
        "\n",
        "model_ovfit2.compile(optimizer='adam',\n",
        "              loss='categorical_crossentropy',\n",
        "              metrics=['accuracy'])\n",
        "\n",
        "\n",
        "history_ovfit2 = model_ovfit2.fit(X_train[:n_s],Y_train[:n_s],\n",
        "                                  validation_data = (X_test, Y_test),\n",
        "#                                   validation_split=0.05,\n",
        "                                  epochs=20 ,\n",
        "                                  batch_size=256, verbose=1)\n",
        "\n",
        "# Plot training & validation accuracy values\n",
        "fig = plt.figure(figsize=(10,5))\n",
        "ax = fig.add_subplot(1,2,1, title = 'Model accuracy', ylabel= 'Accuracy')\n",
        "plt.plot(history_ovfit2.history['accuracy'])\n",
        "plt.plot(history_ovfit2.history['val_accuracy'])\n",
        "plt.legend(['Train', 'Test'], loc='upper left')\n",
        "\n",
        "# Plot training & validation loss values\n",
        "ax = fig.add_subplot(1,2,2, title = 'Model loss', ylabel= 'Loss')\n",
        "plt.plot(history_ovfit2.history['loss'])\n",
        "plt.plot(history_ovfit2.history['val_loss'])\n",
        "plt.legend(['Train', 'Test'], loc='upper left')\n",
        "\n",
        "plt.tight_layout()\n",
        "plt.show()"
      ],
      "execution_count": null,
      "outputs": [
        {
          "output_type": "stream",
          "name": "stdout",
          "text": [
            "Epoch 1/20\n",
            "40/40 [==============================] - 3s 20ms/step - loss: 1.8244 - accuracy: 0.3492 - val_loss: 0.7891 - val_accuracy: 0.8146\n",
            "Epoch 2/20\n",
            "40/40 [==============================] - 0s 10ms/step - loss: 0.8729 - accuracy: 0.7114 - val_loss: 0.3615 - val_accuracy: 0.8926\n",
            "Epoch 3/20\n",
            "40/40 [==============================] - 1s 14ms/step - loss: 0.5334 - accuracy: 0.8319 - val_loss: 0.2719 - val_accuracy: 0.9173\n",
            "Epoch 4/20\n",
            "40/40 [==============================] - 1s 14ms/step - loss: 0.4297 - accuracy: 0.8713 - val_loss: 0.2427 - val_accuracy: 0.9278\n",
            "Epoch 5/20\n",
            "40/40 [==============================] - 1s 22ms/step - loss: 0.3580 - accuracy: 0.8942 - val_loss: 0.2065 - val_accuracy: 0.9407\n",
            "Epoch 6/20\n",
            "40/40 [==============================] - 1s 23ms/step - loss: 0.3107 - accuracy: 0.9082 - val_loss: 0.1905 - val_accuracy: 0.9463\n",
            "Epoch 7/20\n",
            "40/40 [==============================] - 0s 10ms/step - loss: 0.2835 - accuracy: 0.9171 - val_loss: 0.1822 - val_accuracy: 0.9485\n",
            "Epoch 8/20\n",
            "40/40 [==============================] - 0s 10ms/step - loss: 0.2522 - accuracy: 0.9260 - val_loss: 0.1812 - val_accuracy: 0.9507\n",
            "Epoch 9/20\n",
            "40/40 [==============================] - 0s 12ms/step - loss: 0.2265 - accuracy: 0.9332 - val_loss: 0.1681 - val_accuracy: 0.9534\n",
            "Epoch 10/20\n",
            "40/40 [==============================] - 1s 22ms/step - loss: 0.2083 - accuracy: 0.9383 - val_loss: 0.1689 - val_accuracy: 0.9537\n",
            "Epoch 11/20\n",
            "40/40 [==============================] - 1s 15ms/step - loss: 0.2018 - accuracy: 0.9410 - val_loss: 0.1646 - val_accuracy: 0.9552\n",
            "Epoch 12/20\n",
            "40/40 [==============================] - 0s 12ms/step - loss: 0.1833 - accuracy: 0.9471 - val_loss: 0.1630 - val_accuracy: 0.9571\n",
            "Epoch 13/20\n",
            "40/40 [==============================] - 0s 13ms/step - loss: 0.1735 - accuracy: 0.9495 - val_loss: 0.1558 - val_accuracy: 0.9594\n",
            "Epoch 14/20\n",
            "40/40 [==============================] - 0s 10ms/step - loss: 0.1664 - accuracy: 0.9524 - val_loss: 0.1636 - val_accuracy: 0.9588\n",
            "Epoch 15/20\n",
            "40/40 [==============================] - 0s 12ms/step - loss: 0.1557 - accuracy: 0.9540 - val_loss: 0.1567 - val_accuracy: 0.9601\n",
            "Epoch 16/20\n",
            "40/40 [==============================] - 0s 10ms/step - loss: 0.1489 - accuracy: 0.9585 - val_loss: 0.1513 - val_accuracy: 0.9620\n",
            "Epoch 17/20\n",
            "40/40 [==============================] - 0s 11ms/step - loss: 0.1472 - accuracy: 0.9573 - val_loss: 0.1529 - val_accuracy: 0.9612\n",
            "Epoch 18/20\n",
            "40/40 [==============================] - 1s 13ms/step - loss: 0.1257 - accuracy: 0.9611 - val_loss: 0.1526 - val_accuracy: 0.9624\n",
            "Epoch 19/20\n",
            "40/40 [==============================] - 0s 10ms/step - loss: 0.1288 - accuracy: 0.9611 - val_loss: 0.1510 - val_accuracy: 0.9619\n",
            "Epoch 20/20\n",
            "40/40 [==============================] - 1s 13ms/step - loss: 0.1191 - accuracy: 0.9664 - val_loss: 0.1495 - val_accuracy: 0.9631\n"
          ]
        },
        {
          "output_type": "display_data",
          "data": {
            "text/plain": [
              "<Figure size 1000x500 with 2 Axes>"
            ],
            "image/png": "[encoded data removed]"
          },
          "metadata": {}
        }
      ]
    },
    {
      "cell_type": "markdown",
      "metadata": {
        "id": "VwbHxmuD6NM0"
      },
      "source": [
        "***Assignment*** Play with these models and their hyperparameters to get a sense of how they affect the NN."
      ]
    },
    {
      "cell_type": "markdown",
      "metadata": {
        "heading_collapsed": true,
        "id": "P8vK4_a66NM0"
      },
      "source": [
        "## Full Pipeline"
      ]
    },
    {
      "cell_type": "markdown",
      "metadata": {
        "id": "T4Q02xlYSv-y"
      },
      "source": [
        "### Cross-Validation"
      ]
    },
    {
      "cell_type": "code",
      "metadata": {
        "ExecuteTime": {
          "end_time": "2020-05-05T11:47:41.623297Z",
          "start_time": "2020-05-05T11:47:25.185Z"
        },
        "hidden": true,
        "id": "pj648Rn26NM1",
        "init_cell": true
      },
      "source": [
        "from tensorflow.keras.wrappers.scikit_learn import KerasClassifier\n",
        "from sklearn.model_selection import StratifiedKFold\n",
        "from sklearn.model_selection import cross_val_score"
      ],
      "execution_count": null,
      "outputs": []
    },
    {
      "cell_type": "code",
      "metadata": {
        "ExecuteTime": {
          "end_time": "2020-05-05T04:06:54.097523Z",
          "start_time": "2020-05-05T04:06:54.087520Z"
        },
        "hidden": true,
        "id": "Qt50--ib6NM4"
      },
      "source": [
        "def model_fn():\n",
        "    model = keras.Sequential([\n",
        "    keras.layers.Flatten(input_shape=(32, 32)),\n",
        "    keras.layers.Dense(128,activation=tf.nn.relu, kernel_regularizer=keras.regularizers.l2(0.1) ),\n",
        "    keras.layers.Dense(128,activation=tf.nn.relu, kernel_regularizer=keras.regularizers.l2(0.1)),\n",
        "    keras.layers.Dense(128,activation=tf.nn.relu, kernel_regularizer=keras.regularizers.l2(0.1)),\n",
        "    keras.layers.Dense(10, activation=tf.nn.softmax)\n",
        "        ])\n",
        "    model.compile(loss='sparse_categorical_crossentropy', optimizer='adam', metrics=['accuracy'])\n",
        "\n",
        "    return model"
      ],
      "execution_count": null,
      "outputs": []
    },
    {
      "cell_type": "code",
      "metadata": {
        "ExecuteTime": {
          "end_time": "2020-05-05T04:16:12.521139Z",
          "start_time": "2020-05-05T04:15:36.042575Z"
        },
        "hidden": true,
        "id": "LIYnElae6NM6"
      },
      "source": [
        "epch = 10\n",
        "batch_sz = 500\n",
        "\n",
        "from sklearn.model_selection import KFold\n",
        "n_folds = 3\n",
        "kf = KFold(n_splits=n_folds, shuffle=True)\n",
        "\n",
        "\n",
        "loss = []\n",
        "acc = []\n",
        "val_loss = []\n",
        "val_acc = []\n",
        "\n",
        "# cross validate:\n",
        "for train_index, val_index in kf.split(X):\n",
        "    model = model_fn()\n",
        "    hist = model.fit(X[train_index], Y[train_index],\n",
        "                     epochs=epch,\n",
        "                     batch_size=500,\n",
        "                     validation_data = (X[val_index], Y[val_index]),\n",
        "                     verbose=0)\n",
        "    loss.append(hist.history['loss'])\n",
        "    acc.append(hist.history['accuracy'])\n",
        "    val_loss.append([hist.history['val_loss']])\n",
        "    val_acc.append(hist.history['val_accuracy'])\n",
        "\n",
        "loss = np.array(loss).reshape(n_folds, epch )\n",
        "acc = np.array(acc).reshape(n_folds, epch )\n",
        "val_loss = np.array(val_loss).reshape(n_folds, epch )\n",
        "val_acc  = np.array(val_acc).reshape(n_folds, epch )"
      ],
      "execution_count": null,
      "outputs": []
    },
    {
      "cell_type": "code",
      "metadata": {
        "ExecuteTime": {
          "end_time": "2020-05-05T04:21:01.248603Z",
          "start_time": "2020-05-05T04:21:01.086563Z"
        },
        "hidden": true,
        "id": "DthArtMj6NM8",
        "colab": {
          "base_uri": "https://localhost:8080/",
          "height": 274
        },
        "outputId": "16f3ff6f-4d0f-4a5f-f710-8ec267ce4c72"
      },
      "source": [
        "loss_m = loss.mean(axis=0)\n",
        "loss_s = loss.var(axis=0)\n",
        "\n",
        "\n",
        "val_loss_m = val_loss.mean(axis=0)\n",
        "val_loss_s = val_loss.var(axis=0)\n",
        "\n",
        "plt.plot(loss_m, label = 'Training')\n",
        "plt.fill_between(range(len(loss_m)),loss_m-loss_s/2, loss_m+loss_s/2)\n",
        "plt.plot(val_loss_m, label = 'Validation')\n",
        "plt.fill_between(range(len(loss_m)),val_loss_m-loss_s/2, val_loss_m+loss_s/2)\n",
        "plt.legend(loc=0)\n",
        "plt.show()"
      ],
      "execution_count": null,
      "outputs": [
        {
          "output_type": "display_data",
          "data": {
            "image/png": "[encoded data removed]",
            "text/plain": [
              "<Figure size 432x288 with 1 Axes>"
            ]
          },
          "metadata": {
            "tags": [],
            "needs_background": "light"
          }
        }
      ]
    },
    {
      "cell_type": "code",
      "metadata": {
        "ExecuteTime": {
          "end_time": "2020-05-04T18:00:31.915530Z",
          "start_time": "2020-05-04T17:51:58.408057Z"
        },
        "hidden": true,
        "id": "I2rhLAAY6NM_",
        "colab": {
          "base_uri": "https://localhost:8080/"
        },
        "outputId": "ccf0d19c-29e3-4d01-f1cd-230e800f19da"
      },
      "source": [
        "ks_model = KerasClassifier(build_fn=model_fn, epochs=10, batch_size=500, verbose=0)\n",
        "# evaluate using 10-fold cross validation\n",
        "kfold = StratifiedKFold(n_splits=10, shuffle=True, random_state=0)\n",
        "results = cross_val_score(ks_model, X, Y, cv=kfold)\n",
        "print(results.mean())"
      ],
      "execution_count": null,
      "outputs": [
        {
          "output_type": "stream",
          "text": [
            "185/185 [==============================] - 1s 3ms/step - loss: 1.0863 - accuracy: 0.8747\n",
            "Epoch 5/10\n",
            "185/185 [==============================] - 1s 3ms/step - loss: 1.0307 - accuracy: 0.8774\n",
            "Epoch 6/10\n",
            "185/185 [==============================] - 1s 3ms/step - loss: 0.9866 - accuracy: 0.8791\n",
            "Epoch 7/10\n",
            "185/185 [==============================] - 1s 3ms/step - loss: 0.9589 - accuracy: 0.8792\n",
            "Epoch 8/10\n",
            "185/185 [==============================] - 1s 3ms/step - loss: 0.9314 - accuracy: 0.8814\n",
            "Epoch 9/10\n",
            "185/185 [==============================] - 1s 3ms/step - loss: 0.9105 - accuracy: 0.8828\n",
            "Epoch 10/10\n",
            "185/185 [==============================] - 1s 3ms/step - loss: 0.8932 - accuracy: 0.8840\n",
            "21/21 [==============================] - 0s 3ms/step - loss: 0.8872 - accuracy: 0.8837\n",
            "Epoch 1/10\n",
            "185/185 [==============================] - 1s 3ms/step - loss: 21.7063 - accuracy: 0.6687\n",
            "Epoch 2/10\n",
            "185/185 [==============================] - 1s 3ms/step - loss: 1.5076 - accuracy: 0.8679\n",
            "Epoch 3/10\n",
            "185/185 [==============================] - 1s 3ms/step - loss: 1.2157 - accuracy: 0.8791\n",
            "Epoch 4/10\n",
            "185/185 [==============================] - 1s 3ms/step - loss: 1.1130 - accuracy: 0.8777\n",
            "Epoch 5/10\n",
            "185/185 [==============================] - 1s 3ms/step - loss: 1.0412 - accuracy: 0.8778\n",
            "Epoch 6/10\n",
            "185/185 [==============================] - 1s 3ms/step - loss: 0.9971 - accuracy: 0.8789\n",
            "Epoch 7/10\n",
            "185/185 [==============================] - 1s 3ms/step - loss: 0.9597 - accuracy: 0.8809\n",
            "Epoch 8/10\n",
            "185/185 [==============================] - 1s 3ms/step - loss: 0.9356 - accuracy: 0.8821\n",
            "Epoch 9/10\n",
            "185/185 [==============================] - 1s 3ms/step - loss: 0.9195 - accuracy: 0.8823\n",
            "Epoch 10/10\n",
            "185/185 [==============================] - 1s 3ms/step - loss: 0.8975 - accuracy: 0.8844\n",
            "21/21 [==============================] - 0s 3ms/step - loss: 0.8965 - accuracy: 0.8900\n",
            "0.8914042711257935\n"
          ],
          "name": "stdout"
        }
      ]
    },
    {
      "cell_type": "code",
      "metadata": {
        "id": "nvd95MkYzdC7",
        "colab": {
          "base_uri": "https://localhost:8080/"
        },
        "outputId": "44268a25-16db-41e1-e16b-18220610b861"
      },
      "source": [
        "results"
      ],
      "execution_count": null,
      "outputs": [
        {
          "output_type": "execute_result",
          "data": {
            "text/plain": [
              "array([0.88100821, 0.89292693, 0.89057159, 0.90327311, 0.89643383,\n",
              "       0.88754272, 0.90239376, 0.88617492, 0.88373232, 0.88998532])"
            ]
          },
          "metadata": {
            "tags": []
          },
          "execution_count": 68
        }
      ]
    },
    {
      "cell_type": "code",
      "metadata": {
        "ExecuteTime": {
          "end_time": "2020-05-05T01:27:06.263868Z",
          "start_time": "2020-05-05T01:27:06.256867Z"
        },
        "hidden": true,
        "id": "deo1n1Ht6NNA"
      },
      "source": [
        "from keras.callbacks import EarlyStopping, ModelCheckpoint, CSVLogger\n",
        "\n",
        "csv_logger = CSVLogger('training.log', append=True)\n",
        "calls=[csv_logger, EarlyStopping(monitor='val_loss', patience=10), ModelCheckpoint('model_log', monitor='acc', save_best_only=True, mode='auto')]\n"
      ],
      "execution_count": null,
      "outputs": []
    },
    {
      "cell_type": "code",
      "metadata": {
        "ExecuteTime": {
          "end_time": "2020-05-05T01:28:02.810941Z",
          "start_time": "2020-05-05T01:27:38.679688Z"
        },
        "hidden": true,
        "id": "GCv2K_up6NNC"
      },
      "source": [
        "ks_model = KerasClassifier(build_fn=model_fn, epochs=10, batch_size=500, verbose=0  )\n",
        "# evaluate using 10-fold cross validation\n",
        "kfold = StratifiedKFold(n_splits=3, shuffle=True, random_state=0 )\n",
        "results = cross_val_score(ks_model, X, Y, cv=kfold,\n",
        "                      fit_params = {'callbacks': calls})\n",
        "print(results.mean())\n"
      ],
      "execution_count": null,
      "outputs": []
    },
    {
      "cell_type": "code",
      "metadata": {
        "ExecuteTime": {
          "end_time": "2020-05-05T01:28:18.736188Z",
          "start_time": "2020-05-05T01:28:18.708073Z"
        },
        "hidden": true,
        "id": "uyLEhShY6NND",
        "colab": {
          "base_uri": "https://localhost:8080/",
          "height": 387
        },
        "outputId": "fcf31dd6-8d8f-40bd-d684-14159a4f451a"
      },
      "source": [
        "import pandas as pd\n",
        "df = pd.read_csv('training.log')\n",
        "df.groupby('epoch').mean()"
      ],
      "execution_count": null,
      "outputs": [
        {
          "output_type": "execute_result",
          "data": {
            "text/html": [
              "<div>\n",
              "<style scoped>\n",
              "    .dataframe tbody tr th:only-of-type {\n",
              "        vertical-align: middle;\n",
              "    }\n",
              "\n",
              "    .dataframe tbody tr th {\n",
              "        vertical-align: top;\n",
              "    }\n",
              "\n",
              "    .dataframe thead th {\n",
              "        text-align: right;\n",
              "    }\n",
              "</style>\n",
              "<table border=\"1\" class=\"dataframe\">\n",
              "  <thead>\n",
              "    <tr style=\"text-align: right;\">\n",
              "      <th></th>\n",
              "      <th>accuracy</th>\n",
              "      <th>loss</th>\n",
              "    </tr>\n",
              "    <tr>\n",
              "      <th>epoch</th>\n",
              "      <th></th>\n",
              "      <th></th>\n",
              "    </tr>\n",
              "  </thead>\n",
              "  <tbody>\n",
              "    <tr>\n",
              "      <th>0</th>\n",
              "      <td>0.777454</td>\n",
              "      <td>13.280245</td>\n",
              "    </tr>\n",
              "    <tr>\n",
              "      <th>1</th>\n",
              "      <td>0.867018</td>\n",
              "      <td>1.675638</td>\n",
              "    </tr>\n",
              "    <tr>\n",
              "      <th>2</th>\n",
              "      <td>0.873090</td>\n",
              "      <td>1.282109</td>\n",
              "    </tr>\n",
              "    <tr>\n",
              "      <th>3</th>\n",
              "      <td>0.877511</td>\n",
              "      <td>1.168730</td>\n",
              "    </tr>\n",
              "    <tr>\n",
              "      <th>4</th>\n",
              "      <td>0.881014</td>\n",
              "      <td>1.099520</td>\n",
              "    </tr>\n",
              "    <tr>\n",
              "      <th>5</th>\n",
              "      <td>0.883573</td>\n",
              "      <td>1.053082</td>\n",
              "    </tr>\n",
              "    <tr>\n",
              "      <th>6</th>\n",
              "      <td>0.885181</td>\n",
              "      <td>1.016071</td>\n",
              "    </tr>\n",
              "    <tr>\n",
              "      <th>7</th>\n",
              "      <td>0.887867</td>\n",
              "      <td>0.985722</td>\n",
              "    </tr>\n",
              "    <tr>\n",
              "      <th>8</th>\n",
              "      <td>0.888141</td>\n",
              "      <td>0.963722</td>\n",
              "    </tr>\n",
              "    <tr>\n",
              "      <th>9</th>\n",
              "      <td>0.890188</td>\n",
              "      <td>0.942424</td>\n",
              "    </tr>\n",
              "  </tbody>\n",
              "</table>\n",
              "</div>"
            ],
            "text/plain": [
              "       accuracy       loss\n",
              "epoch                     \n",
              "0      0.777454  13.280245\n",
              "1      0.867018   1.675638\n",
              "2      0.873090   1.282109\n",
              "3      0.877511   1.168730\n",
              "4      0.881014   1.099520\n",
              "5      0.883573   1.053082\n",
              "6      0.885181   1.016071\n",
              "7      0.887867   0.985722\n",
              "8      0.888141   0.963722\n",
              "9      0.890188   0.942424"
            ]
          },
          "metadata": {
            "tags": []
          },
          "execution_count": 19
        }
      ]
    },
    {
      "cell_type": "code",
      "metadata": {
        "ExecuteTime": {
          "end_time": "2020-05-05T01:28:20.445902Z",
          "start_time": "2020-05-05T01:28:20.248378Z"
        },
        "hidden": true,
        "id": "IpgHf74L6NNG",
        "colab": {
          "base_uri": "https://localhost:8080/",
          "height": 309
        },
        "outputId": "94d1cd09-3cb9-400e-c5e1-d8c16bb8fda5"
      },
      "source": [
        "plt.plot(df.groupby('epoch').mean())"
      ],
      "execution_count": null,
      "outputs": [
        {
          "output_type": "execute_result",
          "data": {
            "text/plain": [
              "[<matplotlib.lines.Line2D at 0x7f23be6f67d0>,\n",
              " <matplotlib.lines.Line2D at 0x7f23be6f69d0>]"
            ]
          },
          "metadata": {
            "tags": []
          },
          "execution_count": 75
        },
        {
          "output_type": "display_data",
          "data": {
            "image/png": "[encoded data removed]",
            "text/plain": [
              "<Figure size 432x288 with 1 Axes>"
            ]
          },
          "metadata": {
            "tags": [],
            "needs_background": "light"
          }
        }
      ]
    },
    {
      "cell_type": "markdown",
      "metadata": {
        "heading_collapsed": true,
        "id": "S18FYblP6NNI"
      },
      "source": [
        "### Tuning"
      ]
    },
    {
      "cell_type": "code",
      "metadata": {
        "ExecuteTime": {
          "end_time": "2020-05-05T08:10:05.814848Z",
          "start_time": "2020-05-05T08:10:05.503260Z"
        },
        "hidden": true,
        "id": "DtnAiqBx6NNK",
        "colab": {
          "base_uri": "https://localhost:8080/"
        },
        "outputId": "6b00282b-3af1-475b-a625-03b02e15fc51"
      },
      "source": [
        "def model_fn(dense_layer_sizes, regularizations, dropouts, lr=.1):\n",
        "    model = keras.Sequential()\n",
        "\n",
        "    model.add(  keras.layers.Flatten(input_shape=(32, 32)) )\n",
        "\n",
        "    for i in range( len(dense_layer_sizes )):\n",
        "        model.add( keras.layers.Dense( dense_layer_sizes[i],\n",
        "                                      activation=tf.nn.relu,\n",
        "                                      kernel_regularizer=keras.regularizers.l2(regularizations[i])\n",
        "                                     ) )\n",
        "        model.add(keras.layers.Dropout( dropouts[i] ) )\n",
        "\n",
        "\n",
        "    model.add(keras.layers.Dense(10, activation=tf.nn.softmax))\n",
        "\n",
        "    model.compile(loss='sparse_categorical_crossentropy',\n",
        "                  optimizer=keras.optimizers.Adam(learning_rate=lr),\n",
        "                  metrics=['accuracy'])\n",
        "\n",
        "\n",
        "    return model\n",
        "\n",
        "mdl = model_fn([100, 30], [.001, .001], [.001, .001], .1)\n",
        "# mdl = model_fn([128], [.01], [.01])\n",
        "mdl.summary()"
      ],
      "execution_count": null,
      "outputs": [
        {
          "output_type": "stream",
          "text": [
            "Model: \"sequential_26\"\n",
            "_________________________________________________________________\n",
            "Layer (type)                 Output Shape              Param #   \n",
            "=================================================================\n",
            "flatten_26 (Flatten)         (None, 1024)              0         \n",
            "_________________________________________________________________\n",
            "dense_100 (Dense)            (None, 100)               102500    \n",
            "_________________________________________________________________\n",
            "dropout_3 (Dropout)          (None, 100)               0         \n",
            "_________________________________________________________________\n",
            "dense_101 (Dense)            (None, 30)                3030      \n",
            "_________________________________________________________________\n",
            "dropout_4 (Dropout)          (None, 30)                0         \n",
            "_________________________________________________________________\n",
            "dense_102 (Dense)            (None, 10)                310       \n",
            "=================================================================\n",
            "Total params: 105,840\n",
            "Trainable params: 105,840\n",
            "Non-trainable params: 0\n",
            "_________________________________________________________________\n"
          ],
          "name": "stdout"
        }
      ]
    },
    {
      "cell_type": "code",
      "metadata": {
        "hidden": true,
        "id": "Be-I-Tae_8au",
        "colab": {
          "base_uri": "https://localhost:8080/"
        },
        "outputId": "fc9f8ca6-ec2d-4669-a196-29195a542543"
      },
      "source": [
        "def model_fn(dense_layer_sizes, lr=.1):\n",
        "    model = keras.Sequential()\n",
        "\n",
        "    model.add(  keras.layers.Flatten(input_shape=(32, 32)) )\n",
        "\n",
        "    for i in range( len(dense_layer_sizes )):\n",
        "        model.add( keras.layers.Dense( dense_layer_sizes[i],\n",
        "                                      activation=tf.nn.relu #,\n",
        "                                      # kernel_regularizer=keras.regularizers.l2(regularizations[i])\n",
        "                                     ) )\n",
        "        # model.add(keras.layers.Dropout( dropouts[i] ) )\n",
        "\n",
        "\n",
        "    model.add(keras.layers.Dense(10, activation=tf.nn.softmax))\n",
        "\n",
        "    model.compile(loss='categorical_crossentropy',\n",
        "                  optimizer=keras.optimizers.Adam(learning_rate=lr),\n",
        "                  metrics=['accuracy'])\n",
        "\n",
        "\n",
        "    return model\n",
        "\n",
        "mdl = model_fn([100, 30], .1)\n",
        "# mdl = model_fn([128], [.01], [.01])\n",
        "mdl.summary()"
      ],
      "execution_count": null,
      "outputs": [
        {
          "output_type": "stream",
          "text": [
            "Model: \"sequential_28\"\n",
            "_________________________________________________________________\n",
            "Layer (type)                 Output Shape              Param #   \n",
            "=================================================================\n",
            "flatten_28 (Flatten)         (None, 1024)              0         \n",
            "_________________________________________________________________\n",
            "dense_106 (Dense)            (None, 100)               102500    \n",
            "_________________________________________________________________\n",
            "dense_107 (Dense)            (None, 30)                3030      \n",
            "_________________________________________________________________\n",
            "dense_108 (Dense)            (None, 10)                310       \n",
            "=================================================================\n",
            "Total params: 105,840\n",
            "Trainable params: 105,840\n",
            "Non-trainable params: 0\n",
            "_________________________________________________________________\n"
          ],
          "name": "stdout"
        }
      ]
    },
    {
      "cell_type": "code",
      "metadata": {
        "id": "x7X9j-L20yQI",
        "colab": {
          "base_uri": "https://localhost:8080/"
        },
        "outputId": "027c982d-9d9a-4677-bbf5-7ea97c3f8cb0"
      },
      "source": [
        "Y_train.shape"
      ],
      "execution_count": null,
      "outputs": [
        {
          "output_type": "execute_result",
          "data": {
            "text/plain": [
              "(76764, 10)"
            ]
          },
          "metadata": {
            "tags": []
          },
          "execution_count": 81
        }
      ]
    },
    {
      "cell_type": "code",
      "metadata": {
        "ExecuteTime": {
          "end_time": "2020-05-05T07:58:30.095309Z",
          "start_time": "2020-05-05T07:58:25.423506Z"
        },
        "hidden": true,
        "id": "54hdiyCJ6NNM",
        "colab": {
          "base_uri": "https://localhost:8080/"
        },
        "outputId": "d762cf13-1541-4c4f-9b0c-045652efa095"
      },
      "source": [
        "btch_size = 500\n",
        "epch = 3\n",
        "history = mdl.fit(X_train, Y_train, batch_size=btch_size, epochs=epch )"
      ],
      "execution_count": null,
      "outputs": [
        {
          "output_type": "stream",
          "text": [
            "Epoch 1/3\n",
            "154/154 [==============================] - 1s 3ms/step - loss: 3.0966 - accuracy: 0.2302\n",
            "Epoch 2/3\n",
            "154/154 [==============================] - 1s 3ms/step - loss: 1.4589 - accuracy: 0.3688\n",
            "Epoch 3/3\n",
            "154/154 [==============================] - 1s 3ms/step - loss: 1.4039 - accuracy: 0.4468\n"
          ],
          "name": "stdout"
        }
      ]
    },
    {
      "cell_type": "code",
      "metadata": {
        "ExecuteTime": {
          "end_time": "2020-05-05T08:09:12.538655Z",
          "start_time": "2020-05-05T08:09:09.671588Z"
        },
        "hidden": true,
        "id": "dsYdfxHU6NNN"
      },
      "source": [
        "# Grid search over these:\n",
        "dense_size_candidates = [(10, 40), (50) , (20) ]\n",
        "# regularizations_candidates = [ (.01), (.01), (.001) ]\n",
        "# dropouts_candidates = [  (.005), (.01), (.003) ]\n",
        "lr_candidates = [.1]\n",
        "# epch_list = [4, 10]\n",
        "batch_size_candidates = 500\n",
        "\n",
        "from tensorflow.keras.wrappers.scikit_learn import KerasClassifier\n",
        "from sklearn.model_selection import StratifiedKFold, cross_val_score, GridSearchCV\n",
        "# from sklearn.model_selection import\n",
        "\n",
        "gs_classifier = KerasClassifier(model_fn, batch_size=500, epochs=5)\n"
      ],
      "execution_count": null,
      "outputs": []
    },
    {
      "cell_type": "code",
      "metadata": {
        "ExecuteTime": {
          "start_time": "2020-05-05T08:08:30.103Z"
        },
        "hidden": true,
        "id": "wg2QxTSa6NNO",
        "colab": {
          "base_uri": "https://localhost:8080/"
        },
        "outputId": "c32830f5-0dfa-4280-a3a8-6d6cd8de000a"
      },
      "source": [
        "validator = GridSearchCV(gs_classifier,\n",
        "                         param_grid={'dense_layer_sizes': dense_size_candidates,\n",
        "                                     # epochs is avail for tuning even when not\n",
        "                                     # an argument to model building function\n",
        "                                     'epochs': [3],\n",
        "                                    #  'regularizations': regularizations_candidates,\n",
        "                                    #  'dropouts': dropouts_candidates,\n",
        "                                     'lr': lr_candidates},\n",
        "                         scoring='neg_log_loss',\n",
        "                         n_jobs= 1,  )\n",
        "validator.fit(X_train, Y_train)"
      ],
      "execution_count": null,
      "outputs": [
        {
          "output_type": "stream",
          "text": [
            "Epoch 1/3\n",
            "123/123 [==============================] - 1s 3ms/step - loss: 2.1302 - accuracy: 0.2106\n",
            "Epoch 2/3\n",
            "123/123 [==============================] - 0s 3ms/step - loss: 1.5675 - accuracy: 0.3712\n",
            "Epoch 3/3\n",
            "123/123 [==============================] - 0s 3ms/step - loss: 1.4028 - accuracy: 0.4360\n",
            "Epoch 1/3\n",
            "123/123 [==============================] - 1s 3ms/step - loss: 2.4252 - accuracy: 0.1331\n",
            "Epoch 2/3\n",
            "123/123 [==============================] - 0s 3ms/step - loss: 2.0549 - accuracy: 0.1869\n",
            "Epoch 3/3\n",
            "123/123 [==============================] - 0s 3ms/step - loss: 2.0436 - accuracy: 0.1891\n",
            "Epoch 1/3\n",
            "123/123 [==============================] - 1s 3ms/step - loss: 2.1963 - accuracy: 0.2215\n",
            "Epoch 2/3\n",
            "123/123 [==============================] - 0s 3ms/step - loss: 1.4566 - accuracy: 0.3992\n",
            "Epoch 3/3\n",
            "123/123 [==============================] - 0s 3ms/step - loss: 1.3532 - accuracy: 0.4463\n",
            "Epoch 1/3\n",
            "123/123 [==============================] - 1s 3ms/step - loss: 1.7422 - accuracy: 0.3871\n",
            "Epoch 2/3\n",
            "123/123 [==============================] - 0s 3ms/step - loss: 1.0245 - accuracy: 0.5714\n",
            "Epoch 3/3\n",
            "123/123 [==============================] - 0s 3ms/step - loss: 1.0696 - accuracy: 0.5450\n",
            "Epoch 1/3\n",
            "123/123 [==============================] - 1s 3ms/step - loss: 2.1755 - accuracy: 0.3088\n",
            "Epoch 2/3\n",
            "123/123 [==============================] - 0s 3ms/step - loss: 1.4210 - accuracy: 0.4377\n",
            "Epoch 3/3\n",
            "123/123 [==============================] - 0s 3ms/step - loss: 1.1393 - accuracy: 0.5199\n",
            "Epoch 1/3\n",
            "154/154 [==============================] - 1s 3ms/step - loss: 2.1110 - accuracy: 0.2652\n",
            "Epoch 2/3\n",
            "154/154 [==============================] - 1s 3ms/step - loss: 1.2125 - accuracy: 0.5106\n",
            "Epoch 3/3\n",
            "154/154 [==============================] - 0s 3ms/step - loss: 1.1541 - accuracy: 0.5324\n"
          ],
          "name": "stdout"
        },
        {
          "output_type": "execute_result",
          "data": {
            "text/plain": [
              "GridSearchCV(cv=None, error_score=nan,\n",
              "             estimator=<tensorflow.python.keras.wrappers.scikit_learn.KerasClassifier object at 0x7f23a84c2ed0>,\n",
              "             iid='deprecated', n_jobs=1,\n",
              "             param_grid={'dense_layer_sizes': [(10, 40), 50, 20], 'epochs': [3],\n",
              "                         'lr': [0.1]},\n",
              "             pre_dispatch='2*n_jobs', refit=True, return_train_score=False,\n",
              "             scoring='neg_log_loss', verbose=0)"
            ]
          },
          "metadata": {
            "tags": []
          },
          "execution_count": 84
        }
      ]
    },
    {
      "cell_type": "code",
      "metadata": {
        "hidden": true,
        "id": "7Ukq727P6NNR",
        "colab": {
          "base_uri": "https://localhost:8080/"
        },
        "outputId": "8fa28c7d-51f4-49e4-c784-e3a2d3458f0c"
      },
      "source": [
        "print('The parameters of the best model are: ')\n",
        "print(validator.best_params_)\n",
        "\n",
        "# validator.best_estimator_ returns sklearn-wrapped version of best model.\n",
        "# validator.best_estimator_.model returns the (unwrapped) keras model\n",
        "best_model = validator.best_estimator_.model"
      ],
      "execution_count": null,
      "outputs": [
        {
          "output_type": "stream",
          "text": [
            "The parameters of the best model are: \n",
            "{'dense_layer_sizes': (10, 40), 'epochs': 3, 'lr': 0.1}\n"
          ],
          "name": "stdout"
        }
      ]
    },
    {
      "cell_type": "code",
      "metadata": {
        "hidden": true,
        "id": "YlFEcqM_6NNU",
        "colab": {
          "base_uri": "https://localhost:8080/"
        },
        "outputId": "4d8aee31-344c-4cb5-cb20-a082e6f3574e"
      },
      "source": [
        "best_model.save('best_model')"
      ],
      "execution_count": null,
      "outputs": [
        {
          "output_type": "stream",
          "text": [
            "INFO:tensorflow:Assets written to: best_model/assets\n"
          ],
          "name": "stdout"
        }
      ]
    },
    {
      "cell_type": "markdown",
      "metadata": {
        "id": "otsClt1zHVNy"
      },
      "source": [
        "### Keras Tuner\n",
        "\n",
        "https://www.tensorflow.org/tutorials/keras/keras_tuner"
      ]
    },
    {
      "cell_type": "code",
      "metadata": {
        "colab": {
          "base_uri": "https://localhost:8080/"
        },
        "id": "CDYvd4MzHdis",
        "outputId": "db4c328f-5ced-41f1-b8dc-4335eb90e867"
      },
      "source": [
        "!pip install -q -U keras-tuner\n",
        "import kerastuner as kt\n"
      ],
      "execution_count": null,
      "outputs": [
        {
          "output_type": "stream",
          "name": "stdout",
          "text": [
            "\u001b[?25l\r\u001b[K     |███▍                            | 10 kB 23.8 MB/s eta 0:00:01\r\u001b[K     |██████▊                         | 20 kB 9.1 MB/s eta 0:00:01\r\u001b[K     |██████████                      | 30 kB 8.2 MB/s eta 0:00:01\r\u001b[K     |█████████████▍                  | 40 kB 7.6 MB/s eta 0:00:01\r\u001b[K     |████████████████▊               | 51 kB 4.1 MB/s eta 0:00:01\r\u001b[K     |████████████████████            | 61 kB 4.4 MB/s eta 0:00:01\r\u001b[K     |███████████████████████▍        | 71 kB 4.6 MB/s eta 0:00:01\r\u001b[K     |██████████████████████████▊     | 81 kB 5.2 MB/s eta 0:00:01\r\u001b[K     |██████████████████████████████  | 92 kB 3.9 MB/s eta 0:00:01\r\u001b[K     |████████████████████████████████| 98 kB 2.7 MB/s \n",
            "\u001b[?25h"
          ]
        }
      ]
    },
    {
      "cell_type": "code",
      "metadata": {
        "id": "4tt7riKYHvc_"
      },
      "source": [
        "# https://www.tensorflow.org/tutorials/keras/keras_tuner\n",
        "def model_builder(hp):\n",
        "  model = keras.Sequential()\n",
        "  model.add(keras.layers.Flatten(input_shape=(32, 32)))\n",
        "\n",
        "  # Tune the number of units in the first Dense layer\n",
        "  # Choose an optimal value between 32-512\n",
        "  hp_units = hp.Int('units', min_value=32, max_value=512, step=32)\n",
        "  model.add(keras.layers.Dense(units=hp_units,\n",
        "                               activation='relu',\n",
        "                               kernel_regularizer=keras.regularizers.l2(.05)))\n",
        "  model.add(keras.layers.Dense(10))\n",
        "\n",
        "  # Tune the learning rate for the optimizer\n",
        "  # Choose an optimal value from 0.01, 0.001, or 0.0001\n",
        "  hp_learning_rate = hp.Choice('learning_rate', values=[1e-2, 1e-3, 1e-4])\n",
        "\n",
        "  model.compile(optimizer=keras.optimizers.Adam(learning_rate=hp_learning_rate),\n",
        "                loss=keras.losses.SparseCategoricalCrossentropy(from_logits=True),\n",
        "                metrics=['accuracy'])\n",
        "\n",
        "  return model"
      ],
      "execution_count": null,
      "outputs": []
    },
    {
      "cell_type": "code",
      "metadata": {
        "id": "0ITdxQBxIElE"
      },
      "source": [
        "tuner = kt.Hyperband(model_builder,\n",
        "                     objective='val_accuracy',\n",
        "                     max_epochs=10,\n",
        "                     factor=3,\n",
        "                     directory='my_dir',\n",
        "                     project_name='intro_to_kt')"
      ],
      "execution_count": null,
      "outputs": []
    },
    {
      "cell_type": "code",
      "metadata": {
        "id": "v9Ybs1rNIH1_"
      },
      "source": [
        "stop_early = tf.keras.callbacks.EarlyStopping(monitor='val_loss', patience=5)"
      ],
      "execution_count": null,
      "outputs": []
    },
    {
      "cell_type": "code",
      "metadata": {
        "colab": {
          "base_uri": "https://localhost:8080/"
        },
        "id": "jZFEDhIEIP-v",
        "outputId": "8f2ecd2c-8337-42fb-c5ee-f44b1f777278"
      },
      "source": [
        "tuner.search(X_train, Y_train,\n",
        "             epochs=50,\n",
        "             batch_size = 100,\n",
        "             validation_split=0.2,\n",
        "             callbacks=[stop_early])\n",
        "\n",
        "# Get the optimal hyperparameters\n",
        "best_hps=tuner.get_best_hyperparameters(num_trials=1)[0]\n",
        "\n",
        "print(f\"\"\"\n",
        "The hyperparameter search is complete. The optimal number of units in the first densely-connected\n",
        "layer is {best_hps.get('units')} and the optimal learning rate for the optimizer\n",
        "is {best_hps.get('learning_rate')}.\n",
        "\"\"\")"
      ],
      "execution_count": null,
      "outputs": [
        {
          "output_type": "stream",
          "name": "stdout",
          "text": [
            "Trial 30 Complete [00h 00m 41s]\n",
            "val_accuracy: 0.9181919097900391\n",
            "\n",
            "Best val_accuracy So Far: 0.9513450264930725\n",
            "Total elapsed time: 00h 07m 32s\n",
            "INFO:tensorflow:Oracle triggered exit\n",
            "\n",
            "The hyperparameter search is complete. The optimal number of units in the first densely-connected\n",
            "layer is 448 and the optimal learning rate for the optimizer\n",
            "is 0.0001.\n",
            "\n"
          ]
        }
      ]
    },
    {
      "cell_type": "code",
      "metadata": {
        "colab": {
          "base_uri": "https://localhost:8080/"
        },
        "id": "4Gm7Co8iJDqY",
        "outputId": "011b9858-c3e9-4178-9629-b539e8bf098a"
      },
      "source": [
        "# Build the model with the optimal hyperparameters and train it on the data for 50 epochs\n",
        "model = tuner.hypermodel.build(best_hps)\n",
        "history = model.fit(X_train, Y_train,\n",
        "                    epochs=30,\n",
        "                    batch_size = 100,\n",
        "                    validation_data=(X_test, Y_test))\n",
        "\n",
        "val_acc_per_epoch = history.history['val_accuracy']\n",
        "best_epoch = val_acc_per_epoch.index(max(val_acc_per_epoch)) + 1\n",
        "print('Best epoch: %d' % (best_epoch,))"
      ],
      "execution_count": null,
      "outputs": [
        {
          "output_type": "stream",
          "text": [
            "Epoch 1/30\n",
            "768/768 [==============================] - 4s 4ms/step - loss: 4.4117 - accuracy: 0.8771 - val_loss: 0.4826 - val_accuracy: 0.9174\n",
            "Epoch 2/30\n",
            "768/768 [==============================] - 3s 4ms/step - loss: 0.4849 - accuracy: 0.9205 - val_loss: 0.4528 - val_accuracy: 0.9350\n",
            "Epoch 3/30\n",
            "768/768 [==============================] - 3s 4ms/step - loss: 0.4407 - accuracy: 0.9328 - val_loss: 0.4437 - val_accuracy: 0.9446\n",
            "Epoch 4/30\n",
            "768/768 [==============================] - 3s 4ms/step - loss: 0.4161 - accuracy: 0.9370 - val_loss: 0.3972 - val_accuracy: 0.9417\n",
            "Epoch 5/30\n",
            "768/768 [==============================] - 3s 4ms/step - loss: 0.3964 - accuracy: 0.9400 - val_loss: 0.3703 - val_accuracy: 0.9430\n",
            "Epoch 6/30\n",
            "768/768 [==============================] - 3s 4ms/step - loss: 0.3762 - accuracy: 0.9443 - val_loss: 0.3698 - val_accuracy: 0.9503\n",
            "Epoch 7/30\n",
            "768/768 [==============================] - 3s 4ms/step - loss: 0.3482 - accuracy: 0.9492 - val_loss: 0.3503 - val_accuracy: 0.9497\n",
            "Epoch 8/30\n",
            "768/768 [==============================] - 3s 4ms/step - loss: 0.3354 - accuracy: 0.9509 - val_loss: 0.3649 - val_accuracy: 0.9420\n",
            "Epoch 9/30\n",
            "768/768 [==============================] - 3s 4ms/step - loss: 0.3300 - accuracy: 0.9513 - val_loss: 0.2966 - val_accuracy: 0.9572\n",
            "Epoch 10/30\n",
            "768/768 [==============================] - 3s 4ms/step - loss: 0.3179 - accuracy: 0.9528 - val_loss: 0.3222 - val_accuracy: 0.9507\n",
            "Epoch 11/30\n",
            "768/768 [==============================] - 3s 4ms/step - loss: 0.3087 - accuracy: 0.9547 - val_loss: 0.2974 - val_accuracy: 0.9572\n",
            "Epoch 12/30\n",
            "768/768 [==============================] - 3s 4ms/step - loss: 0.2911 - accuracy: 0.9577 - val_loss: 0.2994 - val_accuracy: 0.9498\n",
            "Epoch 13/30\n",
            "768/768 [==============================] - 3s 4ms/step - loss: 0.2913 - accuracy: 0.9563 - val_loss: 0.3002 - val_accuracy: 0.9568\n",
            "Epoch 14/30\n",
            "768/768 [==============================] - 3s 4ms/step - loss: 0.2837 - accuracy: 0.9592 - val_loss: 0.2950 - val_accuracy: 0.9616\n",
            "Epoch 15/30\n",
            "768/768 [==============================] - 3s 4ms/step - loss: 0.2752 - accuracy: 0.9588 - val_loss: 0.2575 - val_accuracy: 0.9625\n",
            "Epoch 16/30\n",
            "768/768 [==============================] - 3s 4ms/step - loss: 0.2671 - accuracy: 0.9597 - val_loss: 0.2674 - val_accuracy: 0.9579\n",
            "Epoch 17/30\n",
            "768/768 [==============================] - 3s 4ms/step - loss: 0.2631 - accuracy: 0.9613 - val_loss: 0.2896 - val_accuracy: 0.9531\n",
            "Epoch 18/30\n",
            "768/768 [==============================] - 3s 4ms/step - loss: 0.2539 - accuracy: 0.9634 - val_loss: 0.2447 - val_accuracy: 0.9638\n",
            "Epoch 19/30\n",
            "768/768 [==============================] - 3s 4ms/step - loss: 0.2487 - accuracy: 0.9641 - val_loss: 0.2533 - val_accuracy: 0.9637\n",
            "Epoch 20/30\n",
            "768/768 [==============================] - 3s 4ms/step - loss: 0.2537 - accuracy: 0.9627 - val_loss: 0.2502 - val_accuracy: 0.9646\n",
            "Epoch 21/30\n",
            "768/768 [==============================] - 3s 4ms/step - loss: 0.2505 - accuracy: 0.9638 - val_loss: 0.2656 - val_accuracy: 0.9621\n",
            "Epoch 22/30\n",
            "768/768 [==============================] - 3s 4ms/step - loss: 0.2509 - accuracy: 0.9634 - val_loss: 0.2358 - val_accuracy: 0.9683\n",
            "Epoch 23/30\n",
            "768/768 [==============================] - 3s 4ms/step - loss: 0.2438 - accuracy: 0.9635 - val_loss: 0.2625 - val_accuracy: 0.9554\n",
            "Epoch 24/30\n",
            "768/768 [==============================] - 3s 4ms/step - loss: 0.2467 - accuracy: 0.9629 - val_loss: 0.2677 - val_accuracy: 0.9549\n",
            "Epoch 25/30\n",
            "768/768 [==============================] - 3s 4ms/step - loss: 0.2431 - accuracy: 0.9634 - val_loss: 0.2502 - val_accuracy: 0.9657\n",
            "Epoch 26/30\n",
            "768/768 [==============================] - 3s 4ms/step - loss: 0.2375 - accuracy: 0.9645 - val_loss: 0.2308 - val_accuracy: 0.9667\n",
            "Epoch 27/30\n",
            "768/768 [==============================] - 3s 4ms/step - loss: 0.2332 - accuracy: 0.9652 - val_loss: 0.2405 - val_accuracy: 0.9629\n",
            "Epoch 28/30\n",
            "768/768 [==============================] - 3s 4ms/step - loss: 0.2330 - accuracy: 0.9652 - val_loss: 0.2557 - val_accuracy: 0.9585\n",
            "Epoch 29/30\n",
            "768/768 [==============================] - 3s 4ms/step - loss: 0.2312 - accuracy: 0.9659 - val_loss: 0.2657 - val_accuracy: 0.9612\n",
            "Epoch 30/30\n",
            "768/768 [==============================] - 3s 4ms/step - loss: 0.2309 - accuracy: 0.9656 - val_loss: 0.2507 - val_accuracy: 0.9594\n",
            "Best epoch: 22\n"
          ],
          "name": "stdout"
        }
      ]
    },
    {
      "cell_type": "code",
      "metadata": {
        "colab": {
          "base_uri": "https://localhost:8080/",
          "height": 299
        },
        "id": "bXahszRoJMNF",
        "outputId": "db75ab32-3dfb-41f6-8572-24d5f85c5531"
      },
      "source": [
        "# Plot training & validation accuracy values\n",
        "fig = plt.figure(figsize=(14,5))\n",
        "ax = fig.add_subplot(1,2,1, title = 'Model accuracy', ylabel= 'Accuracy')\n",
        "plt.plot(history.history['accuracy'])\n",
        "plt.plot(history.history['val_accuracy'])\n",
        "plt.legend(['Train', 'Test'], loc='upper left')\n",
        "\n",
        "# Plot training & validation loss values\n",
        "ax = fig.add_subplot(1,2,2, title = 'Model loss', ylabel= 'Loss')\n",
        "plt.plot(history.history['loss'])\n",
        "plt.plot(history.history['val_loss'])\n",
        "plt.legend(['Train', 'Test'], loc='upper left')\n",
        "\n",
        "plt.tight_layout()\n",
        "plt.show()"
      ],
      "execution_count": null,
      "outputs": [
        {
          "output_type": "display_data",
          "data": {
            "image/png": "[encoded data removed]",
            "text/plain": [
              "<Figure size 1008x360 with 2 Axes>"
            ]
          },
          "metadata": {
            "tags": [],
            "needs_background": "light"
          }
        }
      ]
    },
    {
      "cell_type": "markdown",
      "metadata": {
        "heading_collapsed": true,
        "id": "PvZd8dNkagLl"
      },
      "source": [
        "## Try this for the particle identification problem."
      ]
    },
    {
      "cell_type": "code",
      "metadata": {
        "hidden": true,
        "id": "ipUS-xGwafLK",
        "colab": {
          "base_uri": "https://localhost:8080/",
          "height": 204
        },
        "outputId": "a1fde19e-511e-4dac-81d9-1b0c025ff322"
      },
      "source": [
        "import pandas as pd\n",
        "url = 'https://www.dropbox.com/s/66dbhxl93y41coe/particle-identification-from-detector-responses.zip?dl=1'\n",
        "s=requests.get(url, stream=True).content\n",
        "data=pd.read_csv(io.BytesIO(s) , compression='zip' )\n",
        "\n",
        "'''\n",
        "Alternatively, you can download the file into your computer and run the following code.\n",
        "You need to uncomment it first.\n",
        "'''\n",
        "\n",
        "# data = pd.read_csv('particle-identification-from-detector-responses.zip', compression='zip')\n",
        "data.head()"
      ],
      "execution_count": null,
      "outputs": [
        {
          "output_type": "execute_result",
          "data": {
            "text/html": [
              "<div>\n",
              "<style scoped>\n",
              "    .dataframe tbody tr th:only-of-type {\n",
              "        vertical-align: middle;\n",
              "    }\n",
              "\n",
              "    .dataframe tbody tr th {\n",
              "        vertical-align: top;\n",
              "    }\n",
              "\n",
              "    .dataframe thead th {\n",
              "        text-align: right;\n",
              "    }\n",
              "</style>\n",
              "<table border=\"1\" class=\"dataframe\">\n",
              "  <thead>\n",
              "    <tr style=\"text-align: right;\">\n",
              "      <th></th>\n",
              "      <th>id</th>\n",
              "      <th>p</th>\n",
              "      <th>theta</th>\n",
              "      <th>beta</th>\n",
              "      <th>nphe</th>\n",
              "      <th>ein</th>\n",
              "      <th>eout</th>\n",
              "    </tr>\n",
              "  </thead>\n",
              "  <tbody>\n",
              "    <tr>\n",
              "      <th>0</th>\n",
              "      <td>211</td>\n",
              "      <td>0.780041</td>\n",
              "      <td>1.081480</td>\n",
              "      <td>0.989962</td>\n",
              "      <td>0</td>\n",
              "      <td>0.000000</td>\n",
              "      <td>0.000000</td>\n",
              "    </tr>\n",
              "    <tr>\n",
              "      <th>1</th>\n",
              "      <td>211</td>\n",
              "      <td>0.260929</td>\n",
              "      <td>0.778892</td>\n",
              "      <td>0.902450</td>\n",
              "      <td>0</td>\n",
              "      <td>0.000000</td>\n",
              "      <td>0.000000</td>\n",
              "    </tr>\n",
              "    <tr>\n",
              "      <th>2</th>\n",
              "      <td>2212</td>\n",
              "      <td>0.773022</td>\n",
              "      <td>0.185953</td>\n",
              "      <td>0.642428</td>\n",
              "      <td>4</td>\n",
              "      <td>0.101900</td>\n",
              "      <td>0.000000</td>\n",
              "    </tr>\n",
              "    <tr>\n",
              "      <th>3</th>\n",
              "      <td>211</td>\n",
              "      <td>0.476997</td>\n",
              "      <td>0.445561</td>\n",
              "      <td>0.951471</td>\n",
              "      <td>0</td>\n",
              "      <td>0.000000</td>\n",
              "      <td>0.000000</td>\n",
              "    </tr>\n",
              "    <tr>\n",
              "      <th>4</th>\n",
              "      <td>2212</td>\n",
              "      <td>2.123290</td>\n",
              "      <td>0.337332</td>\n",
              "      <td>0.908652</td>\n",
              "      <td>0</td>\n",
              "      <td>0.034379</td>\n",
              "      <td>0.049256</td>\n",
              "    </tr>\n",
              "  </tbody>\n",
              "</table>\n",
              "</div>"
            ],
            "text/plain": [
              "     id         p     theta      beta  nphe       ein      eout\n",
              "0   211  0.780041  1.081480  0.989962     0  0.000000  0.000000\n",
              "1   211  0.260929  0.778892  0.902450     0  0.000000  0.000000\n",
              "2  2212  0.773022  0.185953  0.642428     4  0.101900  0.000000\n",
              "3   211  0.476997  0.445561  0.951471     0  0.000000  0.000000\n",
              "4  2212  2.123290  0.337332  0.908652     0  0.034379  0.049256"
            ]
          },
          "metadata": {
            "tags": []
          },
          "execution_count": 36
        }
      ]
    },
    {
      "cell_type": "code",
      "metadata": {
        "hidden": true,
        "id": "1lc1lU1xa87h",
        "colab": {
          "base_uri": "https://localhost:8080/",
          "height": 204
        },
        "outputId": "b90b3e70-15ef-4e64-fae9-3ba9ce7bbf1d"
      },
      "source": [
        "n_s = len(data)\n",
        "targets = list(set(data['id']))\n",
        "# mini_data = data.sample(n_s, axis=0, random_state=0)\n",
        "# data['target'] = data['id'].apply(lambda x: targets.index(x))\n",
        "data['id'] = pd.Categorical(data.id)\n",
        "# data.drop('id',axis=1, inplace=True)\n",
        "\n",
        "data.head()"
      ],
      "execution_count": null,
      "outputs": [
        {
          "output_type": "execute_result",
          "data": {
            "text/html": [
              "<div>\n",
              "<style scoped>\n",
              "    .dataframe tbody tr th:only-of-type {\n",
              "        vertical-align: middle;\n",
              "    }\n",
              "\n",
              "    .dataframe tbody tr th {\n",
              "        vertical-align: top;\n",
              "    }\n",
              "\n",
              "    .dataframe thead th {\n",
              "        text-align: right;\n",
              "    }\n",
              "</style>\n",
              "<table border=\"1\" class=\"dataframe\">\n",
              "  <thead>\n",
              "    <tr style=\"text-align: right;\">\n",
              "      <th></th>\n",
              "      <th>id</th>\n",
              "      <th>p</th>\n",
              "      <th>theta</th>\n",
              "      <th>beta</th>\n",
              "      <th>nphe</th>\n",
              "      <th>ein</th>\n",
              "      <th>eout</th>\n",
              "    </tr>\n",
              "  </thead>\n",
              "  <tbody>\n",
              "    <tr>\n",
              "      <th>0</th>\n",
              "      <td>211</td>\n",
              "      <td>0.780041</td>\n",
              "      <td>1.081480</td>\n",
              "      <td>0.989962</td>\n",
              "      <td>0</td>\n",
              "      <td>0.000000</td>\n",
              "      <td>0.000000</td>\n",
              "    </tr>\n",
              "    <tr>\n",
              "      <th>1</th>\n",
              "      <td>211</td>\n",
              "      <td>0.260929</td>\n",
              "      <td>0.778892</td>\n",
              "      <td>0.902450</td>\n",
              "      <td>0</td>\n",
              "      <td>0.000000</td>\n",
              "      <td>0.000000</td>\n",
              "    </tr>\n",
              "    <tr>\n",
              "      <th>2</th>\n",
              "      <td>2212</td>\n",
              "      <td>0.773022</td>\n",
              "      <td>0.185953</td>\n",
              "      <td>0.642428</td>\n",
              "      <td>4</td>\n",
              "      <td>0.101900</td>\n",
              "      <td>0.000000</td>\n",
              "    </tr>\n",
              "    <tr>\n",
              "      <th>3</th>\n",
              "      <td>211</td>\n",
              "      <td>0.476997</td>\n",
              "      <td>0.445561</td>\n",
              "      <td>0.951471</td>\n",
              "      <td>0</td>\n",
              "      <td>0.000000</td>\n",
              "      <td>0.000000</td>\n",
              "    </tr>\n",
              "    <tr>\n",
              "      <th>4</th>\n",
              "      <td>2212</td>\n",
              "      <td>2.123290</td>\n",
              "      <td>0.337332</td>\n",
              "      <td>0.908652</td>\n",
              "      <td>0</td>\n",
              "      <td>0.034379</td>\n",
              "      <td>0.049256</td>\n",
              "    </tr>\n",
              "  </tbody>\n",
              "</table>\n",
              "</div>"
            ],
            "text/plain": [
              "     id         p     theta      beta  nphe       ein      eout\n",
              "0   211  0.780041  1.081480  0.989962     0  0.000000  0.000000\n",
              "1   211  0.260929  0.778892  0.902450     0  0.000000  0.000000\n",
              "2  2212  0.773022  0.185953  0.642428     4  0.101900  0.000000\n",
              "3   211  0.476997  0.445561  0.951471     0  0.000000  0.000000\n",
              "4  2212  2.123290  0.337332  0.908652     0  0.034379  0.049256"
            ]
          },
          "metadata": {
            "tags": []
          },
          "execution_count": 37
        }
      ]
    },
    {
      "cell_type": "code",
      "metadata": {
        "id": "NrPV5zhTMHWy"
      },
      "source": [
        "from sklearn.model_selection import train_test_split\n",
        "Y_oh = keras.utils.to_categorical(data.id.cat.codes, num_classes=4, dtype=int)\n",
        "ind_to_keep = ['p', 'beta']\n",
        "X = data[ind_to_keep].values\n",
        "\n",
        "X_train, X_test, Y_train, Y_test = train_test_split( data[ind_to_keep], Y_oh, random_state=0)"
      ],
      "execution_count": null,
      "outputs": []
    },
    {
      "cell_type": "code",
      "metadata": {
        "hidden": true,
        "id": "mQYrlegQe7lW",
        "colab": {
          "base_uri": "https://localhost:8080/",
          "height": 34
        },
        "outputId": "31624c5d-d3d3-4a92-a5a0-36974c3b661b"
      },
      "source": [
        "Y_train.shape"
      ],
      "execution_count": null,
      "outputs": [
        {
          "output_type": "execute_result",
          "data": {
            "text/plain": [
              "(3750000, 4)"
            ]
          },
          "metadata": {
            "tags": []
          },
          "execution_count": 40
        }
      ]
    },
    {
      "cell_type": "code",
      "metadata": {
        "id": "Cm7dqIvHM6tL"
      },
      "source": [],
      "execution_count": null,
      "outputs": []
    }
  ]
}