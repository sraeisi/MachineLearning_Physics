{
  "nbformat": 4,
  "nbformat_minor": 0,
  "metadata": {
    "colab": {
      "name": "Sunspots.ipynb",
      "provenance": [],
      "toc_visible": true,
      "include_colab_link": true
    },
    "kernelspec": {
      "display_name": "Python 3",
      "language": "python",
      "name": "python3"
    },
    "language_info": {
      "codemirror_mode": {
        "name": "ipython",
        "version": 3
      },
      "file_extension": ".py",
      "mimetype": "text/x-python",
      "name": "python",
      "nbconvert_exporter": "python",
      "pygments_lexer": "ipython3",
      "version": "3.6.10"
    },
    "latex_envs": {
      "LaTeX_envs_menu_present": true,
      "autoclose": false,
      "autocomplete": true,
      "bibliofile": "biblio.bib",
      "cite_by": "apalike",
      "current_citInitial": 1,
      "eqLabelWithNumbers": true,
      "eqNumInitial": 1,
      "hotkeys": {
        "equation": "Ctrl-E",
        "itemize": "Ctrl-I"
      },
      "labels_anchors": false,
      "latex_user_defs": false,
      "report_style_numbering": false,
      "user_envs_cfg": false
    },
    "toc": {
      "base_numbering": 1,
      "nav_menu": {},
      "number_sections": true,
      "sideBar": true,
      "skip_h1_title": false,
      "title_cell": "Table of Contents",
      "title_sidebar": "Contents",
      "toc_cell": false,
      "toc_position": {},
      "toc_section_display": true,
      "toc_window_display": false
    },
    "varInspector": {
      "cols": {
        "lenName": 16,
        "lenType": 16,
        "lenVar": 40
      },
      "kernels_config": {
        "python": {
          "delete_cmd_postfix": "",
          "delete_cmd_prefix": "del ",
          "library": "var_list.py",
          "varRefreshCmd": "print(var_dic_list())"
        },
        "r": {
          "delete_cmd_postfix": ") ",
          "delete_cmd_prefix": "rm(",
          "library": "var_list.r",
          "varRefreshCmd": "cat(var_dic_list()) "
        }
      },
      "types_to_exclude": [
        "module",
        "function",
        "builtin_function_or_method",
        "instance",
        "_Feature"
      ],
      "window_display": false
    },
    "accelerator": "GPU"
  },
  "cells": [
    {
      "cell_type": "markdown",
      "metadata": {
        "id": "view-in-github",
        "colab_type": "text"
      },
      "source": [
        "<a href=\"https://colab.research.google.com/github/sraeisi/MachineLearning_Physics/blob/master/3/MLP_NN_RNN.ipynb\" target=\"_parent\"><img src=\"https://colab.research.google.com/assets/colab-badge.svg\" alt=\"Open In Colab\"/></a>"
      ]
    },
    {
      "cell_type": "code",
      "metadata": {
        "ExecuteTime": {
          "end_time": "2020-05-31T15:17:19.491251Z",
          "start_time": "2020-05-31T15:17:12.091451Z"
        },
        "colab": {
          "base_uri": "https://localhost:8080/"
        },
        "id": "H7-2Udr4gCLs",
        "init_cell": true,
        "outputId": "7ff815be-490d-448b-aea9-192d58b80ab9"
      },
      "source": [
        "import numpy as np\n",
        "import pandas as pd\n",
        "import matplotlib.pyplot as plt\n",
        "plt.style.use('seaborn-talk')\n",
        "plt.rc('figure', figsize=(12,4) )         # Image size\n",
        "\n",
        "\n",
        "from urllib.request import urlopen\n",
        "from imageio import imread\n",
        "import requests\n",
        "import io\n",
        "from time import time\n",
        "\n",
        "import cv2\n",
        "import os, shutil\n",
        "\n",
        "\n",
        "import warnings\n",
        "warnings.filterwarnings('ignore')\n",
        "\n",
        "# TensorFlow and tf.keras\n",
        "import tensorflow as tf\n",
        "from tensorflow import keras\n",
        "from tensorflow.keras import layers, models\n",
        "from tensorflow.keras.layers import LSTM, SimpleRNN, GRU, Dense, Dropout\n",
        "# %load_ext tensorboard\n",
        "\n",
        "gpus = tf.config.experimental.list_physical_devices('GPU')\n",
        "if len(gpus)>0:\n",
        "    tf.config.experimental.set_memory_growth(gpus[0] , True)\n",
        "    print('Running on GPU ...')\n",
        "else:\n",
        "    print('Running on CPU ...')\n",
        "\n"
      ],
      "execution_count": 1,
      "outputs": [
        {
          "output_type": "stream",
          "name": "stderr",
          "text": [
            "<ipython-input-1-ee65a442ff99>:4: MatplotlibDeprecationWarning: The seaborn styles shipped by Matplotlib are deprecated since 3.6, as they no longer correspond to the styles shipped by seaborn. However, they will remain available as 'seaborn-v0_8-<style>'. Alternatively, directly use the seaborn API instead.\n",
            "  plt.style.use('seaborn-talk')\n"
          ]
        },
        {
          "output_type": "stream",
          "name": "stdout",
          "text": [
            "Running on GPU ...\n"
          ]
        }
      ]
    },
    {
      "cell_type": "code",
      "metadata": {
        "ExecuteTime": {
          "end_time": "2020-05-31T15:17:20.109171Z",
          "start_time": "2020-05-31T15:17:20.101134Z"
        },
        "id": "-0kEFBVUgCLw",
        "init_cell": true
      },
      "source": [
        "n_ts = 6  ## Length of each time sequence or the forcast window\n",
        "n_f = 1\n",
        "n_prediction = 60"
      ],
      "execution_count": 3,
      "outputs": []
    },
    {
      "cell_type": "markdown",
      "metadata": {
        "id": "-Zi5qcLOgCMQ"
      },
      "source": [
        "# Univariate RNN"
      ]
    },
    {
      "cell_type": "markdown",
      "metadata": {
        "id": "UFfSLFwHgCLy"
      },
      "source": [
        "## Data\n",
        "For this part, we use the sunspot data. This data contains the mean value of the number of sunspots for each month from 1749.\n",
        "\n",
        "You can find more information about this dataset from [SIDC](http://www.sidc.be/silso/ssngraphics)."
      ]
    },
    {
      "cell_type": "code",
      "metadata": {
        "ExecuteTime": {
          "end_time": "2020-05-31T15:17:25.299654Z",
          "start_time": "2020-05-31T15:17:25.257966Z"
        },
        "colab": {
          "base_uri": "https://localhost:8080/",
          "height": 237
        },
        "id": "kNIkfWN2gCLz",
        "init_cell": true,
        "outputId": "3793afd1-35af-4ce6-fb47-61171499002c"
      },
      "source": [
        "# data = pd.read_csv('monthly-sunspots.csv', index_col = 0)\n",
        "import requests, io\n",
        "url = 'https://raw.githubusercontent.com/sraeisi/MachineLearning_Physics/master/Data/monthly-sunspots.csv'\n",
        "c = requests.get(url, stream=True).content\n",
        "data = pd.read_csv(io.BytesIO(c), index_col = 0)\n",
        "\n",
        "data.head()"
      ],
      "execution_count": 4,
      "outputs": [
        {
          "output_type": "execute_result",
          "data": {
            "text/plain": [
              "         Sunspots\n",
              "Month            \n",
              "1749-01      58.0\n",
              "1749-02      62.6\n",
              "1749-03      70.0\n",
              "1749-04      55.7\n",
              "1749-05      85.0"
            ],
            "text/html": [
              "\n",
              "  <div id=\"df-bcca07a1-0979-4f58-98ac-418540119722\" class=\"colab-df-container\">\n",
              "    <div>\n",
              "<style scoped>\n",
              "    .dataframe tbody tr th:only-of-type {\n",
              "        vertical-align: middle;\n",
              "    }\n",
              "\n",
              "    .dataframe tbody tr th {\n",
              "        vertical-align: top;\n",
              "    }\n",
              "\n",
              "    .dataframe thead th {\n",
              "        text-align: right;\n",
              "    }\n",
              "</style>\n",
              "<table border=\"1\" class=\"dataframe\">\n",
              "  <thead>\n",
              "    <tr style=\"text-align: right;\">\n",
              "      <th></th>\n",
              "      <th>Sunspots</th>\n",
              "    </tr>\n",
              "    <tr>\n",
              "      <th>Month</th>\n",
              "      <th></th>\n",
              "    </tr>\n",
              "  </thead>\n",
              "  <tbody>\n",
              "    <tr>\n",
              "      <th>1749-01</th>\n",
              "      <td>58.0</td>\n",
              "    </tr>\n",
              "    <tr>\n",
              "      <th>1749-02</th>\n",
              "      <td>62.6</td>\n",
              "    </tr>\n",
              "    <tr>\n",
              "      <th>1749-03</th>\n",
              "      <td>70.0</td>\n",
              "    </tr>\n",
              "    <tr>\n",
              "      <th>1749-04</th>\n",
              "      <td>55.7</td>\n",
              "    </tr>\n",
              "    <tr>\n",
              "      <th>1749-05</th>\n",
              "      <td>85.0</td>\n",
              "    </tr>\n",
              "  </tbody>\n",
              "</table>\n",
              "</div>\n",
              "    <div class=\"colab-df-buttons\">\n",
              "\n",
              "  <div class=\"colab-df-container\">\n",
              "    <button class=\"colab-df-convert\" onclick=\"convertToInteractive('df-bcca07a1-0979-4f58-98ac-418540119722')\"\n",
              "            title=\"Convert this dataframe to an interactive table.\"\n",
              "            style=\"display:none;\">\n",
              "\n",
              "  <svg xmlns=\"http://www.w3.org/2000/svg\" height=\"24px\" viewBox=\"0 -960 960 960\">\n",
              "    <path d=\"M120-120v-720h720v720H120Zm60-500h600v-160H180v160Zm220 220h160v-160H400v160Zm0 220h160v-160H400v160ZM180-400h160v-160H180v160Zm440 0h160v-160H620v160ZM180-180h160v-160H180v160Zm440 0h160v-160H620v160Z\"/>\n",
              "  </svg>\n",
              "    </button>\n",
              "\n",
              "  <style>\n",
              "    .colab-df-container {\n",
              "      display:flex;\n",
              "      gap: 12px;\n",
              "    }\n",
              "\n",
              "    .colab-df-convert {\n",
              "      background-color: #E8F0FE;\n",
              "      border: none;\n",
              "      border-radius: 50%;\n",
              "      cursor: pointer;\n",
              "      display: none;\n",
              "      fill: #1967D2;\n",
              "      height: 32px;\n",
              "      padding: 0 0 0 0;\n",
              "      width: 32px;\n",
              "    }\n",
              "\n",
              "    .colab-df-convert:hover {\n",
              "      background-color: #E2EBFA;\n",
              "      box-shadow: 0px 1px 2px rgba(60, 64, 67, 0.3), 0px 1px 3px 1px rgba(60, 64, 67, 0.15);\n",
              "      fill: #174EA6;\n",
              "    }\n",
              "\n",
              "    .colab-df-buttons div {\n",
              "      margin-bottom: 4px;\n",
              "    }\n",
              "\n",
              "    [theme=dark] .colab-df-convert {\n",
              "      background-color: #3B4455;\n",
              "      fill: #D2E3FC;\n",
              "    }\n",
              "\n",
              "    [theme=dark] .colab-df-convert:hover {\n",
              "      background-color: #434B5C;\n",
              "      box-shadow: 0px 1px 3px 1px rgba(0, 0, 0, 0.15);\n",
              "      filter: drop-shadow(0px 1px 2px rgba(0, 0, 0, 0.3));\n",
              "      fill: #FFFFFF;\n",
              "    }\n",
              "  </style>\n",
              "\n",
              "    <script>\n",
              "      const buttonEl =\n",
              "        document.querySelector('#df-bcca07a1-0979-4f58-98ac-418540119722 button.colab-df-convert');\n",
              "      buttonEl.style.display =\n",
              "        google.colab.kernel.accessAllowed ? 'block' : 'none';\n",
              "\n",
              "      async function convertToInteractive(key) {\n",
              "        const element = document.querySelector('#df-bcca07a1-0979-4f58-98ac-418540119722');\n",
              "        const dataTable =\n",
              "          await google.colab.kernel.invokeFunction('convertToInteractive',\n",
              "                                                    [key], {});\n",
              "        if (!dataTable) return;\n",
              "\n",
              "        const docLinkHtml = 'Like what you see? Visit the ' +\n",
              "          '<a target=\"_blank\" href=https://colab.research.google.com/notebooks/data_table.ipynb>data table notebook</a>'\n",
              "          + ' to learn more about interactive tables.';\n",
              "        element.innerHTML = '';\n",
              "        dataTable['output_type'] = 'display_data';\n",
              "        await google.colab.output.renderOutput(dataTable, element);\n",
              "        const docLink = document.createElement('div');\n",
              "        docLink.innerHTML = docLinkHtml;\n",
              "        element.appendChild(docLink);\n",
              "      }\n",
              "    </script>\n",
              "  </div>\n",
              "\n",
              "\n",
              "<div id=\"df-cc10cb9e-97a1-4b30-b765-94ac26a914cb\">\n",
              "  <button class=\"colab-df-quickchart\" onclick=\"quickchart('df-cc10cb9e-97a1-4b30-b765-94ac26a914cb')\"\n",
              "            title=\"Suggest charts\"\n",
              "            style=\"display:none;\">\n",
              "\n",
              "<svg xmlns=\"http://www.w3.org/2000/svg\" height=\"24px\"viewBox=\"0 0 24 24\"\n",
              "     width=\"24px\">\n",
              "    <g>\n",
              "        <path d=\"M19 3H5c-1.1 0-2 .9-2 2v14c0 1.1.9 2 2 2h14c1.1 0 2-.9 2-2V5c0-1.1-.9-2-2-2zM9 17H7v-7h2v7zm4 0h-2V7h2v10zm4 0h-2v-4h2v4z\"/>\n",
              "    </g>\n",
              "</svg>\n",
              "  </button>\n",
              "\n",
              "<style>\n",
              "  .colab-df-quickchart {\n",
              "      --bg-color: #E8F0FE;\n",
              "      --fill-color: #1967D2;\n",
              "      --hover-bg-color: #E2EBFA;\n",
              "      --hover-fill-color: #174EA6;\n",
              "      --disabled-fill-color: #AAA;\n",
              "      --disabled-bg-color: #DDD;\n",
              "  }\n",
              "\n",
              "  [theme=dark] .colab-df-quickchart {\n",
              "      --bg-color: #3B4455;\n",
              "      --fill-color: #D2E3FC;\n",
              "      --hover-bg-color: #434B5C;\n",
              "      --hover-fill-color: #FFFFFF;\n",
              "      --disabled-bg-color: #3B4455;\n",
              "      --disabled-fill-color: #666;\n",
              "  }\n",
              "\n",
              "  .colab-df-quickchart {\n",
              "    background-color: var(--bg-color);\n",
              "    border: none;\n",
              "    border-radius: 50%;\n",
              "    cursor: pointer;\n",
              "    display: none;\n",
              "    fill: var(--fill-color);\n",
              "    height: 32px;\n",
              "    padding: 0;\n",
              "    width: 32px;\n",
              "  }\n",
              "\n",
              "  .colab-df-quickchart:hover {\n",
              "    background-color: var(--hover-bg-color);\n",
              "    box-shadow: 0 1px 2px rgba(60, 64, 67, 0.3), 0 1px 3px 1px rgba(60, 64, 67, 0.15);\n",
              "    fill: var(--button-hover-fill-color);\n",
              "  }\n",
              "\n",
              "  .colab-df-quickchart-complete:disabled,\n",
              "  .colab-df-quickchart-complete:disabled:hover {\n",
              "    background-color: var(--disabled-bg-color);\n",
              "    fill: var(--disabled-fill-color);\n",
              "    box-shadow: none;\n",
              "  }\n",
              "\n",
              "  .colab-df-spinner {\n",
              "    border: 2px solid var(--fill-color);\n",
              "    border-color: transparent;\n",
              "    border-bottom-color: var(--fill-color);\n",
              "    animation:\n",
              "      spin 1s steps(1) infinite;\n",
              "  }\n",
              "\n",
              "  @keyframes spin {\n",
              "    0% {\n",
              "      border-color: transparent;\n",
              "      border-bottom-color: var(--fill-color);\n",
              "      border-left-color: var(--fill-color);\n",
              "    }\n",
              "    20% {\n",
              "      border-color: transparent;\n",
              "      border-left-color: var(--fill-color);\n",
              "      border-top-color: var(--fill-color);\n",
              "    }\n",
              "    30% {\n",
              "      border-color: transparent;\n",
              "      border-left-color: var(--fill-color);\n",
              "      border-top-color: var(--fill-color);\n",
              "      border-right-color: var(--fill-color);\n",
              "    }\n",
              "    40% {\n",
              "      border-color: transparent;\n",
              "      border-right-color: var(--fill-color);\n",
              "      border-top-color: var(--fill-color);\n",
              "    }\n",
              "    60% {\n",
              "      border-color: transparent;\n",
              "      border-right-color: var(--fill-color);\n",
              "    }\n",
              "    80% {\n",
              "      border-color: transparent;\n",
              "      border-right-color: var(--fill-color);\n",
              "      border-bottom-color: var(--fill-color);\n",
              "    }\n",
              "    90% {\n",
              "      border-color: transparent;\n",
              "      border-bottom-color: var(--fill-color);\n",
              "    }\n",
              "  }\n",
              "</style>\n",
              "\n",
              "  <script>\n",
              "    async function quickchart(key) {\n",
              "      const quickchartButtonEl =\n",
              "        document.querySelector('#' + key + ' button');\n",
              "      quickchartButtonEl.disabled = true;  // To prevent multiple clicks.\n",
              "      quickchartButtonEl.classList.add('colab-df-spinner');\n",
              "      try {\n",
              "        const charts = await google.colab.kernel.invokeFunction(\n",
              "            'suggestCharts', [key], {});\n",
              "      } catch (error) {\n",
              "        console.error('Error during call to suggestCharts:', error);\n",
              "      }\n",
              "      quickchartButtonEl.classList.remove('colab-df-spinner');\n",
              "      quickchartButtonEl.classList.add('colab-df-quickchart-complete');\n",
              "    }\n",
              "    (() => {\n",
              "      let quickchartButtonEl =\n",
              "        document.querySelector('#df-cc10cb9e-97a1-4b30-b765-94ac26a914cb button');\n",
              "      quickchartButtonEl.style.display =\n",
              "        google.colab.kernel.accessAllowed ? 'block' : 'none';\n",
              "    })();\n",
              "  </script>\n",
              "</div>\n",
              "    </div>\n",
              "  </div>\n"
            ],
            "application/vnd.google.colaboratory.intrinsic+json": {
              "type": "dataframe",
              "variable_name": "data",
              "summary": "{\n  \"name\": \"data\",\n  \"rows\": 2820,\n  \"fields\": [\n    {\n      \"column\": \"Month\",\n      \"properties\": {\n        \"dtype\": \"object\",\n        \"num_unique_values\": 2820,\n        \"samples\": [\n          \"1839-11\",\n          \"1942-10\",\n          \"1813-05\"\n        ],\n        \"semantic_type\": \"\",\n        \"description\": \"\"\n      }\n    },\n    {\n      \"column\": \"Sunspots\",\n      \"properties\": {\n        \"dtype\": \"number\",\n        \"std\": 43.44897131307258,\n        \"min\": 0.0,\n        \"max\": 253.8,\n        \"num_unique_values\": 1140,\n        \"samples\": [\n          176.0,\n          39.2,\n          118.0\n        ],\n        \"semantic_type\": \"\",\n        \"description\": \"\"\n      }\n    }\n  ]\n}"
            }
          },
          "metadata": {},
          "execution_count": 4
        }
      ]
    },
    {
      "cell_type": "code",
      "metadata": {
        "ExecuteTime": {
          "end_time": "2020-05-31T11:11:47.419973Z",
          "start_time": "2020-05-31T11:11:47.410080Z"
        },
        "colab": {
          "base_uri": "https://localhost:8080/"
        },
        "id": "KVmydEwl4Qxq",
        "outputId": "f9359693-e7fe-4367-e318-358e704fbc84"
      },
      "source": [
        "data.iloc[-1]"
      ],
      "execution_count": null,
      "outputs": [
        {
          "output_type": "execute_result",
          "data": {
            "text/plain": [
              "Sunspots    33.4\n",
              "Name: 1983-12, dtype: float64"
            ]
          },
          "metadata": {
            "tags": []
          },
          "execution_count": 8
        }
      ]
    },
    {
      "cell_type": "code",
      "metadata": {
        "ExecuteTime": {
          "end_time": "2020-05-26T05:00:31.315479Z",
          "start_time": "2020-05-26T04:59:29.999540Z"
        },
        "colab": {
          "base_uri": "https://localhost:8080/",
          "height": 380
        },
        "id": "1oPnIq4zgCL4",
        "outputId": "b4ecabd2-d6cb-41e6-b9c8-b480570c1166"
      },
      "source": [
        "'''\n",
        "Let's first plot the data to see if it does have a trend.\n",
        "'''\n",
        "\n",
        "plt.plot(data.Sunspots)\n",
        "plt.title = 'Sunspots in time'\n",
        "plt.xlabel = 'Time (in month)'\n",
        "plt.ylabel = 'Sunspots'\n",
        "plt.show()"
      ],
      "execution_count": 5,
      "outputs": [
        {
          "output_type": "display_data",
          "data": {
            "text/plain": [
              "<Figure size 1200x400 with 1 Axes>"
            ],
            "image/png": "[encoded data removed]"
          },
          "metadata": {}
        }
      ]
    },
    {
      "cell_type": "code",
      "metadata": {
        "ExecuteTime": {
          "end_time": "2019-05-26T09:09:46.892120Z",
          "start_time": "2019-05-26T09:09:46.867126Z"
        },
        "colab": {
          "base_uri": "https://localhost:8080/"
        },
        "id": "umRDiS-WgCL7",
        "init_cell": true,
        "outputId": "1346205d-32ae-4213-809c-00b2ed6eff56"
      },
      "source": [
        "'''\n",
        "As usuall, it is important to standardize/normalize the data.\n",
        "'''\n",
        "\n",
        "print(f'The maximum value is {data.Sunspots.max()}')\n",
        "data.Sunspots = data.Sunspots/data.Sunspots.max()"
      ],
      "execution_count": 6,
      "outputs": [
        {
          "output_type": "stream",
          "name": "stdout",
          "text": [
            "The maximum value is 253.8\n"
          ]
        }
      ]
    },
    {
      "cell_type": "markdown",
      "metadata": {
        "heading_collapsed": true,
        "id": "Olv33-QwgCL-"
      },
      "source": [
        "### Generating the time-sequences"
      ]
    },
    {
      "cell_type": "code",
      "metadata": {
        "ExecuteTime": {
          "end_time": "2020-05-31T15:17:32.151756Z",
          "start_time": "2020-05-31T15:17:32.136281Z"
        },
        "hidden": true,
        "id": "c_ewfHi1gCL_",
        "init_cell": true
      },
      "source": [
        "'''\n",
        "The data in its current format, is not suitable for training a NN.\n",
        "We need to make the time-sequeces.\n",
        "For this, we add new columns to the dataframe and each new col\n",
        "is the same data but shifted. We create n_ts cols to collect\n",
        "all the past n_ts data for each row.\n",
        "The output is a square matrix where each row is a time sequence.\n",
        "We also use the actual value as the target.\n",
        "'''\n",
        "def prepare_time_seqs(data):\n",
        "    output_df = pd.DataFrame()\n",
        "    for i in range(n_ts):\n",
        "        output_df[i] = data.Sunspots.shift(n_ts-i)\n",
        "    output_df['target'] = data.Sunspots\n",
        "    return output_df\n"
      ],
      "execution_count": 7,
      "outputs": []
    },
    {
      "cell_type": "code",
      "metadata": {
        "ExecuteTime": {
          "end_time": "2020-05-31T15:17:32.698468Z",
          "start_time": "2020-05-31T15:17:32.654439Z"
        },
        "colab": {
          "base_uri": "https://localhost:8080/",
          "height": 394
        },
        "hidden": true,
        "id": "f3vVsFdGgCMB",
        "init_cell": true,
        "outputId": "4ff6ec44-b425-4b55-d2c6-2e68ff1cb3e8"
      },
      "source": [
        "df = prepare_time_seqs(data)\n",
        "df.head(10)"
      ],
      "execution_count": 8,
      "outputs": [
        {
          "output_type": "execute_result",
          "data": {
            "text/plain": [
              "                0         1         2         3         4         5    target\n",
              "Month                                                                        \n",
              "1749-01       NaN       NaN       NaN       NaN       NaN       NaN  0.228526\n",
              "1749-02       NaN       NaN       NaN       NaN       NaN  0.228526  0.246651\n",
              "1749-03       NaN       NaN       NaN       NaN  0.228526  0.246651  0.275808\n",
              "1749-04       NaN       NaN       NaN  0.228526  0.246651  0.275808  0.219464\n",
              "1749-05       NaN       NaN  0.228526  0.246651  0.275808  0.219464  0.334909\n",
              "1749-06       NaN  0.228526  0.246651  0.275808  0.219464  0.334909  0.328999\n",
              "1749-07  0.228526  0.246651  0.275808  0.219464  0.334909  0.328999  0.373522\n",
              "1749-08  0.246651  0.275808  0.219464  0.334909  0.328999  0.373522  0.261229\n",
              "1749-09  0.275808  0.219464  0.334909  0.328999  0.373522  0.261229  0.299054\n",
              "1749-10  0.219464  0.334909  0.328999  0.373522  0.261229  0.299054  0.297478"
            ],
            "text/html": [
              "\n",
              "  <div id=\"df-44d4aeb6-7fee-40a4-a577-2ff98dcd7d07\" class=\"colab-df-container\">\n",
              "    <div>\n",
              "<style scoped>\n",
              "    .dataframe tbody tr th:only-of-type {\n",
              "        vertical-align: middle;\n",
              "    }\n",
              "\n",
              "    .dataframe tbody tr th {\n",
              "        vertical-align: top;\n",
              "    }\n",
              "\n",
              "    .dataframe thead th {\n",
              "        text-align: right;\n",
              "    }\n",
              "</style>\n",
              "<table border=\"1\" class=\"dataframe\">\n",
              "  <thead>\n",
              "    <tr style=\"text-align: right;\">\n",
              "      <th></th>\n",
              "      <th>0</th>\n",
              "      <th>1</th>\n",
              "      <th>2</th>\n",
              "      <th>3</th>\n",
              "      <th>4</th>\n",
              "      <th>5</th>\n",
              "      <th>target</th>\n",
              "    </tr>\n",
              "    <tr>\n",
              "      <th>Month</th>\n",
              "      <th></th>\n",
              "      <th></th>\n",
              "      <th></th>\n",
              "      <th></th>\n",
              "      <th></th>\n",
              "      <th></th>\n",
              "      <th></th>\n",
              "    </tr>\n",
              "  </thead>\n",
              "  <tbody>\n",
              "    <tr>\n",
              "      <th>1749-01</th>\n",
              "      <td>NaN</td>\n",
              "      <td>NaN</td>\n",
              "      <td>NaN</td>\n",
              "      <td>NaN</td>\n",
              "      <td>NaN</td>\n",
              "      <td>NaN</td>\n",
              "      <td>0.228526</td>\n",
              "    </tr>\n",
              "    <tr>\n",
              "      <th>1749-02</th>\n",
              "      <td>NaN</td>\n",
              "      <td>NaN</td>\n",
              "      <td>NaN</td>\n",
              "      <td>NaN</td>\n",
              "      <td>NaN</td>\n",
              "      <td>0.228526</td>\n",
              "      <td>0.246651</td>\n",
              "    </tr>\n",
              "    <tr>\n",
              "      <th>1749-03</th>\n",
              "      <td>NaN</td>\n",
              "      <td>NaN</td>\n",
              "      <td>NaN</td>\n",
              "      <td>NaN</td>\n",
              "      <td>0.228526</td>\n",
              "      <td>0.246651</td>\n",
              "      <td>0.275808</td>\n",
              "    </tr>\n",
              "    <tr>\n",
              "      <th>1749-04</th>\n",
              "      <td>NaN</td>\n",
              "      <td>NaN</td>\n",
              "      <td>NaN</td>\n",
              "      <td>0.228526</td>\n",
              "      <td>0.246651</td>\n",
              "      <td>0.275808</td>\n",
              "      <td>0.219464</td>\n",
              "    </tr>\n",
              "    <tr>\n",
              "      <th>1749-05</th>\n",
              "      <td>NaN</td>\n",
              "      <td>NaN</td>\n",
              "      <td>0.228526</td>\n",
              "      <td>0.246651</td>\n",
              "      <td>0.275808</td>\n",
              "      <td>0.219464</td>\n",
              "      <td>0.334909</td>\n",
              "    </tr>\n",
              "    <tr>\n",
              "      <th>1749-06</th>\n",
              "      <td>NaN</td>\n",
              "      <td>0.228526</td>\n",
              "      <td>0.246651</td>\n",
              "      <td>0.275808</td>\n",
              "      <td>0.219464</td>\n",
              "      <td>0.334909</td>\n",
              "      <td>0.328999</td>\n",
              "    </tr>\n",
              "    <tr>\n",
              "      <th>1749-07</th>\n",
              "      <td>0.228526</td>\n",
              "      <td>0.246651</td>\n",
              "      <td>0.275808</td>\n",
              "      <td>0.219464</td>\n",
              "      <td>0.334909</td>\n",
              "      <td>0.328999</td>\n",
              "      <td>0.373522</td>\n",
              "    </tr>\n",
              "    <tr>\n",
              "      <th>1749-08</th>\n",
              "      <td>0.246651</td>\n",
              "      <td>0.275808</td>\n",
              "      <td>0.219464</td>\n",
              "      <td>0.334909</td>\n",
              "      <td>0.328999</td>\n",
              "      <td>0.373522</td>\n",
              "      <td>0.261229</td>\n",
              "    </tr>\n",
              "    <tr>\n",
              "      <th>1749-09</th>\n",
              "      <td>0.275808</td>\n",
              "      <td>0.219464</td>\n",
              "      <td>0.334909</td>\n",
              "      <td>0.328999</td>\n",
              "      <td>0.373522</td>\n",
              "      <td>0.261229</td>\n",
              "      <td>0.299054</td>\n",
              "    </tr>\n",
              "    <tr>\n",
              "      <th>1749-10</th>\n",
              "      <td>0.219464</td>\n",
              "      <td>0.334909</td>\n",
              "      <td>0.328999</td>\n",
              "      <td>0.373522</td>\n",
              "      <td>0.261229</td>\n",
              "      <td>0.299054</td>\n",
              "      <td>0.297478</td>\n",
              "    </tr>\n",
              "  </tbody>\n",
              "</table>\n",
              "</div>\n",
              "    <div class=\"colab-df-buttons\">\n",
              "\n",
              "  <div class=\"colab-df-container\">\n",
              "    <button class=\"colab-df-convert\" onclick=\"convertToInteractive('df-44d4aeb6-7fee-40a4-a577-2ff98dcd7d07')\"\n",
              "            title=\"Convert this dataframe to an interactive table.\"\n",
              "            style=\"display:none;\">\n",
              "\n",
              "  <svg xmlns=\"http://www.w3.org/2000/svg\" height=\"24px\" viewBox=\"0 -960 960 960\">\n",
              "    <path d=\"M120-120v-720h720v720H120Zm60-500h600v-160H180v160Zm220 220h160v-160H400v160Zm0 220h160v-160H400v160ZM180-400h160v-160H180v160Zm440 0h160v-160H620v160ZM180-180h160v-160H180v160Zm440 0h160v-160H620v160Z\"/>\n",
              "  </svg>\n",
              "    </button>\n",
              "\n",
              "  <style>\n",
              "    .colab-df-container {\n",
              "      display:flex;\n",
              "      gap: 12px;\n",
              "    }\n",
              "\n",
              "    .colab-df-convert {\n",
              "      background-color: #E8F0FE;\n",
              "      border: none;\n",
              "      border-radius: 50%;\n",
              "      cursor: pointer;\n",
              "      display: none;\n",
              "      fill: #1967D2;\n",
              "      height: 32px;\n",
              "      padding: 0 0 0 0;\n",
              "      width: 32px;\n",
              "    }\n",
              "\n",
              "    .colab-df-convert:hover {\n",
              "      background-color: #E2EBFA;\n",
              "      box-shadow: 0px 1px 2px rgba(60, 64, 67, 0.3), 0px 1px 3px 1px rgba(60, 64, 67, 0.15);\n",
              "      fill: #174EA6;\n",
              "    }\n",
              "\n",
              "    .colab-df-buttons div {\n",
              "      margin-bottom: 4px;\n",
              "    }\n",
              "\n",
              "    [theme=dark] .colab-df-convert {\n",
              "      background-color: #3B4455;\n",
              "      fill: #D2E3FC;\n",
              "    }\n",
              "\n",
              "    [theme=dark] .colab-df-convert:hover {\n",
              "      background-color: #434B5C;\n",
              "      box-shadow: 0px 1px 3px 1px rgba(0, 0, 0, 0.15);\n",
              "      filter: drop-shadow(0px 1px 2px rgba(0, 0, 0, 0.3));\n",
              "      fill: #FFFFFF;\n",
              "    }\n",
              "  </style>\n",
              "\n",
              "    <script>\n",
              "      const buttonEl =\n",
              "        document.querySelector('#df-44d4aeb6-7fee-40a4-a577-2ff98dcd7d07 button.colab-df-convert');\n",
              "      buttonEl.style.display =\n",
              "        google.colab.kernel.accessAllowed ? 'block' : 'none';\n",
              "\n",
              "      async function convertToInteractive(key) {\n",
              "        const element = document.querySelector('#df-44d4aeb6-7fee-40a4-a577-2ff98dcd7d07');\n",
              "        const dataTable =\n",
              "          await google.colab.kernel.invokeFunction('convertToInteractive',\n",
              "                                                    [key], {});\n",
              "        if (!dataTable) return;\n",
              "\n",
              "        const docLinkHtml = 'Like what you see? Visit the ' +\n",
              "          '<a target=\"_blank\" href=https://colab.research.google.com/notebooks/data_table.ipynb>data table notebook</a>'\n",
              "          + ' to learn more about interactive tables.';\n",
              "        element.innerHTML = '';\n",
              "        dataTable['output_type'] = 'display_data';\n",
              "        await google.colab.output.renderOutput(dataTable, element);\n",
              "        const docLink = document.createElement('div');\n",
              "        docLink.innerHTML = docLinkHtml;\n",
              "        element.appendChild(docLink);\n",
              "      }\n",
              "    </script>\n",
              "  </div>\n",
              "\n",
              "\n",
              "<div id=\"df-074e1564-37ec-4722-bc26-53d334f24ee3\">\n",
              "  <button class=\"colab-df-quickchart\" onclick=\"quickchart('df-074e1564-37ec-4722-bc26-53d334f24ee3')\"\n",
              "            title=\"Suggest charts\"\n",
              "            style=\"display:none;\">\n",
              "\n",
              "<svg xmlns=\"http://www.w3.org/2000/svg\" height=\"24px\"viewBox=\"0 0 24 24\"\n",
              "     width=\"24px\">\n",
              "    <g>\n",
              "        <path d=\"M19 3H5c-1.1 0-2 .9-2 2v14c0 1.1.9 2 2 2h14c1.1 0 2-.9 2-2V5c0-1.1-.9-2-2-2zM9 17H7v-7h2v7zm4 0h-2V7h2v10zm4 0h-2v-4h2v4z\"/>\n",
              "    </g>\n",
              "</svg>\n",
              "  </button>\n",
              "\n",
              "<style>\n",
              "  .colab-df-quickchart {\n",
              "      --bg-color: #E8F0FE;\n",
              "      --fill-color: #1967D2;\n",
              "      --hover-bg-color: #E2EBFA;\n",
              "      --hover-fill-color: #174EA6;\n",
              "      --disabled-fill-color: #AAA;\n",
              "      --disabled-bg-color: #DDD;\n",
              "  }\n",
              "\n",
              "  [theme=dark] .colab-df-quickchart {\n",
              "      --bg-color: #3B4455;\n",
              "      --fill-color: #D2E3FC;\n",
              "      --hover-bg-color: #434B5C;\n",
              "      --hover-fill-color: #FFFFFF;\n",
              "      --disabled-bg-color: #3B4455;\n",
              "      --disabled-fill-color: #666;\n",
              "  }\n",
              "\n",
              "  .colab-df-quickchart {\n",
              "    background-color: var(--bg-color);\n",
              "    border: none;\n",
              "    border-radius: 50%;\n",
              "    cursor: pointer;\n",
              "    display: none;\n",
              "    fill: var(--fill-color);\n",
              "    height: 32px;\n",
              "    padding: 0;\n",
              "    width: 32px;\n",
              "  }\n",
              "\n",
              "  .colab-df-quickchart:hover {\n",
              "    background-color: var(--hover-bg-color);\n",
              "    box-shadow: 0 1px 2px rgba(60, 64, 67, 0.3), 0 1px 3px 1px rgba(60, 64, 67, 0.15);\n",
              "    fill: var(--button-hover-fill-color);\n",
              "  }\n",
              "\n",
              "  .colab-df-quickchart-complete:disabled,\n",
              "  .colab-df-quickchart-complete:disabled:hover {\n",
              "    background-color: var(--disabled-bg-color);\n",
              "    fill: var(--disabled-fill-color);\n",
              "    box-shadow: none;\n",
              "  }\n",
              "\n",
              "  .colab-df-spinner {\n",
              "    border: 2px solid var(--fill-color);\n",
              "    border-color: transparent;\n",
              "    border-bottom-color: var(--fill-color);\n",
              "    animation:\n",
              "      spin 1s steps(1) infinite;\n",
              "  }\n",
              "\n",
              "  @keyframes spin {\n",
              "    0% {\n",
              "      border-color: transparent;\n",
              "      border-bottom-color: var(--fill-color);\n",
              "      border-left-color: var(--fill-color);\n",
              "    }\n",
              "    20% {\n",
              "      border-color: transparent;\n",
              "      border-left-color: var(--fill-color);\n",
              "      border-top-color: var(--fill-color);\n",
              "    }\n",
              "    30% {\n",
              "      border-color: transparent;\n",
              "      border-left-color: var(--fill-color);\n",
              "      border-top-color: var(--fill-color);\n",
              "      border-right-color: var(--fill-color);\n",
              "    }\n",
              "    40% {\n",
              "      border-color: transparent;\n",
              "      border-right-color: var(--fill-color);\n",
              "      border-top-color: var(--fill-color);\n",
              "    }\n",
              "    60% {\n",
              "      border-color: transparent;\n",
              "      border-right-color: var(--fill-color);\n",
              "    }\n",
              "    80% {\n",
              "      border-color: transparent;\n",
              "      border-right-color: var(--fill-color);\n",
              "      border-bottom-color: var(--fill-color);\n",
              "    }\n",
              "    90% {\n",
              "      border-color: transparent;\n",
              "      border-bottom-color: var(--fill-color);\n",
              "    }\n",
              "  }\n",
              "</style>\n",
              "\n",
              "  <script>\n",
              "    async function quickchart(key) {\n",
              "      const quickchartButtonEl =\n",
              "        document.querySelector('#' + key + ' button');\n",
              "      quickchartButtonEl.disabled = true;  // To prevent multiple clicks.\n",
              "      quickchartButtonEl.classList.add('colab-df-spinner');\n",
              "      try {\n",
              "        const charts = await google.colab.kernel.invokeFunction(\n",
              "            'suggestCharts', [key], {});\n",
              "      } catch (error) {\n",
              "        console.error('Error during call to suggestCharts:', error);\n",
              "      }\n",
              "      quickchartButtonEl.classList.remove('colab-df-spinner');\n",
              "      quickchartButtonEl.classList.add('colab-df-quickchart-complete');\n",
              "    }\n",
              "    (() => {\n",
              "      let quickchartButtonEl =\n",
              "        document.querySelector('#df-074e1564-37ec-4722-bc26-53d334f24ee3 button');\n",
              "      quickchartButtonEl.style.display =\n",
              "        google.colab.kernel.accessAllowed ? 'block' : 'none';\n",
              "    })();\n",
              "  </script>\n",
              "</div>\n",
              "    </div>\n",
              "  </div>\n"
            ],
            "application/vnd.google.colaboratory.intrinsic+json": {
              "type": "dataframe",
              "variable_name": "df",
              "summary": "{\n  \"name\": \"df\",\n  \"rows\": 2820,\n  \"fields\": [\n    {\n      \"column\": \"Month\",\n      \"properties\": {\n        \"dtype\": \"object\",\n        \"num_unique_values\": 2820,\n        \"samples\": [\n          \"1839-11\",\n          \"1942-10\",\n          \"1813-05\"\n        ],\n        \"semantic_type\": \"\",\n        \"description\": \"\"\n      }\n    },\n    {\n      \"column\": 0,\n      \"properties\": {\n        \"dtype\": \"number\",\n        \"std\": 0.17134333247437739,\n        \"min\": 0.0,\n        \"max\": 1.0,\n        \"num_unique_values\": 1140,\n        \"samples\": [\n          0.6934594168636722,\n          0.15445232466509062,\n          0.4649330181245075\n        ],\n        \"semantic_type\": \"\",\n        \"description\": \"\"\n      }\n    },\n    {\n      \"column\": 1,\n      \"properties\": {\n        \"dtype\": \"number\",\n        \"std\": 0.17132829359039012,\n        \"min\": 0.0,\n        \"max\": 1.0,\n        \"num_unique_values\": 1140,\n        \"samples\": [\n          0.6934594168636722,\n          0.15445232466509062,\n          0.4649330181245075\n        ],\n        \"semantic_type\": \"\",\n        \"description\": \"\"\n      }\n    },\n    {\n      \"column\": 2,\n      \"properties\": {\n        \"dtype\": \"number\",\n        \"std\": 0.17130464170582177,\n        \"min\": 0.0,\n        \"max\": 1.0,\n        \"num_unique_values\": 1140,\n        \"samples\": [\n          0.6934594168636722,\n          0.15445232466509062,\n          0.4649330181245075\n        ],\n        \"semantic_type\": \"\",\n        \"description\": \"\"\n      }\n    },\n    {\n      \"column\": 3,\n      \"properties\": {\n        \"dtype\": \"number\",\n        \"std\": 0.17127423806762054,\n        \"min\": 0.0,\n        \"max\": 1.0,\n        \"num_unique_values\": 1140,\n        \"samples\": [\n          0.6934594168636722,\n          0.15445232466509062,\n          0.4649330181245075\n        ],\n        \"semantic_type\": \"\",\n        \"description\": \"\"\n      }\n    },\n    {\n      \"column\": 4,\n      \"properties\": {\n        \"dtype\": \"number\",\n        \"std\": 0.1712441643125468,\n        \"min\": 0.0,\n        \"max\": 1.0,\n        \"num_unique_values\": 1140,\n        \"samples\": [\n          0.6934594168636722,\n          0.15445232466509062,\n          0.4649330181245075\n        ],\n        \"semantic_type\": \"\",\n        \"description\": \"\"\n      }\n    },\n    {\n      \"column\": 5,\n      \"properties\": {\n        \"dtype\": \"number\",\n        \"std\": 0.17121897593083044,\n        \"min\": 0.0,\n        \"max\": 1.0,\n        \"num_unique_values\": 1140,\n        \"samples\": [\n          0.6934594168636722,\n          0.15445232466509062,\n          0.4649330181245075\n        ],\n        \"semantic_type\": \"\",\n        \"description\": \"\"\n      }\n    },\n    {\n      \"column\": \"target\",\n      \"properties\": {\n        \"dtype\": \"number\",\n        \"std\": 0.17119374039823715,\n        \"min\": 0.0,\n        \"max\": 1.0,\n        \"num_unique_values\": 1140,\n        \"samples\": [\n          0.6934594168636722,\n          0.15445232466509062,\n          0.4649330181245075\n        ],\n        \"semantic_type\": \"\",\n        \"description\": \"\"\n      }\n    }\n  ]\n}"
            }
          },
          "metadata": {},
          "execution_count": 8
        }
      ]
    },
    {
      "cell_type": "code",
      "metadata": {
        "ExecuteTime": {
          "end_time": "2020-05-31T15:17:33.278181Z",
          "start_time": "2020-05-31T15:17:33.242136Z"
        },
        "colab": {
          "base_uri": "https://localhost:8080/",
          "height": 237
        },
        "hidden": true,
        "id": "UQpmP-CagCME",
        "init_cell": true,
        "outputId": "f392faf9-ac41-455e-dd41-81d621bd0158"
      },
      "source": [
        "'''\n",
        "The shift operator creates some NAN values since for the boundary,\n",
        "there's no value to be shifted forward.\n",
        "We can simply drop them.\n",
        "Note that if you want to increase n_ts, dropping the NaN values\n",
        "could result in significant data loss.\n",
        "'''\n",
        "df.dropna(axis=0, inplace=True)\n",
        "df.head()"
      ],
      "execution_count": 9,
      "outputs": [
        {
          "output_type": "execute_result",
          "data": {
            "text/plain": [
              "                0         1         2         3         4         5    target\n",
              "Month                                                                        \n",
              "1749-07  0.228526  0.246651  0.275808  0.219464  0.334909  0.328999  0.373522\n",
              "1749-08  0.246651  0.275808  0.219464  0.334909  0.328999  0.373522  0.261229\n",
              "1749-09  0.275808  0.219464  0.334909  0.328999  0.373522  0.261229  0.299054\n",
              "1749-10  0.219464  0.334909  0.328999  0.373522  0.261229  0.299054  0.297478\n",
              "1749-11  0.334909  0.328999  0.373522  0.261229  0.299054  0.297478  0.624901"
            ],
            "text/html": [
              "\n",
              "  <div id=\"df-7f761e3d-6644-44c0-bd06-7d8adf053dd9\" class=\"colab-df-container\">\n",
              "    <div>\n",
              "<style scoped>\n",
              "    .dataframe tbody tr th:only-of-type {\n",
              "        vertical-align: middle;\n",
              "    }\n",
              "\n",
              "    .dataframe tbody tr th {\n",
              "        vertical-align: top;\n",
              "    }\n",
              "\n",
              "    .dataframe thead th {\n",
              "        text-align: right;\n",
              "    }\n",
              "</style>\n",
              "<table border=\"1\" class=\"dataframe\">\n",
              "  <thead>\n",
              "    <tr style=\"text-align: right;\">\n",
              "      <th></th>\n",
              "      <th>0</th>\n",
              "      <th>1</th>\n",
              "      <th>2</th>\n",
              "      <th>3</th>\n",
              "      <th>4</th>\n",
              "      <th>5</th>\n",
              "      <th>target</th>\n",
              "    </tr>\n",
              "    <tr>\n",
              "      <th>Month</th>\n",
              "      <th></th>\n",
              "      <th></th>\n",
              "      <th></th>\n",
              "      <th></th>\n",
              "      <th></th>\n",
              "      <th></th>\n",
              "      <th></th>\n",
              "    </tr>\n",
              "  </thead>\n",
              "  <tbody>\n",
              "    <tr>\n",
              "      <th>1749-07</th>\n",
              "      <td>0.228526</td>\n",
              "      <td>0.246651</td>\n",
              "      <td>0.275808</td>\n",
              "      <td>0.219464</td>\n",
              "      <td>0.334909</td>\n",
              "      <td>0.328999</td>\n",
              "      <td>0.373522</td>\n",
              "    </tr>\n",
              "    <tr>\n",
              "      <th>1749-08</th>\n",
              "      <td>0.246651</td>\n",
              "      <td>0.275808</td>\n",
              "      <td>0.219464</td>\n",
              "      <td>0.334909</td>\n",
              "      <td>0.328999</td>\n",
              "      <td>0.373522</td>\n",
              "      <td>0.261229</td>\n",
              "    </tr>\n",
              "    <tr>\n",
              "      <th>1749-09</th>\n",
              "      <td>0.275808</td>\n",
              "      <td>0.219464</td>\n",
              "      <td>0.334909</td>\n",
              "      <td>0.328999</td>\n",
              "      <td>0.373522</td>\n",
              "      <td>0.261229</td>\n",
              "      <td>0.299054</td>\n",
              "    </tr>\n",
              "    <tr>\n",
              "      <th>1749-10</th>\n",
              "      <td>0.219464</td>\n",
              "      <td>0.334909</td>\n",
              "      <td>0.328999</td>\n",
              "      <td>0.373522</td>\n",
              "      <td>0.261229</td>\n",
              "      <td>0.299054</td>\n",
              "      <td>0.297478</td>\n",
              "    </tr>\n",
              "    <tr>\n",
              "      <th>1749-11</th>\n",
              "      <td>0.334909</td>\n",
              "      <td>0.328999</td>\n",
              "      <td>0.373522</td>\n",
              "      <td>0.261229</td>\n",
              "      <td>0.299054</td>\n",
              "      <td>0.297478</td>\n",
              "      <td>0.624901</td>\n",
              "    </tr>\n",
              "  </tbody>\n",
              "</table>\n",
              "</div>\n",
              "    <div class=\"colab-df-buttons\">\n",
              "\n",
              "  <div class=\"colab-df-container\">\n",
              "    <button class=\"colab-df-convert\" onclick=\"convertToInteractive('df-7f761e3d-6644-44c0-bd06-7d8adf053dd9')\"\n",
              "            title=\"Convert this dataframe to an interactive table.\"\n",
              "            style=\"display:none;\">\n",
              "\n",
              "  <svg xmlns=\"http://www.w3.org/2000/svg\" height=\"24px\" viewBox=\"0 -960 960 960\">\n",
              "    <path d=\"M120-120v-720h720v720H120Zm60-500h600v-160H180v160Zm220 220h160v-160H400v160Zm0 220h160v-160H400v160ZM180-400h160v-160H180v160Zm440 0h160v-160H620v160ZM180-180h160v-160H180v160Zm440 0h160v-160H620v160Z\"/>\n",
              "  </svg>\n",
              "    </button>\n",
              "\n",
              "  <style>\n",
              "    .colab-df-container {\n",
              "      display:flex;\n",
              "      gap: 12px;\n",
              "    }\n",
              "\n",
              "    .colab-df-convert {\n",
              "      background-color: #E8F0FE;\n",
              "      border: none;\n",
              "      border-radius: 50%;\n",
              "      cursor: pointer;\n",
              "      display: none;\n",
              "      fill: #1967D2;\n",
              "      height: 32px;\n",
              "      padding: 0 0 0 0;\n",
              "      width: 32px;\n",
              "    }\n",
              "\n",
              "    .colab-df-convert:hover {\n",
              "      background-color: #E2EBFA;\n",
              "      box-shadow: 0px 1px 2px rgba(60, 64, 67, 0.3), 0px 1px 3px 1px rgba(60, 64, 67, 0.15);\n",
              "      fill: #174EA6;\n",
              "    }\n",
              "\n",
              "    .colab-df-buttons div {\n",
              "      margin-bottom: 4px;\n",
              "    }\n",
              "\n",
              "    [theme=dark] .colab-df-convert {\n",
              "      background-color: #3B4455;\n",
              "      fill: #D2E3FC;\n",
              "    }\n",
              "\n",
              "    [theme=dark] .colab-df-convert:hover {\n",
              "      background-color: #434B5C;\n",
              "      box-shadow: 0px 1px 3px 1px rgba(0, 0, 0, 0.15);\n",
              "      filter: drop-shadow(0px 1px 2px rgba(0, 0, 0, 0.3));\n",
              "      fill: #FFFFFF;\n",
              "    }\n",
              "  </style>\n",
              "\n",
              "    <script>\n",
              "      const buttonEl =\n",
              "        document.querySelector('#df-7f761e3d-6644-44c0-bd06-7d8adf053dd9 button.colab-df-convert');\n",
              "      buttonEl.style.display =\n",
              "        google.colab.kernel.accessAllowed ? 'block' : 'none';\n",
              "\n",
              "      async function convertToInteractive(key) {\n",
              "        const element = document.querySelector('#df-7f761e3d-6644-44c0-bd06-7d8adf053dd9');\n",
              "        const dataTable =\n",
              "          await google.colab.kernel.invokeFunction('convertToInteractive',\n",
              "                                                    [key], {});\n",
              "        if (!dataTable) return;\n",
              "\n",
              "        const docLinkHtml = 'Like what you see? Visit the ' +\n",
              "          '<a target=\"_blank\" href=https://colab.research.google.com/notebooks/data_table.ipynb>data table notebook</a>'\n",
              "          + ' to learn more about interactive tables.';\n",
              "        element.innerHTML = '';\n",
              "        dataTable['output_type'] = 'display_data';\n",
              "        await google.colab.output.renderOutput(dataTable, element);\n",
              "        const docLink = document.createElement('div');\n",
              "        docLink.innerHTML = docLinkHtml;\n",
              "        element.appendChild(docLink);\n",
              "      }\n",
              "    </script>\n",
              "  </div>\n",
              "\n",
              "\n",
              "<div id=\"df-9f21ca14-1a34-4c59-8c6d-8bb13ba05174\">\n",
              "  <button class=\"colab-df-quickchart\" onclick=\"quickchart('df-9f21ca14-1a34-4c59-8c6d-8bb13ba05174')\"\n",
              "            title=\"Suggest charts\"\n",
              "            style=\"display:none;\">\n",
              "\n",
              "<svg xmlns=\"http://www.w3.org/2000/svg\" height=\"24px\"viewBox=\"0 0 24 24\"\n",
              "     width=\"24px\">\n",
              "    <g>\n",
              "        <path d=\"M19 3H5c-1.1 0-2 .9-2 2v14c0 1.1.9 2 2 2h14c1.1 0 2-.9 2-2V5c0-1.1-.9-2-2-2zM9 17H7v-7h2v7zm4 0h-2V7h2v10zm4 0h-2v-4h2v4z\"/>\n",
              "    </g>\n",
              "</svg>\n",
              "  </button>\n",
              "\n",
              "<style>\n",
              "  .colab-df-quickchart {\n",
              "      --bg-color: #E8F0FE;\n",
              "      --fill-color: #1967D2;\n",
              "      --hover-bg-color: #E2EBFA;\n",
              "      --hover-fill-color: #174EA6;\n",
              "      --disabled-fill-color: #AAA;\n",
              "      --disabled-bg-color: #DDD;\n",
              "  }\n",
              "\n",
              "  [theme=dark] .colab-df-quickchart {\n",
              "      --bg-color: #3B4455;\n",
              "      --fill-color: #D2E3FC;\n",
              "      --hover-bg-color: #434B5C;\n",
              "      --hover-fill-color: #FFFFFF;\n",
              "      --disabled-bg-color: #3B4455;\n",
              "      --disabled-fill-color: #666;\n",
              "  }\n",
              "\n",
              "  .colab-df-quickchart {\n",
              "    background-color: var(--bg-color);\n",
              "    border: none;\n",
              "    border-radius: 50%;\n",
              "    cursor: pointer;\n",
              "    display: none;\n",
              "    fill: var(--fill-color);\n",
              "    height: 32px;\n",
              "    padding: 0;\n",
              "    width: 32px;\n",
              "  }\n",
              "\n",
              "  .colab-df-quickchart:hover {\n",
              "    background-color: var(--hover-bg-color);\n",
              "    box-shadow: 0 1px 2px rgba(60, 64, 67, 0.3), 0 1px 3px 1px rgba(60, 64, 67, 0.15);\n",
              "    fill: var(--button-hover-fill-color);\n",
              "  }\n",
              "\n",
              "  .colab-df-quickchart-complete:disabled,\n",
              "  .colab-df-quickchart-complete:disabled:hover {\n",
              "    background-color: var(--disabled-bg-color);\n",
              "    fill: var(--disabled-fill-color);\n",
              "    box-shadow: none;\n",
              "  }\n",
              "\n",
              "  .colab-df-spinner {\n",
              "    border: 2px solid var(--fill-color);\n",
              "    border-color: transparent;\n",
              "    border-bottom-color: var(--fill-color);\n",
              "    animation:\n",
              "      spin 1s steps(1) infinite;\n",
              "  }\n",
              "\n",
              "  @keyframes spin {\n",
              "    0% {\n",
              "      border-color: transparent;\n",
              "      border-bottom-color: var(--fill-color);\n",
              "      border-left-color: var(--fill-color);\n",
              "    }\n",
              "    20% {\n",
              "      border-color: transparent;\n",
              "      border-left-color: var(--fill-color);\n",
              "      border-top-color: var(--fill-color);\n",
              "    }\n",
              "    30% {\n",
              "      border-color: transparent;\n",
              "      border-left-color: var(--fill-color);\n",
              "      border-top-color: var(--fill-color);\n",
              "      border-right-color: var(--fill-color);\n",
              "    }\n",
              "    40% {\n",
              "      border-color: transparent;\n",
              "      border-right-color: var(--fill-color);\n",
              "      border-top-color: var(--fill-color);\n",
              "    }\n",
              "    60% {\n",
              "      border-color: transparent;\n",
              "      border-right-color: var(--fill-color);\n",
              "    }\n",
              "    80% {\n",
              "      border-color: transparent;\n",
              "      border-right-color: var(--fill-color);\n",
              "      border-bottom-color: var(--fill-color);\n",
              "    }\n",
              "    90% {\n",
              "      border-color: transparent;\n",
              "      border-bottom-color: var(--fill-color);\n",
              "    }\n",
              "  }\n",
              "</style>\n",
              "\n",
              "  <script>\n",
              "    async function quickchart(key) {\n",
              "      const quickchartButtonEl =\n",
              "        document.querySelector('#' + key + ' button');\n",
              "      quickchartButtonEl.disabled = true;  // To prevent multiple clicks.\n",
              "      quickchartButtonEl.classList.add('colab-df-spinner');\n",
              "      try {\n",
              "        const charts = await google.colab.kernel.invokeFunction(\n",
              "            'suggestCharts', [key], {});\n",
              "      } catch (error) {\n",
              "        console.error('Error during call to suggestCharts:', error);\n",
              "      }\n",
              "      quickchartButtonEl.classList.remove('colab-df-spinner');\n",
              "      quickchartButtonEl.classList.add('colab-df-quickchart-complete');\n",
              "    }\n",
              "    (() => {\n",
              "      let quickchartButtonEl =\n",
              "        document.querySelector('#df-9f21ca14-1a34-4c59-8c6d-8bb13ba05174 button');\n",
              "      quickchartButtonEl.style.display =\n",
              "        google.colab.kernel.accessAllowed ? 'block' : 'none';\n",
              "    })();\n",
              "  </script>\n",
              "</div>\n",
              "    </div>\n",
              "  </div>\n"
            ],
            "application/vnd.google.colaboratory.intrinsic+json": {
              "type": "dataframe",
              "variable_name": "df",
              "summary": "{\n  \"name\": \"df\",\n  \"rows\": 2814,\n  \"fields\": [\n    {\n      \"column\": \"Month\",\n      \"properties\": {\n        \"dtype\": \"object\",\n        \"num_unique_values\": 2814,\n        \"samples\": [\n          \"1787-01\",\n          \"1847-05\",\n          \"1848-11\"\n        ],\n        \"semantic_type\": \"\",\n        \"description\": \"\"\n      }\n    },\n    {\n      \"column\": 0,\n      \"properties\": {\n        \"dtype\": \"number\",\n        \"std\": 0.17134333247437739,\n        \"min\": 0.0,\n        \"max\": 1.0,\n        \"num_unique_values\": 1140,\n        \"samples\": [\n          0.6934594168636722,\n          0.15445232466509062,\n          0.4649330181245075\n        ],\n        \"semantic_type\": \"\",\n        \"description\": \"\"\n      }\n    },\n    {\n      \"column\": 1,\n      \"properties\": {\n        \"dtype\": \"number\",\n        \"std\": 0.17135801424184438,\n        \"min\": 0.0,\n        \"max\": 1.0,\n        \"num_unique_values\": 1140,\n        \"samples\": [\n          0.6934594168636722,\n          0.15445232466509062,\n          0.44799054373522457\n        ],\n        \"semantic_type\": \"\",\n        \"description\": \"\"\n      }\n    },\n    {\n      \"column\": 2,\n      \"properties\": {\n        \"dtype\": \"number\",\n        \"std\": 0.17136273441008018,\n        \"min\": 0.0,\n        \"max\": 1.0,\n        \"num_unique_values\": 1140,\n        \"samples\": [\n          0.6934594168636722,\n          0.15445232466509062,\n          0.5634357762017336\n        ],\n        \"semantic_type\": \"\",\n        \"description\": \"\"\n      }\n    },\n    {\n      \"column\": 3,\n      \"properties\": {\n        \"dtype\": \"number\",\n        \"std\": 0.17135709882324934,\n        \"min\": 0.0,\n        \"max\": 1.0,\n        \"num_unique_values\": 1140,\n        \"samples\": [\n          0.6934594168636722,\n          0.15445232466509062,\n          0.5634357762017336\n        ],\n        \"semantic_type\": \"\",\n        \"description\": \"\"\n      }\n    },\n    {\n      \"column\": 4,\n      \"properties\": {\n        \"dtype\": \"number\",\n        \"std\": 0.1713571132710694,\n        \"min\": 0.0,\n        \"max\": 1.0,\n        \"num_unique_values\": 1140,\n        \"samples\": [\n          0.6934594168636722,\n          0.15445232466509062,\n          0.5634357762017336\n        ],\n        \"semantic_type\": \"\",\n        \"description\": \"\"\n      }\n    },\n    {\n      \"column\": 5,\n      \"properties\": {\n        \"dtype\": \"number\",\n        \"std\": 0.17134396670154267,\n        \"min\": 0.0,\n        \"max\": 1.0,\n        \"num_unique_values\": 1140,\n        \"samples\": [\n          0.5342789598108747,\n          0.15445232466509062,\n          0.4373522458628841\n        ],\n        \"semantic_type\": \"\",\n        \"description\": \"\"\n      }\n    },\n    {\n      \"column\": \"target\",\n      \"properties\": {\n        \"dtype\": \"number\",\n        \"std\": 0.17133232648878535,\n        \"min\": 0.0,\n        \"max\": 1.0,\n        \"num_unique_values\": 1140,\n        \"samples\": [\n          0.6059889676910953,\n          0.11308116627265563,\n          0.48857368006304175\n        ],\n        \"semantic_type\": \"\",\n        \"description\": \"\"\n      }\n    }\n  ]\n}"
            }
          },
          "metadata": {},
          "execution_count": 9
        }
      ]
    },
    {
      "cell_type": "code",
      "metadata": {
        "ExecuteTime": {
          "end_time": "2020-05-31T15:17:33.776543Z",
          "start_time": "2020-05-31T15:17:33.760016Z"
        },
        "colab": {
          "base_uri": "https://localhost:8080/"
        },
        "hidden": true,
        "id": "MMlanpwRgCMH",
        "init_cell": true,
        "outputId": "619eadfa-0651-4168-9edb-d292ddeca407"
      },
      "source": [
        "'''\n",
        "Next we form the X and Y.\n",
        "It is important to shape X to\n",
        "(n_s, n_ts, n_f)\n",
        "\n",
        "For this example. n_f is one.\n",
        "'''\n",
        "\n",
        "Y = df.target.values\n",
        "# Y = Y/Y.max()\n",
        "X = df.drop('target', axis=1).values\n",
        "print(X.shape)\n",
        "X = X.reshape(-1, n_ts, n_f)\n",
        "X.shape"
      ],
      "execution_count": 10,
      "outputs": [
        {
          "output_type": "stream",
          "name": "stdout",
          "text": [
            "(2814, 6)\n"
          ]
        },
        {
          "output_type": "execute_result",
          "data": {
            "text/plain": [
              "(2814, 6, 1)"
            ]
          },
          "metadata": {},
          "execution_count": 10
        }
      ]
    },
    {
      "cell_type": "code",
      "metadata": {
        "ExecuteTime": {
          "end_time": "2020-05-31T15:17:34.255255Z",
          "start_time": "2020-05-31T15:17:34.243389Z"
        },
        "hidden": true,
        "id": "t3HG8DoJgCMK",
        "init_cell": true
      },
      "source": [
        "'''\n",
        "Before generating the train and validation sets, let's\n",
        "hold a portion of the data for prediction.\n",
        "We seperate the data for the last n_prediction\n",
        "months and later test to see how well our model\n",
        "can predict the target for these months.\n",
        "'''\n",
        "X_future = X[-n_prediction:]\n",
        "Y_future = Y[-n_prediction:]\n",
        "\n",
        "X = X[:-n_prediction]\n",
        "Y = Y[:-n_prediction]"
      ],
      "execution_count": 11,
      "outputs": []
    },
    {
      "cell_type": "code",
      "metadata": {
        "ExecuteTime": {
          "end_time": "2020-05-31T15:17:35.697612Z",
          "start_time": "2020-05-31T15:17:34.772744Z"
        },
        "colab": {
          "base_uri": "https://localhost:8080/"
        },
        "hidden": true,
        "id": "cFpSnYl6gCMN",
        "init_cell": true,
        "outputId": "80c1600a-fc8a-4dcc-a780-f563525d9274"
      },
      "source": [
        "from sklearn.model_selection import train_test_split\n",
        "X_train, X_test, Y_train, Y_test = train_test_split(X, Y, random_state = 0)\n",
        "print(X_train.shape)"
      ],
      "execution_count": 15,
      "outputs": [
        {
          "output_type": "stream",
          "name": "stdout",
          "text": [
            "(2065, 6, 1)\n"
          ]
        }
      ]
    },
    {
      "cell_type": "markdown",
      "metadata": {
        "heading_collapsed": true,
        "id": "nuIOpOi6BtVg"
      },
      "source": [
        "## Simple non-RNN model\n"
      ]
    },
    {
      "cell_type": "code",
      "metadata": {
        "ExecuteTime": {
          "end_time": "2020-05-31T15:17:46.362397Z",
          "start_time": "2020-05-31T15:17:46.354266Z"
        },
        "hidden": true,
        "id": "BhVdKuVmgCMW"
      },
      "source": [
        "from tensorflow.keras.layers import LSTM, RNN, GRU, Dense, Dropout\n",
        "from tensorflow.keras import layers\n",
        "from tensorflow.keras import models"
      ],
      "execution_count": 16,
      "outputs": []
    },
    {
      "cell_type": "code",
      "metadata": {
        "ExecuteTime": {
          "end_time": "2020-05-31T11:15:38.601780Z",
          "start_time": "2020-05-31T11:15:37.257993Z"
        },
        "colab": {
          "base_uri": "https://localhost:8080/"
        },
        "hidden": true,
        "id": "6WzVmG4pBtVj",
        "outputId": "e03b261f-9257-422a-c1ca-1ea9d7a557ae"
      },
      "source": [
        "model = models.Sequential()\n",
        "model.add(layers.Flatten(input_shape =(n_ts, n_f) ))\n",
        "model.add(layers.Dense(128, activation='relu'))\n",
        "model.add(layers.Dense(1, activation='linear'))\n",
        "\n",
        "model.compile(optimizer='adam',\n",
        "              loss=tf.keras.losses.mean_squared_error)\n",
        "\n",
        "model.summary()\n"
      ],
      "execution_count": 17,
      "outputs": [
        {
          "output_type": "stream",
          "name": "stdout",
          "text": [
            "Model: \"sequential_1\"\n",
            "_________________________________________________________________\n",
            " Layer (type)                Output Shape              Param #   \n",
            "=================================================================\n",
            " flatten_1 (Flatten)         (None, 6)                 0         \n",
            "                                                                 \n",
            " dense_2 (Dense)             (None, 128)               896       \n",
            "                                                                 \n",
            " dense_3 (Dense)             (None, 1)                 129       \n",
            "                                                                 \n",
            "=================================================================\n",
            "Total params: 1025 (4.00 KB)\n",
            "Trainable params: 1025 (4.00 KB)\n",
            "Non-trainable params: 0 (0.00 Byte)\n",
            "_________________________________________________________________\n"
          ]
        }
      ]
    },
    {
      "cell_type": "code",
      "source": [
        "history = model.fit(X_train,Y_train,\n",
        "                    epochs=10, batch_size = 64,\n",
        "                    verbose=1 ,\n",
        "#                     callbacks=my_callbacks,\n",
        "                    validation_data = (X_test, Y_test))"
      ],
      "metadata": {
        "id": "RaNkXEie9RhL",
        "outputId": "599dfc52-afaa-4c51-9534-9519045ae010",
        "colab": {
          "base_uri": "https://localhost:8080/"
        }
      },
      "execution_count": 18,
      "outputs": [
        {
          "output_type": "stream",
          "name": "stdout",
          "text": [
            "Epoch 1/10\n",
            "33/33 [==============================] - 3s 8ms/step - loss: 0.0241 - val_loss: 0.0067\n",
            "Epoch 2/10\n",
            "33/33 [==============================] - 0s 4ms/step - loss: 0.0047 - val_loss: 0.0045\n",
            "Epoch 3/10\n",
            "33/33 [==============================] - 0s 5ms/step - loss: 0.0040 - val_loss: 0.0041\n",
            "Epoch 4/10\n",
            "33/33 [==============================] - 0s 4ms/step - loss: 0.0038 - val_loss: 0.0042\n",
            "Epoch 5/10\n",
            "33/33 [==============================] - 0s 3ms/step - loss: 0.0038 - val_loss: 0.0041\n",
            "Epoch 6/10\n",
            "33/33 [==============================] - 0s 4ms/step - loss: 0.0038 - val_loss: 0.0040\n",
            "Epoch 7/10\n",
            "33/33 [==============================] - 0s 4ms/step - loss: 0.0037 - val_loss: 0.0040\n",
            "Epoch 8/10\n",
            "33/33 [==============================] - 0s 4ms/step - loss: 0.0037 - val_loss: 0.0040\n",
            "Epoch 9/10\n",
            "33/33 [==============================] - 0s 4ms/step - loss: 0.0037 - val_loss: 0.0040\n",
            "Epoch 10/10\n",
            "33/33 [==============================] - 0s 4ms/step - loss: 0.0038 - val_loss: 0.0042\n"
          ]
        }
      ]
    },
    {
      "cell_type": "code",
      "metadata": {
        "ExecuteTime": {
          "end_time": "2020-05-31T11:15:45.859325Z",
          "start_time": "2020-05-31T11:15:44.681064Z"
        },
        "colab": {
          "base_uri": "https://localhost:8080/",
          "height": 507
        },
        "hidden": true,
        "id": "Kjqtgm23BtVq",
        "outputId": "4086b76c-9ffc-4b58-955a-e88592234d33"
      },
      "source": [
        "# Plot training & validation accuracy values\n",
        "fig = plt.figure(figsize=(7,5))\n",
        "# Plot training & validation loss values\n",
        "ax = fig.add_subplot(1,1,1, title = 'Model loss', ylabel= 'Loss')\n",
        "plt.plot(history.history['loss'])\n",
        "plt.plot(history.history['val_loss'])\n",
        "plt.legend(['Train', 'Test'], loc='upper left')\n",
        "\n",
        "plt.tight_layout()\n",
        "plt.show()"
      ],
      "execution_count": 19,
      "outputs": [
        {
          "output_type": "display_data",
          "data": {
            "text/plain": [
              "<Figure size 700x500 with 1 Axes>"
            ],
            "image/png": "[encoded data removed]"
          },
          "metadata": {}
        }
      ]
    },
    {
      "cell_type": "code",
      "metadata": {
        "ExecuteTime": {
          "end_time": "2020-05-31T11:15:52.047149Z",
          "start_time": "2020-05-31T11:15:51.470783Z"
        },
        "colab": {
          "base_uri": "https://localhost:8080/",
          "height": 397
        },
        "hidden": true,
        "id": "XCJKuag0BtVt",
        "outputId": "6a8002f4-2ec0-4a85-a6b4-50329cc37538"
      },
      "source": [
        "'''\n",
        "Now we use the model to predict the sunspots for the missing month\n",
        "and then compare to the actual values.\n",
        "From the plot it is clear that the predicted values follow the trend,\n",
        "however, there seems to be a delay.\n",
        "'''\n",
        "Y_fut_predicted = model.predict(X_future)\n",
        "plt.plot(Y_future, label = 'Real Data')\n",
        "plt.plot(Y_fut_predicted, label = 'Predicted values')\n",
        "plt.legend(loc=0)\n",
        "plt.show()"
      ],
      "execution_count": 20,
      "outputs": [
        {
          "output_type": "stream",
          "name": "stdout",
          "text": [
            "2/2 [==============================] - 0s 5ms/step\n"
          ]
        },
        {
          "output_type": "display_data",
          "data": {
            "text/plain": [
              "<Figure size 1200x400 with 1 Axes>"
            ],
            "image/png": "[encoded data removed]"
          },
          "metadata": {}
        }
      ]
    },
    {
      "cell_type": "markdown",
      "metadata": {
        "heading_collapsed": true,
        "id": "w9gSSuC4BtVw"
      },
      "source": [
        "## Simple RNN model\n",
        "\n",
        "\n",
        "![alt text](https://upload.wikimedia.org/wikipedia/commons/thumb/b/b5/Recurrent_neural_network_unfold.svg/2880px-Recurrent_neural_network_unfold.svg.png)\n",
        "\n",
        "wikipedia"
      ]
    },
    {
      "cell_type": "code",
      "metadata": {
        "ExecuteTime": {
          "end_time": "2020-05-31T11:26:40.552341Z",
          "start_time": "2020-05-31T11:26:38.669493Z"
        },
        "hidden": true,
        "id": "d9izjDHPgCMY",
        "outputId": "1ceb2920-2c08-4c45-eb05-31c94c0614da",
        "colab": {
          "base_uri": "https://localhost:8080/"
        }
      },
      "source": [
        "model = models.Sequential()\n",
        "model.add(SimpleRNN(64, input_shape =(n_ts, n_f) ,\n",
        "               activation='tanh',\n",
        "               return_sequences=False)\n",
        "         )\n",
        "\n",
        "# model.add(SimpleRNN(32,  activation='tanh')  )\n",
        "\n",
        "model.add(Dense(32,  activation='relu')  )\n",
        "\n",
        "model.add(Dense(1,  activation='linear')  )\n",
        "\n",
        "\n",
        "model.compile(loss = keras.losses.mean_squared_error,\n",
        "              optimizer=keras.optimizers.Adam(lr = .001) )\n"
      ],
      "execution_count": 27,
      "outputs": [
        {
          "output_type": "stream",
          "name": "stderr",
          "text": [
            "WARNING:absl:`lr` is deprecated in Keras optimizer, please use `learning_rate` or use the legacy optimizer, e.g.,tf.keras.optimizers.legacy.Adam.\n"
          ]
        }
      ]
    },
    {
      "cell_type": "code",
      "metadata": {
        "ExecuteTime": {
          "end_time": "2020-05-31T11:26:42.130065Z",
          "start_time": "2020-05-31T11:26:42.116016Z"
        },
        "colab": {
          "base_uri": "https://localhost:8080/"
        },
        "hidden": true,
        "id": "sjcp4LPAgCMc",
        "outputId": "aa3b005f-f146-46ec-b6a1-193b3c960996"
      },
      "source": [
        "model.summary()"
      ],
      "execution_count": 28,
      "outputs": [
        {
          "output_type": "stream",
          "name": "stdout",
          "text": [
            "Model: \"sequential_3\"\n",
            "_________________________________________________________________\n",
            " Layer (type)                Output Shape              Param #   \n",
            "=================================================================\n",
            " simple_rnn_1 (SimpleRNN)    (None, 64)                4224      \n",
            "                                                                 \n",
            " dense_6 (Dense)             (None, 32)                2080      \n",
            "                                                                 \n",
            " dense_7 (Dense)             (None, 1)                 33        \n",
            "                                                                 \n",
            "=================================================================\n",
            "Total params: 6337 (24.75 KB)\n",
            "Trainable params: 6337 (24.75 KB)\n",
            "Non-trainable params: 0 (0.00 Byte)\n",
            "_________________________________________________________________\n"
          ]
        }
      ]
    },
    {
      "cell_type": "code",
      "metadata": {
        "ExecuteTime": {
          "end_time": "2020-05-31T11:28:07.873337Z",
          "start_time": "2020-05-31T11:27:08.813314Z"
        },
        "colab": {
          "base_uri": "https://localhost:8080/"
        },
        "hidden": true,
        "id": "VJHN_q7vgCMh",
        "outputId": "4659555b-0b64-4c58-de23-ff8e2aa9a845"
      },
      "source": [
        "history = model.fit(X_train, Y_train,\n",
        "                    epochs=10, batch_size=16,\n",
        "                    verbose=1, validation_data=(X_test, Y_test))"
      ],
      "execution_count": 29,
      "outputs": [
        {
          "output_type": "stream",
          "name": "stdout",
          "text": [
            "Epoch 1/10\n",
            "130/130 [==============================] - 3s 9ms/step - loss: 0.0051 - val_loss: 0.0042\n",
            "Epoch 2/10\n",
            "130/130 [==============================] - 1s 8ms/step - loss: 0.0041 - val_loss: 0.0042\n",
            "Epoch 3/10\n",
            "130/130 [==============================] - 1s 7ms/step - loss: 0.0039 - val_loss: 0.0041\n",
            "Epoch 4/10\n",
            "130/130 [==============================] - 1s 8ms/step - loss: 0.0040 - val_loss: 0.0049\n",
            "Epoch 5/10\n",
            "130/130 [==============================] - 1s 8ms/step - loss: 0.0042 - val_loss: 0.0041\n",
            "Epoch 6/10\n",
            "130/130 [==============================] - 1s 8ms/step - loss: 0.0039 - val_loss: 0.0042\n",
            "Epoch 7/10\n",
            "130/130 [==============================] - 1s 8ms/step - loss: 0.0039 - val_loss: 0.0041\n",
            "Epoch 8/10\n",
            "130/130 [==============================] - 1s 7ms/step - loss: 0.0039 - val_loss: 0.0040\n",
            "Epoch 9/10\n",
            "130/130 [==============================] - 1s 7ms/step - loss: 0.0039 - val_loss: 0.0041\n",
            "Epoch 10/10\n",
            "130/130 [==============================] - 1s 9ms/step - loss: 0.0039 - val_loss: 0.0040\n"
          ]
        }
      ]
    },
    {
      "cell_type": "code",
      "metadata": {
        "ExecuteTime": {
          "end_time": "2020-05-31T11:28:12.015678Z",
          "start_time": "2020-05-31T11:28:11.365873Z"
        },
        "colab": {
          "base_uri": "https://localhost:8080/",
          "height": 507
        },
        "hidden": true,
        "id": "aEkoUU6hgCMk",
        "outputId": "31c37ca4-e1ab-43ec-faee-e595e1fedfd9"
      },
      "source": [
        "# Plot training & validation accuracy values\n",
        "fig = plt.figure(figsize=(7,5))\n",
        "# Plot training & validation loss values\n",
        "ax = fig.add_subplot(1,1,1, title = 'Model loss', ylabel= 'Loss')\n",
        "plt.plot(history.history['loss'][2:])\n",
        "plt.plot(history.history['val_loss'][2:])\n",
        "plt.legend(['Train', 'Test'], loc='upper left')\n",
        "\n",
        "plt.tight_layout()\n",
        "plt.show()"
      ],
      "execution_count": 30,
      "outputs": [
        {
          "output_type": "display_data",
          "data": {
            "text/plain": [
              "<Figure size 700x500 with 1 Axes>"
            ],
            "image/png": "[encoded data removed]"
          },
          "metadata": {}
        }
      ]
    },
    {
      "cell_type": "code",
      "metadata": {
        "ExecuteTime": {
          "end_time": "2020-05-31T11:28:27.145123Z",
          "start_time": "2020-05-31T11:28:25.375410Z"
        },
        "colab": {
          "base_uri": "https://localhost:8080/",
          "height": 499
        },
        "hidden": true,
        "id": "92Kai65QgCMp",
        "outputId": "4e14857c-0a58-4cc0-cb62-1916a007fd5e"
      },
      "source": [
        "'''\n",
        "Now we use the model to predict the sunspots for the missing month\n",
        "and then compare to the actual values.\n",
        "From the plot it is clear that the predicted values follow the trend,\n",
        "however, there seems to be a delay.\n",
        "'''\n",
        "fig = plt.figure(figsize=(7,5))\n",
        "ax = fig.add_subplot(1,1,1, xlabel = 'Time', ylabel= 'Loss')\n",
        "\n",
        "Y_fut_predicted = model.predict(X_future)\n",
        "plt.plot(Y_future, label = 'Real Data')\n",
        "plt.plot(Y_fut_predicted, label = 'Predicted values')\n",
        "plt.xlabel = 'time'\n",
        "plt.legend(loc=0)\n",
        "plt.show()"
      ],
      "execution_count": 32,
      "outputs": [
        {
          "output_type": "stream",
          "name": "stdout",
          "text": [
            "2/2 [==============================] - 0s 6ms/step\n"
          ]
        },
        {
          "output_type": "display_data",
          "data": {
            "text/plain": [
              "<Figure size 700x500 with 1 Axes>"
            ],
            "image/png": "[encoded data removed]"
          },
          "metadata": {}
        }
      ]
    },
    {
      "cell_type": "markdown",
      "metadata": {
        "heading_collapsed": true,
        "id": "LK-xIZ5hBtV8"
      },
      "source": [
        "## RNN with long short term memory (LSTM)\n",
        "\n",
        "Next, we train a LSTM model.\n",
        "\n",
        "For more information, see this post\n",
        "\n",
        "https://colah.github.io/posts/2015-08-Understanding-LSTMs/\n",
        "\n",
        "and\n",
        "\n",
        "http://karpathy.github.io/2015/05/21/rnn-effectiveness/\n",
        "\n",
        "![alt text](https://upload.wikimedia.org/wikipedia/commons/thumb/6/63/Long_Short-Term_Memory.svg/2880px-Long_Short-Term_Memory.svg.png)\n",
        "\n",
        "wikipedia"
      ]
    },
    {
      "cell_type": "code",
      "metadata": {
        "ExecuteTime": {
          "end_time": "2020-05-31T15:17:55.352812Z",
          "start_time": "2020-05-31T15:17:54.392403Z"
        },
        "hidden": true,
        "id": "6ZXHnC6-BtV9"
      },
      "source": [
        "model = models.Sequential()\n",
        "model.add(LSTM(64, input_shape =(n_ts, n_f) ,\n",
        "               activation='tanh',\n",
        "               return_sequences=True)\n",
        "         )\n",
        "\n",
        "model.add(LSTM(32,  activation='tanh')  )\n",
        "\n",
        "model.add(Dense(32,  activation='relu')  )\n",
        "\n",
        "model.add(Dense(1,  activation='linear')  )\n",
        "\n",
        "\n",
        "model.compile(loss = keras.losses.mean_squared_error,\n",
        "              optimizer=keras.optimizers.Adam(lr = .001) )\n"
      ],
      "execution_count": null,
      "outputs": []
    },
    {
      "cell_type": "code",
      "metadata": {
        "ExecuteTime": {
          "end_time": "2020-05-31T15:17:57.068901Z",
          "start_time": "2020-05-31T15:17:57.052632Z"
        },
        "colab": {
          "base_uri": "https://localhost:8080/"
        },
        "hidden": true,
        "id": "hVEeY-3lBtV_",
        "outputId": "83f6c536-1bca-4da5-e857-680bc6f578fe"
      },
      "source": [
        "model.summary()"
      ],
      "execution_count": null,
      "outputs": [
        {
          "output_type": "stream",
          "text": [
            "Model: \"sequential_3\"\n",
            "_________________________________________________________________\n",
            "Layer (type)                 Output Shape              Param #   \n",
            "=================================================================\n",
            "lstm (LSTM)                  (None, 6, 64)             16896     \n",
            "_________________________________________________________________\n",
            "lstm_1 (LSTM)                (None, 32)                12416     \n",
            "_________________________________________________________________\n",
            "dense_6 (Dense)              (None, 32)                1056      \n",
            "_________________________________________________________________\n",
            "dense_7 (Dense)              (None, 1)                 33        \n",
            "=================================================================\n",
            "Total params: 30,401\n",
            "Trainable params: 30,401\n",
            "Non-trainable params: 0\n",
            "_________________________________________________________________\n"
          ],
          "name": "stdout"
        }
      ]
    },
    {
      "cell_type": "code",
      "metadata": {
        "ExecuteTime": {
          "end_time": "2020-05-31T15:20:49.749359Z",
          "start_time": "2020-05-31T15:20:29.415328Z"
        },
        "hidden": true,
        "id": "uhplguREBtWC"
      },
      "source": [
        "history = model.fit(X_train, Y_train,\n",
        "                    epochs=10, batch_size=16,\n",
        "                    verbose=0, validation_data=(X_test, Y_test))"
      ],
      "execution_count": null,
      "outputs": []
    },
    {
      "cell_type": "code",
      "metadata": {
        "ExecuteTime": {
          "end_time": "2020-05-31T15:18:54.568365Z",
          "start_time": "2020-05-31T15:18:53.658017Z"
        },
        "colab": {
          "base_uri": "https://localhost:8080/",
          "height": 369
        },
        "hidden": true,
        "id": "xBd96T2uBtWH",
        "outputId": "44aa6492-24c0-4122-bce4-b3fe88d19e23"
      },
      "source": [
        "# Plot training & validation accuracy values\n",
        "fig = plt.figure(figsize=(7,5))\n",
        "# Plot training & validation loss values\n",
        "ax = fig.add_subplot(1,1,1, title = 'Model loss', ylabel= 'Loss')\n",
        "plt.plot(history.history['loss'])\n",
        "plt.plot(history.history['val_loss'])\n",
        "plt.legend(['Train', 'Test'], loc='upper left')\n",
        "\n",
        "plt.tight_layout()\n",
        "plt.show()"
      ],
      "execution_count": null,
      "outputs": [
        {
          "output_type": "display_data",
          "data": {
            "image/png": "[encoded data removed]",
            "text/plain": [
              "<Figure size 504x360 with 1 Axes>"
            ]
          },
          "metadata": {
            "tags": [],
            "needs_background": "light"
          }
        }
      ]
    },
    {
      "cell_type": "code",
      "metadata": {
        "ExecuteTime": {
          "end_time": "2020-05-31T15:20:55.987996Z",
          "start_time": "2020-05-31T15:20:55.529719Z"
        },
        "colab": {
          "base_uri": "https://localhost:8080/",
          "height": 346
        },
        "hidden": true,
        "id": "aki7Iz1sBtWJ",
        "outputId": "d692dcd6-b050-451d-9a97-d5ded03c0a92"
      },
      "source": [
        "'''\n",
        "Now we use the model to predict the sunspots for the missing month\n",
        "and then compare to the actual values.\n",
        "From the plot it is clear that the predicted values follow the trend,\n",
        "however, there seems to be a delay.\n",
        "'''\n",
        "fig = plt.figure(figsize=(7,5))\n",
        "ax = fig.add_subplot(1,1,1, xlabel = 'Time', ylabel= 'Loss')\n",
        "\n",
        "Y_fut_predicted = model.predict(X_future)\n",
        "plt.plot(Y_future, label = 'Real Data')\n",
        "plt.plot(Y_fut_predicted, label = 'Predicted values')\n",
        "plt.xlabel = 'time'\n",
        "plt.legend(loc=0)\n",
        "plt.show()"
      ],
      "execution_count": null,
      "outputs": [
        {
          "output_type": "display_data",
          "data": {
            "image/png": "[encoded data removed]",
            "text/plain": [
              "<Figure size 504x360 with 1 Axes>"
            ]
          },
          "metadata": {
            "tags": [],
            "needs_background": "light"
          }
        }
      ]
    },
    {
      "cell_type": "markdown",
      "metadata": {
        "id": "4DK5cZOygim-"
      },
      "source": [
        "# Multivariate RNN"
      ]
    },
    {
      "cell_type": "code",
      "metadata": {
        "colab": {
          "base_uri": "https://localhost:8080/",
          "height": 235
        },
        "id": "II9qL8zsglxT",
        "outputId": "8f104443-e8cf-4088-8907-be3eacbf7c16"
      },
      "source": [
        "'''\n",
        "Here's the data for air pollution in Beijing, taken from\n",
        "http://archive.ics.uci.edu/ml/datasets/Beijing+PM2.5+Data#\n",
        "\n",
        "Use LSTM RNN models to predict the air pollution.\n",
        "\n",
        "'''\n",
        "url = 'https://raw.githubusercontent.com/sraeisi/MachineLearning_Physics/master/Data/PRSA_data_2010.1.1-2014.12.31.csv'\n",
        "import requests, io\n",
        "\n",
        "c = requests.get(url, stream=True).content\n",
        "data = pd.read_csv(io.BytesIO(c), index_col = 0)\n",
        "data.head()"
      ],
      "execution_count": null,
      "outputs": [
        {
          "output_type": "execute_result",
          "data": {
            "text/html": [
              "<div>\n",
              "<style scoped>\n",
              "    .dataframe tbody tr th:only-of-type {\n",
              "        vertical-align: middle;\n",
              "    }\n",
              "\n",
              "    .dataframe tbody tr th {\n",
              "        vertical-align: top;\n",
              "    }\n",
              "\n",
              "    .dataframe thead th {\n",
              "        text-align: right;\n",
              "    }\n",
              "</style>\n",
              "<table border=\"1\" class=\"dataframe\">\n",
              "  <thead>\n",
              "    <tr style=\"text-align: right;\">\n",
              "      <th></th>\n",
              "      <th>year</th>\n",
              "      <th>month</th>\n",
              "      <th>day</th>\n",
              "      <th>hour</th>\n",
              "      <th>pm2.5</th>\n",
              "      <th>DEWP</th>\n",
              "      <th>TEMP</th>\n",
              "      <th>PRES</th>\n",
              "      <th>cbwd</th>\n",
              "      <th>Iws</th>\n",
              "      <th>Is</th>\n",
              "      <th>Ir</th>\n",
              "    </tr>\n",
              "    <tr>\n",
              "      <th>No</th>\n",
              "      <th></th>\n",
              "      <th></th>\n",
              "      <th></th>\n",
              "      <th></th>\n",
              "      <th></th>\n",
              "      <th></th>\n",
              "      <th></th>\n",
              "      <th></th>\n",
              "      <th></th>\n",
              "      <th></th>\n",
              "      <th></th>\n",
              "      <th></th>\n",
              "    </tr>\n",
              "  </thead>\n",
              "  <tbody>\n",
              "    <tr>\n",
              "      <th>1</th>\n",
              "      <td>2010</td>\n",
              "      <td>1</td>\n",
              "      <td>1</td>\n",
              "      <td>0</td>\n",
              "      <td>NaN</td>\n",
              "      <td>-21</td>\n",
              "      <td>-11.0</td>\n",
              "      <td>1021.0</td>\n",
              "      <td>NW</td>\n",
              "      <td>1.79</td>\n",
              "      <td>0</td>\n",
              "      <td>0</td>\n",
              "    </tr>\n",
              "    <tr>\n",
              "      <th>2</th>\n",
              "      <td>2010</td>\n",
              "      <td>1</td>\n",
              "      <td>1</td>\n",
              "      <td>1</td>\n",
              "      <td>NaN</td>\n",
              "      <td>-21</td>\n",
              "      <td>-12.0</td>\n",
              "      <td>1020.0</td>\n",
              "      <td>NW</td>\n",
              "      <td>4.92</td>\n",
              "      <td>0</td>\n",
              "      <td>0</td>\n",
              "    </tr>\n",
              "    <tr>\n",
              "      <th>3</th>\n",
              "      <td>2010</td>\n",
              "      <td>1</td>\n",
              "      <td>1</td>\n",
              "      <td>2</td>\n",
              "      <td>NaN</td>\n",
              "      <td>-21</td>\n",
              "      <td>-11.0</td>\n",
              "      <td>1019.0</td>\n",
              "      <td>NW</td>\n",
              "      <td>6.71</td>\n",
              "      <td>0</td>\n",
              "      <td>0</td>\n",
              "    </tr>\n",
              "    <tr>\n",
              "      <th>4</th>\n",
              "      <td>2010</td>\n",
              "      <td>1</td>\n",
              "      <td>1</td>\n",
              "      <td>3</td>\n",
              "      <td>NaN</td>\n",
              "      <td>-21</td>\n",
              "      <td>-14.0</td>\n",
              "      <td>1019.0</td>\n",
              "      <td>NW</td>\n",
              "      <td>9.84</td>\n",
              "      <td>0</td>\n",
              "      <td>0</td>\n",
              "    </tr>\n",
              "    <tr>\n",
              "      <th>5</th>\n",
              "      <td>2010</td>\n",
              "      <td>1</td>\n",
              "      <td>1</td>\n",
              "      <td>4</td>\n",
              "      <td>NaN</td>\n",
              "      <td>-20</td>\n",
              "      <td>-12.0</td>\n",
              "      <td>1018.0</td>\n",
              "      <td>NW</td>\n",
              "      <td>12.97</td>\n",
              "      <td>0</td>\n",
              "      <td>0</td>\n",
              "    </tr>\n",
              "  </tbody>\n",
              "</table>\n",
              "</div>"
            ],
            "text/plain": [
              "    year  month  day  hour  pm2.5  DEWP  TEMP    PRES cbwd    Iws  Is  Ir\n",
              "No                                                                       \n",
              "1   2010      1    1     0    NaN   -21 -11.0  1021.0   NW   1.79   0   0\n",
              "2   2010      1    1     1    NaN   -21 -12.0  1020.0   NW   4.92   0   0\n",
              "3   2010      1    1     2    NaN   -21 -11.0  1019.0   NW   6.71   0   0\n",
              "4   2010      1    1     3    NaN   -21 -14.0  1019.0   NW   9.84   0   0\n",
              "5   2010      1    1     4    NaN   -20 -12.0  1018.0   NW  12.97   0   0"
            ]
          },
          "metadata": {
            "tags": []
          },
          "execution_count": 35
        }
      ]
    },
    {
      "cell_type": "code",
      "metadata": {
        "colab": {
          "base_uri": "https://localhost:8080/",
          "height": 119
        },
        "id": "gu8OCG3qmT7e",
        "outputId": "9423f731-f9bf-4b40-df73-21e5ff66994c"
      },
      "source": [
        "'''\n",
        "We probably don't need year, month, day and hour if hour is always increasing by one.\n",
        "It should be enough to keep only the index.\n",
        "'''\n",
        "data.drop(['year', 'month', 'day', 'hour'], axis=1, inplace=True)\n",
        "data.index"
      ],
      "execution_count": null,
      "outputs": [
        {
          "output_type": "execute_result",
          "data": {
            "text/plain": [
              "Int64Index([    1,     2,     3,     4,     5,     6,     7,     8,     9,\n",
              "               10,\n",
              "            ...\n",
              "            43815, 43816, 43817, 43818, 43819, 43820, 43821, 43822, 43823,\n",
              "            43824],\n",
              "           dtype='int64', name='No', length=43824)"
            ]
          },
          "metadata": {
            "tags": []
          },
          "execution_count": 33
        }
      ]
    },
    {
      "cell_type": "markdown",
      "metadata": {
        "id": "RlkgpXVdh499"
      },
      "source": [
        "### Dealing with nan values"
      ]
    },
    {
      "cell_type": "code",
      "metadata": {
        "colab": {
          "base_uri": "https://localhost:8080/",
          "height": 170
        },
        "id": "Kgz6J3tLhUwm",
        "outputId": "012a96b0-4e48-442a-d1af-12b6168d608a"
      },
      "source": [
        "data.isna().any()"
      ],
      "execution_count": null,
      "outputs": [
        {
          "output_type": "execute_result",
          "data": {
            "text/plain": [
              "pm2.5     True\n",
              "DEWP     False\n",
              "TEMP     False\n",
              "PRES     False\n",
              "cbwd     False\n",
              "Iws      False\n",
              "Is       False\n",
              "Ir       False\n",
              "dtype: bool"
            ]
          },
          "metadata": {
            "tags": []
          },
          "execution_count": 34
        }
      ]
    },
    {
      "cell_type": "code",
      "metadata": {
        "colab": {
          "base_uri": "https://localhost:8080/",
          "height": 34
        },
        "id": "7aJtTlBkhctc",
        "outputId": "1ca322ac-a68f-48e9-9397-9057f1617ba5"
      },
      "source": [
        "data['pm2.5'].isna().sum()"
      ],
      "execution_count": null,
      "outputs": [
        {
          "output_type": "execute_result",
          "data": {
            "text/plain": [
              "2067"
            ]
          },
          "metadata": {
            "tags": []
          },
          "execution_count": 35
        }
      ]
    },
    {
      "cell_type": "code",
      "metadata": {
        "colab": {
          "base_uri": "https://localhost:8080/",
          "height": 34
        },
        "id": "UAresmLbhrcZ",
        "outputId": "db438bf1-5f17-4613-e3f2-986a0a01ca43"
      },
      "source": [
        "print(len(data))"
      ],
      "execution_count": null,
      "outputs": [
        {
          "output_type": "stream",
          "text": [
            "43824\n"
          ],
          "name": "stdout"
        }
      ]
    },
    {
      "cell_type": "code",
      "metadata": {
        "id": "PoLxtsamhy52"
      },
      "source": [
        "'''\n",
        "There are two many of them and we can't just remove those rows.\n",
        "So we replace the NaN values with the mean of the col.\n",
        "'''\n",
        "\n",
        "data.fillna(data.mean(), inplace=True)"
      ],
      "execution_count": null,
      "outputs": []
    },
    {
      "cell_type": "code",
      "metadata": {
        "colab": {
          "base_uri": "https://localhost:8080/",
          "height": 235
        },
        "id": "4551f-9qiUXD",
        "outputId": "e354b54c-bff9-420f-c03d-023e3540844b"
      },
      "source": [
        "data.head()"
      ],
      "execution_count": null,
      "outputs": [
        {
          "output_type": "execute_result",
          "data": {
            "text/html": [
              "<div>\n",
              "<style scoped>\n",
              "    .dataframe tbody tr th:only-of-type {\n",
              "        vertical-align: middle;\n",
              "    }\n",
              "\n",
              "    .dataframe tbody tr th {\n",
              "        vertical-align: top;\n",
              "    }\n",
              "\n",
              "    .dataframe thead th {\n",
              "        text-align: right;\n",
              "    }\n",
              "</style>\n",
              "<table border=\"1\" class=\"dataframe\">\n",
              "  <thead>\n",
              "    <tr style=\"text-align: right;\">\n",
              "      <th></th>\n",
              "      <th>pm2.5</th>\n",
              "      <th>DEWP</th>\n",
              "      <th>TEMP</th>\n",
              "      <th>PRES</th>\n",
              "      <th>cbwd</th>\n",
              "      <th>Iws</th>\n",
              "      <th>Is</th>\n",
              "      <th>Ir</th>\n",
              "    </tr>\n",
              "    <tr>\n",
              "      <th>No</th>\n",
              "      <th></th>\n",
              "      <th></th>\n",
              "      <th></th>\n",
              "      <th></th>\n",
              "      <th></th>\n",
              "      <th></th>\n",
              "      <th></th>\n",
              "      <th></th>\n",
              "    </tr>\n",
              "  </thead>\n",
              "  <tbody>\n",
              "    <tr>\n",
              "      <th>1</th>\n",
              "      <td>98.613215</td>\n",
              "      <td>-21</td>\n",
              "      <td>-11.0</td>\n",
              "      <td>1021.0</td>\n",
              "      <td>NW</td>\n",
              "      <td>1.79</td>\n",
              "      <td>0</td>\n",
              "      <td>0</td>\n",
              "    </tr>\n",
              "    <tr>\n",
              "      <th>2</th>\n",
              "      <td>98.613215</td>\n",
              "      <td>-21</td>\n",
              "      <td>-12.0</td>\n",
              "      <td>1020.0</td>\n",
              "      <td>NW</td>\n",
              "      <td>4.92</td>\n",
              "      <td>0</td>\n",
              "      <td>0</td>\n",
              "    </tr>\n",
              "    <tr>\n",
              "      <th>3</th>\n",
              "      <td>98.613215</td>\n",
              "      <td>-21</td>\n",
              "      <td>-11.0</td>\n",
              "      <td>1019.0</td>\n",
              "      <td>NW</td>\n",
              "      <td>6.71</td>\n",
              "      <td>0</td>\n",
              "      <td>0</td>\n",
              "    </tr>\n",
              "    <tr>\n",
              "      <th>4</th>\n",
              "      <td>98.613215</td>\n",
              "      <td>-21</td>\n",
              "      <td>-14.0</td>\n",
              "      <td>1019.0</td>\n",
              "      <td>NW</td>\n",
              "      <td>9.84</td>\n",
              "      <td>0</td>\n",
              "      <td>0</td>\n",
              "    </tr>\n",
              "    <tr>\n",
              "      <th>5</th>\n",
              "      <td>98.613215</td>\n",
              "      <td>-20</td>\n",
              "      <td>-12.0</td>\n",
              "      <td>1018.0</td>\n",
              "      <td>NW</td>\n",
              "      <td>12.97</td>\n",
              "      <td>0</td>\n",
              "      <td>0</td>\n",
              "    </tr>\n",
              "  </tbody>\n",
              "</table>\n",
              "</div>"
            ],
            "text/plain": [
              "        pm2.5  DEWP  TEMP    PRES cbwd    Iws  Is  Ir\n",
              "No                                                   \n",
              "1   98.613215   -21 -11.0  1021.0   NW   1.79   0   0\n",
              "2   98.613215   -21 -12.0  1020.0   NW   4.92   0   0\n",
              "3   98.613215   -21 -11.0  1019.0   NW   6.71   0   0\n",
              "4   98.613215   -21 -14.0  1019.0   NW   9.84   0   0\n",
              "5   98.613215   -20 -12.0  1018.0   NW  12.97   0   0"
            ]
          },
          "metadata": {
            "tags": []
          },
          "execution_count": 38
        }
      ]
    },
    {
      "cell_type": "code",
      "metadata": {
        "colab": {
          "base_uri": "https://localhost:8080/",
          "height": 700
        },
        "id": "y_YVd6uQixeT",
        "outputId": "386a300d-5fc3-4f1d-c6e6-bcb1dc0b65ff"
      },
      "source": [
        "'''\n",
        "Next we need to turn categorical values to numerical ones.\n",
        "'''\n",
        "data.cbwd = data.cbwd.astype(\"category\").cat.codes\n",
        "data.head(20)"
      ],
      "execution_count": null,
      "outputs": [
        {
          "output_type": "execute_result",
          "data": {
            "text/html": [
              "<div>\n",
              "<style scoped>\n",
              "    .dataframe tbody tr th:only-of-type {\n",
              "        vertical-align: middle;\n",
              "    }\n",
              "\n",
              "    .dataframe tbody tr th {\n",
              "        vertical-align: top;\n",
              "    }\n",
              "\n",
              "    .dataframe thead th {\n",
              "        text-align: right;\n",
              "    }\n",
              "</style>\n",
              "<table border=\"1\" class=\"dataframe\">\n",
              "  <thead>\n",
              "    <tr style=\"text-align: right;\">\n",
              "      <th></th>\n",
              "      <th>pm2.5</th>\n",
              "      <th>DEWP</th>\n",
              "      <th>TEMP</th>\n",
              "      <th>PRES</th>\n",
              "      <th>cbwd</th>\n",
              "      <th>Iws</th>\n",
              "      <th>Is</th>\n",
              "      <th>Ir</th>\n",
              "    </tr>\n",
              "    <tr>\n",
              "      <th>No</th>\n",
              "      <th></th>\n",
              "      <th></th>\n",
              "      <th></th>\n",
              "      <th></th>\n",
              "      <th></th>\n",
              "      <th></th>\n",
              "      <th></th>\n",
              "      <th></th>\n",
              "    </tr>\n",
              "  </thead>\n",
              "  <tbody>\n",
              "    <tr>\n",
              "      <th>1</th>\n",
              "      <td>98.613215</td>\n",
              "      <td>-21</td>\n",
              "      <td>-11.0</td>\n",
              "      <td>1021.0</td>\n",
              "      <td>1</td>\n",
              "      <td>1.79</td>\n",
              "      <td>0</td>\n",
              "      <td>0</td>\n",
              "    </tr>\n",
              "    <tr>\n",
              "      <th>2</th>\n",
              "      <td>98.613215</td>\n",
              "      <td>-21</td>\n",
              "      <td>-12.0</td>\n",
              "      <td>1020.0</td>\n",
              "      <td>1</td>\n",
              "      <td>4.92</td>\n",
              "      <td>0</td>\n",
              "      <td>0</td>\n",
              "    </tr>\n",
              "    <tr>\n",
              "      <th>3</th>\n",
              "      <td>98.613215</td>\n",
              "      <td>-21</td>\n",
              "      <td>-11.0</td>\n",
              "      <td>1019.0</td>\n",
              "      <td>1</td>\n",
              "      <td>6.71</td>\n",
              "      <td>0</td>\n",
              "      <td>0</td>\n",
              "    </tr>\n",
              "    <tr>\n",
              "      <th>4</th>\n",
              "      <td>98.613215</td>\n",
              "      <td>-21</td>\n",
              "      <td>-14.0</td>\n",
              "      <td>1019.0</td>\n",
              "      <td>1</td>\n",
              "      <td>9.84</td>\n",
              "      <td>0</td>\n",
              "      <td>0</td>\n",
              "    </tr>\n",
              "    <tr>\n",
              "      <th>5</th>\n",
              "      <td>98.613215</td>\n",
              "      <td>-20</td>\n",
              "      <td>-12.0</td>\n",
              "      <td>1018.0</td>\n",
              "      <td>1</td>\n",
              "      <td>12.97</td>\n",
              "      <td>0</td>\n",
              "      <td>0</td>\n",
              "    </tr>\n",
              "    <tr>\n",
              "      <th>6</th>\n",
              "      <td>98.613215</td>\n",
              "      <td>-19</td>\n",
              "      <td>-10.0</td>\n",
              "      <td>1017.0</td>\n",
              "      <td>1</td>\n",
              "      <td>16.10</td>\n",
              "      <td>0</td>\n",
              "      <td>0</td>\n",
              "    </tr>\n",
              "    <tr>\n",
              "      <th>7</th>\n",
              "      <td>98.613215</td>\n",
              "      <td>-19</td>\n",
              "      <td>-9.0</td>\n",
              "      <td>1017.0</td>\n",
              "      <td>1</td>\n",
              "      <td>19.23</td>\n",
              "      <td>0</td>\n",
              "      <td>0</td>\n",
              "    </tr>\n",
              "    <tr>\n",
              "      <th>8</th>\n",
              "      <td>98.613215</td>\n",
              "      <td>-19</td>\n",
              "      <td>-9.0</td>\n",
              "      <td>1017.0</td>\n",
              "      <td>1</td>\n",
              "      <td>21.02</td>\n",
              "      <td>0</td>\n",
              "      <td>0</td>\n",
              "    </tr>\n",
              "    <tr>\n",
              "      <th>9</th>\n",
              "      <td>98.613215</td>\n",
              "      <td>-19</td>\n",
              "      <td>-9.0</td>\n",
              "      <td>1017.0</td>\n",
              "      <td>1</td>\n",
              "      <td>24.15</td>\n",
              "      <td>0</td>\n",
              "      <td>0</td>\n",
              "    </tr>\n",
              "    <tr>\n",
              "      <th>10</th>\n",
              "      <td>98.613215</td>\n",
              "      <td>-20</td>\n",
              "      <td>-8.0</td>\n",
              "      <td>1017.0</td>\n",
              "      <td>1</td>\n",
              "      <td>27.28</td>\n",
              "      <td>0</td>\n",
              "      <td>0</td>\n",
              "    </tr>\n",
              "    <tr>\n",
              "      <th>11</th>\n",
              "      <td>98.613215</td>\n",
              "      <td>-19</td>\n",
              "      <td>-7.0</td>\n",
              "      <td>1017.0</td>\n",
              "      <td>1</td>\n",
              "      <td>31.30</td>\n",
              "      <td>0</td>\n",
              "      <td>0</td>\n",
              "    </tr>\n",
              "    <tr>\n",
              "      <th>12</th>\n",
              "      <td>98.613215</td>\n",
              "      <td>-18</td>\n",
              "      <td>-5.0</td>\n",
              "      <td>1017.0</td>\n",
              "      <td>1</td>\n",
              "      <td>34.43</td>\n",
              "      <td>0</td>\n",
              "      <td>0</td>\n",
              "    </tr>\n",
              "    <tr>\n",
              "      <th>13</th>\n",
              "      <td>98.613215</td>\n",
              "      <td>-19</td>\n",
              "      <td>-5.0</td>\n",
              "      <td>1015.0</td>\n",
              "      <td>1</td>\n",
              "      <td>37.56</td>\n",
              "      <td>0</td>\n",
              "      <td>0</td>\n",
              "    </tr>\n",
              "    <tr>\n",
              "      <th>14</th>\n",
              "      <td>98.613215</td>\n",
              "      <td>-18</td>\n",
              "      <td>-3.0</td>\n",
              "      <td>1015.0</td>\n",
              "      <td>1</td>\n",
              "      <td>40.69</td>\n",
              "      <td>0</td>\n",
              "      <td>0</td>\n",
              "    </tr>\n",
              "    <tr>\n",
              "      <th>15</th>\n",
              "      <td>98.613215</td>\n",
              "      <td>-18</td>\n",
              "      <td>-2.0</td>\n",
              "      <td>1014.0</td>\n",
              "      <td>1</td>\n",
              "      <td>43.82</td>\n",
              "      <td>0</td>\n",
              "      <td>0</td>\n",
              "    </tr>\n",
              "    <tr>\n",
              "      <th>16</th>\n",
              "      <td>98.613215</td>\n",
              "      <td>-18</td>\n",
              "      <td>-1.0</td>\n",
              "      <td>1014.0</td>\n",
              "      <td>3</td>\n",
              "      <td>0.89</td>\n",
              "      <td>0</td>\n",
              "      <td>0</td>\n",
              "    </tr>\n",
              "    <tr>\n",
              "      <th>17</th>\n",
              "      <td>98.613215</td>\n",
              "      <td>-19</td>\n",
              "      <td>-2.0</td>\n",
              "      <td>1015.0</td>\n",
              "      <td>1</td>\n",
              "      <td>1.79</td>\n",
              "      <td>0</td>\n",
              "      <td>0</td>\n",
              "    </tr>\n",
              "    <tr>\n",
              "      <th>18</th>\n",
              "      <td>98.613215</td>\n",
              "      <td>-18</td>\n",
              "      <td>-3.0</td>\n",
              "      <td>1015.0</td>\n",
              "      <td>1</td>\n",
              "      <td>2.68</td>\n",
              "      <td>0</td>\n",
              "      <td>0</td>\n",
              "    </tr>\n",
              "    <tr>\n",
              "      <th>19</th>\n",
              "      <td>98.613215</td>\n",
              "      <td>-18</td>\n",
              "      <td>-5.0</td>\n",
              "      <td>1016.0</td>\n",
              "      <td>0</td>\n",
              "      <td>1.79</td>\n",
              "      <td>0</td>\n",
              "      <td>0</td>\n",
              "    </tr>\n",
              "    <tr>\n",
              "      <th>20</th>\n",
              "      <td>98.613215</td>\n",
              "      <td>-17</td>\n",
              "      <td>-4.0</td>\n",
              "      <td>1017.0</td>\n",
              "      <td>1</td>\n",
              "      <td>1.79</td>\n",
              "      <td>0</td>\n",
              "      <td>0</td>\n",
              "    </tr>\n",
              "  </tbody>\n",
              "</table>\n",
              "</div>"
            ],
            "text/plain": [
              "        pm2.5  DEWP  TEMP    PRES  cbwd    Iws  Is  Ir\n",
              "No                                                    \n",
              "1   98.613215   -21 -11.0  1021.0     1   1.79   0   0\n",
              "2   98.613215   -21 -12.0  1020.0     1   4.92   0   0\n",
              "3   98.613215   -21 -11.0  1019.0     1   6.71   0   0\n",
              "4   98.613215   -21 -14.0  1019.0     1   9.84   0   0\n",
              "5   98.613215   -20 -12.0  1018.0     1  12.97   0   0\n",
              "6   98.613215   -19 -10.0  1017.0     1  16.10   0   0\n",
              "7   98.613215   -19  -9.0  1017.0     1  19.23   0   0\n",
              "8   98.613215   -19  -9.0  1017.0     1  21.02   0   0\n",
              "9   98.613215   -19  -9.0  1017.0     1  24.15   0   0\n",
              "10  98.613215   -20  -8.0  1017.0     1  27.28   0   0\n",
              "11  98.613215   -19  -7.0  1017.0     1  31.30   0   0\n",
              "12  98.613215   -18  -5.0  1017.0     1  34.43   0   0\n",
              "13  98.613215   -19  -5.0  1015.0     1  37.56   0   0\n",
              "14  98.613215   -18  -3.0  1015.0     1  40.69   0   0\n",
              "15  98.613215   -18  -2.0  1014.0     1  43.82   0   0\n",
              "16  98.613215   -18  -1.0  1014.0     3   0.89   0   0\n",
              "17  98.613215   -19  -2.0  1015.0     1   1.79   0   0\n",
              "18  98.613215   -18  -3.0  1015.0     1   2.68   0   0\n",
              "19  98.613215   -18  -5.0  1016.0     0   1.79   0   0\n",
              "20  98.613215   -17  -4.0  1017.0     1   1.79   0   0"
            ]
          },
          "metadata": {
            "tags": []
          },
          "execution_count": 39
        }
      ]
    },
    {
      "cell_type": "code",
      "metadata": {
        "id": "O37L7o8ekGaQ"
      },
      "source": [
        "'''\n",
        "We also need to normalize the data.\n",
        "'''\n",
        "# normalized_data=(data-data.mean())/data.std()\n",
        "normalized_data=(data-data.min())/(data.max()-data.min())\n"
      ],
      "execution_count": null,
      "outputs": []
    },
    {
      "cell_type": "code",
      "metadata": {
        "colab": {
          "base_uri": "https://localhost:8080/",
          "height": 34
        },
        "id": "vTdkN0H3k1-d",
        "outputId": "ebd0948c-10f4-4bfb-b2ad-0b3909070e86"
      },
      "source": [
        "n_f = data.shape[1]\n",
        "n_f"
      ],
      "execution_count": null,
      "outputs": [
        {
          "output_type": "execute_result",
          "data": {
            "text/plain": [
              "8"
            ]
          },
          "metadata": {
            "tags": []
          },
          "execution_count": 41
        }
      ]
    },
    {
      "cell_type": "code",
      "metadata": {
        "colab": {
          "base_uri": "https://localhost:8080/",
          "height": 289
        },
        "id": "g5yGTHTmqHO-",
        "outputId": "3bbca495-9c1a-4fb8-a65f-5e574e7045cd"
      },
      "source": [
        "hist = range(1,n_ts+1)\n",
        "\n",
        "df = normalized_data.assign(**{\n",
        "    '{} (h-{})'.format(col, t): normalized_data[col].shift(t)\n",
        "    for t in hist\n",
        "    for col in normalized_data\n",
        "})\n",
        "\n",
        "df.head()"
      ],
      "execution_count": null,
      "outputs": [
        {
          "output_type": "execute_result",
          "data": {
            "text/html": [
              "<div>\n",
              "<style scoped>\n",
              "    .dataframe tbody tr th:only-of-type {\n",
              "        vertical-align: middle;\n",
              "    }\n",
              "\n",
              "    .dataframe tbody tr th {\n",
              "        vertical-align: top;\n",
              "    }\n",
              "\n",
              "    .dataframe thead th {\n",
              "        text-align: right;\n",
              "    }\n",
              "</style>\n",
              "<table border=\"1\" class=\"dataframe\">\n",
              "  <thead>\n",
              "    <tr style=\"text-align: right;\">\n",
              "      <th></th>\n",
              "      <th>pm2.5</th>\n",
              "      <th>DEWP</th>\n",
              "      <th>TEMP</th>\n",
              "      <th>PRES</th>\n",
              "      <th>cbwd</th>\n",
              "      <th>Iws</th>\n",
              "      <th>Is</th>\n",
              "      <th>Ir</th>\n",
              "      <th>pm2.5 (h-1)</th>\n",
              "      <th>DEWP (h-1)</th>\n",
              "      <th>TEMP (h-1)</th>\n",
              "      <th>PRES (h-1)</th>\n",
              "      <th>cbwd (h-1)</th>\n",
              "      <th>Iws (h-1)</th>\n",
              "      <th>Is (h-1)</th>\n",
              "      <th>Ir (h-1)</th>\n",
              "      <th>pm2.5 (h-2)</th>\n",
              "      <th>DEWP (h-2)</th>\n",
              "      <th>TEMP (h-2)</th>\n",
              "      <th>PRES (h-2)</th>\n",
              "      <th>cbwd (h-2)</th>\n",
              "      <th>Iws (h-2)</th>\n",
              "      <th>Is (h-2)</th>\n",
              "      <th>Ir (h-2)</th>\n",
              "      <th>pm2.5 (h-3)</th>\n",
              "      <th>DEWP (h-3)</th>\n",
              "      <th>TEMP (h-3)</th>\n",
              "      <th>PRES (h-3)</th>\n",
              "      <th>cbwd (h-3)</th>\n",
              "      <th>Iws (h-3)</th>\n",
              "      <th>Is (h-3)</th>\n",
              "      <th>Ir (h-3)</th>\n",
              "      <th>pm2.5 (h-4)</th>\n",
              "      <th>DEWP (h-4)</th>\n",
              "      <th>TEMP (h-4)</th>\n",
              "      <th>PRES (h-4)</th>\n",
              "      <th>cbwd (h-4)</th>\n",
              "      <th>Iws (h-4)</th>\n",
              "      <th>Is (h-4)</th>\n",
              "      <th>Ir (h-4)</th>\n",
              "      <th>pm2.5 (h-5)</th>\n",
              "      <th>DEWP (h-5)</th>\n",
              "      <th>TEMP (h-5)</th>\n",
              "      <th>PRES (h-5)</th>\n",
              "      <th>cbwd (h-5)</th>\n",
              "      <th>Iws (h-5)</th>\n",
              "      <th>Is (h-5)</th>\n",
              "      <th>Ir (h-5)</th>\n",
              "      <th>pm2.5 (h-6)</th>\n",
              "      <th>DEWP (h-6)</th>\n",
              "      <th>TEMP (h-6)</th>\n",
              "      <th>PRES (h-6)</th>\n",
              "      <th>cbwd (h-6)</th>\n",
              "      <th>Iws (h-6)</th>\n",
              "      <th>Is (h-6)</th>\n",
              "      <th>Ir (h-6)</th>\n",
              "    </tr>\n",
              "    <tr>\n",
              "      <th>No</th>\n",
              "      <th></th>\n",
              "      <th></th>\n",
              "      <th></th>\n",
              "      <th></th>\n",
              "      <th></th>\n",
              "      <th></th>\n",
              "      <th></th>\n",
              "      <th></th>\n",
              "      <th></th>\n",
              "      <th></th>\n",
              "      <th></th>\n",
              "      <th></th>\n",
              "      <th></th>\n",
              "      <th></th>\n",
              "      <th></th>\n",
              "      <th></th>\n",
              "      <th></th>\n",
              "      <th></th>\n",
              "      <th></th>\n",
              "      <th></th>\n",
              "      <th></th>\n",
              "      <th></th>\n",
              "      <th></th>\n",
              "      <th></th>\n",
              "      <th></th>\n",
              "      <th></th>\n",
              "      <th></th>\n",
              "      <th></th>\n",
              "      <th></th>\n",
              "      <th></th>\n",
              "      <th></th>\n",
              "      <th></th>\n",
              "      <th></th>\n",
              "      <th></th>\n",
              "      <th></th>\n",
              "      <th></th>\n",
              "      <th></th>\n",
              "      <th></th>\n",
              "      <th></th>\n",
              "      <th></th>\n",
              "      <th></th>\n",
              "      <th></th>\n",
              "      <th></th>\n",
              "      <th></th>\n",
              "      <th></th>\n",
              "      <th></th>\n",
              "      <th></th>\n",
              "      <th></th>\n",
              "      <th></th>\n",
              "      <th></th>\n",
              "      <th></th>\n",
              "      <th></th>\n",
              "      <th></th>\n",
              "      <th></th>\n",
              "      <th></th>\n",
              "      <th></th>\n",
              "    </tr>\n",
              "  </thead>\n",
              "  <tbody>\n",
              "    <tr>\n",
              "      <th>1</th>\n",
              "      <td>0.099208</td>\n",
              "      <td>0.279412</td>\n",
              "      <td>0.131148</td>\n",
              "      <td>0.545455</td>\n",
              "      <td>0.333333</td>\n",
              "      <td>0.002290</td>\n",
              "      <td>0.0</td>\n",
              "      <td>0.0</td>\n",
              "      <td>NaN</td>\n",
              "      <td>NaN</td>\n",
              "      <td>NaN</td>\n",
              "      <td>NaN</td>\n",
              "      <td>NaN</td>\n",
              "      <td>NaN</td>\n",
              "      <td>NaN</td>\n",
              "      <td>NaN</td>\n",
              "      <td>NaN</td>\n",
              "      <td>NaN</td>\n",
              "      <td>NaN</td>\n",
              "      <td>NaN</td>\n",
              "      <td>NaN</td>\n",
              "      <td>NaN</td>\n",
              "      <td>NaN</td>\n",
              "      <td>NaN</td>\n",
              "      <td>NaN</td>\n",
              "      <td>NaN</td>\n",
              "      <td>NaN</td>\n",
              "      <td>NaN</td>\n",
              "      <td>NaN</td>\n",
              "      <td>NaN</td>\n",
              "      <td>NaN</td>\n",
              "      <td>NaN</td>\n",
              "      <td>NaN</td>\n",
              "      <td>NaN</td>\n",
              "      <td>NaN</td>\n",
              "      <td>NaN</td>\n",
              "      <td>NaN</td>\n",
              "      <td>NaN</td>\n",
              "      <td>NaN</td>\n",
              "      <td>NaN</td>\n",
              "      <td>NaN</td>\n",
              "      <td>NaN</td>\n",
              "      <td>NaN</td>\n",
              "      <td>NaN</td>\n",
              "      <td>NaN</td>\n",
              "      <td>NaN</td>\n",
              "      <td>NaN</td>\n",
              "      <td>NaN</td>\n",
              "      <td>NaN</td>\n",
              "      <td>NaN</td>\n",
              "      <td>NaN</td>\n",
              "      <td>NaN</td>\n",
              "      <td>NaN</td>\n",
              "      <td>NaN</td>\n",
              "      <td>NaN</td>\n",
              "      <td>NaN</td>\n",
              "    </tr>\n",
              "    <tr>\n",
              "      <th>2</th>\n",
              "      <td>0.099208</td>\n",
              "      <td>0.279412</td>\n",
              "      <td>0.114754</td>\n",
              "      <td>0.527273</td>\n",
              "      <td>0.333333</td>\n",
              "      <td>0.007639</td>\n",
              "      <td>0.0</td>\n",
              "      <td>0.0</td>\n",
              "      <td>0.099208</td>\n",
              "      <td>0.279412</td>\n",
              "      <td>0.131148</td>\n",
              "      <td>0.545455</td>\n",
              "      <td>0.333333</td>\n",
              "      <td>0.002290</td>\n",
              "      <td>0.0</td>\n",
              "      <td>0.0</td>\n",
              "      <td>NaN</td>\n",
              "      <td>NaN</td>\n",
              "      <td>NaN</td>\n",
              "      <td>NaN</td>\n",
              "      <td>NaN</td>\n",
              "      <td>NaN</td>\n",
              "      <td>NaN</td>\n",
              "      <td>NaN</td>\n",
              "      <td>NaN</td>\n",
              "      <td>NaN</td>\n",
              "      <td>NaN</td>\n",
              "      <td>NaN</td>\n",
              "      <td>NaN</td>\n",
              "      <td>NaN</td>\n",
              "      <td>NaN</td>\n",
              "      <td>NaN</td>\n",
              "      <td>NaN</td>\n",
              "      <td>NaN</td>\n",
              "      <td>NaN</td>\n",
              "      <td>NaN</td>\n",
              "      <td>NaN</td>\n",
              "      <td>NaN</td>\n",
              "      <td>NaN</td>\n",
              "      <td>NaN</td>\n",
              "      <td>NaN</td>\n",
              "      <td>NaN</td>\n",
              "      <td>NaN</td>\n",
              "      <td>NaN</td>\n",
              "      <td>NaN</td>\n",
              "      <td>NaN</td>\n",
              "      <td>NaN</td>\n",
              "      <td>NaN</td>\n",
              "      <td>NaN</td>\n",
              "      <td>NaN</td>\n",
              "      <td>NaN</td>\n",
              "      <td>NaN</td>\n",
              "      <td>NaN</td>\n",
              "      <td>NaN</td>\n",
              "      <td>NaN</td>\n",
              "      <td>NaN</td>\n",
              "    </tr>\n",
              "    <tr>\n",
              "      <th>3</th>\n",
              "      <td>0.099208</td>\n",
              "      <td>0.279412</td>\n",
              "      <td>0.131148</td>\n",
              "      <td>0.509091</td>\n",
              "      <td>0.333333</td>\n",
              "      <td>0.010698</td>\n",
              "      <td>0.0</td>\n",
              "      <td>0.0</td>\n",
              "      <td>0.099208</td>\n",
              "      <td>0.279412</td>\n",
              "      <td>0.114754</td>\n",
              "      <td>0.527273</td>\n",
              "      <td>0.333333</td>\n",
              "      <td>0.007639</td>\n",
              "      <td>0.0</td>\n",
              "      <td>0.0</td>\n",
              "      <td>0.099208</td>\n",
              "      <td>0.279412</td>\n",
              "      <td>0.131148</td>\n",
              "      <td>0.545455</td>\n",
              "      <td>0.333333</td>\n",
              "      <td>0.002290</td>\n",
              "      <td>0.0</td>\n",
              "      <td>0.0</td>\n",
              "      <td>NaN</td>\n",
              "      <td>NaN</td>\n",
              "      <td>NaN</td>\n",
              "      <td>NaN</td>\n",
              "      <td>NaN</td>\n",
              "      <td>NaN</td>\n",
              "      <td>NaN</td>\n",
              "      <td>NaN</td>\n",
              "      <td>NaN</td>\n",
              "      <td>NaN</td>\n",
              "      <td>NaN</td>\n",
              "      <td>NaN</td>\n",
              "      <td>NaN</td>\n",
              "      <td>NaN</td>\n",
              "      <td>NaN</td>\n",
              "      <td>NaN</td>\n",
              "      <td>NaN</td>\n",
              "      <td>NaN</td>\n",
              "      <td>NaN</td>\n",
              "      <td>NaN</td>\n",
              "      <td>NaN</td>\n",
              "      <td>NaN</td>\n",
              "      <td>NaN</td>\n",
              "      <td>NaN</td>\n",
              "      <td>NaN</td>\n",
              "      <td>NaN</td>\n",
              "      <td>NaN</td>\n",
              "      <td>NaN</td>\n",
              "      <td>NaN</td>\n",
              "      <td>NaN</td>\n",
              "      <td>NaN</td>\n",
              "      <td>NaN</td>\n",
              "    </tr>\n",
              "    <tr>\n",
              "      <th>4</th>\n",
              "      <td>0.099208</td>\n",
              "      <td>0.279412</td>\n",
              "      <td>0.081967</td>\n",
              "      <td>0.509091</td>\n",
              "      <td>0.333333</td>\n",
              "      <td>0.016047</td>\n",
              "      <td>0.0</td>\n",
              "      <td>0.0</td>\n",
              "      <td>0.099208</td>\n",
              "      <td>0.279412</td>\n",
              "      <td>0.131148</td>\n",
              "      <td>0.509091</td>\n",
              "      <td>0.333333</td>\n",
              "      <td>0.010698</td>\n",
              "      <td>0.0</td>\n",
              "      <td>0.0</td>\n",
              "      <td>0.099208</td>\n",
              "      <td>0.279412</td>\n",
              "      <td>0.114754</td>\n",
              "      <td>0.527273</td>\n",
              "      <td>0.333333</td>\n",
              "      <td>0.007639</td>\n",
              "      <td>0.0</td>\n",
              "      <td>0.0</td>\n",
              "      <td>0.099208</td>\n",
              "      <td>0.279412</td>\n",
              "      <td>0.131148</td>\n",
              "      <td>0.545455</td>\n",
              "      <td>0.333333</td>\n",
              "      <td>0.002290</td>\n",
              "      <td>0.0</td>\n",
              "      <td>0.0</td>\n",
              "      <td>NaN</td>\n",
              "      <td>NaN</td>\n",
              "      <td>NaN</td>\n",
              "      <td>NaN</td>\n",
              "      <td>NaN</td>\n",
              "      <td>NaN</td>\n",
              "      <td>NaN</td>\n",
              "      <td>NaN</td>\n",
              "      <td>NaN</td>\n",
              "      <td>NaN</td>\n",
              "      <td>NaN</td>\n",
              "      <td>NaN</td>\n",
              "      <td>NaN</td>\n",
              "      <td>NaN</td>\n",
              "      <td>NaN</td>\n",
              "      <td>NaN</td>\n",
              "      <td>NaN</td>\n",
              "      <td>NaN</td>\n",
              "      <td>NaN</td>\n",
              "      <td>NaN</td>\n",
              "      <td>NaN</td>\n",
              "      <td>NaN</td>\n",
              "      <td>NaN</td>\n",
              "      <td>NaN</td>\n",
              "    </tr>\n",
              "    <tr>\n",
              "      <th>5</th>\n",
              "      <td>0.099208</td>\n",
              "      <td>0.294118</td>\n",
              "      <td>0.114754</td>\n",
              "      <td>0.490909</td>\n",
              "      <td>0.333333</td>\n",
              "      <td>0.021396</td>\n",
              "      <td>0.0</td>\n",
              "      <td>0.0</td>\n",
              "      <td>0.099208</td>\n",
              "      <td>0.279412</td>\n",
              "      <td>0.081967</td>\n",
              "      <td>0.509091</td>\n",
              "      <td>0.333333</td>\n",
              "      <td>0.016047</td>\n",
              "      <td>0.0</td>\n",
              "      <td>0.0</td>\n",
              "      <td>0.099208</td>\n",
              "      <td>0.279412</td>\n",
              "      <td>0.131148</td>\n",
              "      <td>0.509091</td>\n",
              "      <td>0.333333</td>\n",
              "      <td>0.010698</td>\n",
              "      <td>0.0</td>\n",
              "      <td>0.0</td>\n",
              "      <td>0.099208</td>\n",
              "      <td>0.279412</td>\n",
              "      <td>0.114754</td>\n",
              "      <td>0.527273</td>\n",
              "      <td>0.333333</td>\n",
              "      <td>0.007639</td>\n",
              "      <td>0.0</td>\n",
              "      <td>0.0</td>\n",
              "      <td>0.099208</td>\n",
              "      <td>0.279412</td>\n",
              "      <td>0.131148</td>\n",
              "      <td>0.545455</td>\n",
              "      <td>0.333333</td>\n",
              "      <td>0.00229</td>\n",
              "      <td>0.0</td>\n",
              "      <td>0.0</td>\n",
              "      <td>NaN</td>\n",
              "      <td>NaN</td>\n",
              "      <td>NaN</td>\n",
              "      <td>NaN</td>\n",
              "      <td>NaN</td>\n",
              "      <td>NaN</td>\n",
              "      <td>NaN</td>\n",
              "      <td>NaN</td>\n",
              "      <td>NaN</td>\n",
              "      <td>NaN</td>\n",
              "      <td>NaN</td>\n",
              "      <td>NaN</td>\n",
              "      <td>NaN</td>\n",
              "      <td>NaN</td>\n",
              "      <td>NaN</td>\n",
              "      <td>NaN</td>\n",
              "    </tr>\n",
              "  </tbody>\n",
              "</table>\n",
              "</div>"
            ],
            "text/plain": [
              "       pm2.5      DEWP      TEMP  ...  Iws (h-6)  Is (h-6)  Ir (h-6)\n",
              "No                                ...                               \n",
              "1   0.099208  0.279412  0.131148  ...        NaN       NaN       NaN\n",
              "2   0.099208  0.279412  0.114754  ...        NaN       NaN       NaN\n",
              "3   0.099208  0.279412  0.131148  ...        NaN       NaN       NaN\n",
              "4   0.099208  0.279412  0.081967  ...        NaN       NaN       NaN\n",
              "5   0.099208  0.294118  0.114754  ...        NaN       NaN       NaN\n",
              "\n",
              "[5 rows x 56 columns]"
            ]
          },
          "metadata": {
            "tags": []
          },
          "execution_count": 42
        }
      ]
    },
    {
      "cell_type": "code",
      "metadata": {
        "id": "KvFYLV-iE31q"
      },
      "source": [
        "### Next we get rid of the first n_ts rows that have nan values.\n",
        "df.dropna(axis=0, inplace=True)"
      ],
      "execution_count": null,
      "outputs": []
    },
    {
      "cell_type": "code",
      "metadata": {
        "colab": {
          "base_uri": "https://localhost:8080/",
          "height": 51
        },
        "id": "QI8eiHmKoArg",
        "outputId": "c2de032b-aa8b-442f-8f46-3d960b465f0f"
      },
      "source": [
        "### The target is the pollution of the day\n",
        "Y = df['pm2.5'].values\n",
        "\n",
        "### Then we get rid of all the measurements of that day.\n",
        "X = df.drop(data.columns, axis=1).values\n",
        "\n",
        "print(X.shape)\n",
        "X = X.reshape(-1, n_ts, n_f)\n",
        "X.shape"
      ],
      "execution_count": null,
      "outputs": [
        {
          "output_type": "stream",
          "text": [
            "(43818, 48)\n"
          ],
          "name": "stdout"
        },
        {
          "output_type": "execute_result",
          "data": {
            "text/plain": [
              "(43818, 6, 8)"
            ]
          },
          "metadata": {
            "tags": []
          },
          "execution_count": 44
        }
      ]
    },
    {
      "cell_type": "code",
      "metadata": {
        "id": "ebCOzx2SlEau"
      },
      "source": [
        "'''\n",
        "Before generating the train and validation sets, let's\n",
        "hold a portion of the data for prediction.\n",
        "We seperate the data for the last n_prediction\n",
        "months and later test to see how well our model\n",
        "can predict the target for these months.\n",
        "'''\n",
        "X_future = X[-n_prediction:]\n",
        "Y_future = Y[-n_prediction:]\n",
        "\n",
        "X = X[:-n_prediction]\n",
        "Y = Y[:-n_prediction]"
      ],
      "execution_count": null,
      "outputs": []
    },
    {
      "cell_type": "code",
      "metadata": {
        "colab": {
          "base_uri": "https://localhost:8080/",
          "height": 34
        },
        "id": "qB-xEha1pNap",
        "outputId": "2ee58a5c-24cc-41c1-f4eb-7391420becff"
      },
      "source": [
        "from sklearn.model_selection import train_test_split\n",
        "X_train, X_test, Y_train, Y_test = train_test_split(X, Y, random_state = 0)\n",
        "print(X_train.shape)"
      ],
      "execution_count": null,
      "outputs": [
        {
          "output_type": "stream",
          "text": [
            "(32818, 6, 8)\n"
          ],
          "name": "stdout"
        }
      ]
    },
    {
      "cell_type": "code",
      "metadata": {
        "id": "LH7v0xZeozdl"
      },
      "source": [
        "from tensorflow.keras.layers import LSTM, GRU, Dense, Dropout"
      ],
      "execution_count": null,
      "outputs": []
    },
    {
      "cell_type": "code",
      "metadata": {
        "colab": {
          "base_uri": "https://localhost:8080/",
          "height": 1000
        },
        "id": "l-ZxlbtFo37z",
        "outputId": "497bd0fa-c076-4fd7-ce7b-fa8475e0e497"
      },
      "source": [
        "model2 = keras.models.Sequential()\n",
        "model2.add(LSTM(64, input_shape =(n_ts, n_f) ,\n",
        "                     return_sequences=False)  )\n",
        "model2.add(Dropout(.1))\n",
        "\n",
        "# model2.add(LSTM(32)  )\n",
        "# model2.add(Dropout(.2))\n",
        "\n",
        "model2.add(Dense(32,  activation='relu')  )\n",
        "model2.add(Dropout(.2))\n",
        "\n",
        "model2.add(Dense(1,  activation='linear')  )\n",
        "\n",
        "\n",
        "model2.compile(loss = keras.losses.mean_squared_error,\n",
        "              optimizer=keras.optimizers.Adam(lr = .001) )\n",
        "history2 = model2.fit(X_train, Y_train, epochs=50,\n",
        "                      batch_size=16, verbose=1,\n",
        "                      validation_data=(X_test, Y_test))\n"
      ],
      "execution_count": null,
      "outputs": [
        {
          "output_type": "stream",
          "text": [
            "Epoch 1/50\n",
            "2052/2052 [==============================] - 15s 8ms/step - loss: 0.0019 - val_loss: 0.0010\n",
            "Epoch 2/50\n",
            "2052/2052 [==============================] - 15s 7ms/step - loss: 0.0013 - val_loss: 8.4883e-04\n",
            "Epoch 3/50\n",
            "2052/2052 [==============================] - 15s 7ms/step - loss: 0.0012 - val_loss: 9.4463e-04\n",
            "Epoch 4/50\n",
            "2052/2052 [==============================] - 15s 7ms/step - loss: 0.0011 - val_loss: 7.7508e-04\n",
            "Epoch 5/50\n",
            "2052/2052 [==============================] - 15s 7ms/step - loss: 0.0011 - val_loss: 8.7953e-04\n",
            "Epoch 6/50\n",
            "2052/2052 [==============================] - 15s 7ms/step - loss: 0.0010 - val_loss: 0.0012\n",
            "Epoch 7/50\n",
            "2052/2052 [==============================] - 15s 7ms/step - loss: 0.0010 - val_loss: 6.9995e-04\n",
            "Epoch 8/50\n",
            "2052/2052 [==============================] - 15s 7ms/step - loss: 9.9189e-04 - val_loss: 7.0381e-04\n",
            "Epoch 9/50\n",
            "2052/2052 [==============================] - 14s 7ms/step - loss: 9.7491e-04 - val_loss: 6.9939e-04\n",
            "Epoch 10/50\n",
            "2052/2052 [==============================] - 15s 7ms/step - loss: 9.7434e-04 - val_loss: 7.4994e-04\n",
            "Epoch 11/50\n",
            "2052/2052 [==============================] - 15s 7ms/step - loss: 9.5863e-04 - val_loss: 6.1507e-04\n",
            "Epoch 12/50\n",
            "2052/2052 [==============================] - 15s 7ms/step - loss: 9.2609e-04 - val_loss: 6.1222e-04\n",
            "Epoch 13/50\n",
            "2052/2052 [==============================] - 15s 7ms/step - loss: 9.1270e-04 - val_loss: 6.1456e-04\n",
            "Epoch 14/50\n",
            "2052/2052 [==============================] - 15s 7ms/step - loss: 9.1530e-04 - val_loss: 6.0829e-04\n",
            "Epoch 15/50\n",
            "2052/2052 [==============================] - 15s 7ms/step - loss: 9.0092e-04 - val_loss: 6.6799e-04\n",
            "Epoch 16/50\n",
            "2052/2052 [==============================] - 15s 7ms/step - loss: 8.9980e-04 - val_loss: 6.6413e-04\n",
            "Epoch 17/50\n",
            "2052/2052 [==============================] - 15s 7ms/step - loss: 9.0811e-04 - val_loss: 5.7905e-04\n",
            "Epoch 18/50\n",
            "2052/2052 [==============================] - 15s 7ms/step - loss: 9.1135e-04 - val_loss: 6.6544e-04\n",
            "Epoch 19/50\n",
            "2052/2052 [==============================] - 15s 7ms/step - loss: 8.8131e-04 - val_loss: 6.5875e-04\n",
            "Epoch 20/50\n",
            "2052/2052 [==============================] - 15s 7ms/step - loss: 8.8241e-04 - val_loss: 5.8703e-04\n",
            "Epoch 21/50\n",
            "2052/2052 [==============================] - 15s 7ms/step - loss: 8.4768e-04 - val_loss: 5.7221e-04\n",
            "Epoch 22/50\n",
            "2052/2052 [==============================] - 15s 7ms/step - loss: 8.6441e-04 - val_loss: 5.6907e-04\n",
            "Epoch 23/50\n",
            "2052/2052 [==============================] - 15s 7ms/step - loss: 8.8277e-04 - val_loss: 6.0118e-04\n",
            "Epoch 24/50\n",
            "2052/2052 [==============================] - 14s 7ms/step - loss: 8.5815e-04 - val_loss: 5.8888e-04\n",
            "Epoch 25/50\n",
            "2052/2052 [==============================] - 15s 7ms/step - loss: 8.7129e-04 - val_loss: 6.0102e-04\n",
            "Epoch 26/50\n",
            "2052/2052 [==============================] - 15s 7ms/step - loss: 8.6621e-04 - val_loss: 6.2692e-04\n",
            "Epoch 27/50\n",
            "2052/2052 [==============================] - 15s 7ms/step - loss: 8.5955e-04 - val_loss: 5.8531e-04\n",
            "Epoch 28/50\n",
            "2052/2052 [==============================] - 15s 7ms/step - loss: 8.5969e-04 - val_loss: 5.8500e-04\n",
            "Epoch 29/50\n",
            "2052/2052 [==============================] - 15s 7ms/step - loss: 8.2955e-04 - val_loss: 5.6165e-04\n",
            "Epoch 30/50\n",
            "2052/2052 [==============================] - 15s 7ms/step - loss: 8.4695e-04 - val_loss: 6.2072e-04\n",
            "Epoch 31/50\n",
            "2052/2052 [==============================] - 15s 7ms/step - loss: 8.3944e-04 - val_loss: 6.8352e-04\n",
            "Epoch 32/50\n",
            "2052/2052 [==============================] - 15s 7ms/step - loss: 8.4146e-04 - val_loss: 5.5604e-04\n",
            "Epoch 33/50\n",
            "2052/2052 [==============================] - 15s 7ms/step - loss: 8.3563e-04 - val_loss: 6.1272e-04\n",
            "Epoch 34/50\n",
            "2052/2052 [==============================] - 15s 7ms/step - loss: 8.5053e-04 - val_loss: 6.6225e-04\n",
            "Epoch 35/50\n",
            "2052/2052 [==============================] - 15s 7ms/step - loss: 8.3520e-04 - val_loss: 9.1148e-04\n",
            "Epoch 36/50\n",
            "2052/2052 [==============================] - 15s 7ms/step - loss: 8.4884e-04 - val_loss: 5.7345e-04\n",
            "Epoch 37/50\n",
            "2052/2052 [==============================] - 15s 7ms/step - loss: 8.3222e-04 - val_loss: 6.2449e-04\n",
            "Epoch 38/50\n",
            "2052/2052 [==============================] - 15s 7ms/step - loss: 8.2418e-04 - val_loss: 6.0042e-04\n",
            "Epoch 39/50\n",
            "2052/2052 [==============================] - 15s 7ms/step - loss: 8.2006e-04 - val_loss: 6.0571e-04\n",
            "Epoch 40/50\n",
            "2052/2052 [==============================] - 15s 7ms/step - loss: 8.1312e-04 - val_loss: 5.5179e-04\n",
            "Epoch 41/50\n",
            "2052/2052 [==============================] - 15s 7ms/step - loss: 8.0508e-04 - val_loss: 5.6340e-04\n",
            "Epoch 42/50\n",
            "2052/2052 [==============================] - 15s 7ms/step - loss: 8.3230e-04 - val_loss: 6.7899e-04\n",
            "Epoch 43/50\n",
            "2052/2052 [==============================] - 15s 7ms/step - loss: 8.1671e-04 - val_loss: 6.3050e-04\n",
            "Epoch 44/50\n",
            "2052/2052 [==============================] - 14s 7ms/step - loss: 8.2554e-04 - val_loss: 5.6220e-04\n",
            "Epoch 45/50\n",
            "2052/2052 [==============================] - 15s 7ms/step - loss: 8.1171e-04 - val_loss: 5.5832e-04\n",
            "Epoch 46/50\n",
            "2052/2052 [==============================] - 15s 7ms/step - loss: 8.0783e-04 - val_loss: 6.0948e-04\n",
            "Epoch 47/50\n",
            "2052/2052 [==============================] - 15s 7ms/step - loss: 8.0570e-04 - val_loss: 6.2546e-04\n",
            "Epoch 48/50\n",
            "2052/2052 [==============================] - 15s 7ms/step - loss: 7.9636e-04 - val_loss: 5.8464e-04\n",
            "Epoch 49/50\n",
            "2052/2052 [==============================] - 15s 7ms/step - loss: 7.8775e-04 - val_loss: 5.6412e-04\n",
            "Epoch 50/50\n",
            "2052/2052 [==============================] - 15s 7ms/step - loss: 8.1565e-04 - val_loss: 5.9393e-04\n"
          ],
          "name": "stdout"
        }
      ]
    },
    {
      "cell_type": "code",
      "metadata": {
        "colab": {
          "base_uri": "https://localhost:8080/",
          "height": 369
        },
        "id": "IEpI9MxtETSA",
        "outputId": "62702b42-a69e-413b-f351-8cf796aabbad"
      },
      "source": [
        "# Plot training & validation accuracy values\n",
        "fig = plt.figure(figsize=(7,5))\n",
        "# Plot training & validation loss values\n",
        "ax = fig.add_subplot(1,1,1, title = 'Model loss', ylabel= 'Loss')\n",
        "plt.plot(history2.history['loss'])\n",
        "plt.plot(history2.history['val_loss'])\n",
        "plt.legend(['Train', 'Test'], loc='upper left')\n",
        "\n",
        "plt.tight_layout()\n",
        "plt.show()"
      ],
      "execution_count": null,
      "outputs": [
        {
          "output_type": "display_data",
          "data": {
            "image/png": "[encoded data removed]",
            "text/plain": [
              "<Figure size 504x360 with 1 Axes>"
            ]
          },
          "metadata": {
            "tags": [],
            "needs_background": "light"
          }
        }
      ]
    },
    {
      "cell_type": "code",
      "metadata": {
        "colab": {
          "base_uri": "https://localhost:8080/",
          "height": 346
        },
        "id": "YGiiFqePELjN",
        "outputId": "c47214a7-f430-4a81-8138-11996fa3f1c4"
      },
      "source": [
        "'''\n",
        "Now we use the model to predict the sunspots for the missing month\n",
        "and then compare to the actual values.\n",
        "From the plot it is clear that the predicted values follow the trend,\n",
        "however, there seems to be a delay.\n",
        "'''\n",
        "fig = plt.figure(figsize=(7,5))\n",
        "ax = fig.add_subplot(1,1,1, xlabel = 'Time', ylabel= 'Loss')\n",
        "\n",
        "Y_fut_predicted = model2.predict(X_future)\n",
        "plt.plot(Y_future, label = 'Real Data')\n",
        "plt.plot(Y_fut_predicted, label = 'Predicted values')\n",
        "plt.xlabel = 'time'\n",
        "plt.legend(loc=0)\n",
        "plt.show()"
      ],
      "execution_count": null,
      "outputs": [
        {
          "output_type": "display_data",
          "data": {
            "image/png": "[encoded data removed]",
            "text/plain": [
              "<Figure size 504x360 with 1 Axes>"
            ]
          },
          "metadata": {
            "tags": [],
            "needs_background": "light"
          }
        }
      ]
    },
    {
      "cell_type": "code",
      "metadata": {
        "id": "I4DbZnlJTGzW"
      },
      "source": [],
      "execution_count": null,
      "outputs": []
    }
  ]
}